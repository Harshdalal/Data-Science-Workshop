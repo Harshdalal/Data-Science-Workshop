{
 "cells": [
  {
   "cell_type": "markdown",
   "metadata": {},
   "source": [
    "___\n",
    "\n",
    "# Plotly and Cufflinks"
   ]
  },
  {
   "cell_type": "markdown",
   "metadata": {},
   "source": [
    "Plotly is a library that allows you to create interactive plots that you can use in dashboards or websites (you can save them as html files or static images).\n",
    "\n",
    "## Installation\n",
    "\n",
    "In order for this all to work, you'll need to install plotly and cufflinks to call plots directly off of a pandas dataframe. These libraries are not currently available through **conda** but are available through **pip**. Install the libraries at your command line/terminal using:\n",
    "\n",
    "    pip install plotly\n",
    "    pip install cufflinks\n",
    "\n",
    "** NOTE: Make sure you only have one installation of Python on your computer when you do this, otherwise the installation may not work. **\n",
    "\n",
    "## Imports and Set-up"
   ]
  },
  {
   "cell_type": "code",
   "execution_count": 1,
   "metadata": {},
   "outputs": [],
   "source": [
    "import pandas as pd\n",
    "import numpy as np\n",
    "%matplotlib inline"
   ]
  },
  {
   "cell_type": "code",
   "execution_count": 2,
   "metadata": {},
   "outputs": [
    {
     "name": "stdout",
     "output_type": "stream",
     "text": [
      "4.5.3\n"
     ]
    }
   ],
   "source": [
    "from plotly import __version__\n",
    "from plotly.offline import download_plotlyjs, init_notebook_mode, plot, iplot\n",
    "\n",
    "print(__version__) # requires version >= 1.9.0"
   ]
  },
  {
   "cell_type": "code",
   "execution_count": 3,
   "metadata": {},
   "outputs": [],
   "source": [
    "import cufflinks as cf"
   ]
  },
  {
   "cell_type": "code",
   "execution_count": 4,
   "metadata": {},
   "outputs": [
    {
     "data": {
      "text/html": [
       "        <script type=\"text/javascript\">\n",
       "        window.PlotlyConfig = {MathJaxConfig: 'local'};\n",
       "        if (window.MathJax) {MathJax.Hub.Config({SVG: {font: \"STIX-Web\"}});}\n",
       "        if (typeof require !== 'undefined') {\n",
       "        require.undef(\"plotly\");\n",
       "        requirejs.config({\n",
       "            paths: {\n",
       "                'plotly': ['https://cdn.plot.ly/plotly-latest.min']\n",
       "            }\n",
       "        });\n",
       "        require(['plotly'], function(Plotly) {\n",
       "            window._Plotly = Plotly;\n",
       "        });\n",
       "        }\n",
       "        </script>\n",
       "        "
      ]
     },
     "metadata": {},
     "output_type": "display_data"
    }
   ],
   "source": [
    "# For Notebooks\n",
    "init_notebook_mode(connected=True)"
   ]
  },
  {
   "cell_type": "code",
   "execution_count": 5,
   "metadata": {},
   "outputs": [
    {
     "data": {
      "text/html": [
       "        <script type=\"text/javascript\">\n",
       "        window.PlotlyConfig = {MathJaxConfig: 'local'};\n",
       "        if (window.MathJax) {MathJax.Hub.Config({SVG: {font: \"STIX-Web\"}});}\n",
       "        if (typeof require !== 'undefined') {\n",
       "        require.undef(\"plotly\");\n",
       "        requirejs.config({\n",
       "            paths: {\n",
       "                'plotly': ['https://cdn.plot.ly/plotly-latest.min']\n",
       "            }\n",
       "        });\n",
       "        require(['plotly'], function(Plotly) {\n",
       "            window._Plotly = Plotly;\n",
       "        });\n",
       "        }\n",
       "        </script>\n",
       "        "
      ]
     },
     "metadata": {},
     "output_type": "display_data"
    }
   ],
   "source": [
    "# For offline use\n",
    "cf.go_offline()"
   ]
  },
  {
   "cell_type": "markdown",
   "metadata": {},
   "source": [
    "### Fake Data"
   ]
  },
  {
   "cell_type": "code",
   "execution_count": 6,
   "metadata": {},
   "outputs": [],
   "source": [
    "df = pd.DataFrame(np.random.randn(100,4),columns='A B C D'.split())"
   ]
  },
  {
   "cell_type": "code",
   "execution_count": 7,
   "metadata": {},
   "outputs": [
    {
     "data": {
      "text/html": [
       "<div>\n",
       "<style scoped>\n",
       "    .dataframe tbody tr th:only-of-type {\n",
       "        vertical-align: middle;\n",
       "    }\n",
       "\n",
       "    .dataframe tbody tr th {\n",
       "        vertical-align: top;\n",
       "    }\n",
       "\n",
       "    .dataframe thead th {\n",
       "        text-align: right;\n",
       "    }\n",
       "</style>\n",
       "<table border=\"1\" class=\"dataframe\">\n",
       "  <thead>\n",
       "    <tr style=\"text-align: right;\">\n",
       "      <th></th>\n",
       "      <th>A</th>\n",
       "      <th>B</th>\n",
       "      <th>C</th>\n",
       "      <th>D</th>\n",
       "    </tr>\n",
       "  </thead>\n",
       "  <tbody>\n",
       "    <tr>\n",
       "      <th>0</th>\n",
       "      <td>-0.296437</td>\n",
       "      <td>0.079008</td>\n",
       "      <td>-2.082536</td>\n",
       "      <td>-0.240183</td>\n",
       "    </tr>\n",
       "    <tr>\n",
       "      <th>1</th>\n",
       "      <td>0.328684</td>\n",
       "      <td>-0.912268</td>\n",
       "      <td>0.453089</td>\n",
       "      <td>-1.058713</td>\n",
       "    </tr>\n",
       "    <tr>\n",
       "      <th>2</th>\n",
       "      <td>1.746142</td>\n",
       "      <td>0.311257</td>\n",
       "      <td>0.203683</td>\n",
       "      <td>-0.429328</td>\n",
       "    </tr>\n",
       "    <tr>\n",
       "      <th>3</th>\n",
       "      <td>-0.240046</td>\n",
       "      <td>1.772898</td>\n",
       "      <td>-0.114102</td>\n",
       "      <td>0.062008</td>\n",
       "    </tr>\n",
       "    <tr>\n",
       "      <th>4</th>\n",
       "      <td>0.138792</td>\n",
       "      <td>-0.465096</td>\n",
       "      <td>0.909722</td>\n",
       "      <td>-0.943306</td>\n",
       "    </tr>\n",
       "  </tbody>\n",
       "</table>\n",
       "</div>"
      ],
      "text/plain": [
       "          A         B         C         D\n",
       "0 -0.296437  0.079008 -2.082536 -0.240183\n",
       "1  0.328684 -0.912268  0.453089 -1.058713\n",
       "2  1.746142  0.311257  0.203683 -0.429328\n",
       "3 -0.240046  1.772898 -0.114102  0.062008\n",
       "4  0.138792 -0.465096  0.909722 -0.943306"
      ]
     },
     "execution_count": 7,
     "metadata": {},
     "output_type": "execute_result"
    }
   ],
   "source": [
    "df.head()"
   ]
  },
  {
   "cell_type": "code",
   "execution_count": 8,
   "metadata": {},
   "outputs": [],
   "source": [
    "df2 = pd.DataFrame({'Category':['A','B','C'],'Values':[32,43,50]})"
   ]
  },
  {
   "cell_type": "code",
   "execution_count": 9,
   "metadata": {},
   "outputs": [
    {
     "data": {
      "text/html": [
       "<div>\n",
       "<style scoped>\n",
       "    .dataframe tbody tr th:only-of-type {\n",
       "        vertical-align: middle;\n",
       "    }\n",
       "\n",
       "    .dataframe tbody tr th {\n",
       "        vertical-align: top;\n",
       "    }\n",
       "\n",
       "    .dataframe thead th {\n",
       "        text-align: right;\n",
       "    }\n",
       "</style>\n",
       "<table border=\"1\" class=\"dataframe\">\n",
       "  <thead>\n",
       "    <tr style=\"text-align: right;\">\n",
       "      <th></th>\n",
       "      <th>Category</th>\n",
       "      <th>Values</th>\n",
       "    </tr>\n",
       "  </thead>\n",
       "  <tbody>\n",
       "    <tr>\n",
       "      <th>0</th>\n",
       "      <td>A</td>\n",
       "      <td>32</td>\n",
       "    </tr>\n",
       "    <tr>\n",
       "      <th>1</th>\n",
       "      <td>B</td>\n",
       "      <td>43</td>\n",
       "    </tr>\n",
       "    <tr>\n",
       "      <th>2</th>\n",
       "      <td>C</td>\n",
       "      <td>50</td>\n",
       "    </tr>\n",
       "  </tbody>\n",
       "</table>\n",
       "</div>"
      ],
      "text/plain": [
       "  Category  Values\n",
       "0        A      32\n",
       "1        B      43\n",
       "2        C      50"
      ]
     },
     "execution_count": 9,
     "metadata": {},
     "output_type": "execute_result"
    }
   ],
   "source": [
    "df2.head()"
   ]
  },
  {
   "cell_type": "markdown",
   "metadata": {},
   "source": [
    "## Using Cufflinks and iplot()\n",
    "\n",
    "* scatter\n",
    "* bar\n",
    "* box\n",
    "* spread\n",
    "* ratio\n",
    "* heatmap\n",
    "* surface\n",
    "* histogram\n",
    "* bubble"
   ]
  },
  {
   "cell_type": "markdown",
   "metadata": {},
   "source": [
    "## Scatter"
   ]
  },
  {
   "cell_type": "code",
   "execution_count": 10,
   "metadata": {},
   "outputs": [
    {
     "data": {
      "application/vnd.plotly.v1+json": {
       "config": {
        "linkText": "Export to plot.ly",
        "plotlyServerURL": "https://plot.ly",
        "showLink": true
       },
       "data": [
        {
         "line": {
          "color": "rgba(255, 153, 51, 1.0)",
          "dash": "solid",
          "shape": "linear",
          "width": 1.3
         },
         "marker": {
          "size": 15,
          "symbol": "circle"
         },
         "mode": "markers",
         "name": "B",
         "text": "",
         "type": "scatter",
         "x": [
          -0.29643740889399095,
          0.32868435515730043,
          1.7461416496086142,
          -0.24004567607313979,
          0.13879213518446365,
          0.5535216967030455,
          -0.5654788153613118,
          1.4745095081896062,
          0.24599950755732192,
          -1.2056020605811952,
          1.1064580688514372,
          1.2560715526922155,
          0.9370673363805552,
          -0.3035228949304509,
          0.8173073261565816,
          -1.049133286502186,
          0.8206309550571658,
          0.4257464010855425,
          -0.204969188764631,
          -0.49515630325678384,
          -0.46557478153402304,
          -0.7100122999382016,
          0.5038367695493804,
          0.6095718122464268,
          -0.9665021599071422,
          -1.941392438441163,
          -0.4410063758400523,
          0.03245090999579194,
          0.1343061826488072,
          0.5107365179921368,
          -0.3148389852787225,
          -0.3475463838805427,
          0.38918681250649434,
          -0.5878571849206334,
          0.18237827278071525,
          0.8139831276610341,
          -0.3044351308280057,
          0.7856674253493616,
          0.3511107651142644,
          0.4991054778015313,
          1.8905790693628632,
          -0.36064056808190237,
          -0.20806458226915128,
          1.1251468281191688,
          -2.126253635634463,
          -0.6012651762207218,
          -0.4332096922576356,
          0.5936193398160595,
          -1.8610576096155729,
          -0.6848069423978584,
          -0.1741312896553701,
          -0.036689001873205666,
          -0.17997951544796514,
          1.0197180801187515,
          -1.066533298890777,
          -0.9114780950624539,
          -0.11932825824118615,
          1.402067892564673,
          -0.086837270558958,
          0.463224533101115,
          1.1851504359883962,
          -0.974581228669598,
          0.5172927499818978,
          -0.019078919866214714,
          1.6757029533305858,
          -0.7739305807934194,
          0.49975487039061167,
          2.431023967741468,
          0.5156404761815808,
          -2.2967795329006546,
          -1.0552189283244984,
          0.12688409298548323,
          -1.677072780155331,
          -0.8594495959629678,
          -0.4444344655352142,
          -1.2167733442412334,
          0.38604138505028,
          1.0138946898474628,
          0.14697818534804966,
          1.9761709653128225,
          0.8272009540730214,
          -0.3939697404040883,
          0.6354964151979149,
          -0.4806868089713751,
          0.8576277591041233,
          -0.5114800988431405,
          -0.5184321876913844,
          0.8927289941236105,
          -0.13572637194054665,
          0.9993000128725914,
          0.9321656254505977,
          0.1462909328841926,
          1.318253885597681,
          -1.2340506320852325,
          0.5166974940232978,
          -0.00888755926616613,
          0.2571741481342909,
          0.6922229079065875,
          0.6538799136667284,
          0.9128588038964904
         ],
         "y": [
          0.07900847452249811,
          -0.9122677191922264,
          0.3112574668049616,
          1.7728983810125845,
          -0.46509577776202565,
          -0.8500736939519596,
          0.09604825979531327,
          -1.6741323641529193,
          0.3654389760932509,
          -0.396636210544783,
          -0.39935846585434787,
          -2.072144060438098,
          -0.9592798926978057,
          1.009429267180827,
          1.4347810916763082,
          1.2238156048083508,
          -0.2539894869632165,
          -0.03462226412381225,
          1.5213228468514988,
          -0.16020138184502902,
          1.1012259404213742,
          -1.7925797528858496,
          1.3515348090377433,
          -1.2785375474729208,
          -0.9450429616882644,
          -0.3565619797841725,
          -0.526895547025469,
          -0.29703925347581567,
          0.470679346499512,
          -0.21965139430373848,
          -0.277572241034337,
          1.6757739473793847,
          -0.6844213119094037,
          2.5467128090186346,
          0.3092940280081921,
          0.36706217813011577,
          0.3620155081208797,
          -1.0693211361043422,
          -0.32058523850796067,
          0.34172741616987756,
          -1.013975596657667,
          -0.330584333129899,
          2.354552575307552,
          0.2222715205421336,
          -0.24491641424236923,
          0.08652389492069956,
          -0.6661046551013905,
          -0.5684243647771562,
          -0.16815681870593208,
          0.5451732559293533,
          -0.7003127063854502,
          -2.0991552130751163,
          -0.8805818658707721,
          1.1181512595690717,
          -1.8236861113099427,
          -1.109326462564337,
          0.8850844170534031,
          -0.15140124010444625,
          2.089817025595409,
          -1.1412646577928676,
          0.5130786272975839,
          0.802315702090518,
          0.8227263767426035,
          -0.4211094361933707,
          0.3188905388362875,
          -0.27597929718394765,
          1.4894104428242139,
          1.0154933954044825,
          0.9032711654013391,
          1.4822651315059352,
          0.5187114432149854,
          1.7355646462196677,
          -1.0622908954228063,
          -0.41376365210767657,
          -0.4752312118552798,
          0.25271611250132825,
          0.11808813566547226,
          -1.4190087109867906,
          -1.099413224707759,
          -0.8227951494886859,
          1.0404839507698609,
          -0.3836115958841534,
          -0.36668922503310136,
          -0.9641263348806826,
          -1.4158392346294928,
          -0.5832744046678073,
          -0.2507105982209403,
          -0.519634303248391,
          1.3501586378007053,
          0.3645687598665697,
          -2.2309271526923697,
          -2.2570879544856224,
          0.681349780667486,
          0.005462937664764124,
          0.08378619913036302,
          -0.18127299340078432,
          0.5088984930410607,
          -0.12613393601230247,
          -1.067492178711451,
          -0.5060295021572043
         ]
        }
       ],
       "layout": {
        "legend": {
         "bgcolor": "#F5F6F9",
         "font": {
          "color": "#4D5663"
         }
        },
        "paper_bgcolor": "#F5F6F9",
        "plot_bgcolor": "#F5F6F9",
        "template": {
         "data": {
          "bar": [
           {
            "error_x": {
             "color": "#2a3f5f"
            },
            "error_y": {
             "color": "#2a3f5f"
            },
            "marker": {
             "line": {
              "color": "#E5ECF6",
              "width": 0.5
             }
            },
            "type": "bar"
           }
          ],
          "barpolar": [
           {
            "marker": {
             "line": {
              "color": "#E5ECF6",
              "width": 0.5
             }
            },
            "type": "barpolar"
           }
          ],
          "carpet": [
           {
            "aaxis": {
             "endlinecolor": "#2a3f5f",
             "gridcolor": "white",
             "linecolor": "white",
             "minorgridcolor": "white",
             "startlinecolor": "#2a3f5f"
            },
            "baxis": {
             "endlinecolor": "#2a3f5f",
             "gridcolor": "white",
             "linecolor": "white",
             "minorgridcolor": "white",
             "startlinecolor": "#2a3f5f"
            },
            "type": "carpet"
           }
          ],
          "choropleth": [
           {
            "colorbar": {
             "outlinewidth": 0,
             "ticks": ""
            },
            "type": "choropleth"
           }
          ],
          "contour": [
           {
            "colorbar": {
             "outlinewidth": 0,
             "ticks": ""
            },
            "colorscale": [
             [
              0,
              "#0d0887"
             ],
             [
              0.1111111111111111,
              "#46039f"
             ],
             [
              0.2222222222222222,
              "#7201a8"
             ],
             [
              0.3333333333333333,
              "#9c179e"
             ],
             [
              0.4444444444444444,
              "#bd3786"
             ],
             [
              0.5555555555555556,
              "#d8576b"
             ],
             [
              0.6666666666666666,
              "#ed7953"
             ],
             [
              0.7777777777777778,
              "#fb9f3a"
             ],
             [
              0.8888888888888888,
              "#fdca26"
             ],
             [
              1,
              "#f0f921"
             ]
            ],
            "type": "contour"
           }
          ],
          "contourcarpet": [
           {
            "colorbar": {
             "outlinewidth": 0,
             "ticks": ""
            },
            "type": "contourcarpet"
           }
          ],
          "heatmap": [
           {
            "colorbar": {
             "outlinewidth": 0,
             "ticks": ""
            },
            "colorscale": [
             [
              0,
              "#0d0887"
             ],
             [
              0.1111111111111111,
              "#46039f"
             ],
             [
              0.2222222222222222,
              "#7201a8"
             ],
             [
              0.3333333333333333,
              "#9c179e"
             ],
             [
              0.4444444444444444,
              "#bd3786"
             ],
             [
              0.5555555555555556,
              "#d8576b"
             ],
             [
              0.6666666666666666,
              "#ed7953"
             ],
             [
              0.7777777777777778,
              "#fb9f3a"
             ],
             [
              0.8888888888888888,
              "#fdca26"
             ],
             [
              1,
              "#f0f921"
             ]
            ],
            "type": "heatmap"
           }
          ],
          "heatmapgl": [
           {
            "colorbar": {
             "outlinewidth": 0,
             "ticks": ""
            },
            "colorscale": [
             [
              0,
              "#0d0887"
             ],
             [
              0.1111111111111111,
              "#46039f"
             ],
             [
              0.2222222222222222,
              "#7201a8"
             ],
             [
              0.3333333333333333,
              "#9c179e"
             ],
             [
              0.4444444444444444,
              "#bd3786"
             ],
             [
              0.5555555555555556,
              "#d8576b"
             ],
             [
              0.6666666666666666,
              "#ed7953"
             ],
             [
              0.7777777777777778,
              "#fb9f3a"
             ],
             [
              0.8888888888888888,
              "#fdca26"
             ],
             [
              1,
              "#f0f921"
             ]
            ],
            "type": "heatmapgl"
           }
          ],
          "histogram": [
           {
            "marker": {
             "colorbar": {
              "outlinewidth": 0,
              "ticks": ""
             }
            },
            "type": "histogram"
           }
          ],
          "histogram2d": [
           {
            "colorbar": {
             "outlinewidth": 0,
             "ticks": ""
            },
            "colorscale": [
             [
              0,
              "#0d0887"
             ],
             [
              0.1111111111111111,
              "#46039f"
             ],
             [
              0.2222222222222222,
              "#7201a8"
             ],
             [
              0.3333333333333333,
              "#9c179e"
             ],
             [
              0.4444444444444444,
              "#bd3786"
             ],
             [
              0.5555555555555556,
              "#d8576b"
             ],
             [
              0.6666666666666666,
              "#ed7953"
             ],
             [
              0.7777777777777778,
              "#fb9f3a"
             ],
             [
              0.8888888888888888,
              "#fdca26"
             ],
             [
              1,
              "#f0f921"
             ]
            ],
            "type": "histogram2d"
           }
          ],
          "histogram2dcontour": [
           {
            "colorbar": {
             "outlinewidth": 0,
             "ticks": ""
            },
            "colorscale": [
             [
              0,
              "#0d0887"
             ],
             [
              0.1111111111111111,
              "#46039f"
             ],
             [
              0.2222222222222222,
              "#7201a8"
             ],
             [
              0.3333333333333333,
              "#9c179e"
             ],
             [
              0.4444444444444444,
              "#bd3786"
             ],
             [
              0.5555555555555556,
              "#d8576b"
             ],
             [
              0.6666666666666666,
              "#ed7953"
             ],
             [
              0.7777777777777778,
              "#fb9f3a"
             ],
             [
              0.8888888888888888,
              "#fdca26"
             ],
             [
              1,
              "#f0f921"
             ]
            ],
            "type": "histogram2dcontour"
           }
          ],
          "mesh3d": [
           {
            "colorbar": {
             "outlinewidth": 0,
             "ticks": ""
            },
            "type": "mesh3d"
           }
          ],
          "parcoords": [
           {
            "line": {
             "colorbar": {
              "outlinewidth": 0,
              "ticks": ""
             }
            },
            "type": "parcoords"
           }
          ],
          "pie": [
           {
            "automargin": true,
            "type": "pie"
           }
          ],
          "scatter": [
           {
            "marker": {
             "colorbar": {
              "outlinewidth": 0,
              "ticks": ""
             }
            },
            "type": "scatter"
           }
          ],
          "scatter3d": [
           {
            "line": {
             "colorbar": {
              "outlinewidth": 0,
              "ticks": ""
             }
            },
            "marker": {
             "colorbar": {
              "outlinewidth": 0,
              "ticks": ""
             }
            },
            "type": "scatter3d"
           }
          ],
          "scattercarpet": [
           {
            "marker": {
             "colorbar": {
              "outlinewidth": 0,
              "ticks": ""
             }
            },
            "type": "scattercarpet"
           }
          ],
          "scattergeo": [
           {
            "marker": {
             "colorbar": {
              "outlinewidth": 0,
              "ticks": ""
             }
            },
            "type": "scattergeo"
           }
          ],
          "scattergl": [
           {
            "marker": {
             "colorbar": {
              "outlinewidth": 0,
              "ticks": ""
             }
            },
            "type": "scattergl"
           }
          ],
          "scattermapbox": [
           {
            "marker": {
             "colorbar": {
              "outlinewidth": 0,
              "ticks": ""
             }
            },
            "type": "scattermapbox"
           }
          ],
          "scatterpolar": [
           {
            "marker": {
             "colorbar": {
              "outlinewidth": 0,
              "ticks": ""
             }
            },
            "type": "scatterpolar"
           }
          ],
          "scatterpolargl": [
           {
            "marker": {
             "colorbar": {
              "outlinewidth": 0,
              "ticks": ""
             }
            },
            "type": "scatterpolargl"
           }
          ],
          "scatterternary": [
           {
            "marker": {
             "colorbar": {
              "outlinewidth": 0,
              "ticks": ""
             }
            },
            "type": "scatterternary"
           }
          ],
          "surface": [
           {
            "colorbar": {
             "outlinewidth": 0,
             "ticks": ""
            },
            "colorscale": [
             [
              0,
              "#0d0887"
             ],
             [
              0.1111111111111111,
              "#46039f"
             ],
             [
              0.2222222222222222,
              "#7201a8"
             ],
             [
              0.3333333333333333,
              "#9c179e"
             ],
             [
              0.4444444444444444,
              "#bd3786"
             ],
             [
              0.5555555555555556,
              "#d8576b"
             ],
             [
              0.6666666666666666,
              "#ed7953"
             ],
             [
              0.7777777777777778,
              "#fb9f3a"
             ],
             [
              0.8888888888888888,
              "#fdca26"
             ],
             [
              1,
              "#f0f921"
             ]
            ],
            "type": "surface"
           }
          ],
          "table": [
           {
            "cells": {
             "fill": {
              "color": "#EBF0F8"
             },
             "line": {
              "color": "white"
             }
            },
            "header": {
             "fill": {
              "color": "#C8D4E3"
             },
             "line": {
              "color": "white"
             }
            },
            "type": "table"
           }
          ]
         },
         "layout": {
          "annotationdefaults": {
           "arrowcolor": "#2a3f5f",
           "arrowhead": 0,
           "arrowwidth": 1
          },
          "coloraxis": {
           "colorbar": {
            "outlinewidth": 0,
            "ticks": ""
           }
          },
          "colorscale": {
           "diverging": [
            [
             0,
             "#8e0152"
            ],
            [
             0.1,
             "#c51b7d"
            ],
            [
             0.2,
             "#de77ae"
            ],
            [
             0.3,
             "#f1b6da"
            ],
            [
             0.4,
             "#fde0ef"
            ],
            [
             0.5,
             "#f7f7f7"
            ],
            [
             0.6,
             "#e6f5d0"
            ],
            [
             0.7,
             "#b8e186"
            ],
            [
             0.8,
             "#7fbc41"
            ],
            [
             0.9,
             "#4d9221"
            ],
            [
             1,
             "#276419"
            ]
           ],
           "sequential": [
            [
             0,
             "#0d0887"
            ],
            [
             0.1111111111111111,
             "#46039f"
            ],
            [
             0.2222222222222222,
             "#7201a8"
            ],
            [
             0.3333333333333333,
             "#9c179e"
            ],
            [
             0.4444444444444444,
             "#bd3786"
            ],
            [
             0.5555555555555556,
             "#d8576b"
            ],
            [
             0.6666666666666666,
             "#ed7953"
            ],
            [
             0.7777777777777778,
             "#fb9f3a"
            ],
            [
             0.8888888888888888,
             "#fdca26"
            ],
            [
             1,
             "#f0f921"
            ]
           ],
           "sequentialminus": [
            [
             0,
             "#0d0887"
            ],
            [
             0.1111111111111111,
             "#46039f"
            ],
            [
             0.2222222222222222,
             "#7201a8"
            ],
            [
             0.3333333333333333,
             "#9c179e"
            ],
            [
             0.4444444444444444,
             "#bd3786"
            ],
            [
             0.5555555555555556,
             "#d8576b"
            ],
            [
             0.6666666666666666,
             "#ed7953"
            ],
            [
             0.7777777777777778,
             "#fb9f3a"
            ],
            [
             0.8888888888888888,
             "#fdca26"
            ],
            [
             1,
             "#f0f921"
            ]
           ]
          },
          "colorway": [
           "#636efa",
           "#EF553B",
           "#00cc96",
           "#ab63fa",
           "#FFA15A",
           "#19d3f3",
           "#FF6692",
           "#B6E880",
           "#FF97FF",
           "#FECB52"
          ],
          "font": {
           "color": "#2a3f5f"
          },
          "geo": {
           "bgcolor": "white",
           "lakecolor": "white",
           "landcolor": "#E5ECF6",
           "showlakes": true,
           "showland": true,
           "subunitcolor": "white"
          },
          "hoverlabel": {
           "align": "left"
          },
          "hovermode": "closest",
          "mapbox": {
           "style": "light"
          },
          "paper_bgcolor": "white",
          "plot_bgcolor": "#E5ECF6",
          "polar": {
           "angularaxis": {
            "gridcolor": "white",
            "linecolor": "white",
            "ticks": ""
           },
           "bgcolor": "#E5ECF6",
           "radialaxis": {
            "gridcolor": "white",
            "linecolor": "white",
            "ticks": ""
           }
          },
          "scene": {
           "xaxis": {
            "backgroundcolor": "#E5ECF6",
            "gridcolor": "white",
            "gridwidth": 2,
            "linecolor": "white",
            "showbackground": true,
            "ticks": "",
            "zerolinecolor": "white"
           },
           "yaxis": {
            "backgroundcolor": "#E5ECF6",
            "gridcolor": "white",
            "gridwidth": 2,
            "linecolor": "white",
            "showbackground": true,
            "ticks": "",
            "zerolinecolor": "white"
           },
           "zaxis": {
            "backgroundcolor": "#E5ECF6",
            "gridcolor": "white",
            "gridwidth": 2,
            "linecolor": "white",
            "showbackground": true,
            "ticks": "",
            "zerolinecolor": "white"
           }
          },
          "shapedefaults": {
           "line": {
            "color": "#2a3f5f"
           }
          },
          "ternary": {
           "aaxis": {
            "gridcolor": "white",
            "linecolor": "white",
            "ticks": ""
           },
           "baxis": {
            "gridcolor": "white",
            "linecolor": "white",
            "ticks": ""
           },
           "bgcolor": "#E5ECF6",
           "caxis": {
            "gridcolor": "white",
            "linecolor": "white",
            "ticks": ""
           }
          },
          "title": {
           "x": 0.05
          },
          "xaxis": {
           "automargin": true,
           "gridcolor": "white",
           "linecolor": "white",
           "ticks": "",
           "title": {
            "standoff": 15
           },
           "zerolinecolor": "white",
           "zerolinewidth": 2
          },
          "yaxis": {
           "automargin": true,
           "gridcolor": "white",
           "linecolor": "white",
           "ticks": "",
           "title": {
            "standoff": 15
           },
           "zerolinecolor": "white",
           "zerolinewidth": 2
          }
         }
        },
        "title": {
         "font": {
          "color": "#4D5663"
         }
        },
        "xaxis": {
         "gridcolor": "#E1E5ED",
         "showgrid": true,
         "tickfont": {
          "color": "#4D5663"
         },
         "title": {
          "font": {
           "color": "#4D5663"
          },
          "text": ""
         },
         "zerolinecolor": "#E1E5ED"
        },
        "yaxis": {
         "gridcolor": "#E1E5ED",
         "showgrid": true,
         "tickfont": {
          "color": "#4D5663"
         },
         "title": {
          "font": {
           "color": "#4D5663"
          },
          "text": ""
         },
         "zerolinecolor": "#E1E5ED"
        }
       }
      },
      "text/html": [
       "<div>\n",
       "        \n",
       "        \n",
       "            <div id=\"3475e0d6-2276-49c8-8295-72210e052a66\" class=\"plotly-graph-div\" style=\"height:525px; width:100%;\"></div>\n",
       "            <script type=\"text/javascript\">\n",
       "                require([\"plotly\"], function(Plotly) {\n",
       "                    window.PLOTLYENV=window.PLOTLYENV || {};\n",
       "                    window.PLOTLYENV.BASE_URL='https://plot.ly';\n",
       "                    \n",
       "                if (document.getElementById(\"3475e0d6-2276-49c8-8295-72210e052a66\")) {\n",
       "                    Plotly.newPlot(\n",
       "                        '3475e0d6-2276-49c8-8295-72210e052a66',\n",
       "                        [{\"line\": {\"color\": \"rgba(255, 153, 51, 1.0)\", \"dash\": \"solid\", \"shape\": \"linear\", \"width\": 1.3}, \"marker\": {\"size\": 15, \"symbol\": \"circle\"}, \"mode\": \"markers\", \"name\": \"B\", \"text\": \"\", \"type\": \"scatter\", \"x\": [-0.29643740889399095, 0.32868435515730043, 1.7461416496086142, -0.24004567607313979, 0.13879213518446365, 0.5535216967030455, -0.5654788153613118, 1.4745095081896062, 0.24599950755732192, -1.2056020605811952, 1.1064580688514372, 1.2560715526922155, 0.9370673363805552, -0.3035228949304509, 0.8173073261565816, -1.049133286502186, 0.8206309550571658, 0.4257464010855425, -0.204969188764631, -0.49515630325678384, -0.46557478153402304, -0.7100122999382016, 0.5038367695493804, 0.6095718122464268, -0.9665021599071422, -1.941392438441163, -0.4410063758400523, 0.03245090999579194, 0.1343061826488072, 0.5107365179921368, -0.3148389852787225, -0.3475463838805427, 0.38918681250649434, -0.5878571849206334, 0.18237827278071525, 0.8139831276610341, -0.3044351308280057, 0.7856674253493616, 0.3511107651142644, 0.4991054778015313, 1.8905790693628632, -0.36064056808190237, -0.20806458226915128, 1.1251468281191688, -2.126253635634463, -0.6012651762207218, -0.4332096922576356, 0.5936193398160595, -1.8610576096155729, -0.6848069423978584, -0.1741312896553701, -0.036689001873205666, -0.17997951544796514, 1.0197180801187515, -1.066533298890777, -0.9114780950624539, -0.11932825824118615, 1.402067892564673, -0.086837270558958, 0.463224533101115, 1.1851504359883962, -0.974581228669598, 0.5172927499818978, -0.019078919866214714, 1.6757029533305858, -0.7739305807934194, 0.49975487039061167, 2.431023967741468, 0.5156404761815808, -2.2967795329006546, -1.0552189283244984, 0.12688409298548323, -1.677072780155331, -0.8594495959629678, -0.4444344655352142, -1.2167733442412334, 0.38604138505028, 1.0138946898474628, 0.14697818534804966, 1.9761709653128225, 0.8272009540730214, -0.3939697404040883, 0.6354964151979149, -0.4806868089713751, 0.8576277591041233, -0.5114800988431405, -0.5184321876913844, 0.8927289941236105, -0.13572637194054665, 0.9993000128725914, 0.9321656254505977, 0.1462909328841926, 1.318253885597681, -1.2340506320852325, 0.5166974940232978, -0.00888755926616613, 0.2571741481342909, 0.6922229079065875, 0.6538799136667284, 0.9128588038964904], \"y\": [0.07900847452249811, -0.9122677191922264, 0.3112574668049616, 1.7728983810125845, -0.46509577776202565, -0.8500736939519596, 0.09604825979531327, -1.6741323641529193, 0.3654389760932509, -0.396636210544783, -0.39935846585434787, -2.072144060438098, -0.9592798926978057, 1.009429267180827, 1.4347810916763082, 1.2238156048083508, -0.2539894869632165, -0.03462226412381225, 1.5213228468514988, -0.16020138184502902, 1.1012259404213742, -1.7925797528858496, 1.3515348090377433, -1.2785375474729208, -0.9450429616882644, -0.3565619797841725, -0.526895547025469, -0.29703925347581567, 0.470679346499512, -0.21965139430373848, -0.277572241034337, 1.6757739473793847, -0.6844213119094037, 2.5467128090186346, 0.3092940280081921, 0.36706217813011577, 0.3620155081208797, -1.0693211361043422, -0.32058523850796067, 0.34172741616987756, -1.013975596657667, -0.330584333129899, 2.354552575307552, 0.2222715205421336, -0.24491641424236923, 0.08652389492069956, -0.6661046551013905, -0.5684243647771562, -0.16815681870593208, 0.5451732559293533, -0.7003127063854502, -2.0991552130751163, -0.8805818658707721, 1.1181512595690717, -1.8236861113099427, -1.109326462564337, 0.8850844170534031, -0.15140124010444625, 2.089817025595409, -1.1412646577928676, 0.5130786272975839, 0.802315702090518, 0.8227263767426035, -0.4211094361933707, 0.3188905388362875, -0.27597929718394765, 1.4894104428242139, 1.0154933954044825, 0.9032711654013391, 1.4822651315059352, 0.5187114432149854, 1.7355646462196677, -1.0622908954228063, -0.41376365210767657, -0.4752312118552798, 0.25271611250132825, 0.11808813566547226, -1.4190087109867906, -1.099413224707759, -0.8227951494886859, 1.0404839507698609, -0.3836115958841534, -0.36668922503310136, -0.9641263348806826, -1.4158392346294928, -0.5832744046678073, -0.2507105982209403, -0.519634303248391, 1.3501586378007053, 0.3645687598665697, -2.2309271526923697, -2.2570879544856224, 0.681349780667486, 0.005462937664764124, 0.08378619913036302, -0.18127299340078432, 0.5088984930410607, -0.12613393601230247, -1.067492178711451, -0.5060295021572043]}],\n",
       "                        {\"legend\": {\"bgcolor\": \"#F5F6F9\", \"font\": {\"color\": \"#4D5663\"}}, \"paper_bgcolor\": \"#F5F6F9\", \"plot_bgcolor\": \"#F5F6F9\", \"template\": {\"data\": {\"bar\": [{\"error_x\": {\"color\": \"#2a3f5f\"}, \"error_y\": {\"color\": \"#2a3f5f\"}, \"marker\": {\"line\": {\"color\": \"#E5ECF6\", \"width\": 0.5}}, \"type\": \"bar\"}], \"barpolar\": [{\"marker\": {\"line\": {\"color\": \"#E5ECF6\", \"width\": 0.5}}, \"type\": \"barpolar\"}], \"carpet\": [{\"aaxis\": {\"endlinecolor\": \"#2a3f5f\", \"gridcolor\": \"white\", \"linecolor\": \"white\", \"minorgridcolor\": \"white\", \"startlinecolor\": \"#2a3f5f\"}, \"baxis\": {\"endlinecolor\": \"#2a3f5f\", \"gridcolor\": \"white\", \"linecolor\": \"white\", \"minorgridcolor\": \"white\", \"startlinecolor\": \"#2a3f5f\"}, \"type\": \"carpet\"}], \"choropleth\": [{\"colorbar\": {\"outlinewidth\": 0, \"ticks\": \"\"}, \"type\": \"choropleth\"}], \"contour\": [{\"colorbar\": {\"outlinewidth\": 0, \"ticks\": \"\"}, \"colorscale\": [[0.0, \"#0d0887\"], [0.1111111111111111, \"#46039f\"], [0.2222222222222222, \"#7201a8\"], [0.3333333333333333, \"#9c179e\"], [0.4444444444444444, \"#bd3786\"], [0.5555555555555556, \"#d8576b\"], [0.6666666666666666, \"#ed7953\"], [0.7777777777777778, \"#fb9f3a\"], [0.8888888888888888, \"#fdca26\"], [1.0, \"#f0f921\"]], \"type\": \"contour\"}], \"contourcarpet\": [{\"colorbar\": {\"outlinewidth\": 0, \"ticks\": \"\"}, \"type\": \"contourcarpet\"}], \"heatmap\": [{\"colorbar\": {\"outlinewidth\": 0, \"ticks\": \"\"}, \"colorscale\": [[0.0, \"#0d0887\"], [0.1111111111111111, \"#46039f\"], [0.2222222222222222, \"#7201a8\"], [0.3333333333333333, \"#9c179e\"], [0.4444444444444444, \"#bd3786\"], [0.5555555555555556, \"#d8576b\"], [0.6666666666666666, \"#ed7953\"], [0.7777777777777778, \"#fb9f3a\"], [0.8888888888888888, \"#fdca26\"], [1.0, \"#f0f921\"]], \"type\": \"heatmap\"}], \"heatmapgl\": [{\"colorbar\": {\"outlinewidth\": 0, \"ticks\": \"\"}, \"colorscale\": [[0.0, \"#0d0887\"], [0.1111111111111111, \"#46039f\"], [0.2222222222222222, \"#7201a8\"], [0.3333333333333333, \"#9c179e\"], [0.4444444444444444, \"#bd3786\"], [0.5555555555555556, \"#d8576b\"], [0.6666666666666666, \"#ed7953\"], [0.7777777777777778, \"#fb9f3a\"], [0.8888888888888888, \"#fdca26\"], [1.0, \"#f0f921\"]], \"type\": \"heatmapgl\"}], \"histogram\": [{\"marker\": {\"colorbar\": {\"outlinewidth\": 0, \"ticks\": \"\"}}, \"type\": \"histogram\"}], \"histogram2d\": [{\"colorbar\": {\"outlinewidth\": 0, \"ticks\": \"\"}, \"colorscale\": [[0.0, \"#0d0887\"], [0.1111111111111111, \"#46039f\"], [0.2222222222222222, \"#7201a8\"], [0.3333333333333333, \"#9c179e\"], [0.4444444444444444, \"#bd3786\"], [0.5555555555555556, \"#d8576b\"], [0.6666666666666666, \"#ed7953\"], [0.7777777777777778, \"#fb9f3a\"], [0.8888888888888888, \"#fdca26\"], [1.0, \"#f0f921\"]], \"type\": \"histogram2d\"}], \"histogram2dcontour\": [{\"colorbar\": {\"outlinewidth\": 0, \"ticks\": \"\"}, \"colorscale\": [[0.0, \"#0d0887\"], [0.1111111111111111, \"#46039f\"], [0.2222222222222222, \"#7201a8\"], [0.3333333333333333, \"#9c179e\"], [0.4444444444444444, \"#bd3786\"], [0.5555555555555556, \"#d8576b\"], [0.6666666666666666, \"#ed7953\"], [0.7777777777777778, \"#fb9f3a\"], [0.8888888888888888, \"#fdca26\"], [1.0, \"#f0f921\"]], \"type\": \"histogram2dcontour\"}], \"mesh3d\": [{\"colorbar\": {\"outlinewidth\": 0, \"ticks\": \"\"}, \"type\": \"mesh3d\"}], \"parcoords\": [{\"line\": {\"colorbar\": {\"outlinewidth\": 0, \"ticks\": \"\"}}, \"type\": \"parcoords\"}], \"pie\": [{\"automargin\": true, \"type\": \"pie\"}], \"scatter\": [{\"marker\": {\"colorbar\": {\"outlinewidth\": 0, \"ticks\": \"\"}}, \"type\": \"scatter\"}], \"scatter3d\": [{\"line\": {\"colorbar\": {\"outlinewidth\": 0, \"ticks\": \"\"}}, \"marker\": {\"colorbar\": {\"outlinewidth\": 0, \"ticks\": \"\"}}, \"type\": \"scatter3d\"}], \"scattercarpet\": [{\"marker\": {\"colorbar\": {\"outlinewidth\": 0, \"ticks\": \"\"}}, \"type\": \"scattercarpet\"}], \"scattergeo\": [{\"marker\": {\"colorbar\": {\"outlinewidth\": 0, \"ticks\": \"\"}}, \"type\": \"scattergeo\"}], \"scattergl\": [{\"marker\": {\"colorbar\": {\"outlinewidth\": 0, \"ticks\": \"\"}}, \"type\": \"scattergl\"}], \"scattermapbox\": [{\"marker\": {\"colorbar\": {\"outlinewidth\": 0, \"ticks\": \"\"}}, \"type\": \"scattermapbox\"}], \"scatterpolar\": [{\"marker\": {\"colorbar\": {\"outlinewidth\": 0, \"ticks\": \"\"}}, \"type\": \"scatterpolar\"}], \"scatterpolargl\": [{\"marker\": {\"colorbar\": {\"outlinewidth\": 0, \"ticks\": \"\"}}, \"type\": \"scatterpolargl\"}], \"scatterternary\": [{\"marker\": {\"colorbar\": {\"outlinewidth\": 0, \"ticks\": \"\"}}, \"type\": \"scatterternary\"}], \"surface\": [{\"colorbar\": {\"outlinewidth\": 0, \"ticks\": \"\"}, \"colorscale\": [[0.0, \"#0d0887\"], [0.1111111111111111, \"#46039f\"], [0.2222222222222222, \"#7201a8\"], [0.3333333333333333, \"#9c179e\"], [0.4444444444444444, \"#bd3786\"], [0.5555555555555556, \"#d8576b\"], [0.6666666666666666, \"#ed7953\"], [0.7777777777777778, \"#fb9f3a\"], [0.8888888888888888, \"#fdca26\"], [1.0, \"#f0f921\"]], \"type\": \"surface\"}], \"table\": [{\"cells\": {\"fill\": {\"color\": \"#EBF0F8\"}, \"line\": {\"color\": \"white\"}}, \"header\": {\"fill\": {\"color\": \"#C8D4E3\"}, \"line\": {\"color\": \"white\"}}, \"type\": \"table\"}]}, \"layout\": {\"annotationdefaults\": {\"arrowcolor\": \"#2a3f5f\", \"arrowhead\": 0, \"arrowwidth\": 1}, \"coloraxis\": {\"colorbar\": {\"outlinewidth\": 0, \"ticks\": \"\"}}, \"colorscale\": {\"diverging\": [[0, \"#8e0152\"], [0.1, \"#c51b7d\"], [0.2, \"#de77ae\"], [0.3, \"#f1b6da\"], [0.4, \"#fde0ef\"], [0.5, \"#f7f7f7\"], [0.6, \"#e6f5d0\"], [0.7, \"#b8e186\"], [0.8, \"#7fbc41\"], [0.9, \"#4d9221\"], [1, \"#276419\"]], \"sequential\": [[0.0, \"#0d0887\"], [0.1111111111111111, \"#46039f\"], [0.2222222222222222, \"#7201a8\"], [0.3333333333333333, \"#9c179e\"], [0.4444444444444444, \"#bd3786\"], [0.5555555555555556, \"#d8576b\"], [0.6666666666666666, \"#ed7953\"], [0.7777777777777778, \"#fb9f3a\"], [0.8888888888888888, \"#fdca26\"], [1.0, \"#f0f921\"]], \"sequentialminus\": [[0.0, \"#0d0887\"], [0.1111111111111111, \"#46039f\"], [0.2222222222222222, \"#7201a8\"], [0.3333333333333333, \"#9c179e\"], [0.4444444444444444, \"#bd3786\"], [0.5555555555555556, \"#d8576b\"], [0.6666666666666666, \"#ed7953\"], [0.7777777777777778, \"#fb9f3a\"], [0.8888888888888888, \"#fdca26\"], [1.0, \"#f0f921\"]]}, \"colorway\": [\"#636efa\", \"#EF553B\", \"#00cc96\", \"#ab63fa\", \"#FFA15A\", \"#19d3f3\", \"#FF6692\", \"#B6E880\", \"#FF97FF\", \"#FECB52\"], \"font\": {\"color\": \"#2a3f5f\"}, \"geo\": {\"bgcolor\": \"white\", \"lakecolor\": \"white\", \"landcolor\": \"#E5ECF6\", \"showlakes\": true, \"showland\": true, \"subunitcolor\": \"white\"}, \"hoverlabel\": {\"align\": \"left\"}, \"hovermode\": \"closest\", \"mapbox\": {\"style\": \"light\"}, \"paper_bgcolor\": \"white\", \"plot_bgcolor\": \"#E5ECF6\", \"polar\": {\"angularaxis\": {\"gridcolor\": \"white\", \"linecolor\": \"white\", \"ticks\": \"\"}, \"bgcolor\": \"#E5ECF6\", \"radialaxis\": {\"gridcolor\": \"white\", \"linecolor\": \"white\", \"ticks\": \"\"}}, \"scene\": {\"xaxis\": {\"backgroundcolor\": \"#E5ECF6\", \"gridcolor\": \"white\", \"gridwidth\": 2, \"linecolor\": \"white\", \"showbackground\": true, \"ticks\": \"\", \"zerolinecolor\": \"white\"}, \"yaxis\": {\"backgroundcolor\": \"#E5ECF6\", \"gridcolor\": \"white\", \"gridwidth\": 2, \"linecolor\": \"white\", \"showbackground\": true, \"ticks\": \"\", \"zerolinecolor\": \"white\"}, \"zaxis\": {\"backgroundcolor\": \"#E5ECF6\", \"gridcolor\": \"white\", \"gridwidth\": 2, \"linecolor\": \"white\", \"showbackground\": true, \"ticks\": \"\", \"zerolinecolor\": \"white\"}}, \"shapedefaults\": {\"line\": {\"color\": \"#2a3f5f\"}}, \"ternary\": {\"aaxis\": {\"gridcolor\": \"white\", \"linecolor\": \"white\", \"ticks\": \"\"}, \"baxis\": {\"gridcolor\": \"white\", \"linecolor\": \"white\", \"ticks\": \"\"}, \"bgcolor\": \"#E5ECF6\", \"caxis\": {\"gridcolor\": \"white\", \"linecolor\": \"white\", \"ticks\": \"\"}}, \"title\": {\"x\": 0.05}, \"xaxis\": {\"automargin\": true, \"gridcolor\": \"white\", \"linecolor\": \"white\", \"ticks\": \"\", \"title\": {\"standoff\": 15}, \"zerolinecolor\": \"white\", \"zerolinewidth\": 2}, \"yaxis\": {\"automargin\": true, \"gridcolor\": \"white\", \"linecolor\": \"white\", \"ticks\": \"\", \"title\": {\"standoff\": 15}, \"zerolinecolor\": \"white\", \"zerolinewidth\": 2}}}, \"title\": {\"font\": {\"color\": \"#4D5663\"}}, \"xaxis\": {\"gridcolor\": \"#E1E5ED\", \"showgrid\": true, \"tickfont\": {\"color\": \"#4D5663\"}, \"title\": {\"font\": {\"color\": \"#4D5663\"}, \"text\": \"\"}, \"zerolinecolor\": \"#E1E5ED\"}, \"yaxis\": {\"gridcolor\": \"#E1E5ED\", \"showgrid\": true, \"tickfont\": {\"color\": \"#4D5663\"}, \"title\": {\"font\": {\"color\": \"#4D5663\"}, \"text\": \"\"}, \"zerolinecolor\": \"#E1E5ED\"}},\n",
       "                        {\"showLink\": true, \"linkText\": \"Export to plot.ly\", \"plotlyServerURL\": \"https://plot.ly\", \"responsive\": true}\n",
       "                    ).then(function(){\n",
       "                            \n",
       "var gd = document.getElementById('3475e0d6-2276-49c8-8295-72210e052a66');\n",
       "var x = new MutationObserver(function (mutations, observer) {{\n",
       "        var display = window.getComputedStyle(gd).display;\n",
       "        if (!display || display === 'none') {{\n",
       "            console.log([gd, 'removed!']);\n",
       "            Plotly.purge(gd);\n",
       "            observer.disconnect();\n",
       "        }}\n",
       "}});\n",
       "\n",
       "// Listen for the removal of the full notebook cells\n",
       "var notebookContainer = gd.closest('#notebook-container');\n",
       "if (notebookContainer) {{\n",
       "    x.observe(notebookContainer, {childList: true});\n",
       "}}\n",
       "\n",
       "// Listen for the clearing of the current output cell\n",
       "var outputEl = gd.closest('.output');\n",
       "if (outputEl) {{\n",
       "    x.observe(outputEl, {childList: true});\n",
       "}}\n",
       "\n",
       "                        })\n",
       "                };\n",
       "                });\n",
       "            </script>\n",
       "        </div>"
      ]
     },
     "metadata": {},
     "output_type": "display_data"
    }
   ],
   "source": [
    "df.iplot(kind='scatter',x='A',y='B',mode='markers',size=15)"
   ]
  },
  {
   "cell_type": "code",
   "execution_count": 11,
   "metadata": {},
   "outputs": [
    {
     "data": {
      "application/vnd.plotly.v1+json": {
       "config": {
        "linkText": "Export to plot.ly",
        "plotlyServerURL": "https://plot.ly",
        "showLink": true
       },
       "data": [
        {
         "line": {
          "color": "rgba(255, 153, 51, 1.0)",
          "dash": "solid",
          "shape": "linear",
          "width": 1.3
         },
         "marker": {
          "size": 15,
          "symbol": "circle"
         },
         "mode": "lines+markers",
         "name": "B",
         "text": "",
         "type": "scatter",
         "x": [
          -0.29643740889399095,
          0.32868435515730043,
          1.7461416496086142,
          -0.24004567607313979,
          0.13879213518446365,
          0.5535216967030455,
          -0.5654788153613118,
          1.4745095081896062,
          0.24599950755732192,
          -1.2056020605811952,
          1.1064580688514372,
          1.2560715526922155,
          0.9370673363805552,
          -0.3035228949304509,
          0.8173073261565816,
          -1.049133286502186,
          0.8206309550571658,
          0.4257464010855425,
          -0.204969188764631,
          -0.49515630325678384,
          -0.46557478153402304,
          -0.7100122999382016,
          0.5038367695493804,
          0.6095718122464268,
          -0.9665021599071422,
          -1.941392438441163,
          -0.4410063758400523,
          0.03245090999579194,
          0.1343061826488072,
          0.5107365179921368,
          -0.3148389852787225,
          -0.3475463838805427,
          0.38918681250649434,
          -0.5878571849206334,
          0.18237827278071525,
          0.8139831276610341,
          -0.3044351308280057,
          0.7856674253493616,
          0.3511107651142644,
          0.4991054778015313,
          1.8905790693628632,
          -0.36064056808190237,
          -0.20806458226915128,
          1.1251468281191688,
          -2.126253635634463,
          -0.6012651762207218,
          -0.4332096922576356,
          0.5936193398160595,
          -1.8610576096155729,
          -0.6848069423978584,
          -0.1741312896553701,
          -0.036689001873205666,
          -0.17997951544796514,
          1.0197180801187515,
          -1.066533298890777,
          -0.9114780950624539,
          -0.11932825824118615,
          1.402067892564673,
          -0.086837270558958,
          0.463224533101115,
          1.1851504359883962,
          -0.974581228669598,
          0.5172927499818978,
          -0.019078919866214714,
          1.6757029533305858,
          -0.7739305807934194,
          0.49975487039061167,
          2.431023967741468,
          0.5156404761815808,
          -2.2967795329006546,
          -1.0552189283244984,
          0.12688409298548323,
          -1.677072780155331,
          -0.8594495959629678,
          -0.4444344655352142,
          -1.2167733442412334,
          0.38604138505028,
          1.0138946898474628,
          0.14697818534804966,
          1.9761709653128225,
          0.8272009540730214,
          -0.3939697404040883,
          0.6354964151979149,
          -0.4806868089713751,
          0.8576277591041233,
          -0.5114800988431405,
          -0.5184321876913844,
          0.8927289941236105,
          -0.13572637194054665,
          0.9993000128725914,
          0.9321656254505977,
          0.1462909328841926,
          1.318253885597681,
          -1.2340506320852325,
          0.5166974940232978,
          -0.00888755926616613,
          0.2571741481342909,
          0.6922229079065875,
          0.6538799136667284,
          0.9128588038964904
         ],
         "y": [
          0.07900847452249811,
          -0.9122677191922264,
          0.3112574668049616,
          1.7728983810125845,
          -0.46509577776202565,
          -0.8500736939519596,
          0.09604825979531327,
          -1.6741323641529193,
          0.3654389760932509,
          -0.396636210544783,
          -0.39935846585434787,
          -2.072144060438098,
          -0.9592798926978057,
          1.009429267180827,
          1.4347810916763082,
          1.2238156048083508,
          -0.2539894869632165,
          -0.03462226412381225,
          1.5213228468514988,
          -0.16020138184502902,
          1.1012259404213742,
          -1.7925797528858496,
          1.3515348090377433,
          -1.2785375474729208,
          -0.9450429616882644,
          -0.3565619797841725,
          -0.526895547025469,
          -0.29703925347581567,
          0.470679346499512,
          -0.21965139430373848,
          -0.277572241034337,
          1.6757739473793847,
          -0.6844213119094037,
          2.5467128090186346,
          0.3092940280081921,
          0.36706217813011577,
          0.3620155081208797,
          -1.0693211361043422,
          -0.32058523850796067,
          0.34172741616987756,
          -1.013975596657667,
          -0.330584333129899,
          2.354552575307552,
          0.2222715205421336,
          -0.24491641424236923,
          0.08652389492069956,
          -0.6661046551013905,
          -0.5684243647771562,
          -0.16815681870593208,
          0.5451732559293533,
          -0.7003127063854502,
          -2.0991552130751163,
          -0.8805818658707721,
          1.1181512595690717,
          -1.8236861113099427,
          -1.109326462564337,
          0.8850844170534031,
          -0.15140124010444625,
          2.089817025595409,
          -1.1412646577928676,
          0.5130786272975839,
          0.802315702090518,
          0.8227263767426035,
          -0.4211094361933707,
          0.3188905388362875,
          -0.27597929718394765,
          1.4894104428242139,
          1.0154933954044825,
          0.9032711654013391,
          1.4822651315059352,
          0.5187114432149854,
          1.7355646462196677,
          -1.0622908954228063,
          -0.41376365210767657,
          -0.4752312118552798,
          0.25271611250132825,
          0.11808813566547226,
          -1.4190087109867906,
          -1.099413224707759,
          -0.8227951494886859,
          1.0404839507698609,
          -0.3836115958841534,
          -0.36668922503310136,
          -0.9641263348806826,
          -1.4158392346294928,
          -0.5832744046678073,
          -0.2507105982209403,
          -0.519634303248391,
          1.3501586378007053,
          0.3645687598665697,
          -2.2309271526923697,
          -2.2570879544856224,
          0.681349780667486,
          0.005462937664764124,
          0.08378619913036302,
          -0.18127299340078432,
          0.5088984930410607,
          -0.12613393601230247,
          -1.067492178711451,
          -0.5060295021572043
         ]
        }
       ],
       "layout": {
        "legend": {
         "bgcolor": "#F5F6F9",
         "font": {
          "color": "#4D5663"
         }
        },
        "paper_bgcolor": "#F5F6F9",
        "plot_bgcolor": "#F5F6F9",
        "template": {
         "data": {
          "bar": [
           {
            "error_x": {
             "color": "#2a3f5f"
            },
            "error_y": {
             "color": "#2a3f5f"
            },
            "marker": {
             "line": {
              "color": "#E5ECF6",
              "width": 0.5
             }
            },
            "type": "bar"
           }
          ],
          "barpolar": [
           {
            "marker": {
             "line": {
              "color": "#E5ECF6",
              "width": 0.5
             }
            },
            "type": "barpolar"
           }
          ],
          "carpet": [
           {
            "aaxis": {
             "endlinecolor": "#2a3f5f",
             "gridcolor": "white",
             "linecolor": "white",
             "minorgridcolor": "white",
             "startlinecolor": "#2a3f5f"
            },
            "baxis": {
             "endlinecolor": "#2a3f5f",
             "gridcolor": "white",
             "linecolor": "white",
             "minorgridcolor": "white",
             "startlinecolor": "#2a3f5f"
            },
            "type": "carpet"
           }
          ],
          "choropleth": [
           {
            "colorbar": {
             "outlinewidth": 0,
             "ticks": ""
            },
            "type": "choropleth"
           }
          ],
          "contour": [
           {
            "colorbar": {
             "outlinewidth": 0,
             "ticks": ""
            },
            "colorscale": [
             [
              0,
              "#0d0887"
             ],
             [
              0.1111111111111111,
              "#46039f"
             ],
             [
              0.2222222222222222,
              "#7201a8"
             ],
             [
              0.3333333333333333,
              "#9c179e"
             ],
             [
              0.4444444444444444,
              "#bd3786"
             ],
             [
              0.5555555555555556,
              "#d8576b"
             ],
             [
              0.6666666666666666,
              "#ed7953"
             ],
             [
              0.7777777777777778,
              "#fb9f3a"
             ],
             [
              0.8888888888888888,
              "#fdca26"
             ],
             [
              1,
              "#f0f921"
             ]
            ],
            "type": "contour"
           }
          ],
          "contourcarpet": [
           {
            "colorbar": {
             "outlinewidth": 0,
             "ticks": ""
            },
            "type": "contourcarpet"
           }
          ],
          "heatmap": [
           {
            "colorbar": {
             "outlinewidth": 0,
             "ticks": ""
            },
            "colorscale": [
             [
              0,
              "#0d0887"
             ],
             [
              0.1111111111111111,
              "#46039f"
             ],
             [
              0.2222222222222222,
              "#7201a8"
             ],
             [
              0.3333333333333333,
              "#9c179e"
             ],
             [
              0.4444444444444444,
              "#bd3786"
             ],
             [
              0.5555555555555556,
              "#d8576b"
             ],
             [
              0.6666666666666666,
              "#ed7953"
             ],
             [
              0.7777777777777778,
              "#fb9f3a"
             ],
             [
              0.8888888888888888,
              "#fdca26"
             ],
             [
              1,
              "#f0f921"
             ]
            ],
            "type": "heatmap"
           }
          ],
          "heatmapgl": [
           {
            "colorbar": {
             "outlinewidth": 0,
             "ticks": ""
            },
            "colorscale": [
             [
              0,
              "#0d0887"
             ],
             [
              0.1111111111111111,
              "#46039f"
             ],
             [
              0.2222222222222222,
              "#7201a8"
             ],
             [
              0.3333333333333333,
              "#9c179e"
             ],
             [
              0.4444444444444444,
              "#bd3786"
             ],
             [
              0.5555555555555556,
              "#d8576b"
             ],
             [
              0.6666666666666666,
              "#ed7953"
             ],
             [
              0.7777777777777778,
              "#fb9f3a"
             ],
             [
              0.8888888888888888,
              "#fdca26"
             ],
             [
              1,
              "#f0f921"
             ]
            ],
            "type": "heatmapgl"
           }
          ],
          "histogram": [
           {
            "marker": {
             "colorbar": {
              "outlinewidth": 0,
              "ticks": ""
             }
            },
            "type": "histogram"
           }
          ],
          "histogram2d": [
           {
            "colorbar": {
             "outlinewidth": 0,
             "ticks": ""
            },
            "colorscale": [
             [
              0,
              "#0d0887"
             ],
             [
              0.1111111111111111,
              "#46039f"
             ],
             [
              0.2222222222222222,
              "#7201a8"
             ],
             [
              0.3333333333333333,
              "#9c179e"
             ],
             [
              0.4444444444444444,
              "#bd3786"
             ],
             [
              0.5555555555555556,
              "#d8576b"
             ],
             [
              0.6666666666666666,
              "#ed7953"
             ],
             [
              0.7777777777777778,
              "#fb9f3a"
             ],
             [
              0.8888888888888888,
              "#fdca26"
             ],
             [
              1,
              "#f0f921"
             ]
            ],
            "type": "histogram2d"
           }
          ],
          "histogram2dcontour": [
           {
            "colorbar": {
             "outlinewidth": 0,
             "ticks": ""
            },
            "colorscale": [
             [
              0,
              "#0d0887"
             ],
             [
              0.1111111111111111,
              "#46039f"
             ],
             [
              0.2222222222222222,
              "#7201a8"
             ],
             [
              0.3333333333333333,
              "#9c179e"
             ],
             [
              0.4444444444444444,
              "#bd3786"
             ],
             [
              0.5555555555555556,
              "#d8576b"
             ],
             [
              0.6666666666666666,
              "#ed7953"
             ],
             [
              0.7777777777777778,
              "#fb9f3a"
             ],
             [
              0.8888888888888888,
              "#fdca26"
             ],
             [
              1,
              "#f0f921"
             ]
            ],
            "type": "histogram2dcontour"
           }
          ],
          "mesh3d": [
           {
            "colorbar": {
             "outlinewidth": 0,
             "ticks": ""
            },
            "type": "mesh3d"
           }
          ],
          "parcoords": [
           {
            "line": {
             "colorbar": {
              "outlinewidth": 0,
              "ticks": ""
             }
            },
            "type": "parcoords"
           }
          ],
          "pie": [
           {
            "automargin": true,
            "type": "pie"
           }
          ],
          "scatter": [
           {
            "marker": {
             "colorbar": {
              "outlinewidth": 0,
              "ticks": ""
             }
            },
            "type": "scatter"
           }
          ],
          "scatter3d": [
           {
            "line": {
             "colorbar": {
              "outlinewidth": 0,
              "ticks": ""
             }
            },
            "marker": {
             "colorbar": {
              "outlinewidth": 0,
              "ticks": ""
             }
            },
            "type": "scatter3d"
           }
          ],
          "scattercarpet": [
           {
            "marker": {
             "colorbar": {
              "outlinewidth": 0,
              "ticks": ""
             }
            },
            "type": "scattercarpet"
           }
          ],
          "scattergeo": [
           {
            "marker": {
             "colorbar": {
              "outlinewidth": 0,
              "ticks": ""
             }
            },
            "type": "scattergeo"
           }
          ],
          "scattergl": [
           {
            "marker": {
             "colorbar": {
              "outlinewidth": 0,
              "ticks": ""
             }
            },
            "type": "scattergl"
           }
          ],
          "scattermapbox": [
           {
            "marker": {
             "colorbar": {
              "outlinewidth": 0,
              "ticks": ""
             }
            },
            "type": "scattermapbox"
           }
          ],
          "scatterpolar": [
           {
            "marker": {
             "colorbar": {
              "outlinewidth": 0,
              "ticks": ""
             }
            },
            "type": "scatterpolar"
           }
          ],
          "scatterpolargl": [
           {
            "marker": {
             "colorbar": {
              "outlinewidth": 0,
              "ticks": ""
             }
            },
            "type": "scatterpolargl"
           }
          ],
          "scatterternary": [
           {
            "marker": {
             "colorbar": {
              "outlinewidth": 0,
              "ticks": ""
             }
            },
            "type": "scatterternary"
           }
          ],
          "surface": [
           {
            "colorbar": {
             "outlinewidth": 0,
             "ticks": ""
            },
            "colorscale": [
             [
              0,
              "#0d0887"
             ],
             [
              0.1111111111111111,
              "#46039f"
             ],
             [
              0.2222222222222222,
              "#7201a8"
             ],
             [
              0.3333333333333333,
              "#9c179e"
             ],
             [
              0.4444444444444444,
              "#bd3786"
             ],
             [
              0.5555555555555556,
              "#d8576b"
             ],
             [
              0.6666666666666666,
              "#ed7953"
             ],
             [
              0.7777777777777778,
              "#fb9f3a"
             ],
             [
              0.8888888888888888,
              "#fdca26"
             ],
             [
              1,
              "#f0f921"
             ]
            ],
            "type": "surface"
           }
          ],
          "table": [
           {
            "cells": {
             "fill": {
              "color": "#EBF0F8"
             },
             "line": {
              "color": "white"
             }
            },
            "header": {
             "fill": {
              "color": "#C8D4E3"
             },
             "line": {
              "color": "white"
             }
            },
            "type": "table"
           }
          ]
         },
         "layout": {
          "annotationdefaults": {
           "arrowcolor": "#2a3f5f",
           "arrowhead": 0,
           "arrowwidth": 1
          },
          "coloraxis": {
           "colorbar": {
            "outlinewidth": 0,
            "ticks": ""
           }
          },
          "colorscale": {
           "diverging": [
            [
             0,
             "#8e0152"
            ],
            [
             0.1,
             "#c51b7d"
            ],
            [
             0.2,
             "#de77ae"
            ],
            [
             0.3,
             "#f1b6da"
            ],
            [
             0.4,
             "#fde0ef"
            ],
            [
             0.5,
             "#f7f7f7"
            ],
            [
             0.6,
             "#e6f5d0"
            ],
            [
             0.7,
             "#b8e186"
            ],
            [
             0.8,
             "#7fbc41"
            ],
            [
             0.9,
             "#4d9221"
            ],
            [
             1,
             "#276419"
            ]
           ],
           "sequential": [
            [
             0,
             "#0d0887"
            ],
            [
             0.1111111111111111,
             "#46039f"
            ],
            [
             0.2222222222222222,
             "#7201a8"
            ],
            [
             0.3333333333333333,
             "#9c179e"
            ],
            [
             0.4444444444444444,
             "#bd3786"
            ],
            [
             0.5555555555555556,
             "#d8576b"
            ],
            [
             0.6666666666666666,
             "#ed7953"
            ],
            [
             0.7777777777777778,
             "#fb9f3a"
            ],
            [
             0.8888888888888888,
             "#fdca26"
            ],
            [
             1,
             "#f0f921"
            ]
           ],
           "sequentialminus": [
            [
             0,
             "#0d0887"
            ],
            [
             0.1111111111111111,
             "#46039f"
            ],
            [
             0.2222222222222222,
             "#7201a8"
            ],
            [
             0.3333333333333333,
             "#9c179e"
            ],
            [
             0.4444444444444444,
             "#bd3786"
            ],
            [
             0.5555555555555556,
             "#d8576b"
            ],
            [
             0.6666666666666666,
             "#ed7953"
            ],
            [
             0.7777777777777778,
             "#fb9f3a"
            ],
            [
             0.8888888888888888,
             "#fdca26"
            ],
            [
             1,
             "#f0f921"
            ]
           ]
          },
          "colorway": [
           "#636efa",
           "#EF553B",
           "#00cc96",
           "#ab63fa",
           "#FFA15A",
           "#19d3f3",
           "#FF6692",
           "#B6E880",
           "#FF97FF",
           "#FECB52"
          ],
          "font": {
           "color": "#2a3f5f"
          },
          "geo": {
           "bgcolor": "white",
           "lakecolor": "white",
           "landcolor": "#E5ECF6",
           "showlakes": true,
           "showland": true,
           "subunitcolor": "white"
          },
          "hoverlabel": {
           "align": "left"
          },
          "hovermode": "closest",
          "mapbox": {
           "style": "light"
          },
          "paper_bgcolor": "white",
          "plot_bgcolor": "#E5ECF6",
          "polar": {
           "angularaxis": {
            "gridcolor": "white",
            "linecolor": "white",
            "ticks": ""
           },
           "bgcolor": "#E5ECF6",
           "radialaxis": {
            "gridcolor": "white",
            "linecolor": "white",
            "ticks": ""
           }
          },
          "scene": {
           "xaxis": {
            "backgroundcolor": "#E5ECF6",
            "gridcolor": "white",
            "gridwidth": 2,
            "linecolor": "white",
            "showbackground": true,
            "ticks": "",
            "zerolinecolor": "white"
           },
           "yaxis": {
            "backgroundcolor": "#E5ECF6",
            "gridcolor": "white",
            "gridwidth": 2,
            "linecolor": "white",
            "showbackground": true,
            "ticks": "",
            "zerolinecolor": "white"
           },
           "zaxis": {
            "backgroundcolor": "#E5ECF6",
            "gridcolor": "white",
            "gridwidth": 2,
            "linecolor": "white",
            "showbackground": true,
            "ticks": "",
            "zerolinecolor": "white"
           }
          },
          "shapedefaults": {
           "line": {
            "color": "#2a3f5f"
           }
          },
          "ternary": {
           "aaxis": {
            "gridcolor": "white",
            "linecolor": "white",
            "ticks": ""
           },
           "baxis": {
            "gridcolor": "white",
            "linecolor": "white",
            "ticks": ""
           },
           "bgcolor": "#E5ECF6",
           "caxis": {
            "gridcolor": "white",
            "linecolor": "white",
            "ticks": ""
           }
          },
          "title": {
           "x": 0.05
          },
          "xaxis": {
           "automargin": true,
           "gridcolor": "white",
           "linecolor": "white",
           "ticks": "",
           "title": {
            "standoff": 15
           },
           "zerolinecolor": "white",
           "zerolinewidth": 2
          },
          "yaxis": {
           "automargin": true,
           "gridcolor": "white",
           "linecolor": "white",
           "ticks": "",
           "title": {
            "standoff": 15
           },
           "zerolinecolor": "white",
           "zerolinewidth": 2
          }
         }
        },
        "title": {
         "font": {
          "color": "#4D5663"
         }
        },
        "xaxis": {
         "gridcolor": "#E1E5ED",
         "showgrid": true,
         "tickfont": {
          "color": "#4D5663"
         },
         "title": {
          "font": {
           "color": "#4D5663"
          },
          "text": ""
         },
         "zerolinecolor": "#E1E5ED"
        },
        "yaxis": {
         "gridcolor": "#E1E5ED",
         "showgrid": true,
         "tickfont": {
          "color": "#4D5663"
         },
         "title": {
          "font": {
           "color": "#4D5663"
          },
          "text": ""
         },
         "zerolinecolor": "#E1E5ED"
        }
       }
      },
      "text/html": [
       "<div>\n",
       "        \n",
       "        \n",
       "            <div id=\"19d5cfa2-d3a0-4df7-a094-5800cd0c2a1e\" class=\"plotly-graph-div\" style=\"height:525px; width:100%;\"></div>\n",
       "            <script type=\"text/javascript\">\n",
       "                require([\"plotly\"], function(Plotly) {\n",
       "                    window.PLOTLYENV=window.PLOTLYENV || {};\n",
       "                    window.PLOTLYENV.BASE_URL='https://plot.ly';\n",
       "                    \n",
       "                if (document.getElementById(\"19d5cfa2-d3a0-4df7-a094-5800cd0c2a1e\")) {\n",
       "                    Plotly.newPlot(\n",
       "                        '19d5cfa2-d3a0-4df7-a094-5800cd0c2a1e',\n",
       "                        [{\"line\": {\"color\": \"rgba(255, 153, 51, 1.0)\", \"dash\": \"solid\", \"shape\": \"linear\", \"width\": 1.3}, \"marker\": {\"size\": 15, \"symbol\": \"circle\"}, \"mode\": \"lines+markers\", \"name\": \"B\", \"text\": \"\", \"type\": \"scatter\", \"x\": [-0.29643740889399095, 0.32868435515730043, 1.7461416496086142, -0.24004567607313979, 0.13879213518446365, 0.5535216967030455, -0.5654788153613118, 1.4745095081896062, 0.24599950755732192, -1.2056020605811952, 1.1064580688514372, 1.2560715526922155, 0.9370673363805552, -0.3035228949304509, 0.8173073261565816, -1.049133286502186, 0.8206309550571658, 0.4257464010855425, -0.204969188764631, -0.49515630325678384, -0.46557478153402304, -0.7100122999382016, 0.5038367695493804, 0.6095718122464268, -0.9665021599071422, -1.941392438441163, -0.4410063758400523, 0.03245090999579194, 0.1343061826488072, 0.5107365179921368, -0.3148389852787225, -0.3475463838805427, 0.38918681250649434, -0.5878571849206334, 0.18237827278071525, 0.8139831276610341, -0.3044351308280057, 0.7856674253493616, 0.3511107651142644, 0.4991054778015313, 1.8905790693628632, -0.36064056808190237, -0.20806458226915128, 1.1251468281191688, -2.126253635634463, -0.6012651762207218, -0.4332096922576356, 0.5936193398160595, -1.8610576096155729, -0.6848069423978584, -0.1741312896553701, -0.036689001873205666, -0.17997951544796514, 1.0197180801187515, -1.066533298890777, -0.9114780950624539, -0.11932825824118615, 1.402067892564673, -0.086837270558958, 0.463224533101115, 1.1851504359883962, -0.974581228669598, 0.5172927499818978, -0.019078919866214714, 1.6757029533305858, -0.7739305807934194, 0.49975487039061167, 2.431023967741468, 0.5156404761815808, -2.2967795329006546, -1.0552189283244984, 0.12688409298548323, -1.677072780155331, -0.8594495959629678, -0.4444344655352142, -1.2167733442412334, 0.38604138505028, 1.0138946898474628, 0.14697818534804966, 1.9761709653128225, 0.8272009540730214, -0.3939697404040883, 0.6354964151979149, -0.4806868089713751, 0.8576277591041233, -0.5114800988431405, -0.5184321876913844, 0.8927289941236105, -0.13572637194054665, 0.9993000128725914, 0.9321656254505977, 0.1462909328841926, 1.318253885597681, -1.2340506320852325, 0.5166974940232978, -0.00888755926616613, 0.2571741481342909, 0.6922229079065875, 0.6538799136667284, 0.9128588038964904], \"y\": [0.07900847452249811, -0.9122677191922264, 0.3112574668049616, 1.7728983810125845, -0.46509577776202565, -0.8500736939519596, 0.09604825979531327, -1.6741323641529193, 0.3654389760932509, -0.396636210544783, -0.39935846585434787, -2.072144060438098, -0.9592798926978057, 1.009429267180827, 1.4347810916763082, 1.2238156048083508, -0.2539894869632165, -0.03462226412381225, 1.5213228468514988, -0.16020138184502902, 1.1012259404213742, -1.7925797528858496, 1.3515348090377433, -1.2785375474729208, -0.9450429616882644, -0.3565619797841725, -0.526895547025469, -0.29703925347581567, 0.470679346499512, -0.21965139430373848, -0.277572241034337, 1.6757739473793847, -0.6844213119094037, 2.5467128090186346, 0.3092940280081921, 0.36706217813011577, 0.3620155081208797, -1.0693211361043422, -0.32058523850796067, 0.34172741616987756, -1.013975596657667, -0.330584333129899, 2.354552575307552, 0.2222715205421336, -0.24491641424236923, 0.08652389492069956, -0.6661046551013905, -0.5684243647771562, -0.16815681870593208, 0.5451732559293533, -0.7003127063854502, -2.0991552130751163, -0.8805818658707721, 1.1181512595690717, -1.8236861113099427, -1.109326462564337, 0.8850844170534031, -0.15140124010444625, 2.089817025595409, -1.1412646577928676, 0.5130786272975839, 0.802315702090518, 0.8227263767426035, -0.4211094361933707, 0.3188905388362875, -0.27597929718394765, 1.4894104428242139, 1.0154933954044825, 0.9032711654013391, 1.4822651315059352, 0.5187114432149854, 1.7355646462196677, -1.0622908954228063, -0.41376365210767657, -0.4752312118552798, 0.25271611250132825, 0.11808813566547226, -1.4190087109867906, -1.099413224707759, -0.8227951494886859, 1.0404839507698609, -0.3836115958841534, -0.36668922503310136, -0.9641263348806826, -1.4158392346294928, -0.5832744046678073, -0.2507105982209403, -0.519634303248391, 1.3501586378007053, 0.3645687598665697, -2.2309271526923697, -2.2570879544856224, 0.681349780667486, 0.005462937664764124, 0.08378619913036302, -0.18127299340078432, 0.5088984930410607, -0.12613393601230247, -1.067492178711451, -0.5060295021572043]}],\n",
       "                        {\"legend\": {\"bgcolor\": \"#F5F6F9\", \"font\": {\"color\": \"#4D5663\"}}, \"paper_bgcolor\": \"#F5F6F9\", \"plot_bgcolor\": \"#F5F6F9\", \"template\": {\"data\": {\"bar\": [{\"error_x\": {\"color\": \"#2a3f5f\"}, \"error_y\": {\"color\": \"#2a3f5f\"}, \"marker\": {\"line\": {\"color\": \"#E5ECF6\", \"width\": 0.5}}, \"type\": \"bar\"}], \"barpolar\": [{\"marker\": {\"line\": {\"color\": \"#E5ECF6\", \"width\": 0.5}}, \"type\": \"barpolar\"}], \"carpet\": [{\"aaxis\": {\"endlinecolor\": \"#2a3f5f\", \"gridcolor\": \"white\", \"linecolor\": \"white\", \"minorgridcolor\": \"white\", \"startlinecolor\": \"#2a3f5f\"}, \"baxis\": {\"endlinecolor\": \"#2a3f5f\", \"gridcolor\": \"white\", \"linecolor\": \"white\", \"minorgridcolor\": \"white\", \"startlinecolor\": \"#2a3f5f\"}, \"type\": \"carpet\"}], \"choropleth\": [{\"colorbar\": {\"outlinewidth\": 0, \"ticks\": \"\"}, \"type\": \"choropleth\"}], \"contour\": [{\"colorbar\": {\"outlinewidth\": 0, \"ticks\": \"\"}, \"colorscale\": [[0.0, \"#0d0887\"], [0.1111111111111111, \"#46039f\"], [0.2222222222222222, \"#7201a8\"], [0.3333333333333333, \"#9c179e\"], [0.4444444444444444, \"#bd3786\"], [0.5555555555555556, \"#d8576b\"], [0.6666666666666666, \"#ed7953\"], [0.7777777777777778, \"#fb9f3a\"], [0.8888888888888888, \"#fdca26\"], [1.0, \"#f0f921\"]], \"type\": \"contour\"}], \"contourcarpet\": [{\"colorbar\": {\"outlinewidth\": 0, \"ticks\": \"\"}, \"type\": \"contourcarpet\"}], \"heatmap\": [{\"colorbar\": {\"outlinewidth\": 0, \"ticks\": \"\"}, \"colorscale\": [[0.0, \"#0d0887\"], [0.1111111111111111, \"#46039f\"], [0.2222222222222222, \"#7201a8\"], [0.3333333333333333, \"#9c179e\"], [0.4444444444444444, \"#bd3786\"], [0.5555555555555556, \"#d8576b\"], [0.6666666666666666, \"#ed7953\"], [0.7777777777777778, \"#fb9f3a\"], [0.8888888888888888, \"#fdca26\"], [1.0, \"#f0f921\"]], \"type\": \"heatmap\"}], \"heatmapgl\": [{\"colorbar\": {\"outlinewidth\": 0, \"ticks\": \"\"}, \"colorscale\": [[0.0, \"#0d0887\"], [0.1111111111111111, \"#46039f\"], [0.2222222222222222, \"#7201a8\"], [0.3333333333333333, \"#9c179e\"], [0.4444444444444444, \"#bd3786\"], [0.5555555555555556, \"#d8576b\"], [0.6666666666666666, \"#ed7953\"], [0.7777777777777778, \"#fb9f3a\"], [0.8888888888888888, \"#fdca26\"], [1.0, \"#f0f921\"]], \"type\": \"heatmapgl\"}], \"histogram\": [{\"marker\": {\"colorbar\": {\"outlinewidth\": 0, \"ticks\": \"\"}}, \"type\": \"histogram\"}], \"histogram2d\": [{\"colorbar\": {\"outlinewidth\": 0, \"ticks\": \"\"}, \"colorscale\": [[0.0, \"#0d0887\"], [0.1111111111111111, \"#46039f\"], [0.2222222222222222, \"#7201a8\"], [0.3333333333333333, \"#9c179e\"], [0.4444444444444444, \"#bd3786\"], [0.5555555555555556, \"#d8576b\"], [0.6666666666666666, \"#ed7953\"], [0.7777777777777778, \"#fb9f3a\"], [0.8888888888888888, \"#fdca26\"], [1.0, \"#f0f921\"]], \"type\": \"histogram2d\"}], \"histogram2dcontour\": [{\"colorbar\": {\"outlinewidth\": 0, \"ticks\": \"\"}, \"colorscale\": [[0.0, \"#0d0887\"], [0.1111111111111111, \"#46039f\"], [0.2222222222222222, \"#7201a8\"], [0.3333333333333333, \"#9c179e\"], [0.4444444444444444, \"#bd3786\"], [0.5555555555555556, \"#d8576b\"], [0.6666666666666666, \"#ed7953\"], [0.7777777777777778, \"#fb9f3a\"], [0.8888888888888888, \"#fdca26\"], [1.0, \"#f0f921\"]], \"type\": \"histogram2dcontour\"}], \"mesh3d\": [{\"colorbar\": {\"outlinewidth\": 0, \"ticks\": \"\"}, \"type\": \"mesh3d\"}], \"parcoords\": [{\"line\": {\"colorbar\": {\"outlinewidth\": 0, \"ticks\": \"\"}}, \"type\": \"parcoords\"}], \"pie\": [{\"automargin\": true, \"type\": \"pie\"}], \"scatter\": [{\"marker\": {\"colorbar\": {\"outlinewidth\": 0, \"ticks\": \"\"}}, \"type\": \"scatter\"}], \"scatter3d\": [{\"line\": {\"colorbar\": {\"outlinewidth\": 0, \"ticks\": \"\"}}, \"marker\": {\"colorbar\": {\"outlinewidth\": 0, \"ticks\": \"\"}}, \"type\": \"scatter3d\"}], \"scattercarpet\": [{\"marker\": {\"colorbar\": {\"outlinewidth\": 0, \"ticks\": \"\"}}, \"type\": \"scattercarpet\"}], \"scattergeo\": [{\"marker\": {\"colorbar\": {\"outlinewidth\": 0, \"ticks\": \"\"}}, \"type\": \"scattergeo\"}], \"scattergl\": [{\"marker\": {\"colorbar\": {\"outlinewidth\": 0, \"ticks\": \"\"}}, \"type\": \"scattergl\"}], \"scattermapbox\": [{\"marker\": {\"colorbar\": {\"outlinewidth\": 0, \"ticks\": \"\"}}, \"type\": \"scattermapbox\"}], \"scatterpolar\": [{\"marker\": {\"colorbar\": {\"outlinewidth\": 0, \"ticks\": \"\"}}, \"type\": \"scatterpolar\"}], \"scatterpolargl\": [{\"marker\": {\"colorbar\": {\"outlinewidth\": 0, \"ticks\": \"\"}}, \"type\": \"scatterpolargl\"}], \"scatterternary\": [{\"marker\": {\"colorbar\": {\"outlinewidth\": 0, \"ticks\": \"\"}}, \"type\": \"scatterternary\"}], \"surface\": [{\"colorbar\": {\"outlinewidth\": 0, \"ticks\": \"\"}, \"colorscale\": [[0.0, \"#0d0887\"], [0.1111111111111111, \"#46039f\"], [0.2222222222222222, \"#7201a8\"], [0.3333333333333333, \"#9c179e\"], [0.4444444444444444, \"#bd3786\"], [0.5555555555555556, \"#d8576b\"], [0.6666666666666666, \"#ed7953\"], [0.7777777777777778, \"#fb9f3a\"], [0.8888888888888888, \"#fdca26\"], [1.0, \"#f0f921\"]], \"type\": \"surface\"}], \"table\": [{\"cells\": {\"fill\": {\"color\": \"#EBF0F8\"}, \"line\": {\"color\": \"white\"}}, \"header\": {\"fill\": {\"color\": \"#C8D4E3\"}, \"line\": {\"color\": \"white\"}}, \"type\": \"table\"}]}, \"layout\": {\"annotationdefaults\": {\"arrowcolor\": \"#2a3f5f\", \"arrowhead\": 0, \"arrowwidth\": 1}, \"coloraxis\": {\"colorbar\": {\"outlinewidth\": 0, \"ticks\": \"\"}}, \"colorscale\": {\"diverging\": [[0, \"#8e0152\"], [0.1, \"#c51b7d\"], [0.2, \"#de77ae\"], [0.3, \"#f1b6da\"], [0.4, \"#fde0ef\"], [0.5, \"#f7f7f7\"], [0.6, \"#e6f5d0\"], [0.7, \"#b8e186\"], [0.8, \"#7fbc41\"], [0.9, \"#4d9221\"], [1, \"#276419\"]], \"sequential\": [[0.0, \"#0d0887\"], [0.1111111111111111, \"#46039f\"], [0.2222222222222222, \"#7201a8\"], [0.3333333333333333, \"#9c179e\"], [0.4444444444444444, \"#bd3786\"], [0.5555555555555556, \"#d8576b\"], [0.6666666666666666, \"#ed7953\"], [0.7777777777777778, \"#fb9f3a\"], [0.8888888888888888, \"#fdca26\"], [1.0, \"#f0f921\"]], \"sequentialminus\": [[0.0, \"#0d0887\"], [0.1111111111111111, \"#46039f\"], [0.2222222222222222, \"#7201a8\"], [0.3333333333333333, \"#9c179e\"], [0.4444444444444444, \"#bd3786\"], [0.5555555555555556, \"#d8576b\"], [0.6666666666666666, \"#ed7953\"], [0.7777777777777778, \"#fb9f3a\"], [0.8888888888888888, \"#fdca26\"], [1.0, \"#f0f921\"]]}, \"colorway\": [\"#636efa\", \"#EF553B\", \"#00cc96\", \"#ab63fa\", \"#FFA15A\", \"#19d3f3\", \"#FF6692\", \"#B6E880\", \"#FF97FF\", \"#FECB52\"], \"font\": {\"color\": \"#2a3f5f\"}, \"geo\": {\"bgcolor\": \"white\", \"lakecolor\": \"white\", \"landcolor\": \"#E5ECF6\", \"showlakes\": true, \"showland\": true, \"subunitcolor\": \"white\"}, \"hoverlabel\": {\"align\": \"left\"}, \"hovermode\": \"closest\", \"mapbox\": {\"style\": \"light\"}, \"paper_bgcolor\": \"white\", \"plot_bgcolor\": \"#E5ECF6\", \"polar\": {\"angularaxis\": {\"gridcolor\": \"white\", \"linecolor\": \"white\", \"ticks\": \"\"}, \"bgcolor\": \"#E5ECF6\", \"radialaxis\": {\"gridcolor\": \"white\", \"linecolor\": \"white\", \"ticks\": \"\"}}, \"scene\": {\"xaxis\": {\"backgroundcolor\": \"#E5ECF6\", \"gridcolor\": \"white\", \"gridwidth\": 2, \"linecolor\": \"white\", \"showbackground\": true, \"ticks\": \"\", \"zerolinecolor\": \"white\"}, \"yaxis\": {\"backgroundcolor\": \"#E5ECF6\", \"gridcolor\": \"white\", \"gridwidth\": 2, \"linecolor\": \"white\", \"showbackground\": true, \"ticks\": \"\", \"zerolinecolor\": \"white\"}, \"zaxis\": {\"backgroundcolor\": \"#E5ECF6\", \"gridcolor\": \"white\", \"gridwidth\": 2, \"linecolor\": \"white\", \"showbackground\": true, \"ticks\": \"\", \"zerolinecolor\": \"white\"}}, \"shapedefaults\": {\"line\": {\"color\": \"#2a3f5f\"}}, \"ternary\": {\"aaxis\": {\"gridcolor\": \"white\", \"linecolor\": \"white\", \"ticks\": \"\"}, \"baxis\": {\"gridcolor\": \"white\", \"linecolor\": \"white\", \"ticks\": \"\"}, \"bgcolor\": \"#E5ECF6\", \"caxis\": {\"gridcolor\": \"white\", \"linecolor\": \"white\", \"ticks\": \"\"}}, \"title\": {\"x\": 0.05}, \"xaxis\": {\"automargin\": true, \"gridcolor\": \"white\", \"linecolor\": \"white\", \"ticks\": \"\", \"title\": {\"standoff\": 15}, \"zerolinecolor\": \"white\", \"zerolinewidth\": 2}, \"yaxis\": {\"automargin\": true, \"gridcolor\": \"white\", \"linecolor\": \"white\", \"ticks\": \"\", \"title\": {\"standoff\": 15}, \"zerolinecolor\": \"white\", \"zerolinewidth\": 2}}}, \"title\": {\"font\": {\"color\": \"#4D5663\"}}, \"xaxis\": {\"gridcolor\": \"#E1E5ED\", \"showgrid\": true, \"tickfont\": {\"color\": \"#4D5663\"}, \"title\": {\"font\": {\"color\": \"#4D5663\"}, \"text\": \"\"}, \"zerolinecolor\": \"#E1E5ED\"}, \"yaxis\": {\"gridcolor\": \"#E1E5ED\", \"showgrid\": true, \"tickfont\": {\"color\": \"#4D5663\"}, \"title\": {\"font\": {\"color\": \"#4D5663\"}, \"text\": \"\"}, \"zerolinecolor\": \"#E1E5ED\"}},\n",
       "                        {\"showLink\": true, \"linkText\": \"Export to plot.ly\", \"plotlyServerURL\": \"https://plot.ly\", \"responsive\": true}\n",
       "                    ).then(function(){\n",
       "                            \n",
       "var gd = document.getElementById('19d5cfa2-d3a0-4df7-a094-5800cd0c2a1e');\n",
       "var x = new MutationObserver(function (mutations, observer) {{\n",
       "        var display = window.getComputedStyle(gd).display;\n",
       "        if (!display || display === 'none') {{\n",
       "            console.log([gd, 'removed!']);\n",
       "            Plotly.purge(gd);\n",
       "            observer.disconnect();\n",
       "        }}\n",
       "}});\n",
       "\n",
       "// Listen for the removal of the full notebook cells\n",
       "var notebookContainer = gd.closest('#notebook-container');\n",
       "if (notebookContainer) {{\n",
       "    x.observe(notebookContainer, {childList: true});\n",
       "}}\n",
       "\n",
       "// Listen for the clearing of the current output cell\n",
       "var outputEl = gd.closest('.output');\n",
       "if (outputEl) {{\n",
       "    x.observe(outputEl, {childList: true});\n",
       "}}\n",
       "\n",
       "                        })\n",
       "                };\n",
       "                });\n",
       "            </script>\n",
       "        </div>"
      ]
     },
     "metadata": {},
     "output_type": "display_data"
    }
   ],
   "source": [
    "#df.iplot(kind='scatter',x='A',y='B',mode='lines',size=15)\n",
    "df.iplot(kind='scatter',x='A',y='B',mode='lines+markers',size=15)"
   ]
  },
  {
   "cell_type": "markdown",
   "metadata": {},
   "source": [
    "## Bar Plots"
   ]
  },
  {
   "cell_type": "code",
   "execution_count": 12,
   "metadata": {},
   "outputs": [
    {
     "data": {
      "application/vnd.plotly.v1+json": {
       "config": {
        "linkText": "Export to plot.ly",
        "plotlyServerURL": "https://plot.ly",
        "showLink": true
       },
       "data": [
        {
         "marker": {
          "color": "rgba(219, 64, 82, 0.6)",
          "line": {
           "color": "rgba(219, 64, 82, 1.0)",
           "width": 1
          }
         },
         "name": "Values",
         "orientation": "v",
         "text": "",
         "type": "bar",
         "x": [
          "A",
          "B",
          "C"
         ],
         "y": [
          32,
          43,
          50
         ]
        }
       ],
       "layout": {
        "legend": {
         "bgcolor": "#F5F6F9",
         "font": {
          "color": "#4D5663"
         }
        },
        "paper_bgcolor": "#F5F6F9",
        "plot_bgcolor": "#F5F6F9",
        "template": {
         "data": {
          "bar": [
           {
            "error_x": {
             "color": "#2a3f5f"
            },
            "error_y": {
             "color": "#2a3f5f"
            },
            "marker": {
             "line": {
              "color": "#E5ECF6",
              "width": 0.5
             }
            },
            "type": "bar"
           }
          ],
          "barpolar": [
           {
            "marker": {
             "line": {
              "color": "#E5ECF6",
              "width": 0.5
             }
            },
            "type": "barpolar"
           }
          ],
          "carpet": [
           {
            "aaxis": {
             "endlinecolor": "#2a3f5f",
             "gridcolor": "white",
             "linecolor": "white",
             "minorgridcolor": "white",
             "startlinecolor": "#2a3f5f"
            },
            "baxis": {
             "endlinecolor": "#2a3f5f",
             "gridcolor": "white",
             "linecolor": "white",
             "minorgridcolor": "white",
             "startlinecolor": "#2a3f5f"
            },
            "type": "carpet"
           }
          ],
          "choropleth": [
           {
            "colorbar": {
             "outlinewidth": 0,
             "ticks": ""
            },
            "type": "choropleth"
           }
          ],
          "contour": [
           {
            "colorbar": {
             "outlinewidth": 0,
             "ticks": ""
            },
            "colorscale": [
             [
              0,
              "#0d0887"
             ],
             [
              0.1111111111111111,
              "#46039f"
             ],
             [
              0.2222222222222222,
              "#7201a8"
             ],
             [
              0.3333333333333333,
              "#9c179e"
             ],
             [
              0.4444444444444444,
              "#bd3786"
             ],
             [
              0.5555555555555556,
              "#d8576b"
             ],
             [
              0.6666666666666666,
              "#ed7953"
             ],
             [
              0.7777777777777778,
              "#fb9f3a"
             ],
             [
              0.8888888888888888,
              "#fdca26"
             ],
             [
              1,
              "#f0f921"
             ]
            ],
            "type": "contour"
           }
          ],
          "contourcarpet": [
           {
            "colorbar": {
             "outlinewidth": 0,
             "ticks": ""
            },
            "type": "contourcarpet"
           }
          ],
          "heatmap": [
           {
            "colorbar": {
             "outlinewidth": 0,
             "ticks": ""
            },
            "colorscale": [
             [
              0,
              "#0d0887"
             ],
             [
              0.1111111111111111,
              "#46039f"
             ],
             [
              0.2222222222222222,
              "#7201a8"
             ],
             [
              0.3333333333333333,
              "#9c179e"
             ],
             [
              0.4444444444444444,
              "#bd3786"
             ],
             [
              0.5555555555555556,
              "#d8576b"
             ],
             [
              0.6666666666666666,
              "#ed7953"
             ],
             [
              0.7777777777777778,
              "#fb9f3a"
             ],
             [
              0.8888888888888888,
              "#fdca26"
             ],
             [
              1,
              "#f0f921"
             ]
            ],
            "type": "heatmap"
           }
          ],
          "heatmapgl": [
           {
            "colorbar": {
             "outlinewidth": 0,
             "ticks": ""
            },
            "colorscale": [
             [
              0,
              "#0d0887"
             ],
             [
              0.1111111111111111,
              "#46039f"
             ],
             [
              0.2222222222222222,
              "#7201a8"
             ],
             [
              0.3333333333333333,
              "#9c179e"
             ],
             [
              0.4444444444444444,
              "#bd3786"
             ],
             [
              0.5555555555555556,
              "#d8576b"
             ],
             [
              0.6666666666666666,
              "#ed7953"
             ],
             [
              0.7777777777777778,
              "#fb9f3a"
             ],
             [
              0.8888888888888888,
              "#fdca26"
             ],
             [
              1,
              "#f0f921"
             ]
            ],
            "type": "heatmapgl"
           }
          ],
          "histogram": [
           {
            "marker": {
             "colorbar": {
              "outlinewidth": 0,
              "ticks": ""
             }
            },
            "type": "histogram"
           }
          ],
          "histogram2d": [
           {
            "colorbar": {
             "outlinewidth": 0,
             "ticks": ""
            },
            "colorscale": [
             [
              0,
              "#0d0887"
             ],
             [
              0.1111111111111111,
              "#46039f"
             ],
             [
              0.2222222222222222,
              "#7201a8"
             ],
             [
              0.3333333333333333,
              "#9c179e"
             ],
             [
              0.4444444444444444,
              "#bd3786"
             ],
             [
              0.5555555555555556,
              "#d8576b"
             ],
             [
              0.6666666666666666,
              "#ed7953"
             ],
             [
              0.7777777777777778,
              "#fb9f3a"
             ],
             [
              0.8888888888888888,
              "#fdca26"
             ],
             [
              1,
              "#f0f921"
             ]
            ],
            "type": "histogram2d"
           }
          ],
          "histogram2dcontour": [
           {
            "colorbar": {
             "outlinewidth": 0,
             "ticks": ""
            },
            "colorscale": [
             [
              0,
              "#0d0887"
             ],
             [
              0.1111111111111111,
              "#46039f"
             ],
             [
              0.2222222222222222,
              "#7201a8"
             ],
             [
              0.3333333333333333,
              "#9c179e"
             ],
             [
              0.4444444444444444,
              "#bd3786"
             ],
             [
              0.5555555555555556,
              "#d8576b"
             ],
             [
              0.6666666666666666,
              "#ed7953"
             ],
             [
              0.7777777777777778,
              "#fb9f3a"
             ],
             [
              0.8888888888888888,
              "#fdca26"
             ],
             [
              1,
              "#f0f921"
             ]
            ],
            "type": "histogram2dcontour"
           }
          ],
          "mesh3d": [
           {
            "colorbar": {
             "outlinewidth": 0,
             "ticks": ""
            },
            "type": "mesh3d"
           }
          ],
          "parcoords": [
           {
            "line": {
             "colorbar": {
              "outlinewidth": 0,
              "ticks": ""
             }
            },
            "type": "parcoords"
           }
          ],
          "pie": [
           {
            "automargin": true,
            "type": "pie"
           }
          ],
          "scatter": [
           {
            "marker": {
             "colorbar": {
              "outlinewidth": 0,
              "ticks": ""
             }
            },
            "type": "scatter"
           }
          ],
          "scatter3d": [
           {
            "line": {
             "colorbar": {
              "outlinewidth": 0,
              "ticks": ""
             }
            },
            "marker": {
             "colorbar": {
              "outlinewidth": 0,
              "ticks": ""
             }
            },
            "type": "scatter3d"
           }
          ],
          "scattercarpet": [
           {
            "marker": {
             "colorbar": {
              "outlinewidth": 0,
              "ticks": ""
             }
            },
            "type": "scattercarpet"
           }
          ],
          "scattergeo": [
           {
            "marker": {
             "colorbar": {
              "outlinewidth": 0,
              "ticks": ""
             }
            },
            "type": "scattergeo"
           }
          ],
          "scattergl": [
           {
            "marker": {
             "colorbar": {
              "outlinewidth": 0,
              "ticks": ""
             }
            },
            "type": "scattergl"
           }
          ],
          "scattermapbox": [
           {
            "marker": {
             "colorbar": {
              "outlinewidth": 0,
              "ticks": ""
             }
            },
            "type": "scattermapbox"
           }
          ],
          "scatterpolar": [
           {
            "marker": {
             "colorbar": {
              "outlinewidth": 0,
              "ticks": ""
             }
            },
            "type": "scatterpolar"
           }
          ],
          "scatterpolargl": [
           {
            "marker": {
             "colorbar": {
              "outlinewidth": 0,
              "ticks": ""
             }
            },
            "type": "scatterpolargl"
           }
          ],
          "scatterternary": [
           {
            "marker": {
             "colorbar": {
              "outlinewidth": 0,
              "ticks": ""
             }
            },
            "type": "scatterternary"
           }
          ],
          "surface": [
           {
            "colorbar": {
             "outlinewidth": 0,
             "ticks": ""
            },
            "colorscale": [
             [
              0,
              "#0d0887"
             ],
             [
              0.1111111111111111,
              "#46039f"
             ],
             [
              0.2222222222222222,
              "#7201a8"
             ],
             [
              0.3333333333333333,
              "#9c179e"
             ],
             [
              0.4444444444444444,
              "#bd3786"
             ],
             [
              0.5555555555555556,
              "#d8576b"
             ],
             [
              0.6666666666666666,
              "#ed7953"
             ],
             [
              0.7777777777777778,
              "#fb9f3a"
             ],
             [
              0.8888888888888888,
              "#fdca26"
             ],
             [
              1,
              "#f0f921"
             ]
            ],
            "type": "surface"
           }
          ],
          "table": [
           {
            "cells": {
             "fill": {
              "color": "#EBF0F8"
             },
             "line": {
              "color": "white"
             }
            },
            "header": {
             "fill": {
              "color": "#C8D4E3"
             },
             "line": {
              "color": "white"
             }
            },
            "type": "table"
           }
          ]
         },
         "layout": {
          "annotationdefaults": {
           "arrowcolor": "#2a3f5f",
           "arrowhead": 0,
           "arrowwidth": 1
          },
          "coloraxis": {
           "colorbar": {
            "outlinewidth": 0,
            "ticks": ""
           }
          },
          "colorscale": {
           "diverging": [
            [
             0,
             "#8e0152"
            ],
            [
             0.1,
             "#c51b7d"
            ],
            [
             0.2,
             "#de77ae"
            ],
            [
             0.3,
             "#f1b6da"
            ],
            [
             0.4,
             "#fde0ef"
            ],
            [
             0.5,
             "#f7f7f7"
            ],
            [
             0.6,
             "#e6f5d0"
            ],
            [
             0.7,
             "#b8e186"
            ],
            [
             0.8,
             "#7fbc41"
            ],
            [
             0.9,
             "#4d9221"
            ],
            [
             1,
             "#276419"
            ]
           ],
           "sequential": [
            [
             0,
             "#0d0887"
            ],
            [
             0.1111111111111111,
             "#46039f"
            ],
            [
             0.2222222222222222,
             "#7201a8"
            ],
            [
             0.3333333333333333,
             "#9c179e"
            ],
            [
             0.4444444444444444,
             "#bd3786"
            ],
            [
             0.5555555555555556,
             "#d8576b"
            ],
            [
             0.6666666666666666,
             "#ed7953"
            ],
            [
             0.7777777777777778,
             "#fb9f3a"
            ],
            [
             0.8888888888888888,
             "#fdca26"
            ],
            [
             1,
             "#f0f921"
            ]
           ],
           "sequentialminus": [
            [
             0,
             "#0d0887"
            ],
            [
             0.1111111111111111,
             "#46039f"
            ],
            [
             0.2222222222222222,
             "#7201a8"
            ],
            [
             0.3333333333333333,
             "#9c179e"
            ],
            [
             0.4444444444444444,
             "#bd3786"
            ],
            [
             0.5555555555555556,
             "#d8576b"
            ],
            [
             0.6666666666666666,
             "#ed7953"
            ],
            [
             0.7777777777777778,
             "#fb9f3a"
            ],
            [
             0.8888888888888888,
             "#fdca26"
            ],
            [
             1,
             "#f0f921"
            ]
           ]
          },
          "colorway": [
           "#636efa",
           "#EF553B",
           "#00cc96",
           "#ab63fa",
           "#FFA15A",
           "#19d3f3",
           "#FF6692",
           "#B6E880",
           "#FF97FF",
           "#FECB52"
          ],
          "font": {
           "color": "#2a3f5f"
          },
          "geo": {
           "bgcolor": "white",
           "lakecolor": "white",
           "landcolor": "#E5ECF6",
           "showlakes": true,
           "showland": true,
           "subunitcolor": "white"
          },
          "hoverlabel": {
           "align": "left"
          },
          "hovermode": "closest",
          "mapbox": {
           "style": "light"
          },
          "paper_bgcolor": "white",
          "plot_bgcolor": "#E5ECF6",
          "polar": {
           "angularaxis": {
            "gridcolor": "white",
            "linecolor": "white",
            "ticks": ""
           },
           "bgcolor": "#E5ECF6",
           "radialaxis": {
            "gridcolor": "white",
            "linecolor": "white",
            "ticks": ""
           }
          },
          "scene": {
           "xaxis": {
            "backgroundcolor": "#E5ECF6",
            "gridcolor": "white",
            "gridwidth": 2,
            "linecolor": "white",
            "showbackground": true,
            "ticks": "",
            "zerolinecolor": "white"
           },
           "yaxis": {
            "backgroundcolor": "#E5ECF6",
            "gridcolor": "white",
            "gridwidth": 2,
            "linecolor": "white",
            "showbackground": true,
            "ticks": "",
            "zerolinecolor": "white"
           },
           "zaxis": {
            "backgroundcolor": "#E5ECF6",
            "gridcolor": "white",
            "gridwidth": 2,
            "linecolor": "white",
            "showbackground": true,
            "ticks": "",
            "zerolinecolor": "white"
           }
          },
          "shapedefaults": {
           "line": {
            "color": "#2a3f5f"
           }
          },
          "ternary": {
           "aaxis": {
            "gridcolor": "white",
            "linecolor": "white",
            "ticks": ""
           },
           "baxis": {
            "gridcolor": "white",
            "linecolor": "white",
            "ticks": ""
           },
           "bgcolor": "#E5ECF6",
           "caxis": {
            "gridcolor": "white",
            "linecolor": "white",
            "ticks": ""
           }
          },
          "title": {
           "x": 0.05
          },
          "xaxis": {
           "automargin": true,
           "gridcolor": "white",
           "linecolor": "white",
           "ticks": "",
           "title": {
            "standoff": 15
           },
           "zerolinecolor": "white",
           "zerolinewidth": 2
          },
          "yaxis": {
           "automargin": true,
           "gridcolor": "white",
           "linecolor": "white",
           "ticks": "",
           "title": {
            "standoff": 15
           },
           "zerolinecolor": "white",
           "zerolinewidth": 2
          }
         }
        },
        "title": {
         "font": {
          "color": "#4D5663"
         }
        },
        "xaxis": {
         "gridcolor": "#E1E5ED",
         "showgrid": true,
         "tickfont": {
          "color": "#4D5663"
         },
         "title": {
          "font": {
           "color": "#4D5663"
          },
          "text": ""
         },
         "zerolinecolor": "#E1E5ED"
        },
        "yaxis": {
         "gridcolor": "#E1E5ED",
         "showgrid": true,
         "tickfont": {
          "color": "#4D5663"
         },
         "title": {
          "font": {
           "color": "#4D5663"
          },
          "text": ""
         },
         "zerolinecolor": "#E1E5ED"
        }
       }
      },
      "text/html": [
       "<div>\n",
       "        \n",
       "        \n",
       "            <div id=\"e926aea3-2db9-454d-b595-ae45e53f9686\" class=\"plotly-graph-div\" style=\"height:525px; width:100%;\"></div>\n",
       "            <script type=\"text/javascript\">\n",
       "                require([\"plotly\"], function(Plotly) {\n",
       "                    window.PLOTLYENV=window.PLOTLYENV || {};\n",
       "                    window.PLOTLYENV.BASE_URL='https://plot.ly';\n",
       "                    \n",
       "                if (document.getElementById(\"e926aea3-2db9-454d-b595-ae45e53f9686\")) {\n",
       "                    Plotly.newPlot(\n",
       "                        'e926aea3-2db9-454d-b595-ae45e53f9686',\n",
       "                        [{\"marker\": {\"color\": \"rgba(219, 64, 82, 0.6)\", \"line\": {\"color\": \"rgba(219, 64, 82, 1.0)\", \"width\": 1}}, \"name\": \"Values\", \"orientation\": \"v\", \"text\": \"\", \"type\": \"bar\", \"x\": [\"A\", \"B\", \"C\"], \"y\": [32, 43, 50]}],\n",
       "                        {\"legend\": {\"bgcolor\": \"#F5F6F9\", \"font\": {\"color\": \"#4D5663\"}}, \"paper_bgcolor\": \"#F5F6F9\", \"plot_bgcolor\": \"#F5F6F9\", \"template\": {\"data\": {\"bar\": [{\"error_x\": {\"color\": \"#2a3f5f\"}, \"error_y\": {\"color\": \"#2a3f5f\"}, \"marker\": {\"line\": {\"color\": \"#E5ECF6\", \"width\": 0.5}}, \"type\": \"bar\"}], \"barpolar\": [{\"marker\": {\"line\": {\"color\": \"#E5ECF6\", \"width\": 0.5}}, \"type\": \"barpolar\"}], \"carpet\": [{\"aaxis\": {\"endlinecolor\": \"#2a3f5f\", \"gridcolor\": \"white\", \"linecolor\": \"white\", \"minorgridcolor\": \"white\", \"startlinecolor\": \"#2a3f5f\"}, \"baxis\": {\"endlinecolor\": \"#2a3f5f\", \"gridcolor\": \"white\", \"linecolor\": \"white\", \"minorgridcolor\": \"white\", \"startlinecolor\": \"#2a3f5f\"}, \"type\": \"carpet\"}], \"choropleth\": [{\"colorbar\": {\"outlinewidth\": 0, \"ticks\": \"\"}, \"type\": \"choropleth\"}], \"contour\": [{\"colorbar\": {\"outlinewidth\": 0, \"ticks\": \"\"}, \"colorscale\": [[0.0, \"#0d0887\"], [0.1111111111111111, \"#46039f\"], [0.2222222222222222, \"#7201a8\"], [0.3333333333333333, \"#9c179e\"], [0.4444444444444444, \"#bd3786\"], [0.5555555555555556, \"#d8576b\"], [0.6666666666666666, \"#ed7953\"], [0.7777777777777778, \"#fb9f3a\"], [0.8888888888888888, \"#fdca26\"], [1.0, \"#f0f921\"]], \"type\": \"contour\"}], \"contourcarpet\": [{\"colorbar\": {\"outlinewidth\": 0, \"ticks\": \"\"}, \"type\": \"contourcarpet\"}], \"heatmap\": [{\"colorbar\": {\"outlinewidth\": 0, \"ticks\": \"\"}, \"colorscale\": [[0.0, \"#0d0887\"], [0.1111111111111111, \"#46039f\"], [0.2222222222222222, \"#7201a8\"], [0.3333333333333333, \"#9c179e\"], [0.4444444444444444, \"#bd3786\"], [0.5555555555555556, \"#d8576b\"], [0.6666666666666666, \"#ed7953\"], [0.7777777777777778, \"#fb9f3a\"], [0.8888888888888888, \"#fdca26\"], [1.0, \"#f0f921\"]], \"type\": \"heatmap\"}], \"heatmapgl\": [{\"colorbar\": {\"outlinewidth\": 0, \"ticks\": \"\"}, \"colorscale\": [[0.0, \"#0d0887\"], [0.1111111111111111, \"#46039f\"], [0.2222222222222222, \"#7201a8\"], [0.3333333333333333, \"#9c179e\"], [0.4444444444444444, \"#bd3786\"], [0.5555555555555556, \"#d8576b\"], [0.6666666666666666, \"#ed7953\"], [0.7777777777777778, \"#fb9f3a\"], [0.8888888888888888, \"#fdca26\"], [1.0, \"#f0f921\"]], \"type\": \"heatmapgl\"}], \"histogram\": [{\"marker\": {\"colorbar\": {\"outlinewidth\": 0, \"ticks\": \"\"}}, \"type\": \"histogram\"}], \"histogram2d\": [{\"colorbar\": {\"outlinewidth\": 0, \"ticks\": \"\"}, \"colorscale\": [[0.0, \"#0d0887\"], [0.1111111111111111, \"#46039f\"], [0.2222222222222222, \"#7201a8\"], [0.3333333333333333, \"#9c179e\"], [0.4444444444444444, \"#bd3786\"], [0.5555555555555556, \"#d8576b\"], [0.6666666666666666, \"#ed7953\"], [0.7777777777777778, \"#fb9f3a\"], [0.8888888888888888, \"#fdca26\"], [1.0, \"#f0f921\"]], \"type\": \"histogram2d\"}], \"histogram2dcontour\": [{\"colorbar\": {\"outlinewidth\": 0, \"ticks\": \"\"}, \"colorscale\": [[0.0, \"#0d0887\"], [0.1111111111111111, \"#46039f\"], [0.2222222222222222, \"#7201a8\"], [0.3333333333333333, \"#9c179e\"], [0.4444444444444444, \"#bd3786\"], [0.5555555555555556, \"#d8576b\"], [0.6666666666666666, \"#ed7953\"], [0.7777777777777778, \"#fb9f3a\"], [0.8888888888888888, \"#fdca26\"], [1.0, \"#f0f921\"]], \"type\": \"histogram2dcontour\"}], \"mesh3d\": [{\"colorbar\": {\"outlinewidth\": 0, \"ticks\": \"\"}, \"type\": \"mesh3d\"}], \"parcoords\": [{\"line\": {\"colorbar\": {\"outlinewidth\": 0, \"ticks\": \"\"}}, \"type\": \"parcoords\"}], \"pie\": [{\"automargin\": true, \"type\": \"pie\"}], \"scatter\": [{\"marker\": {\"colorbar\": {\"outlinewidth\": 0, \"ticks\": \"\"}}, \"type\": \"scatter\"}], \"scatter3d\": [{\"line\": {\"colorbar\": {\"outlinewidth\": 0, \"ticks\": \"\"}}, \"marker\": {\"colorbar\": {\"outlinewidth\": 0, \"ticks\": \"\"}}, \"type\": \"scatter3d\"}], \"scattercarpet\": [{\"marker\": {\"colorbar\": {\"outlinewidth\": 0, \"ticks\": \"\"}}, \"type\": \"scattercarpet\"}], \"scattergeo\": [{\"marker\": {\"colorbar\": {\"outlinewidth\": 0, \"ticks\": \"\"}}, \"type\": \"scattergeo\"}], \"scattergl\": [{\"marker\": {\"colorbar\": {\"outlinewidth\": 0, \"ticks\": \"\"}}, \"type\": \"scattergl\"}], \"scattermapbox\": [{\"marker\": {\"colorbar\": {\"outlinewidth\": 0, \"ticks\": \"\"}}, \"type\": \"scattermapbox\"}], \"scatterpolar\": [{\"marker\": {\"colorbar\": {\"outlinewidth\": 0, \"ticks\": \"\"}}, \"type\": \"scatterpolar\"}], \"scatterpolargl\": [{\"marker\": {\"colorbar\": {\"outlinewidth\": 0, \"ticks\": \"\"}}, \"type\": \"scatterpolargl\"}], \"scatterternary\": [{\"marker\": {\"colorbar\": {\"outlinewidth\": 0, \"ticks\": \"\"}}, \"type\": \"scatterternary\"}], \"surface\": [{\"colorbar\": {\"outlinewidth\": 0, \"ticks\": \"\"}, \"colorscale\": [[0.0, \"#0d0887\"], [0.1111111111111111, \"#46039f\"], [0.2222222222222222, \"#7201a8\"], [0.3333333333333333, \"#9c179e\"], [0.4444444444444444, \"#bd3786\"], [0.5555555555555556, \"#d8576b\"], [0.6666666666666666, \"#ed7953\"], [0.7777777777777778, \"#fb9f3a\"], [0.8888888888888888, \"#fdca26\"], [1.0, \"#f0f921\"]], \"type\": \"surface\"}], \"table\": [{\"cells\": {\"fill\": {\"color\": \"#EBF0F8\"}, \"line\": {\"color\": \"white\"}}, \"header\": {\"fill\": {\"color\": \"#C8D4E3\"}, \"line\": {\"color\": \"white\"}}, \"type\": \"table\"}]}, \"layout\": {\"annotationdefaults\": {\"arrowcolor\": \"#2a3f5f\", \"arrowhead\": 0, \"arrowwidth\": 1}, \"coloraxis\": {\"colorbar\": {\"outlinewidth\": 0, \"ticks\": \"\"}}, \"colorscale\": {\"diverging\": [[0, \"#8e0152\"], [0.1, \"#c51b7d\"], [0.2, \"#de77ae\"], [0.3, \"#f1b6da\"], [0.4, \"#fde0ef\"], [0.5, \"#f7f7f7\"], [0.6, \"#e6f5d0\"], [0.7, \"#b8e186\"], [0.8, \"#7fbc41\"], [0.9, \"#4d9221\"], [1, \"#276419\"]], \"sequential\": [[0.0, \"#0d0887\"], [0.1111111111111111, \"#46039f\"], [0.2222222222222222, \"#7201a8\"], [0.3333333333333333, \"#9c179e\"], [0.4444444444444444, \"#bd3786\"], [0.5555555555555556, \"#d8576b\"], [0.6666666666666666, \"#ed7953\"], [0.7777777777777778, \"#fb9f3a\"], [0.8888888888888888, \"#fdca26\"], [1.0, \"#f0f921\"]], \"sequentialminus\": [[0.0, \"#0d0887\"], [0.1111111111111111, \"#46039f\"], [0.2222222222222222, \"#7201a8\"], [0.3333333333333333, \"#9c179e\"], [0.4444444444444444, \"#bd3786\"], [0.5555555555555556, \"#d8576b\"], [0.6666666666666666, \"#ed7953\"], [0.7777777777777778, \"#fb9f3a\"], [0.8888888888888888, \"#fdca26\"], [1.0, \"#f0f921\"]]}, \"colorway\": [\"#636efa\", \"#EF553B\", \"#00cc96\", \"#ab63fa\", \"#FFA15A\", \"#19d3f3\", \"#FF6692\", \"#B6E880\", \"#FF97FF\", \"#FECB52\"], \"font\": {\"color\": \"#2a3f5f\"}, \"geo\": {\"bgcolor\": \"white\", \"lakecolor\": \"white\", \"landcolor\": \"#E5ECF6\", \"showlakes\": true, \"showland\": true, \"subunitcolor\": \"white\"}, \"hoverlabel\": {\"align\": \"left\"}, \"hovermode\": \"closest\", \"mapbox\": {\"style\": \"light\"}, \"paper_bgcolor\": \"white\", \"plot_bgcolor\": \"#E5ECF6\", \"polar\": {\"angularaxis\": {\"gridcolor\": \"white\", \"linecolor\": \"white\", \"ticks\": \"\"}, \"bgcolor\": \"#E5ECF6\", \"radialaxis\": {\"gridcolor\": \"white\", \"linecolor\": \"white\", \"ticks\": \"\"}}, \"scene\": {\"xaxis\": {\"backgroundcolor\": \"#E5ECF6\", \"gridcolor\": \"white\", \"gridwidth\": 2, \"linecolor\": \"white\", \"showbackground\": true, \"ticks\": \"\", \"zerolinecolor\": \"white\"}, \"yaxis\": {\"backgroundcolor\": \"#E5ECF6\", \"gridcolor\": \"white\", \"gridwidth\": 2, \"linecolor\": \"white\", \"showbackground\": true, \"ticks\": \"\", \"zerolinecolor\": \"white\"}, \"zaxis\": {\"backgroundcolor\": \"#E5ECF6\", \"gridcolor\": \"white\", \"gridwidth\": 2, \"linecolor\": \"white\", \"showbackground\": true, \"ticks\": \"\", \"zerolinecolor\": \"white\"}}, \"shapedefaults\": {\"line\": {\"color\": \"#2a3f5f\"}}, \"ternary\": {\"aaxis\": {\"gridcolor\": \"white\", \"linecolor\": \"white\", \"ticks\": \"\"}, \"baxis\": {\"gridcolor\": \"white\", \"linecolor\": \"white\", \"ticks\": \"\"}, \"bgcolor\": \"#E5ECF6\", \"caxis\": {\"gridcolor\": \"white\", \"linecolor\": \"white\", \"ticks\": \"\"}}, \"title\": {\"x\": 0.05}, \"xaxis\": {\"automargin\": true, \"gridcolor\": \"white\", \"linecolor\": \"white\", \"ticks\": \"\", \"title\": {\"standoff\": 15}, \"zerolinecolor\": \"white\", \"zerolinewidth\": 2}, \"yaxis\": {\"automargin\": true, \"gridcolor\": \"white\", \"linecolor\": \"white\", \"ticks\": \"\", \"title\": {\"standoff\": 15}, \"zerolinecolor\": \"white\", \"zerolinewidth\": 2}}}, \"title\": {\"font\": {\"color\": \"#4D5663\"}}, \"xaxis\": {\"gridcolor\": \"#E1E5ED\", \"showgrid\": true, \"tickfont\": {\"color\": \"#4D5663\"}, \"title\": {\"font\": {\"color\": \"#4D5663\"}, \"text\": \"\"}, \"zerolinecolor\": \"#E1E5ED\"}, \"yaxis\": {\"gridcolor\": \"#E1E5ED\", \"showgrid\": true, \"tickfont\": {\"color\": \"#4D5663\"}, \"title\": {\"font\": {\"color\": \"#4D5663\"}, \"text\": \"\"}, \"zerolinecolor\": \"#E1E5ED\"}},\n",
       "                        {\"showLink\": true, \"linkText\": \"Export to plot.ly\", \"plotlyServerURL\": \"https://plot.ly\", \"responsive\": true}\n",
       "                    ).then(function(){\n",
       "                            \n",
       "var gd = document.getElementById('e926aea3-2db9-454d-b595-ae45e53f9686');\n",
       "var x = new MutationObserver(function (mutations, observer) {{\n",
       "        var display = window.getComputedStyle(gd).display;\n",
       "        if (!display || display === 'none') {{\n",
       "            console.log([gd, 'removed!']);\n",
       "            Plotly.purge(gd);\n",
       "            observer.disconnect();\n",
       "        }}\n",
       "}});\n",
       "\n",
       "// Listen for the removal of the full notebook cells\n",
       "var notebookContainer = gd.closest('#notebook-container');\n",
       "if (notebookContainer) {{\n",
       "    x.observe(notebookContainer, {childList: true});\n",
       "}}\n",
       "\n",
       "// Listen for the clearing of the current output cell\n",
       "var outputEl = gd.closest('.output');\n",
       "if (outputEl) {{\n",
       "    x.observe(outputEl, {childList: true});\n",
       "}}\n",
       "\n",
       "                        })\n",
       "                };\n",
       "                });\n",
       "            </script>\n",
       "        </div>"
      ]
     },
     "metadata": {},
     "output_type": "display_data"
    }
   ],
   "source": [
    "df2.iplot(kind='bar',x='Category',y='Values',color='red')"
   ]
  },
  {
   "cell_type": "code",
   "execution_count": 13,
   "metadata": {},
   "outputs": [
    {
     "data": {
      "application/vnd.plotly.v1+json": {
       "config": {
        "linkText": "Export to plot.ly",
        "plotlyServerURL": "https://plot.ly",
        "showLink": true
       },
       "data": [
        {
         "marker": {
          "color": "rgba(0, 0, 0, 0.6)",
          "line": {
           "color": "rgba(0, 0, 0, 1.0)",
           "width": 1
          }
         },
         "name": "None",
         "orientation": "v",
         "text": "",
         "type": "bar",
         "x": [
          "A",
          "B",
          "C",
          "D"
         ],
         "y": [
          100,
          100,
          100,
          100
         ]
        }
       ],
       "layout": {
        "legend": {
         "bgcolor": "#F5F6F9",
         "font": {
          "color": "#4D5663"
         }
        },
        "paper_bgcolor": "#F5F6F9",
        "plot_bgcolor": "#F5F6F9",
        "template": {
         "data": {
          "bar": [
           {
            "error_x": {
             "color": "#2a3f5f"
            },
            "error_y": {
             "color": "#2a3f5f"
            },
            "marker": {
             "line": {
              "color": "#E5ECF6",
              "width": 0.5
             }
            },
            "type": "bar"
           }
          ],
          "barpolar": [
           {
            "marker": {
             "line": {
              "color": "#E5ECF6",
              "width": 0.5
             }
            },
            "type": "barpolar"
           }
          ],
          "carpet": [
           {
            "aaxis": {
             "endlinecolor": "#2a3f5f",
             "gridcolor": "white",
             "linecolor": "white",
             "minorgridcolor": "white",
             "startlinecolor": "#2a3f5f"
            },
            "baxis": {
             "endlinecolor": "#2a3f5f",
             "gridcolor": "white",
             "linecolor": "white",
             "minorgridcolor": "white",
             "startlinecolor": "#2a3f5f"
            },
            "type": "carpet"
           }
          ],
          "choropleth": [
           {
            "colorbar": {
             "outlinewidth": 0,
             "ticks": ""
            },
            "type": "choropleth"
           }
          ],
          "contour": [
           {
            "colorbar": {
             "outlinewidth": 0,
             "ticks": ""
            },
            "colorscale": [
             [
              0,
              "#0d0887"
             ],
             [
              0.1111111111111111,
              "#46039f"
             ],
             [
              0.2222222222222222,
              "#7201a8"
             ],
             [
              0.3333333333333333,
              "#9c179e"
             ],
             [
              0.4444444444444444,
              "#bd3786"
             ],
             [
              0.5555555555555556,
              "#d8576b"
             ],
             [
              0.6666666666666666,
              "#ed7953"
             ],
             [
              0.7777777777777778,
              "#fb9f3a"
             ],
             [
              0.8888888888888888,
              "#fdca26"
             ],
             [
              1,
              "#f0f921"
             ]
            ],
            "type": "contour"
           }
          ],
          "contourcarpet": [
           {
            "colorbar": {
             "outlinewidth": 0,
             "ticks": ""
            },
            "type": "contourcarpet"
           }
          ],
          "heatmap": [
           {
            "colorbar": {
             "outlinewidth": 0,
             "ticks": ""
            },
            "colorscale": [
             [
              0,
              "#0d0887"
             ],
             [
              0.1111111111111111,
              "#46039f"
             ],
             [
              0.2222222222222222,
              "#7201a8"
             ],
             [
              0.3333333333333333,
              "#9c179e"
             ],
             [
              0.4444444444444444,
              "#bd3786"
             ],
             [
              0.5555555555555556,
              "#d8576b"
             ],
             [
              0.6666666666666666,
              "#ed7953"
             ],
             [
              0.7777777777777778,
              "#fb9f3a"
             ],
             [
              0.8888888888888888,
              "#fdca26"
             ],
             [
              1,
              "#f0f921"
             ]
            ],
            "type": "heatmap"
           }
          ],
          "heatmapgl": [
           {
            "colorbar": {
             "outlinewidth": 0,
             "ticks": ""
            },
            "colorscale": [
             [
              0,
              "#0d0887"
             ],
             [
              0.1111111111111111,
              "#46039f"
             ],
             [
              0.2222222222222222,
              "#7201a8"
             ],
             [
              0.3333333333333333,
              "#9c179e"
             ],
             [
              0.4444444444444444,
              "#bd3786"
             ],
             [
              0.5555555555555556,
              "#d8576b"
             ],
             [
              0.6666666666666666,
              "#ed7953"
             ],
             [
              0.7777777777777778,
              "#fb9f3a"
             ],
             [
              0.8888888888888888,
              "#fdca26"
             ],
             [
              1,
              "#f0f921"
             ]
            ],
            "type": "heatmapgl"
           }
          ],
          "histogram": [
           {
            "marker": {
             "colorbar": {
              "outlinewidth": 0,
              "ticks": ""
             }
            },
            "type": "histogram"
           }
          ],
          "histogram2d": [
           {
            "colorbar": {
             "outlinewidth": 0,
             "ticks": ""
            },
            "colorscale": [
             [
              0,
              "#0d0887"
             ],
             [
              0.1111111111111111,
              "#46039f"
             ],
             [
              0.2222222222222222,
              "#7201a8"
             ],
             [
              0.3333333333333333,
              "#9c179e"
             ],
             [
              0.4444444444444444,
              "#bd3786"
             ],
             [
              0.5555555555555556,
              "#d8576b"
             ],
             [
              0.6666666666666666,
              "#ed7953"
             ],
             [
              0.7777777777777778,
              "#fb9f3a"
             ],
             [
              0.8888888888888888,
              "#fdca26"
             ],
             [
              1,
              "#f0f921"
             ]
            ],
            "type": "histogram2d"
           }
          ],
          "histogram2dcontour": [
           {
            "colorbar": {
             "outlinewidth": 0,
             "ticks": ""
            },
            "colorscale": [
             [
              0,
              "#0d0887"
             ],
             [
              0.1111111111111111,
              "#46039f"
             ],
             [
              0.2222222222222222,
              "#7201a8"
             ],
             [
              0.3333333333333333,
              "#9c179e"
             ],
             [
              0.4444444444444444,
              "#bd3786"
             ],
             [
              0.5555555555555556,
              "#d8576b"
             ],
             [
              0.6666666666666666,
              "#ed7953"
             ],
             [
              0.7777777777777778,
              "#fb9f3a"
             ],
             [
              0.8888888888888888,
              "#fdca26"
             ],
             [
              1,
              "#f0f921"
             ]
            ],
            "type": "histogram2dcontour"
           }
          ],
          "mesh3d": [
           {
            "colorbar": {
             "outlinewidth": 0,
             "ticks": ""
            },
            "type": "mesh3d"
           }
          ],
          "parcoords": [
           {
            "line": {
             "colorbar": {
              "outlinewidth": 0,
              "ticks": ""
             }
            },
            "type": "parcoords"
           }
          ],
          "pie": [
           {
            "automargin": true,
            "type": "pie"
           }
          ],
          "scatter": [
           {
            "marker": {
             "colorbar": {
              "outlinewidth": 0,
              "ticks": ""
             }
            },
            "type": "scatter"
           }
          ],
          "scatter3d": [
           {
            "line": {
             "colorbar": {
              "outlinewidth": 0,
              "ticks": ""
             }
            },
            "marker": {
             "colorbar": {
              "outlinewidth": 0,
              "ticks": ""
             }
            },
            "type": "scatter3d"
           }
          ],
          "scattercarpet": [
           {
            "marker": {
             "colorbar": {
              "outlinewidth": 0,
              "ticks": ""
             }
            },
            "type": "scattercarpet"
           }
          ],
          "scattergeo": [
           {
            "marker": {
             "colorbar": {
              "outlinewidth": 0,
              "ticks": ""
             }
            },
            "type": "scattergeo"
           }
          ],
          "scattergl": [
           {
            "marker": {
             "colorbar": {
              "outlinewidth": 0,
              "ticks": ""
             }
            },
            "type": "scattergl"
           }
          ],
          "scattermapbox": [
           {
            "marker": {
             "colorbar": {
              "outlinewidth": 0,
              "ticks": ""
             }
            },
            "type": "scattermapbox"
           }
          ],
          "scatterpolar": [
           {
            "marker": {
             "colorbar": {
              "outlinewidth": 0,
              "ticks": ""
             }
            },
            "type": "scatterpolar"
           }
          ],
          "scatterpolargl": [
           {
            "marker": {
             "colorbar": {
              "outlinewidth": 0,
              "ticks": ""
             }
            },
            "type": "scatterpolargl"
           }
          ],
          "scatterternary": [
           {
            "marker": {
             "colorbar": {
              "outlinewidth": 0,
              "ticks": ""
             }
            },
            "type": "scatterternary"
           }
          ],
          "surface": [
           {
            "colorbar": {
             "outlinewidth": 0,
             "ticks": ""
            },
            "colorscale": [
             [
              0,
              "#0d0887"
             ],
             [
              0.1111111111111111,
              "#46039f"
             ],
             [
              0.2222222222222222,
              "#7201a8"
             ],
             [
              0.3333333333333333,
              "#9c179e"
             ],
             [
              0.4444444444444444,
              "#bd3786"
             ],
             [
              0.5555555555555556,
              "#d8576b"
             ],
             [
              0.6666666666666666,
              "#ed7953"
             ],
             [
              0.7777777777777778,
              "#fb9f3a"
             ],
             [
              0.8888888888888888,
              "#fdca26"
             ],
             [
              1,
              "#f0f921"
             ]
            ],
            "type": "surface"
           }
          ],
          "table": [
           {
            "cells": {
             "fill": {
              "color": "#EBF0F8"
             },
             "line": {
              "color": "white"
             }
            },
            "header": {
             "fill": {
              "color": "#C8D4E3"
             },
             "line": {
              "color": "white"
             }
            },
            "type": "table"
           }
          ]
         },
         "layout": {
          "annotationdefaults": {
           "arrowcolor": "#2a3f5f",
           "arrowhead": 0,
           "arrowwidth": 1
          },
          "coloraxis": {
           "colorbar": {
            "outlinewidth": 0,
            "ticks": ""
           }
          },
          "colorscale": {
           "diverging": [
            [
             0,
             "#8e0152"
            ],
            [
             0.1,
             "#c51b7d"
            ],
            [
             0.2,
             "#de77ae"
            ],
            [
             0.3,
             "#f1b6da"
            ],
            [
             0.4,
             "#fde0ef"
            ],
            [
             0.5,
             "#f7f7f7"
            ],
            [
             0.6,
             "#e6f5d0"
            ],
            [
             0.7,
             "#b8e186"
            ],
            [
             0.8,
             "#7fbc41"
            ],
            [
             0.9,
             "#4d9221"
            ],
            [
             1,
             "#276419"
            ]
           ],
           "sequential": [
            [
             0,
             "#0d0887"
            ],
            [
             0.1111111111111111,
             "#46039f"
            ],
            [
             0.2222222222222222,
             "#7201a8"
            ],
            [
             0.3333333333333333,
             "#9c179e"
            ],
            [
             0.4444444444444444,
             "#bd3786"
            ],
            [
             0.5555555555555556,
             "#d8576b"
            ],
            [
             0.6666666666666666,
             "#ed7953"
            ],
            [
             0.7777777777777778,
             "#fb9f3a"
            ],
            [
             0.8888888888888888,
             "#fdca26"
            ],
            [
             1,
             "#f0f921"
            ]
           ],
           "sequentialminus": [
            [
             0,
             "#0d0887"
            ],
            [
             0.1111111111111111,
             "#46039f"
            ],
            [
             0.2222222222222222,
             "#7201a8"
            ],
            [
             0.3333333333333333,
             "#9c179e"
            ],
            [
             0.4444444444444444,
             "#bd3786"
            ],
            [
             0.5555555555555556,
             "#d8576b"
            ],
            [
             0.6666666666666666,
             "#ed7953"
            ],
            [
             0.7777777777777778,
             "#fb9f3a"
            ],
            [
             0.8888888888888888,
             "#fdca26"
            ],
            [
             1,
             "#f0f921"
            ]
           ]
          },
          "colorway": [
           "#636efa",
           "#EF553B",
           "#00cc96",
           "#ab63fa",
           "#FFA15A",
           "#19d3f3",
           "#FF6692",
           "#B6E880",
           "#FF97FF",
           "#FECB52"
          ],
          "font": {
           "color": "#2a3f5f"
          },
          "geo": {
           "bgcolor": "white",
           "lakecolor": "white",
           "landcolor": "#E5ECF6",
           "showlakes": true,
           "showland": true,
           "subunitcolor": "white"
          },
          "hoverlabel": {
           "align": "left"
          },
          "hovermode": "closest",
          "mapbox": {
           "style": "light"
          },
          "paper_bgcolor": "white",
          "plot_bgcolor": "#E5ECF6",
          "polar": {
           "angularaxis": {
            "gridcolor": "white",
            "linecolor": "white",
            "ticks": ""
           },
           "bgcolor": "#E5ECF6",
           "radialaxis": {
            "gridcolor": "white",
            "linecolor": "white",
            "ticks": ""
           }
          },
          "scene": {
           "xaxis": {
            "backgroundcolor": "#E5ECF6",
            "gridcolor": "white",
            "gridwidth": 2,
            "linecolor": "white",
            "showbackground": true,
            "ticks": "",
            "zerolinecolor": "white"
           },
           "yaxis": {
            "backgroundcolor": "#E5ECF6",
            "gridcolor": "white",
            "gridwidth": 2,
            "linecolor": "white",
            "showbackground": true,
            "ticks": "",
            "zerolinecolor": "white"
           },
           "zaxis": {
            "backgroundcolor": "#E5ECF6",
            "gridcolor": "white",
            "gridwidth": 2,
            "linecolor": "white",
            "showbackground": true,
            "ticks": "",
            "zerolinecolor": "white"
           }
          },
          "shapedefaults": {
           "line": {
            "color": "#2a3f5f"
           }
          },
          "ternary": {
           "aaxis": {
            "gridcolor": "white",
            "linecolor": "white",
            "ticks": ""
           },
           "baxis": {
            "gridcolor": "white",
            "linecolor": "white",
            "ticks": ""
           },
           "bgcolor": "#E5ECF6",
           "caxis": {
            "gridcolor": "white",
            "linecolor": "white",
            "ticks": ""
           }
          },
          "title": {
           "x": 0.05
          },
          "xaxis": {
           "automargin": true,
           "gridcolor": "white",
           "linecolor": "white",
           "ticks": "",
           "title": {
            "standoff": 15
           },
           "zerolinecolor": "white",
           "zerolinewidth": 2
          },
          "yaxis": {
           "automargin": true,
           "gridcolor": "white",
           "linecolor": "white",
           "ticks": "",
           "title": {
            "standoff": 15
           },
           "zerolinecolor": "white",
           "zerolinewidth": 2
          }
         }
        },
        "title": {
         "font": {
          "color": "#4D5663"
         }
        },
        "xaxis": {
         "gridcolor": "#E1E5ED",
         "showgrid": true,
         "tickfont": {
          "color": "#4D5663"
         },
         "title": {
          "font": {
           "color": "#4D5663"
          },
          "text": ""
         },
         "zerolinecolor": "#E1E5ED"
        },
        "yaxis": {
         "gridcolor": "#E1E5ED",
         "showgrid": true,
         "tickfont": {
          "color": "#4D5663"
         },
         "title": {
          "font": {
           "color": "#4D5663"
          },
          "text": ""
         },
         "zerolinecolor": "#E1E5ED"
        }
       }
      },
      "text/html": [
       "<div>\n",
       "        \n",
       "        \n",
       "            <div id=\"44c9d46b-69b8-4950-9217-2009cc413079\" class=\"plotly-graph-div\" style=\"height:525px; width:100%;\"></div>\n",
       "            <script type=\"text/javascript\">\n",
       "                require([\"plotly\"], function(Plotly) {\n",
       "                    window.PLOTLYENV=window.PLOTLYENV || {};\n",
       "                    window.PLOTLYENV.BASE_URL='https://plot.ly';\n",
       "                    \n",
       "                if (document.getElementById(\"44c9d46b-69b8-4950-9217-2009cc413079\")) {\n",
       "                    Plotly.newPlot(\n",
       "                        '44c9d46b-69b8-4950-9217-2009cc413079',\n",
       "                        [{\"marker\": {\"color\": \"rgba(0, 0, 0, 0.6)\", \"line\": {\"color\": \"rgba(0, 0, 0, 1.0)\", \"width\": 1}}, \"name\": \"None\", \"orientation\": \"v\", \"text\": \"\", \"type\": \"bar\", \"x\": [\"A\", \"B\", \"C\", \"D\"], \"y\": [100, 100, 100, 100]}],\n",
       "                        {\"legend\": {\"bgcolor\": \"#F5F6F9\", \"font\": {\"color\": \"#4D5663\"}}, \"paper_bgcolor\": \"#F5F6F9\", \"plot_bgcolor\": \"#F5F6F9\", \"template\": {\"data\": {\"bar\": [{\"error_x\": {\"color\": \"#2a3f5f\"}, \"error_y\": {\"color\": \"#2a3f5f\"}, \"marker\": {\"line\": {\"color\": \"#E5ECF6\", \"width\": 0.5}}, \"type\": \"bar\"}], \"barpolar\": [{\"marker\": {\"line\": {\"color\": \"#E5ECF6\", \"width\": 0.5}}, \"type\": \"barpolar\"}], \"carpet\": [{\"aaxis\": {\"endlinecolor\": \"#2a3f5f\", \"gridcolor\": \"white\", \"linecolor\": \"white\", \"minorgridcolor\": \"white\", \"startlinecolor\": \"#2a3f5f\"}, \"baxis\": {\"endlinecolor\": \"#2a3f5f\", \"gridcolor\": \"white\", \"linecolor\": \"white\", \"minorgridcolor\": \"white\", \"startlinecolor\": \"#2a3f5f\"}, \"type\": \"carpet\"}], \"choropleth\": [{\"colorbar\": {\"outlinewidth\": 0, \"ticks\": \"\"}, \"type\": \"choropleth\"}], \"contour\": [{\"colorbar\": {\"outlinewidth\": 0, \"ticks\": \"\"}, \"colorscale\": [[0.0, \"#0d0887\"], [0.1111111111111111, \"#46039f\"], [0.2222222222222222, \"#7201a8\"], [0.3333333333333333, \"#9c179e\"], [0.4444444444444444, \"#bd3786\"], [0.5555555555555556, \"#d8576b\"], [0.6666666666666666, \"#ed7953\"], [0.7777777777777778, \"#fb9f3a\"], [0.8888888888888888, \"#fdca26\"], [1.0, \"#f0f921\"]], \"type\": \"contour\"}], \"contourcarpet\": [{\"colorbar\": {\"outlinewidth\": 0, \"ticks\": \"\"}, \"type\": \"contourcarpet\"}], \"heatmap\": [{\"colorbar\": {\"outlinewidth\": 0, \"ticks\": \"\"}, \"colorscale\": [[0.0, \"#0d0887\"], [0.1111111111111111, \"#46039f\"], [0.2222222222222222, \"#7201a8\"], [0.3333333333333333, \"#9c179e\"], [0.4444444444444444, \"#bd3786\"], [0.5555555555555556, \"#d8576b\"], [0.6666666666666666, \"#ed7953\"], [0.7777777777777778, \"#fb9f3a\"], [0.8888888888888888, \"#fdca26\"], [1.0, \"#f0f921\"]], \"type\": \"heatmap\"}], \"heatmapgl\": [{\"colorbar\": {\"outlinewidth\": 0, \"ticks\": \"\"}, \"colorscale\": [[0.0, \"#0d0887\"], [0.1111111111111111, \"#46039f\"], [0.2222222222222222, \"#7201a8\"], [0.3333333333333333, \"#9c179e\"], [0.4444444444444444, \"#bd3786\"], [0.5555555555555556, \"#d8576b\"], [0.6666666666666666, \"#ed7953\"], [0.7777777777777778, \"#fb9f3a\"], [0.8888888888888888, \"#fdca26\"], [1.0, \"#f0f921\"]], \"type\": \"heatmapgl\"}], \"histogram\": [{\"marker\": {\"colorbar\": {\"outlinewidth\": 0, \"ticks\": \"\"}}, \"type\": \"histogram\"}], \"histogram2d\": [{\"colorbar\": {\"outlinewidth\": 0, \"ticks\": \"\"}, \"colorscale\": [[0.0, \"#0d0887\"], [0.1111111111111111, \"#46039f\"], [0.2222222222222222, \"#7201a8\"], [0.3333333333333333, \"#9c179e\"], [0.4444444444444444, \"#bd3786\"], [0.5555555555555556, \"#d8576b\"], [0.6666666666666666, \"#ed7953\"], [0.7777777777777778, \"#fb9f3a\"], [0.8888888888888888, \"#fdca26\"], [1.0, \"#f0f921\"]], \"type\": \"histogram2d\"}], \"histogram2dcontour\": [{\"colorbar\": {\"outlinewidth\": 0, \"ticks\": \"\"}, \"colorscale\": [[0.0, \"#0d0887\"], [0.1111111111111111, \"#46039f\"], [0.2222222222222222, \"#7201a8\"], [0.3333333333333333, \"#9c179e\"], [0.4444444444444444, \"#bd3786\"], [0.5555555555555556, \"#d8576b\"], [0.6666666666666666, \"#ed7953\"], [0.7777777777777778, \"#fb9f3a\"], [0.8888888888888888, \"#fdca26\"], [1.0, \"#f0f921\"]], \"type\": \"histogram2dcontour\"}], \"mesh3d\": [{\"colorbar\": {\"outlinewidth\": 0, \"ticks\": \"\"}, \"type\": \"mesh3d\"}], \"parcoords\": [{\"line\": {\"colorbar\": {\"outlinewidth\": 0, \"ticks\": \"\"}}, \"type\": \"parcoords\"}], \"pie\": [{\"automargin\": true, \"type\": \"pie\"}], \"scatter\": [{\"marker\": {\"colorbar\": {\"outlinewidth\": 0, \"ticks\": \"\"}}, \"type\": \"scatter\"}], \"scatter3d\": [{\"line\": {\"colorbar\": {\"outlinewidth\": 0, \"ticks\": \"\"}}, \"marker\": {\"colorbar\": {\"outlinewidth\": 0, \"ticks\": \"\"}}, \"type\": \"scatter3d\"}], \"scattercarpet\": [{\"marker\": {\"colorbar\": {\"outlinewidth\": 0, \"ticks\": \"\"}}, \"type\": \"scattercarpet\"}], \"scattergeo\": [{\"marker\": {\"colorbar\": {\"outlinewidth\": 0, \"ticks\": \"\"}}, \"type\": \"scattergeo\"}], \"scattergl\": [{\"marker\": {\"colorbar\": {\"outlinewidth\": 0, \"ticks\": \"\"}}, \"type\": \"scattergl\"}], \"scattermapbox\": [{\"marker\": {\"colorbar\": {\"outlinewidth\": 0, \"ticks\": \"\"}}, \"type\": \"scattermapbox\"}], \"scatterpolar\": [{\"marker\": {\"colorbar\": {\"outlinewidth\": 0, \"ticks\": \"\"}}, \"type\": \"scatterpolar\"}], \"scatterpolargl\": [{\"marker\": {\"colorbar\": {\"outlinewidth\": 0, \"ticks\": \"\"}}, \"type\": \"scatterpolargl\"}], \"scatterternary\": [{\"marker\": {\"colorbar\": {\"outlinewidth\": 0, \"ticks\": \"\"}}, \"type\": \"scatterternary\"}], \"surface\": [{\"colorbar\": {\"outlinewidth\": 0, \"ticks\": \"\"}, \"colorscale\": [[0.0, \"#0d0887\"], [0.1111111111111111, \"#46039f\"], [0.2222222222222222, \"#7201a8\"], [0.3333333333333333, \"#9c179e\"], [0.4444444444444444, \"#bd3786\"], [0.5555555555555556, \"#d8576b\"], [0.6666666666666666, \"#ed7953\"], [0.7777777777777778, \"#fb9f3a\"], [0.8888888888888888, \"#fdca26\"], [1.0, \"#f0f921\"]], \"type\": \"surface\"}], \"table\": [{\"cells\": {\"fill\": {\"color\": \"#EBF0F8\"}, \"line\": {\"color\": \"white\"}}, \"header\": {\"fill\": {\"color\": \"#C8D4E3\"}, \"line\": {\"color\": \"white\"}}, \"type\": \"table\"}]}, \"layout\": {\"annotationdefaults\": {\"arrowcolor\": \"#2a3f5f\", \"arrowhead\": 0, \"arrowwidth\": 1}, \"coloraxis\": {\"colorbar\": {\"outlinewidth\": 0, \"ticks\": \"\"}}, \"colorscale\": {\"diverging\": [[0, \"#8e0152\"], [0.1, \"#c51b7d\"], [0.2, \"#de77ae\"], [0.3, \"#f1b6da\"], [0.4, \"#fde0ef\"], [0.5, \"#f7f7f7\"], [0.6, \"#e6f5d0\"], [0.7, \"#b8e186\"], [0.8, \"#7fbc41\"], [0.9, \"#4d9221\"], [1, \"#276419\"]], \"sequential\": [[0.0, \"#0d0887\"], [0.1111111111111111, \"#46039f\"], [0.2222222222222222, \"#7201a8\"], [0.3333333333333333, \"#9c179e\"], [0.4444444444444444, \"#bd3786\"], [0.5555555555555556, \"#d8576b\"], [0.6666666666666666, \"#ed7953\"], [0.7777777777777778, \"#fb9f3a\"], [0.8888888888888888, \"#fdca26\"], [1.0, \"#f0f921\"]], \"sequentialminus\": [[0.0, \"#0d0887\"], [0.1111111111111111, \"#46039f\"], [0.2222222222222222, \"#7201a8\"], [0.3333333333333333, \"#9c179e\"], [0.4444444444444444, \"#bd3786\"], [0.5555555555555556, \"#d8576b\"], [0.6666666666666666, \"#ed7953\"], [0.7777777777777778, \"#fb9f3a\"], [0.8888888888888888, \"#fdca26\"], [1.0, \"#f0f921\"]]}, \"colorway\": [\"#636efa\", \"#EF553B\", \"#00cc96\", \"#ab63fa\", \"#FFA15A\", \"#19d3f3\", \"#FF6692\", \"#B6E880\", \"#FF97FF\", \"#FECB52\"], \"font\": {\"color\": \"#2a3f5f\"}, \"geo\": {\"bgcolor\": \"white\", \"lakecolor\": \"white\", \"landcolor\": \"#E5ECF6\", \"showlakes\": true, \"showland\": true, \"subunitcolor\": \"white\"}, \"hoverlabel\": {\"align\": \"left\"}, \"hovermode\": \"closest\", \"mapbox\": {\"style\": \"light\"}, \"paper_bgcolor\": \"white\", \"plot_bgcolor\": \"#E5ECF6\", \"polar\": {\"angularaxis\": {\"gridcolor\": \"white\", \"linecolor\": \"white\", \"ticks\": \"\"}, \"bgcolor\": \"#E5ECF6\", \"radialaxis\": {\"gridcolor\": \"white\", \"linecolor\": \"white\", \"ticks\": \"\"}}, \"scene\": {\"xaxis\": {\"backgroundcolor\": \"#E5ECF6\", \"gridcolor\": \"white\", \"gridwidth\": 2, \"linecolor\": \"white\", \"showbackground\": true, \"ticks\": \"\", \"zerolinecolor\": \"white\"}, \"yaxis\": {\"backgroundcolor\": \"#E5ECF6\", \"gridcolor\": \"white\", \"gridwidth\": 2, \"linecolor\": \"white\", \"showbackground\": true, \"ticks\": \"\", \"zerolinecolor\": \"white\"}, \"zaxis\": {\"backgroundcolor\": \"#E5ECF6\", \"gridcolor\": \"white\", \"gridwidth\": 2, \"linecolor\": \"white\", \"showbackground\": true, \"ticks\": \"\", \"zerolinecolor\": \"white\"}}, \"shapedefaults\": {\"line\": {\"color\": \"#2a3f5f\"}}, \"ternary\": {\"aaxis\": {\"gridcolor\": \"white\", \"linecolor\": \"white\", \"ticks\": \"\"}, \"baxis\": {\"gridcolor\": \"white\", \"linecolor\": \"white\", \"ticks\": \"\"}, \"bgcolor\": \"#E5ECF6\", \"caxis\": {\"gridcolor\": \"white\", \"linecolor\": \"white\", \"ticks\": \"\"}}, \"title\": {\"x\": 0.05}, \"xaxis\": {\"automargin\": true, \"gridcolor\": \"white\", \"linecolor\": \"white\", \"ticks\": \"\", \"title\": {\"standoff\": 15}, \"zerolinecolor\": \"white\", \"zerolinewidth\": 2}, \"yaxis\": {\"automargin\": true, \"gridcolor\": \"white\", \"linecolor\": \"white\", \"ticks\": \"\", \"title\": {\"standoff\": 15}, \"zerolinecolor\": \"white\", \"zerolinewidth\": 2}}}, \"title\": {\"font\": {\"color\": \"#4D5663\"}}, \"xaxis\": {\"gridcolor\": \"#E1E5ED\", \"showgrid\": true, \"tickfont\": {\"color\": \"#4D5663\"}, \"title\": {\"font\": {\"color\": \"#4D5663\"}, \"text\": \"\"}, \"zerolinecolor\": \"#E1E5ED\"}, \"yaxis\": {\"gridcolor\": \"#E1E5ED\", \"showgrid\": true, \"tickfont\": {\"color\": \"#4D5663\"}, \"title\": {\"font\": {\"color\": \"#4D5663\"}, \"text\": \"\"}, \"zerolinecolor\": \"#E1E5ED\"}},\n",
       "                        {\"showLink\": true, \"linkText\": \"Export to plot.ly\", \"plotlyServerURL\": \"https://plot.ly\", \"responsive\": true}\n",
       "                    ).then(function(){\n",
       "                            \n",
       "var gd = document.getElementById('44c9d46b-69b8-4950-9217-2009cc413079');\n",
       "var x = new MutationObserver(function (mutations, observer) {{\n",
       "        var display = window.getComputedStyle(gd).display;\n",
       "        if (!display || display === 'none') {{\n",
       "            console.log([gd, 'removed!']);\n",
       "            Plotly.purge(gd);\n",
       "            observer.disconnect();\n",
       "        }}\n",
       "}});\n",
       "\n",
       "// Listen for the removal of the full notebook cells\n",
       "var notebookContainer = gd.closest('#notebook-container');\n",
       "if (notebookContainer) {{\n",
       "    x.observe(notebookContainer, {childList: true});\n",
       "}}\n",
       "\n",
       "// Listen for the clearing of the current output cell\n",
       "var outputEl = gd.closest('.output');\n",
       "if (outputEl) {{\n",
       "    x.observe(outputEl, {childList: true});\n",
       "}}\n",
       "\n",
       "                        })\n",
       "                };\n",
       "                });\n",
       "            </script>\n",
       "        </div>"
      ]
     },
     "metadata": {},
     "output_type": "display_data"
    }
   ],
   "source": [
    "df.count().iplot(kind='bar',color='black')"
   ]
  },
  {
   "cell_type": "markdown",
   "metadata": {},
   "source": [
    "## Boxplots"
   ]
  },
  {
   "cell_type": "code",
   "execution_count": 14,
   "metadata": {},
   "outputs": [
    {
     "data": {
      "application/vnd.plotly.v1+json": {
       "config": {
        "linkText": "Export to plot.ly",
        "plotlyServerURL": "https://plot.ly",
        "showLink": true
       },
       "data": [
        {
         "boxpoints": false,
         "line": {
          "width": 1.3
         },
         "marker": {
          "color": "rgba(255, 153, 51, 1.0)"
         },
         "name": "A",
         "orientation": "v",
         "type": "box",
         "y": [
          -0.29643740889399095,
          0.32868435515730043,
          1.7461416496086142,
          -0.24004567607313979,
          0.13879213518446365,
          0.5535216967030455,
          -0.5654788153613118,
          1.4745095081896062,
          0.24599950755732192,
          -1.2056020605811952,
          1.1064580688514372,
          1.2560715526922155,
          0.9370673363805552,
          -0.3035228949304509,
          0.8173073261565816,
          -1.049133286502186,
          0.8206309550571658,
          0.4257464010855425,
          -0.204969188764631,
          -0.49515630325678384,
          -0.46557478153402304,
          -0.7100122999382016,
          0.5038367695493804,
          0.6095718122464268,
          -0.9665021599071422,
          -1.941392438441163,
          -0.4410063758400523,
          0.03245090999579194,
          0.1343061826488072,
          0.5107365179921368,
          -0.3148389852787225,
          -0.3475463838805427,
          0.38918681250649434,
          -0.5878571849206334,
          0.18237827278071525,
          0.8139831276610341,
          -0.3044351308280057,
          0.7856674253493616,
          0.3511107651142644,
          0.4991054778015313,
          1.8905790693628632,
          -0.36064056808190237,
          -0.20806458226915128,
          1.1251468281191688,
          -2.126253635634463,
          -0.6012651762207218,
          -0.4332096922576356,
          0.5936193398160595,
          -1.8610576096155729,
          -0.6848069423978584,
          -0.1741312896553701,
          -0.036689001873205666,
          -0.17997951544796514,
          1.0197180801187515,
          -1.066533298890777,
          -0.9114780950624539,
          -0.11932825824118615,
          1.402067892564673,
          -0.086837270558958,
          0.463224533101115,
          1.1851504359883962,
          -0.974581228669598,
          0.5172927499818978,
          -0.019078919866214714,
          1.6757029533305858,
          -0.7739305807934194,
          0.49975487039061167,
          2.431023967741468,
          0.5156404761815808,
          -2.2967795329006546,
          -1.0552189283244984,
          0.12688409298548323,
          -1.677072780155331,
          -0.8594495959629678,
          -0.4444344655352142,
          -1.2167733442412334,
          0.38604138505028,
          1.0138946898474628,
          0.14697818534804966,
          1.9761709653128225,
          0.8272009540730214,
          -0.3939697404040883,
          0.6354964151979149,
          -0.4806868089713751,
          0.8576277591041233,
          -0.5114800988431405,
          -0.5184321876913844,
          0.8927289941236105,
          -0.13572637194054665,
          0.9993000128725914,
          0.9321656254505977,
          0.1462909328841926,
          1.318253885597681,
          -1.2340506320852325,
          0.5166974940232978,
          -0.00888755926616613,
          0.2571741481342909,
          0.6922229079065875,
          0.6538799136667284,
          0.9128588038964904
         ]
        },
        {
         "boxpoints": false,
         "line": {
          "width": 1.3
         },
         "marker": {
          "color": "rgba(55, 128, 191, 1.0)"
         },
         "name": "B",
         "orientation": "v",
         "type": "box",
         "y": [
          0.07900847452249811,
          -0.9122677191922264,
          0.3112574668049616,
          1.7728983810125845,
          -0.46509577776202565,
          -0.8500736939519596,
          0.09604825979531327,
          -1.6741323641529193,
          0.3654389760932509,
          -0.396636210544783,
          -0.39935846585434787,
          -2.072144060438098,
          -0.9592798926978057,
          1.009429267180827,
          1.4347810916763082,
          1.2238156048083508,
          -0.2539894869632165,
          -0.03462226412381225,
          1.5213228468514988,
          -0.16020138184502902,
          1.1012259404213742,
          -1.7925797528858496,
          1.3515348090377433,
          -1.2785375474729208,
          -0.9450429616882644,
          -0.3565619797841725,
          -0.526895547025469,
          -0.29703925347581567,
          0.470679346499512,
          -0.21965139430373848,
          -0.277572241034337,
          1.6757739473793847,
          -0.6844213119094037,
          2.5467128090186346,
          0.3092940280081921,
          0.36706217813011577,
          0.3620155081208797,
          -1.0693211361043422,
          -0.32058523850796067,
          0.34172741616987756,
          -1.013975596657667,
          -0.330584333129899,
          2.354552575307552,
          0.2222715205421336,
          -0.24491641424236923,
          0.08652389492069956,
          -0.6661046551013905,
          -0.5684243647771562,
          -0.16815681870593208,
          0.5451732559293533,
          -0.7003127063854502,
          -2.0991552130751163,
          -0.8805818658707721,
          1.1181512595690717,
          -1.8236861113099427,
          -1.109326462564337,
          0.8850844170534031,
          -0.15140124010444625,
          2.089817025595409,
          -1.1412646577928676,
          0.5130786272975839,
          0.802315702090518,
          0.8227263767426035,
          -0.4211094361933707,
          0.3188905388362875,
          -0.27597929718394765,
          1.4894104428242139,
          1.0154933954044825,
          0.9032711654013391,
          1.4822651315059352,
          0.5187114432149854,
          1.7355646462196677,
          -1.0622908954228063,
          -0.41376365210767657,
          -0.4752312118552798,
          0.25271611250132825,
          0.11808813566547226,
          -1.4190087109867906,
          -1.099413224707759,
          -0.8227951494886859,
          1.0404839507698609,
          -0.3836115958841534,
          -0.36668922503310136,
          -0.9641263348806826,
          -1.4158392346294928,
          -0.5832744046678073,
          -0.2507105982209403,
          -0.519634303248391,
          1.3501586378007053,
          0.3645687598665697,
          -2.2309271526923697,
          -2.2570879544856224,
          0.681349780667486,
          0.005462937664764124,
          0.08378619913036302,
          -0.18127299340078432,
          0.5088984930410607,
          -0.12613393601230247,
          -1.067492178711451,
          -0.5060295021572043
         ]
        },
        {
         "boxpoints": false,
         "line": {
          "width": 1.3
         },
         "marker": {
          "color": "rgba(50, 171, 96, 1.0)"
         },
         "name": "C",
         "orientation": "v",
         "type": "box",
         "y": [
          -2.082536450037159,
          0.4530885734493977,
          0.20368255482972464,
          -0.11410210494040066,
          0.9097221682459405,
          -0.8124687427534877,
          -0.04394856956103083,
          -1.3898815193955492,
          -0.6730283521267469,
          0.9710262569675199,
          0.6092169118869817,
          -1.3247206547352244,
          -0.07200984094198348,
          -0.5320596003255887,
          -0.6071182537136549,
          0.28298242695004133,
          1.63632526309187,
          1.0294894762981734,
          -2.598167383257435,
          0.3829917344907664,
          -0.6620995374039768,
          -0.9164544290894261,
          -0.37641207505841523,
          -0.2140812028091623,
          1.0403004629352373,
          0.013754261202669841,
          -0.11846076703469682,
          0.05472789505244479,
          0.10623667600373886,
          -0.8545237287235011,
          -1.1708497525244947,
          -0.27131830533754325,
          -0.22535982308023256,
          -1.3447252263839728,
          -0.41807562706583196,
          1.2493497869065369,
          -0.5395003359202906,
          -0.7624552405671609,
          -0.9335351324491997,
          -1.0963685782091142,
          -0.3536412279699341,
          -0.3849969634217031,
          0.07428523611314422,
          1.4991552476169723,
          -0.33506365200787885,
          -0.8219627314382575,
          -0.4953023034617673,
          0.08523788170533084,
          1.5084160092494383,
          1.7963092363922457,
          1.1728382366622965,
          0.48485723394089514,
          1.7468799720150323,
          1.5189711102482275,
          -1.1664494631942486,
          -2.2913657866096773,
          -0.3299704581773067,
          -1.1534585368601673,
          0.7656904090654282,
          0.44283027488713855,
          -0.1040571038335075,
          -0.276270474433488,
          -0.9945292237620192,
          -1.499912996254741,
          0.919787940429676,
          0.7686444756534595,
          0.058904634607023214,
          1.3474207437068821,
          -0.2720776816770924,
          -0.7151513006884775,
          -0.8903138637651425,
          -1.70098828519413,
          -0.17754240606948118,
          -0.3412618440868006,
          0.6499902497102859,
          -0.34489224664736123,
          -0.16364794579924147,
          -1.1152717273991877,
          -2.528935755716908,
          -0.8416192276955796,
          1.3736354101460175,
          -0.43358110720911136,
          1.160213503832953,
          -1.9187822614454753,
          0.5378621118596505,
          -1.916783003862183,
          0.5923333076940671,
          2.154002809219566,
          -0.8515515238941631,
          -0.011689196634959891,
          1.194010353209449,
          -0.7635630999241817,
          1.2365882147112732,
          -0.7070793585110973,
          -0.22063555297800275,
          -0.3633187493772641,
          1.7437001406301145,
          -0.44506494452413514,
          -0.27890048827484115,
          -1.0443773777891348
         ]
        },
        {
         "boxpoints": false,
         "line": {
          "width": 1.3
         },
         "marker": {
          "color": "rgba(128, 0, 128, 1.0)"
         },
         "name": "D",
         "orientation": "v",
         "type": "box",
         "y": [
          -0.24018330689564246,
          -1.0587131429233398,
          -0.4293280149834754,
          0.06200827489208058,
          -0.9433057505753424,
          0.7006495476245426,
          2.282976311898684,
          -0.25942855388142705,
          -0.2327220428419129,
          -0.21528004940086895,
          -0.07813024134206867,
          0.8344238156442767,
          0.3320735871036728,
          0.6826658544762765,
          -1.824760091048321,
          -1.331543826487938,
          0.4098731091090183,
          -1.302231125570441,
          0.045133884284845265,
          1.2342818672139926,
          -0.4160006653024965,
          -0.5835182231509705,
          -0.3409247497329795,
          0.4436159865585294,
          0.605611330232476,
          0.5079343464518948,
          1.6131484978417183,
          -1.1475984862833866,
          0.3126085481370072,
          0.39221529855000725,
          1.7188250552535065,
          -0.024079149309831446,
          -0.8004062712812569,
          0.3576312569431447,
          -0.8167531426602717,
          0.6414400366704491,
          -0.3197021592125468,
          0.24927432151889684,
          -3.3681877800502216,
          -1.3829477210171144,
          -0.5086578218916982,
          0.24676272247000952,
          0.6498392686864897,
          -0.06442778398749202,
          -1.7210796072924515,
          -3.8145800818329336,
          -0.5243137551743628,
          -0.2480735134007949,
          -1.0303811948414303,
          -0.6582084176412066,
          0.2447273973850182,
          1.3267344334536006,
          -0.5004008441851997,
          -0.04128827205640335,
          -0.9096544537431411,
          0.0017297036760680774,
          -0.12551121360032497,
          2.1423599662252593,
          0.04533013822669366,
          -0.04209048803932449,
          1.6258582538032196,
          0.24193560864083252,
          1.0879083880847336,
          1.8069480991811726,
          0.05017187085668021,
          1.4073658228169623,
          -0.5364011911093954,
          0.2374983194679982,
          0.42836638520393794,
          0.29767589763846175,
          -0.5571295038168838,
          -0.7416897075453166,
          1.3653381215211753,
          -2.776032923587767,
          0.605923858055208,
          0.7580382056973495,
          -1.1888303431659015,
          -0.044081879349680456,
          1.8875154145859385,
          -0.9084022557596733,
          2.2142328715251467,
          1.4010475661686914,
          0.3149658866967026,
          -1.881057963057145,
          1.4964111873829589,
          1.0157784694324463,
          0.9160270219461122,
          1.6261321246758507,
          -0.780663353807255,
          -0.5387343934229627,
          0.2452130883745721,
          -1.1469700221839194,
          -1.248426145507741,
          0.5428776176733583,
          0.353893576786481,
          0.38881196115397676,
          -0.023283625587178006,
          1.113803263813739,
          0.5061512293271354,
          -1.2767416114937513
         ]
        }
       ],
       "layout": {
        "legend": {
         "bgcolor": "#F5F6F9",
         "font": {
          "color": "#4D5663"
         }
        },
        "paper_bgcolor": "#F5F6F9",
        "plot_bgcolor": "#F5F6F9",
        "template": {
         "data": {
          "bar": [
           {
            "error_x": {
             "color": "#2a3f5f"
            },
            "error_y": {
             "color": "#2a3f5f"
            },
            "marker": {
             "line": {
              "color": "#E5ECF6",
              "width": 0.5
             }
            },
            "type": "bar"
           }
          ],
          "barpolar": [
           {
            "marker": {
             "line": {
              "color": "#E5ECF6",
              "width": 0.5
             }
            },
            "type": "barpolar"
           }
          ],
          "carpet": [
           {
            "aaxis": {
             "endlinecolor": "#2a3f5f",
             "gridcolor": "white",
             "linecolor": "white",
             "minorgridcolor": "white",
             "startlinecolor": "#2a3f5f"
            },
            "baxis": {
             "endlinecolor": "#2a3f5f",
             "gridcolor": "white",
             "linecolor": "white",
             "minorgridcolor": "white",
             "startlinecolor": "#2a3f5f"
            },
            "type": "carpet"
           }
          ],
          "choropleth": [
           {
            "colorbar": {
             "outlinewidth": 0,
             "ticks": ""
            },
            "type": "choropleth"
           }
          ],
          "contour": [
           {
            "colorbar": {
             "outlinewidth": 0,
             "ticks": ""
            },
            "colorscale": [
             [
              0,
              "#0d0887"
             ],
             [
              0.1111111111111111,
              "#46039f"
             ],
             [
              0.2222222222222222,
              "#7201a8"
             ],
             [
              0.3333333333333333,
              "#9c179e"
             ],
             [
              0.4444444444444444,
              "#bd3786"
             ],
             [
              0.5555555555555556,
              "#d8576b"
             ],
             [
              0.6666666666666666,
              "#ed7953"
             ],
             [
              0.7777777777777778,
              "#fb9f3a"
             ],
             [
              0.8888888888888888,
              "#fdca26"
             ],
             [
              1,
              "#f0f921"
             ]
            ],
            "type": "contour"
           }
          ],
          "contourcarpet": [
           {
            "colorbar": {
             "outlinewidth": 0,
             "ticks": ""
            },
            "type": "contourcarpet"
           }
          ],
          "heatmap": [
           {
            "colorbar": {
             "outlinewidth": 0,
             "ticks": ""
            },
            "colorscale": [
             [
              0,
              "#0d0887"
             ],
             [
              0.1111111111111111,
              "#46039f"
             ],
             [
              0.2222222222222222,
              "#7201a8"
             ],
             [
              0.3333333333333333,
              "#9c179e"
             ],
             [
              0.4444444444444444,
              "#bd3786"
             ],
             [
              0.5555555555555556,
              "#d8576b"
             ],
             [
              0.6666666666666666,
              "#ed7953"
             ],
             [
              0.7777777777777778,
              "#fb9f3a"
             ],
             [
              0.8888888888888888,
              "#fdca26"
             ],
             [
              1,
              "#f0f921"
             ]
            ],
            "type": "heatmap"
           }
          ],
          "heatmapgl": [
           {
            "colorbar": {
             "outlinewidth": 0,
             "ticks": ""
            },
            "colorscale": [
             [
              0,
              "#0d0887"
             ],
             [
              0.1111111111111111,
              "#46039f"
             ],
             [
              0.2222222222222222,
              "#7201a8"
             ],
             [
              0.3333333333333333,
              "#9c179e"
             ],
             [
              0.4444444444444444,
              "#bd3786"
             ],
             [
              0.5555555555555556,
              "#d8576b"
             ],
             [
              0.6666666666666666,
              "#ed7953"
             ],
             [
              0.7777777777777778,
              "#fb9f3a"
             ],
             [
              0.8888888888888888,
              "#fdca26"
             ],
             [
              1,
              "#f0f921"
             ]
            ],
            "type": "heatmapgl"
           }
          ],
          "histogram": [
           {
            "marker": {
             "colorbar": {
              "outlinewidth": 0,
              "ticks": ""
             }
            },
            "type": "histogram"
           }
          ],
          "histogram2d": [
           {
            "colorbar": {
             "outlinewidth": 0,
             "ticks": ""
            },
            "colorscale": [
             [
              0,
              "#0d0887"
             ],
             [
              0.1111111111111111,
              "#46039f"
             ],
             [
              0.2222222222222222,
              "#7201a8"
             ],
             [
              0.3333333333333333,
              "#9c179e"
             ],
             [
              0.4444444444444444,
              "#bd3786"
             ],
             [
              0.5555555555555556,
              "#d8576b"
             ],
             [
              0.6666666666666666,
              "#ed7953"
             ],
             [
              0.7777777777777778,
              "#fb9f3a"
             ],
             [
              0.8888888888888888,
              "#fdca26"
             ],
             [
              1,
              "#f0f921"
             ]
            ],
            "type": "histogram2d"
           }
          ],
          "histogram2dcontour": [
           {
            "colorbar": {
             "outlinewidth": 0,
             "ticks": ""
            },
            "colorscale": [
             [
              0,
              "#0d0887"
             ],
             [
              0.1111111111111111,
              "#46039f"
             ],
             [
              0.2222222222222222,
              "#7201a8"
             ],
             [
              0.3333333333333333,
              "#9c179e"
             ],
             [
              0.4444444444444444,
              "#bd3786"
             ],
             [
              0.5555555555555556,
              "#d8576b"
             ],
             [
              0.6666666666666666,
              "#ed7953"
             ],
             [
              0.7777777777777778,
              "#fb9f3a"
             ],
             [
              0.8888888888888888,
              "#fdca26"
             ],
             [
              1,
              "#f0f921"
             ]
            ],
            "type": "histogram2dcontour"
           }
          ],
          "mesh3d": [
           {
            "colorbar": {
             "outlinewidth": 0,
             "ticks": ""
            },
            "type": "mesh3d"
           }
          ],
          "parcoords": [
           {
            "line": {
             "colorbar": {
              "outlinewidth": 0,
              "ticks": ""
             }
            },
            "type": "parcoords"
           }
          ],
          "pie": [
           {
            "automargin": true,
            "type": "pie"
           }
          ],
          "scatter": [
           {
            "marker": {
             "colorbar": {
              "outlinewidth": 0,
              "ticks": ""
             }
            },
            "type": "scatter"
           }
          ],
          "scatter3d": [
           {
            "line": {
             "colorbar": {
              "outlinewidth": 0,
              "ticks": ""
             }
            },
            "marker": {
             "colorbar": {
              "outlinewidth": 0,
              "ticks": ""
             }
            },
            "type": "scatter3d"
           }
          ],
          "scattercarpet": [
           {
            "marker": {
             "colorbar": {
              "outlinewidth": 0,
              "ticks": ""
             }
            },
            "type": "scattercarpet"
           }
          ],
          "scattergeo": [
           {
            "marker": {
             "colorbar": {
              "outlinewidth": 0,
              "ticks": ""
             }
            },
            "type": "scattergeo"
           }
          ],
          "scattergl": [
           {
            "marker": {
             "colorbar": {
              "outlinewidth": 0,
              "ticks": ""
             }
            },
            "type": "scattergl"
           }
          ],
          "scattermapbox": [
           {
            "marker": {
             "colorbar": {
              "outlinewidth": 0,
              "ticks": ""
             }
            },
            "type": "scattermapbox"
           }
          ],
          "scatterpolar": [
           {
            "marker": {
             "colorbar": {
              "outlinewidth": 0,
              "ticks": ""
             }
            },
            "type": "scatterpolar"
           }
          ],
          "scatterpolargl": [
           {
            "marker": {
             "colorbar": {
              "outlinewidth": 0,
              "ticks": ""
             }
            },
            "type": "scatterpolargl"
           }
          ],
          "scatterternary": [
           {
            "marker": {
             "colorbar": {
              "outlinewidth": 0,
              "ticks": ""
             }
            },
            "type": "scatterternary"
           }
          ],
          "surface": [
           {
            "colorbar": {
             "outlinewidth": 0,
             "ticks": ""
            },
            "colorscale": [
             [
              0,
              "#0d0887"
             ],
             [
              0.1111111111111111,
              "#46039f"
             ],
             [
              0.2222222222222222,
              "#7201a8"
             ],
             [
              0.3333333333333333,
              "#9c179e"
             ],
             [
              0.4444444444444444,
              "#bd3786"
             ],
             [
              0.5555555555555556,
              "#d8576b"
             ],
             [
              0.6666666666666666,
              "#ed7953"
             ],
             [
              0.7777777777777778,
              "#fb9f3a"
             ],
             [
              0.8888888888888888,
              "#fdca26"
             ],
             [
              1,
              "#f0f921"
             ]
            ],
            "type": "surface"
           }
          ],
          "table": [
           {
            "cells": {
             "fill": {
              "color": "#EBF0F8"
             },
             "line": {
              "color": "white"
             }
            },
            "header": {
             "fill": {
              "color": "#C8D4E3"
             },
             "line": {
              "color": "white"
             }
            },
            "type": "table"
           }
          ]
         },
         "layout": {
          "annotationdefaults": {
           "arrowcolor": "#2a3f5f",
           "arrowhead": 0,
           "arrowwidth": 1
          },
          "coloraxis": {
           "colorbar": {
            "outlinewidth": 0,
            "ticks": ""
           }
          },
          "colorscale": {
           "diverging": [
            [
             0,
             "#8e0152"
            ],
            [
             0.1,
             "#c51b7d"
            ],
            [
             0.2,
             "#de77ae"
            ],
            [
             0.3,
             "#f1b6da"
            ],
            [
             0.4,
             "#fde0ef"
            ],
            [
             0.5,
             "#f7f7f7"
            ],
            [
             0.6,
             "#e6f5d0"
            ],
            [
             0.7,
             "#b8e186"
            ],
            [
             0.8,
             "#7fbc41"
            ],
            [
             0.9,
             "#4d9221"
            ],
            [
             1,
             "#276419"
            ]
           ],
           "sequential": [
            [
             0,
             "#0d0887"
            ],
            [
             0.1111111111111111,
             "#46039f"
            ],
            [
             0.2222222222222222,
             "#7201a8"
            ],
            [
             0.3333333333333333,
             "#9c179e"
            ],
            [
             0.4444444444444444,
             "#bd3786"
            ],
            [
             0.5555555555555556,
             "#d8576b"
            ],
            [
             0.6666666666666666,
             "#ed7953"
            ],
            [
             0.7777777777777778,
             "#fb9f3a"
            ],
            [
             0.8888888888888888,
             "#fdca26"
            ],
            [
             1,
             "#f0f921"
            ]
           ],
           "sequentialminus": [
            [
             0,
             "#0d0887"
            ],
            [
             0.1111111111111111,
             "#46039f"
            ],
            [
             0.2222222222222222,
             "#7201a8"
            ],
            [
             0.3333333333333333,
             "#9c179e"
            ],
            [
             0.4444444444444444,
             "#bd3786"
            ],
            [
             0.5555555555555556,
             "#d8576b"
            ],
            [
             0.6666666666666666,
             "#ed7953"
            ],
            [
             0.7777777777777778,
             "#fb9f3a"
            ],
            [
             0.8888888888888888,
             "#fdca26"
            ],
            [
             1,
             "#f0f921"
            ]
           ]
          },
          "colorway": [
           "#636efa",
           "#EF553B",
           "#00cc96",
           "#ab63fa",
           "#FFA15A",
           "#19d3f3",
           "#FF6692",
           "#B6E880",
           "#FF97FF",
           "#FECB52"
          ],
          "font": {
           "color": "#2a3f5f"
          },
          "geo": {
           "bgcolor": "white",
           "lakecolor": "white",
           "landcolor": "#E5ECF6",
           "showlakes": true,
           "showland": true,
           "subunitcolor": "white"
          },
          "hoverlabel": {
           "align": "left"
          },
          "hovermode": "closest",
          "mapbox": {
           "style": "light"
          },
          "paper_bgcolor": "white",
          "plot_bgcolor": "#E5ECF6",
          "polar": {
           "angularaxis": {
            "gridcolor": "white",
            "linecolor": "white",
            "ticks": ""
           },
           "bgcolor": "#E5ECF6",
           "radialaxis": {
            "gridcolor": "white",
            "linecolor": "white",
            "ticks": ""
           }
          },
          "scene": {
           "xaxis": {
            "backgroundcolor": "#E5ECF6",
            "gridcolor": "white",
            "gridwidth": 2,
            "linecolor": "white",
            "showbackground": true,
            "ticks": "",
            "zerolinecolor": "white"
           },
           "yaxis": {
            "backgroundcolor": "#E5ECF6",
            "gridcolor": "white",
            "gridwidth": 2,
            "linecolor": "white",
            "showbackground": true,
            "ticks": "",
            "zerolinecolor": "white"
           },
           "zaxis": {
            "backgroundcolor": "#E5ECF6",
            "gridcolor": "white",
            "gridwidth": 2,
            "linecolor": "white",
            "showbackground": true,
            "ticks": "",
            "zerolinecolor": "white"
           }
          },
          "shapedefaults": {
           "line": {
            "color": "#2a3f5f"
           }
          },
          "ternary": {
           "aaxis": {
            "gridcolor": "white",
            "linecolor": "white",
            "ticks": ""
           },
           "baxis": {
            "gridcolor": "white",
            "linecolor": "white",
            "ticks": ""
           },
           "bgcolor": "#E5ECF6",
           "caxis": {
            "gridcolor": "white",
            "linecolor": "white",
            "ticks": ""
           }
          },
          "title": {
           "x": 0.05
          },
          "xaxis": {
           "automargin": true,
           "gridcolor": "white",
           "linecolor": "white",
           "ticks": "",
           "title": {
            "standoff": 15
           },
           "zerolinecolor": "white",
           "zerolinewidth": 2
          },
          "yaxis": {
           "automargin": true,
           "gridcolor": "white",
           "linecolor": "white",
           "ticks": "",
           "title": {
            "standoff": 15
           },
           "zerolinecolor": "white",
           "zerolinewidth": 2
          }
         }
        },
        "title": {
         "font": {
          "color": "#4D5663"
         }
        },
        "xaxis": {
         "gridcolor": "#E1E5ED",
         "showgrid": true,
         "tickfont": {
          "color": "#4D5663"
         },
         "title": {
          "font": {
           "color": "#4D5663"
          },
          "text": ""
         },
         "zerolinecolor": "#E1E5ED"
        },
        "yaxis": {
         "gridcolor": "#E1E5ED",
         "showgrid": true,
         "tickfont": {
          "color": "#4D5663"
         },
         "title": {
          "font": {
           "color": "#4D5663"
          },
          "text": ""
         },
         "zerolinecolor": "#E1E5ED"
        }
       }
      },
      "text/html": [
       "<div>\n",
       "        \n",
       "        \n",
       "            <div id=\"c99d2f62-a37d-44b5-a438-5b25908b8248\" class=\"plotly-graph-div\" style=\"height:525px; width:100%;\"></div>\n",
       "            <script type=\"text/javascript\">\n",
       "                require([\"plotly\"], function(Plotly) {\n",
       "                    window.PLOTLYENV=window.PLOTLYENV || {};\n",
       "                    window.PLOTLYENV.BASE_URL='https://plot.ly';\n",
       "                    \n",
       "                if (document.getElementById(\"c99d2f62-a37d-44b5-a438-5b25908b8248\")) {\n",
       "                    Plotly.newPlot(\n",
       "                        'c99d2f62-a37d-44b5-a438-5b25908b8248',\n",
       "                        [{\"boxpoints\": false, \"line\": {\"width\": 1.3}, \"marker\": {\"color\": \"rgba(255, 153, 51, 1.0)\"}, \"name\": \"A\", \"orientation\": \"v\", \"type\": \"box\", \"y\": [-0.29643740889399095, 0.32868435515730043, 1.7461416496086142, -0.24004567607313979, 0.13879213518446365, 0.5535216967030455, -0.5654788153613118, 1.4745095081896062, 0.24599950755732192, -1.2056020605811952, 1.1064580688514372, 1.2560715526922155, 0.9370673363805552, -0.3035228949304509, 0.8173073261565816, -1.049133286502186, 0.8206309550571658, 0.4257464010855425, -0.204969188764631, -0.49515630325678384, -0.46557478153402304, -0.7100122999382016, 0.5038367695493804, 0.6095718122464268, -0.9665021599071422, -1.941392438441163, -0.4410063758400523, 0.03245090999579194, 0.1343061826488072, 0.5107365179921368, -0.3148389852787225, -0.3475463838805427, 0.38918681250649434, -0.5878571849206334, 0.18237827278071525, 0.8139831276610341, -0.3044351308280057, 0.7856674253493616, 0.3511107651142644, 0.4991054778015313, 1.8905790693628632, -0.36064056808190237, -0.20806458226915128, 1.1251468281191688, -2.126253635634463, -0.6012651762207218, -0.4332096922576356, 0.5936193398160595, -1.8610576096155729, -0.6848069423978584, -0.1741312896553701, -0.036689001873205666, -0.17997951544796514, 1.0197180801187515, -1.066533298890777, -0.9114780950624539, -0.11932825824118615, 1.402067892564673, -0.086837270558958, 0.463224533101115, 1.1851504359883962, -0.974581228669598, 0.5172927499818978, -0.019078919866214714, 1.6757029533305858, -0.7739305807934194, 0.49975487039061167, 2.431023967741468, 0.5156404761815808, -2.2967795329006546, -1.0552189283244984, 0.12688409298548323, -1.677072780155331, -0.8594495959629678, -0.4444344655352142, -1.2167733442412334, 0.38604138505028, 1.0138946898474628, 0.14697818534804966, 1.9761709653128225, 0.8272009540730214, -0.3939697404040883, 0.6354964151979149, -0.4806868089713751, 0.8576277591041233, -0.5114800988431405, -0.5184321876913844, 0.8927289941236105, -0.13572637194054665, 0.9993000128725914, 0.9321656254505977, 0.1462909328841926, 1.318253885597681, -1.2340506320852325, 0.5166974940232978, -0.00888755926616613, 0.2571741481342909, 0.6922229079065875, 0.6538799136667284, 0.9128588038964904]}, {\"boxpoints\": false, \"line\": {\"width\": 1.3}, \"marker\": {\"color\": \"rgba(55, 128, 191, 1.0)\"}, \"name\": \"B\", \"orientation\": \"v\", \"type\": \"box\", \"y\": [0.07900847452249811, -0.9122677191922264, 0.3112574668049616, 1.7728983810125845, -0.46509577776202565, -0.8500736939519596, 0.09604825979531327, -1.6741323641529193, 0.3654389760932509, -0.396636210544783, -0.39935846585434787, -2.072144060438098, -0.9592798926978057, 1.009429267180827, 1.4347810916763082, 1.2238156048083508, -0.2539894869632165, -0.03462226412381225, 1.5213228468514988, -0.16020138184502902, 1.1012259404213742, -1.7925797528858496, 1.3515348090377433, -1.2785375474729208, -0.9450429616882644, -0.3565619797841725, -0.526895547025469, -0.29703925347581567, 0.470679346499512, -0.21965139430373848, -0.277572241034337, 1.6757739473793847, -0.6844213119094037, 2.5467128090186346, 0.3092940280081921, 0.36706217813011577, 0.3620155081208797, -1.0693211361043422, -0.32058523850796067, 0.34172741616987756, -1.013975596657667, -0.330584333129899, 2.354552575307552, 0.2222715205421336, -0.24491641424236923, 0.08652389492069956, -0.6661046551013905, -0.5684243647771562, -0.16815681870593208, 0.5451732559293533, -0.7003127063854502, -2.0991552130751163, -0.8805818658707721, 1.1181512595690717, -1.8236861113099427, -1.109326462564337, 0.8850844170534031, -0.15140124010444625, 2.089817025595409, -1.1412646577928676, 0.5130786272975839, 0.802315702090518, 0.8227263767426035, -0.4211094361933707, 0.3188905388362875, -0.27597929718394765, 1.4894104428242139, 1.0154933954044825, 0.9032711654013391, 1.4822651315059352, 0.5187114432149854, 1.7355646462196677, -1.0622908954228063, -0.41376365210767657, -0.4752312118552798, 0.25271611250132825, 0.11808813566547226, -1.4190087109867906, -1.099413224707759, -0.8227951494886859, 1.0404839507698609, -0.3836115958841534, -0.36668922503310136, -0.9641263348806826, -1.4158392346294928, -0.5832744046678073, -0.2507105982209403, -0.519634303248391, 1.3501586378007053, 0.3645687598665697, -2.2309271526923697, -2.2570879544856224, 0.681349780667486, 0.005462937664764124, 0.08378619913036302, -0.18127299340078432, 0.5088984930410607, -0.12613393601230247, -1.067492178711451, -0.5060295021572043]}, {\"boxpoints\": false, \"line\": {\"width\": 1.3}, \"marker\": {\"color\": \"rgba(50, 171, 96, 1.0)\"}, \"name\": \"C\", \"orientation\": \"v\", \"type\": \"box\", \"y\": [-2.082536450037159, 0.4530885734493977, 0.20368255482972464, -0.11410210494040066, 0.9097221682459405, -0.8124687427534877, -0.04394856956103083, -1.3898815193955492, -0.6730283521267469, 0.9710262569675199, 0.6092169118869817, -1.3247206547352244, -0.07200984094198348, -0.5320596003255887, -0.6071182537136549, 0.28298242695004133, 1.63632526309187, 1.0294894762981734, -2.598167383257435, 0.3829917344907664, -0.6620995374039768, -0.9164544290894261, -0.37641207505841523, -0.2140812028091623, 1.0403004629352373, 0.013754261202669841, -0.11846076703469682, 0.05472789505244479, 0.10623667600373886, -0.8545237287235011, -1.1708497525244947, -0.27131830533754325, -0.22535982308023256, -1.3447252263839728, -0.41807562706583196, 1.2493497869065369, -0.5395003359202906, -0.7624552405671609, -0.9335351324491997, -1.0963685782091142, -0.3536412279699341, -0.3849969634217031, 0.07428523611314422, 1.4991552476169723, -0.33506365200787885, -0.8219627314382575, -0.4953023034617673, 0.08523788170533084, 1.5084160092494383, 1.7963092363922457, 1.1728382366622965, 0.48485723394089514, 1.7468799720150323, 1.5189711102482275, -1.1664494631942486, -2.2913657866096773, -0.3299704581773067, -1.1534585368601673, 0.7656904090654282, 0.44283027488713855, -0.1040571038335075, -0.276270474433488, -0.9945292237620192, -1.499912996254741, 0.919787940429676, 0.7686444756534595, 0.058904634607023214, 1.3474207437068821, -0.2720776816770924, -0.7151513006884775, -0.8903138637651425, -1.70098828519413, -0.17754240606948118, -0.3412618440868006, 0.6499902497102859, -0.34489224664736123, -0.16364794579924147, -1.1152717273991877, -2.528935755716908, -0.8416192276955796, 1.3736354101460175, -0.43358110720911136, 1.160213503832953, -1.9187822614454753, 0.5378621118596505, -1.916783003862183, 0.5923333076940671, 2.154002809219566, -0.8515515238941631, -0.011689196634959891, 1.194010353209449, -0.7635630999241817, 1.2365882147112732, -0.7070793585110973, -0.22063555297800275, -0.3633187493772641, 1.7437001406301145, -0.44506494452413514, -0.27890048827484115, -1.0443773777891348]}, {\"boxpoints\": false, \"line\": {\"width\": 1.3}, \"marker\": {\"color\": \"rgba(128, 0, 128, 1.0)\"}, \"name\": \"D\", \"orientation\": \"v\", \"type\": \"box\", \"y\": [-0.24018330689564246, -1.0587131429233398, -0.4293280149834754, 0.06200827489208058, -0.9433057505753424, 0.7006495476245426, 2.282976311898684, -0.25942855388142705, -0.2327220428419129, -0.21528004940086895, -0.07813024134206867, 0.8344238156442767, 0.3320735871036728, 0.6826658544762765, -1.824760091048321, -1.331543826487938, 0.4098731091090183, -1.302231125570441, 0.045133884284845265, 1.2342818672139926, -0.4160006653024965, -0.5835182231509705, -0.3409247497329795, 0.4436159865585294, 0.605611330232476, 0.5079343464518948, 1.6131484978417183, -1.1475984862833866, 0.3126085481370072, 0.39221529855000725, 1.7188250552535065, -0.024079149309831446, -0.8004062712812569, 0.3576312569431447, -0.8167531426602717, 0.6414400366704491, -0.3197021592125468, 0.24927432151889684, -3.3681877800502216, -1.3829477210171144, -0.5086578218916982, 0.24676272247000952, 0.6498392686864897, -0.06442778398749202, -1.7210796072924515, -3.8145800818329336, -0.5243137551743628, -0.2480735134007949, -1.0303811948414303, -0.6582084176412066, 0.2447273973850182, 1.3267344334536006, -0.5004008441851997, -0.04128827205640335, -0.9096544537431411, 0.0017297036760680774, -0.12551121360032497, 2.1423599662252593, 0.04533013822669366, -0.04209048803932449, 1.6258582538032196, 0.24193560864083252, 1.0879083880847336, 1.8069480991811726, 0.05017187085668021, 1.4073658228169623, -0.5364011911093954, 0.2374983194679982, 0.42836638520393794, 0.29767589763846175, -0.5571295038168838, -0.7416897075453166, 1.3653381215211753, -2.776032923587767, 0.605923858055208, 0.7580382056973495, -1.1888303431659015, -0.044081879349680456, 1.8875154145859385, -0.9084022557596733, 2.2142328715251467, 1.4010475661686914, 0.3149658866967026, -1.881057963057145, 1.4964111873829589, 1.0157784694324463, 0.9160270219461122, 1.6261321246758507, -0.780663353807255, -0.5387343934229627, 0.2452130883745721, -1.1469700221839194, -1.248426145507741, 0.5428776176733583, 0.353893576786481, 0.38881196115397676, -0.023283625587178006, 1.113803263813739, 0.5061512293271354, -1.2767416114937513]}],\n",
       "                        {\"legend\": {\"bgcolor\": \"#F5F6F9\", \"font\": {\"color\": \"#4D5663\"}}, \"paper_bgcolor\": \"#F5F6F9\", \"plot_bgcolor\": \"#F5F6F9\", \"template\": {\"data\": {\"bar\": [{\"error_x\": {\"color\": \"#2a3f5f\"}, \"error_y\": {\"color\": \"#2a3f5f\"}, \"marker\": {\"line\": {\"color\": \"#E5ECF6\", \"width\": 0.5}}, \"type\": \"bar\"}], \"barpolar\": [{\"marker\": {\"line\": {\"color\": \"#E5ECF6\", \"width\": 0.5}}, \"type\": \"barpolar\"}], \"carpet\": [{\"aaxis\": {\"endlinecolor\": \"#2a3f5f\", \"gridcolor\": \"white\", \"linecolor\": \"white\", \"minorgridcolor\": \"white\", \"startlinecolor\": \"#2a3f5f\"}, \"baxis\": {\"endlinecolor\": \"#2a3f5f\", \"gridcolor\": \"white\", \"linecolor\": \"white\", \"minorgridcolor\": \"white\", \"startlinecolor\": \"#2a3f5f\"}, \"type\": \"carpet\"}], \"choropleth\": [{\"colorbar\": {\"outlinewidth\": 0, \"ticks\": \"\"}, \"type\": \"choropleth\"}], \"contour\": [{\"colorbar\": {\"outlinewidth\": 0, \"ticks\": \"\"}, \"colorscale\": [[0.0, \"#0d0887\"], [0.1111111111111111, \"#46039f\"], [0.2222222222222222, \"#7201a8\"], [0.3333333333333333, \"#9c179e\"], [0.4444444444444444, \"#bd3786\"], [0.5555555555555556, \"#d8576b\"], [0.6666666666666666, \"#ed7953\"], [0.7777777777777778, \"#fb9f3a\"], [0.8888888888888888, \"#fdca26\"], [1.0, \"#f0f921\"]], \"type\": \"contour\"}], \"contourcarpet\": [{\"colorbar\": {\"outlinewidth\": 0, \"ticks\": \"\"}, \"type\": \"contourcarpet\"}], \"heatmap\": [{\"colorbar\": {\"outlinewidth\": 0, \"ticks\": \"\"}, \"colorscale\": [[0.0, \"#0d0887\"], [0.1111111111111111, \"#46039f\"], [0.2222222222222222, \"#7201a8\"], [0.3333333333333333, \"#9c179e\"], [0.4444444444444444, \"#bd3786\"], [0.5555555555555556, \"#d8576b\"], [0.6666666666666666, \"#ed7953\"], [0.7777777777777778, \"#fb9f3a\"], [0.8888888888888888, \"#fdca26\"], [1.0, \"#f0f921\"]], \"type\": \"heatmap\"}], \"heatmapgl\": [{\"colorbar\": {\"outlinewidth\": 0, \"ticks\": \"\"}, \"colorscale\": [[0.0, \"#0d0887\"], [0.1111111111111111, \"#46039f\"], [0.2222222222222222, \"#7201a8\"], [0.3333333333333333, \"#9c179e\"], [0.4444444444444444, \"#bd3786\"], [0.5555555555555556, \"#d8576b\"], [0.6666666666666666, \"#ed7953\"], [0.7777777777777778, \"#fb9f3a\"], [0.8888888888888888, \"#fdca26\"], [1.0, \"#f0f921\"]], \"type\": \"heatmapgl\"}], \"histogram\": [{\"marker\": {\"colorbar\": {\"outlinewidth\": 0, \"ticks\": \"\"}}, \"type\": \"histogram\"}], \"histogram2d\": [{\"colorbar\": {\"outlinewidth\": 0, \"ticks\": \"\"}, \"colorscale\": [[0.0, \"#0d0887\"], [0.1111111111111111, \"#46039f\"], [0.2222222222222222, \"#7201a8\"], [0.3333333333333333, \"#9c179e\"], [0.4444444444444444, \"#bd3786\"], [0.5555555555555556, \"#d8576b\"], [0.6666666666666666, \"#ed7953\"], [0.7777777777777778, \"#fb9f3a\"], [0.8888888888888888, \"#fdca26\"], [1.0, \"#f0f921\"]], \"type\": \"histogram2d\"}], \"histogram2dcontour\": [{\"colorbar\": {\"outlinewidth\": 0, \"ticks\": \"\"}, \"colorscale\": [[0.0, \"#0d0887\"], [0.1111111111111111, \"#46039f\"], [0.2222222222222222, \"#7201a8\"], [0.3333333333333333, \"#9c179e\"], [0.4444444444444444, \"#bd3786\"], [0.5555555555555556, \"#d8576b\"], [0.6666666666666666, \"#ed7953\"], [0.7777777777777778, \"#fb9f3a\"], [0.8888888888888888, \"#fdca26\"], [1.0, \"#f0f921\"]], \"type\": \"histogram2dcontour\"}], \"mesh3d\": [{\"colorbar\": {\"outlinewidth\": 0, \"ticks\": \"\"}, \"type\": \"mesh3d\"}], \"parcoords\": [{\"line\": {\"colorbar\": {\"outlinewidth\": 0, \"ticks\": \"\"}}, \"type\": \"parcoords\"}], \"pie\": [{\"automargin\": true, \"type\": \"pie\"}], \"scatter\": [{\"marker\": {\"colorbar\": {\"outlinewidth\": 0, \"ticks\": \"\"}}, \"type\": \"scatter\"}], \"scatter3d\": [{\"line\": {\"colorbar\": {\"outlinewidth\": 0, \"ticks\": \"\"}}, \"marker\": {\"colorbar\": {\"outlinewidth\": 0, \"ticks\": \"\"}}, \"type\": \"scatter3d\"}], \"scattercarpet\": [{\"marker\": {\"colorbar\": {\"outlinewidth\": 0, \"ticks\": \"\"}}, \"type\": \"scattercarpet\"}], \"scattergeo\": [{\"marker\": {\"colorbar\": {\"outlinewidth\": 0, \"ticks\": \"\"}}, \"type\": \"scattergeo\"}], \"scattergl\": [{\"marker\": {\"colorbar\": {\"outlinewidth\": 0, \"ticks\": \"\"}}, \"type\": \"scattergl\"}], \"scattermapbox\": [{\"marker\": {\"colorbar\": {\"outlinewidth\": 0, \"ticks\": \"\"}}, \"type\": \"scattermapbox\"}], \"scatterpolar\": [{\"marker\": {\"colorbar\": {\"outlinewidth\": 0, \"ticks\": \"\"}}, \"type\": \"scatterpolar\"}], \"scatterpolargl\": [{\"marker\": {\"colorbar\": {\"outlinewidth\": 0, \"ticks\": \"\"}}, \"type\": \"scatterpolargl\"}], \"scatterternary\": [{\"marker\": {\"colorbar\": {\"outlinewidth\": 0, \"ticks\": \"\"}}, \"type\": \"scatterternary\"}], \"surface\": [{\"colorbar\": {\"outlinewidth\": 0, \"ticks\": \"\"}, \"colorscale\": [[0.0, \"#0d0887\"], [0.1111111111111111, \"#46039f\"], [0.2222222222222222, \"#7201a8\"], [0.3333333333333333, \"#9c179e\"], [0.4444444444444444, \"#bd3786\"], [0.5555555555555556, \"#d8576b\"], [0.6666666666666666, \"#ed7953\"], [0.7777777777777778, \"#fb9f3a\"], [0.8888888888888888, \"#fdca26\"], [1.0, \"#f0f921\"]], \"type\": \"surface\"}], \"table\": [{\"cells\": {\"fill\": {\"color\": \"#EBF0F8\"}, \"line\": {\"color\": \"white\"}}, \"header\": {\"fill\": {\"color\": \"#C8D4E3\"}, \"line\": {\"color\": \"white\"}}, \"type\": \"table\"}]}, \"layout\": {\"annotationdefaults\": {\"arrowcolor\": \"#2a3f5f\", \"arrowhead\": 0, \"arrowwidth\": 1}, \"coloraxis\": {\"colorbar\": {\"outlinewidth\": 0, \"ticks\": \"\"}}, \"colorscale\": {\"diverging\": [[0, \"#8e0152\"], [0.1, \"#c51b7d\"], [0.2, \"#de77ae\"], [0.3, \"#f1b6da\"], [0.4, \"#fde0ef\"], [0.5, \"#f7f7f7\"], [0.6, \"#e6f5d0\"], [0.7, \"#b8e186\"], [0.8, \"#7fbc41\"], [0.9, \"#4d9221\"], [1, \"#276419\"]], \"sequential\": [[0.0, \"#0d0887\"], [0.1111111111111111, \"#46039f\"], [0.2222222222222222, \"#7201a8\"], [0.3333333333333333, \"#9c179e\"], [0.4444444444444444, \"#bd3786\"], [0.5555555555555556, \"#d8576b\"], [0.6666666666666666, \"#ed7953\"], [0.7777777777777778, \"#fb9f3a\"], [0.8888888888888888, \"#fdca26\"], [1.0, \"#f0f921\"]], \"sequentialminus\": [[0.0, \"#0d0887\"], [0.1111111111111111, \"#46039f\"], [0.2222222222222222, \"#7201a8\"], [0.3333333333333333, \"#9c179e\"], [0.4444444444444444, \"#bd3786\"], [0.5555555555555556, \"#d8576b\"], [0.6666666666666666, \"#ed7953\"], [0.7777777777777778, \"#fb9f3a\"], [0.8888888888888888, \"#fdca26\"], [1.0, \"#f0f921\"]]}, \"colorway\": [\"#636efa\", \"#EF553B\", \"#00cc96\", \"#ab63fa\", \"#FFA15A\", \"#19d3f3\", \"#FF6692\", \"#B6E880\", \"#FF97FF\", \"#FECB52\"], \"font\": {\"color\": \"#2a3f5f\"}, \"geo\": {\"bgcolor\": \"white\", \"lakecolor\": \"white\", \"landcolor\": \"#E5ECF6\", \"showlakes\": true, \"showland\": true, \"subunitcolor\": \"white\"}, \"hoverlabel\": {\"align\": \"left\"}, \"hovermode\": \"closest\", \"mapbox\": {\"style\": \"light\"}, \"paper_bgcolor\": \"white\", \"plot_bgcolor\": \"#E5ECF6\", \"polar\": {\"angularaxis\": {\"gridcolor\": \"white\", \"linecolor\": \"white\", \"ticks\": \"\"}, \"bgcolor\": \"#E5ECF6\", \"radialaxis\": {\"gridcolor\": \"white\", \"linecolor\": \"white\", \"ticks\": \"\"}}, \"scene\": {\"xaxis\": {\"backgroundcolor\": \"#E5ECF6\", \"gridcolor\": \"white\", \"gridwidth\": 2, \"linecolor\": \"white\", \"showbackground\": true, \"ticks\": \"\", \"zerolinecolor\": \"white\"}, \"yaxis\": {\"backgroundcolor\": \"#E5ECF6\", \"gridcolor\": \"white\", \"gridwidth\": 2, \"linecolor\": \"white\", \"showbackground\": true, \"ticks\": \"\", \"zerolinecolor\": \"white\"}, \"zaxis\": {\"backgroundcolor\": \"#E5ECF6\", \"gridcolor\": \"white\", \"gridwidth\": 2, \"linecolor\": \"white\", \"showbackground\": true, \"ticks\": \"\", \"zerolinecolor\": \"white\"}}, \"shapedefaults\": {\"line\": {\"color\": \"#2a3f5f\"}}, \"ternary\": {\"aaxis\": {\"gridcolor\": \"white\", \"linecolor\": \"white\", \"ticks\": \"\"}, \"baxis\": {\"gridcolor\": \"white\", \"linecolor\": \"white\", \"ticks\": \"\"}, \"bgcolor\": \"#E5ECF6\", \"caxis\": {\"gridcolor\": \"white\", \"linecolor\": \"white\", \"ticks\": \"\"}}, \"title\": {\"x\": 0.05}, \"xaxis\": {\"automargin\": true, \"gridcolor\": \"white\", \"linecolor\": \"white\", \"ticks\": \"\", \"title\": {\"standoff\": 15}, \"zerolinecolor\": \"white\", \"zerolinewidth\": 2}, \"yaxis\": {\"automargin\": true, \"gridcolor\": \"white\", \"linecolor\": \"white\", \"ticks\": \"\", \"title\": {\"standoff\": 15}, \"zerolinecolor\": \"white\", \"zerolinewidth\": 2}}}, \"title\": {\"font\": {\"color\": \"#4D5663\"}}, \"xaxis\": {\"gridcolor\": \"#E1E5ED\", \"showgrid\": true, \"tickfont\": {\"color\": \"#4D5663\"}, \"title\": {\"font\": {\"color\": \"#4D5663\"}, \"text\": \"\"}, \"zerolinecolor\": \"#E1E5ED\"}, \"yaxis\": {\"gridcolor\": \"#E1E5ED\", \"showgrid\": true, \"tickfont\": {\"color\": \"#4D5663\"}, \"title\": {\"font\": {\"color\": \"#4D5663\"}, \"text\": \"\"}, \"zerolinecolor\": \"#E1E5ED\"}},\n",
       "                        {\"showLink\": true, \"linkText\": \"Export to plot.ly\", \"plotlyServerURL\": \"https://plot.ly\", \"responsive\": true}\n",
       "                    ).then(function(){\n",
       "                            \n",
       "var gd = document.getElementById('c99d2f62-a37d-44b5-a438-5b25908b8248');\n",
       "var x = new MutationObserver(function (mutations, observer) {{\n",
       "        var display = window.getComputedStyle(gd).display;\n",
       "        if (!display || display === 'none') {{\n",
       "            console.log([gd, 'removed!']);\n",
       "            Plotly.purge(gd);\n",
       "            observer.disconnect();\n",
       "        }}\n",
       "}});\n",
       "\n",
       "// Listen for the removal of the full notebook cells\n",
       "var notebookContainer = gd.closest('#notebook-container');\n",
       "if (notebookContainer) {{\n",
       "    x.observe(notebookContainer, {childList: true});\n",
       "}}\n",
       "\n",
       "// Listen for the clearing of the current output cell\n",
       "var outputEl = gd.closest('.output');\n",
       "if (outputEl) {{\n",
       "    x.observe(outputEl, {childList: true});\n",
       "}}\n",
       "\n",
       "                        })\n",
       "                };\n",
       "                });\n",
       "            </script>\n",
       "        </div>"
      ]
     },
     "metadata": {},
     "output_type": "display_data"
    }
   ],
   "source": [
    "df.iplot(kind='box')"
   ]
  },
  {
   "cell_type": "markdown",
   "metadata": {},
   "source": [
    "## 3d Surface"
   ]
  },
  {
   "cell_type": "code",
   "execution_count": 15,
   "metadata": {},
   "outputs": [
    {
     "data": {
      "application/vnd.plotly.v1+json": {
       "config": {
        "linkText": "Export to plot.ly",
        "plotlyServerURL": "https://plot.ly",
        "showLink": true
       },
       "data": [
        {
         "colorscale": [
          [
           0,
           "rgb(165,0,38)"
          ],
          [
           0.1,
           "rgb(215,48,39)"
          ],
          [
           0.2,
           "rgb(244,109,67)"
          ],
          [
           0.3,
           "rgb(253,174,97)"
          ],
          [
           0.4,
           "rgb(254,224,144)"
          ],
          [
           0.5,
           "rgb(255,255,191)"
          ],
          [
           0.6,
           "rgb(224,243,248)"
          ],
          [
           0.7,
           "rgb(171,217,233)"
          ],
          [
           0.8,
           "rgb(116,173,209)"
          ],
          [
           0.9,
           "rgb(69,117,180)"
          ],
          [
           1,
           "rgb(49,54,149)"
          ]
         ],
         "type": "surface",
         "x": [
          0,
          1,
          2,
          3,
          4
         ],
         "y": [
          "x",
          "y",
          "z"
         ],
         "z": [
          [
           1,
           2,
           3,
           4,
           5
          ],
          [
           10,
           20,
           30,
           20,
           10
          ],
          [
           5,
           4,
           3,
           2,
           1
          ]
         ]
        }
       ],
       "layout": {
        "legend": {
         "bgcolor": "#F5F6F9",
         "font": {
          "color": "#4D5663"
         }
        },
        "paper_bgcolor": "#F5F6F9",
        "plot_bgcolor": "#F5F6F9",
        "template": {
         "data": {
          "bar": [
           {
            "error_x": {
             "color": "#2a3f5f"
            },
            "error_y": {
             "color": "#2a3f5f"
            },
            "marker": {
             "line": {
              "color": "#E5ECF6",
              "width": 0.5
             }
            },
            "type": "bar"
           }
          ],
          "barpolar": [
           {
            "marker": {
             "line": {
              "color": "#E5ECF6",
              "width": 0.5
             }
            },
            "type": "barpolar"
           }
          ],
          "carpet": [
           {
            "aaxis": {
             "endlinecolor": "#2a3f5f",
             "gridcolor": "white",
             "linecolor": "white",
             "minorgridcolor": "white",
             "startlinecolor": "#2a3f5f"
            },
            "baxis": {
             "endlinecolor": "#2a3f5f",
             "gridcolor": "white",
             "linecolor": "white",
             "minorgridcolor": "white",
             "startlinecolor": "#2a3f5f"
            },
            "type": "carpet"
           }
          ],
          "choropleth": [
           {
            "colorbar": {
             "outlinewidth": 0,
             "ticks": ""
            },
            "type": "choropleth"
           }
          ],
          "contour": [
           {
            "colorbar": {
             "outlinewidth": 0,
             "ticks": ""
            },
            "colorscale": [
             [
              0,
              "#0d0887"
             ],
             [
              0.1111111111111111,
              "#46039f"
             ],
             [
              0.2222222222222222,
              "#7201a8"
             ],
             [
              0.3333333333333333,
              "#9c179e"
             ],
             [
              0.4444444444444444,
              "#bd3786"
             ],
             [
              0.5555555555555556,
              "#d8576b"
             ],
             [
              0.6666666666666666,
              "#ed7953"
             ],
             [
              0.7777777777777778,
              "#fb9f3a"
             ],
             [
              0.8888888888888888,
              "#fdca26"
             ],
             [
              1,
              "#f0f921"
             ]
            ],
            "type": "contour"
           }
          ],
          "contourcarpet": [
           {
            "colorbar": {
             "outlinewidth": 0,
             "ticks": ""
            },
            "type": "contourcarpet"
           }
          ],
          "heatmap": [
           {
            "colorbar": {
             "outlinewidth": 0,
             "ticks": ""
            },
            "colorscale": [
             [
              0,
              "#0d0887"
             ],
             [
              0.1111111111111111,
              "#46039f"
             ],
             [
              0.2222222222222222,
              "#7201a8"
             ],
             [
              0.3333333333333333,
              "#9c179e"
             ],
             [
              0.4444444444444444,
              "#bd3786"
             ],
             [
              0.5555555555555556,
              "#d8576b"
             ],
             [
              0.6666666666666666,
              "#ed7953"
             ],
             [
              0.7777777777777778,
              "#fb9f3a"
             ],
             [
              0.8888888888888888,
              "#fdca26"
             ],
             [
              1,
              "#f0f921"
             ]
            ],
            "type": "heatmap"
           }
          ],
          "heatmapgl": [
           {
            "colorbar": {
             "outlinewidth": 0,
             "ticks": ""
            },
            "colorscale": [
             [
              0,
              "#0d0887"
             ],
             [
              0.1111111111111111,
              "#46039f"
             ],
             [
              0.2222222222222222,
              "#7201a8"
             ],
             [
              0.3333333333333333,
              "#9c179e"
             ],
             [
              0.4444444444444444,
              "#bd3786"
             ],
             [
              0.5555555555555556,
              "#d8576b"
             ],
             [
              0.6666666666666666,
              "#ed7953"
             ],
             [
              0.7777777777777778,
              "#fb9f3a"
             ],
             [
              0.8888888888888888,
              "#fdca26"
             ],
             [
              1,
              "#f0f921"
             ]
            ],
            "type": "heatmapgl"
           }
          ],
          "histogram": [
           {
            "marker": {
             "colorbar": {
              "outlinewidth": 0,
              "ticks": ""
             }
            },
            "type": "histogram"
           }
          ],
          "histogram2d": [
           {
            "colorbar": {
             "outlinewidth": 0,
             "ticks": ""
            },
            "colorscale": [
             [
              0,
              "#0d0887"
             ],
             [
              0.1111111111111111,
              "#46039f"
             ],
             [
              0.2222222222222222,
              "#7201a8"
             ],
             [
              0.3333333333333333,
              "#9c179e"
             ],
             [
              0.4444444444444444,
              "#bd3786"
             ],
             [
              0.5555555555555556,
              "#d8576b"
             ],
             [
              0.6666666666666666,
              "#ed7953"
             ],
             [
              0.7777777777777778,
              "#fb9f3a"
             ],
             [
              0.8888888888888888,
              "#fdca26"
             ],
             [
              1,
              "#f0f921"
             ]
            ],
            "type": "histogram2d"
           }
          ],
          "histogram2dcontour": [
           {
            "colorbar": {
             "outlinewidth": 0,
             "ticks": ""
            },
            "colorscale": [
             [
              0,
              "#0d0887"
             ],
             [
              0.1111111111111111,
              "#46039f"
             ],
             [
              0.2222222222222222,
              "#7201a8"
             ],
             [
              0.3333333333333333,
              "#9c179e"
             ],
             [
              0.4444444444444444,
              "#bd3786"
             ],
             [
              0.5555555555555556,
              "#d8576b"
             ],
             [
              0.6666666666666666,
              "#ed7953"
             ],
             [
              0.7777777777777778,
              "#fb9f3a"
             ],
             [
              0.8888888888888888,
              "#fdca26"
             ],
             [
              1,
              "#f0f921"
             ]
            ],
            "type": "histogram2dcontour"
           }
          ],
          "mesh3d": [
           {
            "colorbar": {
             "outlinewidth": 0,
             "ticks": ""
            },
            "type": "mesh3d"
           }
          ],
          "parcoords": [
           {
            "line": {
             "colorbar": {
              "outlinewidth": 0,
              "ticks": ""
             }
            },
            "type": "parcoords"
           }
          ],
          "pie": [
           {
            "automargin": true,
            "type": "pie"
           }
          ],
          "scatter": [
           {
            "marker": {
             "colorbar": {
              "outlinewidth": 0,
              "ticks": ""
             }
            },
            "type": "scatter"
           }
          ],
          "scatter3d": [
           {
            "line": {
             "colorbar": {
              "outlinewidth": 0,
              "ticks": ""
             }
            },
            "marker": {
             "colorbar": {
              "outlinewidth": 0,
              "ticks": ""
             }
            },
            "type": "scatter3d"
           }
          ],
          "scattercarpet": [
           {
            "marker": {
             "colorbar": {
              "outlinewidth": 0,
              "ticks": ""
             }
            },
            "type": "scattercarpet"
           }
          ],
          "scattergeo": [
           {
            "marker": {
             "colorbar": {
              "outlinewidth": 0,
              "ticks": ""
             }
            },
            "type": "scattergeo"
           }
          ],
          "scattergl": [
           {
            "marker": {
             "colorbar": {
              "outlinewidth": 0,
              "ticks": ""
             }
            },
            "type": "scattergl"
           }
          ],
          "scattermapbox": [
           {
            "marker": {
             "colorbar": {
              "outlinewidth": 0,
              "ticks": ""
             }
            },
            "type": "scattermapbox"
           }
          ],
          "scatterpolar": [
           {
            "marker": {
             "colorbar": {
              "outlinewidth": 0,
              "ticks": ""
             }
            },
            "type": "scatterpolar"
           }
          ],
          "scatterpolargl": [
           {
            "marker": {
             "colorbar": {
              "outlinewidth": 0,
              "ticks": ""
             }
            },
            "type": "scatterpolargl"
           }
          ],
          "scatterternary": [
           {
            "marker": {
             "colorbar": {
              "outlinewidth": 0,
              "ticks": ""
             }
            },
            "type": "scatterternary"
           }
          ],
          "surface": [
           {
            "colorbar": {
             "outlinewidth": 0,
             "ticks": ""
            },
            "colorscale": [
             [
              0,
              "#0d0887"
             ],
             [
              0.1111111111111111,
              "#46039f"
             ],
             [
              0.2222222222222222,
              "#7201a8"
             ],
             [
              0.3333333333333333,
              "#9c179e"
             ],
             [
              0.4444444444444444,
              "#bd3786"
             ],
             [
              0.5555555555555556,
              "#d8576b"
             ],
             [
              0.6666666666666666,
              "#ed7953"
             ],
             [
              0.7777777777777778,
              "#fb9f3a"
             ],
             [
              0.8888888888888888,
              "#fdca26"
             ],
             [
              1,
              "#f0f921"
             ]
            ],
            "type": "surface"
           }
          ],
          "table": [
           {
            "cells": {
             "fill": {
              "color": "#EBF0F8"
             },
             "line": {
              "color": "white"
             }
            },
            "header": {
             "fill": {
              "color": "#C8D4E3"
             },
             "line": {
              "color": "white"
             }
            },
            "type": "table"
           }
          ]
         },
         "layout": {
          "annotationdefaults": {
           "arrowcolor": "#2a3f5f",
           "arrowhead": 0,
           "arrowwidth": 1
          },
          "coloraxis": {
           "colorbar": {
            "outlinewidth": 0,
            "ticks": ""
           }
          },
          "colorscale": {
           "diverging": [
            [
             0,
             "#8e0152"
            ],
            [
             0.1,
             "#c51b7d"
            ],
            [
             0.2,
             "#de77ae"
            ],
            [
             0.3,
             "#f1b6da"
            ],
            [
             0.4,
             "#fde0ef"
            ],
            [
             0.5,
             "#f7f7f7"
            ],
            [
             0.6,
             "#e6f5d0"
            ],
            [
             0.7,
             "#b8e186"
            ],
            [
             0.8,
             "#7fbc41"
            ],
            [
             0.9,
             "#4d9221"
            ],
            [
             1,
             "#276419"
            ]
           ],
           "sequential": [
            [
             0,
             "#0d0887"
            ],
            [
             0.1111111111111111,
             "#46039f"
            ],
            [
             0.2222222222222222,
             "#7201a8"
            ],
            [
             0.3333333333333333,
             "#9c179e"
            ],
            [
             0.4444444444444444,
             "#bd3786"
            ],
            [
             0.5555555555555556,
             "#d8576b"
            ],
            [
             0.6666666666666666,
             "#ed7953"
            ],
            [
             0.7777777777777778,
             "#fb9f3a"
            ],
            [
             0.8888888888888888,
             "#fdca26"
            ],
            [
             1,
             "#f0f921"
            ]
           ],
           "sequentialminus": [
            [
             0,
             "#0d0887"
            ],
            [
             0.1111111111111111,
             "#46039f"
            ],
            [
             0.2222222222222222,
             "#7201a8"
            ],
            [
             0.3333333333333333,
             "#9c179e"
            ],
            [
             0.4444444444444444,
             "#bd3786"
            ],
            [
             0.5555555555555556,
             "#d8576b"
            ],
            [
             0.6666666666666666,
             "#ed7953"
            ],
            [
             0.7777777777777778,
             "#fb9f3a"
            ],
            [
             0.8888888888888888,
             "#fdca26"
            ],
            [
             1,
             "#f0f921"
            ]
           ]
          },
          "colorway": [
           "#636efa",
           "#EF553B",
           "#00cc96",
           "#ab63fa",
           "#FFA15A",
           "#19d3f3",
           "#FF6692",
           "#B6E880",
           "#FF97FF",
           "#FECB52"
          ],
          "font": {
           "color": "#2a3f5f"
          },
          "geo": {
           "bgcolor": "white",
           "lakecolor": "white",
           "landcolor": "#E5ECF6",
           "showlakes": true,
           "showland": true,
           "subunitcolor": "white"
          },
          "hoverlabel": {
           "align": "left"
          },
          "hovermode": "closest",
          "mapbox": {
           "style": "light"
          },
          "paper_bgcolor": "white",
          "plot_bgcolor": "#E5ECF6",
          "polar": {
           "angularaxis": {
            "gridcolor": "white",
            "linecolor": "white",
            "ticks": ""
           },
           "bgcolor": "#E5ECF6",
           "radialaxis": {
            "gridcolor": "white",
            "linecolor": "white",
            "ticks": ""
           }
          },
          "scene": {
           "xaxis": {
            "backgroundcolor": "#E5ECF6",
            "gridcolor": "white",
            "gridwidth": 2,
            "linecolor": "white",
            "showbackground": true,
            "ticks": "",
            "zerolinecolor": "white"
           },
           "yaxis": {
            "backgroundcolor": "#E5ECF6",
            "gridcolor": "white",
            "gridwidth": 2,
            "linecolor": "white",
            "showbackground": true,
            "ticks": "",
            "zerolinecolor": "white"
           },
           "zaxis": {
            "backgroundcolor": "#E5ECF6",
            "gridcolor": "white",
            "gridwidth": 2,
            "linecolor": "white",
            "showbackground": true,
            "ticks": "",
            "zerolinecolor": "white"
           }
          },
          "shapedefaults": {
           "line": {
            "color": "#2a3f5f"
           }
          },
          "ternary": {
           "aaxis": {
            "gridcolor": "white",
            "linecolor": "white",
            "ticks": ""
           },
           "baxis": {
            "gridcolor": "white",
            "linecolor": "white",
            "ticks": ""
           },
           "bgcolor": "#E5ECF6",
           "caxis": {
            "gridcolor": "white",
            "linecolor": "white",
            "ticks": ""
           }
          },
          "title": {
           "x": 0.05
          },
          "xaxis": {
           "automargin": true,
           "gridcolor": "white",
           "linecolor": "white",
           "ticks": "",
           "title": {
            "standoff": 15
           },
           "zerolinecolor": "white",
           "zerolinewidth": 2
          },
          "yaxis": {
           "automargin": true,
           "gridcolor": "white",
           "linecolor": "white",
           "ticks": "",
           "title": {
            "standoff": 15
           },
           "zerolinecolor": "white",
           "zerolinewidth": 2
          }
         }
        },
        "title": {
         "font": {
          "color": "#4D5663"
         }
        },
        "xaxis": {
         "gridcolor": "#E1E5ED",
         "showgrid": true,
         "tickfont": {
          "color": "#4D5663"
         },
         "title": {
          "font": {
           "color": "#4D5663"
          },
          "text": ""
         },
         "zerolinecolor": "#E1E5ED"
        },
        "yaxis": {
         "gridcolor": "#E1E5ED",
         "showgrid": true,
         "tickfont": {
          "color": "#4D5663"
         },
         "title": {
          "font": {
           "color": "#4D5663"
          },
          "text": ""
         },
         "zerolinecolor": "#E1E5ED"
        }
       }
      },
      "text/html": [
       "<div>\n",
       "        \n",
       "        \n",
       "            <div id=\"ae099696-281c-421e-9b29-64c1fc20c1ae\" class=\"plotly-graph-div\" style=\"height:525px; width:100%;\"></div>\n",
       "            <script type=\"text/javascript\">\n",
       "                require([\"plotly\"], function(Plotly) {\n",
       "                    window.PLOTLYENV=window.PLOTLYENV || {};\n",
       "                    window.PLOTLYENV.BASE_URL='https://plot.ly';\n",
       "                    \n",
       "                if (document.getElementById(\"ae099696-281c-421e-9b29-64c1fc20c1ae\")) {\n",
       "                    Plotly.newPlot(\n",
       "                        'ae099696-281c-421e-9b29-64c1fc20c1ae',\n",
       "                        [{\"colorscale\": [[0.0, \"rgb(165,0,38)\"], [0.1, \"rgb(215,48,39)\"], [0.2, \"rgb(244,109,67)\"], [0.3, \"rgb(253,174,97)\"], [0.4, \"rgb(254,224,144)\"], [0.5, \"rgb(255,255,191)\"], [0.6, \"rgb(224,243,248)\"], [0.7, \"rgb(171,217,233)\"], [0.8, \"rgb(116,173,209)\"], [0.9, \"rgb(69,117,180)\"], [1.0, \"rgb(49,54,149)\"]], \"type\": \"surface\", \"x\": [0, 1, 2, 3, 4], \"y\": [\"x\", \"y\", \"z\"], \"z\": [[1, 2, 3, 4, 5], [10, 20, 30, 20, 10], [5, 4, 3, 2, 1]]}],\n",
       "                        {\"legend\": {\"bgcolor\": \"#F5F6F9\", \"font\": {\"color\": \"#4D5663\"}}, \"paper_bgcolor\": \"#F5F6F9\", \"plot_bgcolor\": \"#F5F6F9\", \"template\": {\"data\": {\"bar\": [{\"error_x\": {\"color\": \"#2a3f5f\"}, \"error_y\": {\"color\": \"#2a3f5f\"}, \"marker\": {\"line\": {\"color\": \"#E5ECF6\", \"width\": 0.5}}, \"type\": \"bar\"}], \"barpolar\": [{\"marker\": {\"line\": {\"color\": \"#E5ECF6\", \"width\": 0.5}}, \"type\": \"barpolar\"}], \"carpet\": [{\"aaxis\": {\"endlinecolor\": \"#2a3f5f\", \"gridcolor\": \"white\", \"linecolor\": \"white\", \"minorgridcolor\": \"white\", \"startlinecolor\": \"#2a3f5f\"}, \"baxis\": {\"endlinecolor\": \"#2a3f5f\", \"gridcolor\": \"white\", \"linecolor\": \"white\", \"minorgridcolor\": \"white\", \"startlinecolor\": \"#2a3f5f\"}, \"type\": \"carpet\"}], \"choropleth\": [{\"colorbar\": {\"outlinewidth\": 0, \"ticks\": \"\"}, \"type\": \"choropleth\"}], \"contour\": [{\"colorbar\": {\"outlinewidth\": 0, \"ticks\": \"\"}, \"colorscale\": [[0.0, \"#0d0887\"], [0.1111111111111111, \"#46039f\"], [0.2222222222222222, \"#7201a8\"], [0.3333333333333333, \"#9c179e\"], [0.4444444444444444, \"#bd3786\"], [0.5555555555555556, \"#d8576b\"], [0.6666666666666666, \"#ed7953\"], [0.7777777777777778, \"#fb9f3a\"], [0.8888888888888888, \"#fdca26\"], [1.0, \"#f0f921\"]], \"type\": \"contour\"}], \"contourcarpet\": [{\"colorbar\": {\"outlinewidth\": 0, \"ticks\": \"\"}, \"type\": \"contourcarpet\"}], \"heatmap\": [{\"colorbar\": {\"outlinewidth\": 0, \"ticks\": \"\"}, \"colorscale\": [[0.0, \"#0d0887\"], [0.1111111111111111, \"#46039f\"], [0.2222222222222222, \"#7201a8\"], [0.3333333333333333, \"#9c179e\"], [0.4444444444444444, \"#bd3786\"], [0.5555555555555556, \"#d8576b\"], [0.6666666666666666, \"#ed7953\"], [0.7777777777777778, \"#fb9f3a\"], [0.8888888888888888, \"#fdca26\"], [1.0, \"#f0f921\"]], \"type\": \"heatmap\"}], \"heatmapgl\": [{\"colorbar\": {\"outlinewidth\": 0, \"ticks\": \"\"}, \"colorscale\": [[0.0, \"#0d0887\"], [0.1111111111111111, \"#46039f\"], [0.2222222222222222, \"#7201a8\"], [0.3333333333333333, \"#9c179e\"], [0.4444444444444444, \"#bd3786\"], [0.5555555555555556, \"#d8576b\"], [0.6666666666666666, \"#ed7953\"], [0.7777777777777778, \"#fb9f3a\"], [0.8888888888888888, \"#fdca26\"], [1.0, \"#f0f921\"]], \"type\": \"heatmapgl\"}], \"histogram\": [{\"marker\": {\"colorbar\": {\"outlinewidth\": 0, \"ticks\": \"\"}}, \"type\": \"histogram\"}], \"histogram2d\": [{\"colorbar\": {\"outlinewidth\": 0, \"ticks\": \"\"}, \"colorscale\": [[0.0, \"#0d0887\"], [0.1111111111111111, \"#46039f\"], [0.2222222222222222, \"#7201a8\"], [0.3333333333333333, \"#9c179e\"], [0.4444444444444444, \"#bd3786\"], [0.5555555555555556, \"#d8576b\"], [0.6666666666666666, \"#ed7953\"], [0.7777777777777778, \"#fb9f3a\"], [0.8888888888888888, \"#fdca26\"], [1.0, \"#f0f921\"]], \"type\": \"histogram2d\"}], \"histogram2dcontour\": [{\"colorbar\": {\"outlinewidth\": 0, \"ticks\": \"\"}, \"colorscale\": [[0.0, \"#0d0887\"], [0.1111111111111111, \"#46039f\"], [0.2222222222222222, \"#7201a8\"], [0.3333333333333333, \"#9c179e\"], [0.4444444444444444, \"#bd3786\"], [0.5555555555555556, \"#d8576b\"], [0.6666666666666666, \"#ed7953\"], [0.7777777777777778, \"#fb9f3a\"], [0.8888888888888888, \"#fdca26\"], [1.0, \"#f0f921\"]], \"type\": \"histogram2dcontour\"}], \"mesh3d\": [{\"colorbar\": {\"outlinewidth\": 0, \"ticks\": \"\"}, \"type\": \"mesh3d\"}], \"parcoords\": [{\"line\": {\"colorbar\": {\"outlinewidth\": 0, \"ticks\": \"\"}}, \"type\": \"parcoords\"}], \"pie\": [{\"automargin\": true, \"type\": \"pie\"}], \"scatter\": [{\"marker\": {\"colorbar\": {\"outlinewidth\": 0, \"ticks\": \"\"}}, \"type\": \"scatter\"}], \"scatter3d\": [{\"line\": {\"colorbar\": {\"outlinewidth\": 0, \"ticks\": \"\"}}, \"marker\": {\"colorbar\": {\"outlinewidth\": 0, \"ticks\": \"\"}}, \"type\": \"scatter3d\"}], \"scattercarpet\": [{\"marker\": {\"colorbar\": {\"outlinewidth\": 0, \"ticks\": \"\"}}, \"type\": \"scattercarpet\"}], \"scattergeo\": [{\"marker\": {\"colorbar\": {\"outlinewidth\": 0, \"ticks\": \"\"}}, \"type\": \"scattergeo\"}], \"scattergl\": [{\"marker\": {\"colorbar\": {\"outlinewidth\": 0, \"ticks\": \"\"}}, \"type\": \"scattergl\"}], \"scattermapbox\": [{\"marker\": {\"colorbar\": {\"outlinewidth\": 0, \"ticks\": \"\"}}, \"type\": \"scattermapbox\"}], \"scatterpolar\": [{\"marker\": {\"colorbar\": {\"outlinewidth\": 0, \"ticks\": \"\"}}, \"type\": \"scatterpolar\"}], \"scatterpolargl\": [{\"marker\": {\"colorbar\": {\"outlinewidth\": 0, \"ticks\": \"\"}}, \"type\": \"scatterpolargl\"}], \"scatterternary\": [{\"marker\": {\"colorbar\": {\"outlinewidth\": 0, \"ticks\": \"\"}}, \"type\": \"scatterternary\"}], \"surface\": [{\"colorbar\": {\"outlinewidth\": 0, \"ticks\": \"\"}, \"colorscale\": [[0.0, \"#0d0887\"], [0.1111111111111111, \"#46039f\"], [0.2222222222222222, \"#7201a8\"], [0.3333333333333333, \"#9c179e\"], [0.4444444444444444, \"#bd3786\"], [0.5555555555555556, \"#d8576b\"], [0.6666666666666666, \"#ed7953\"], [0.7777777777777778, \"#fb9f3a\"], [0.8888888888888888, \"#fdca26\"], [1.0, \"#f0f921\"]], \"type\": \"surface\"}], \"table\": [{\"cells\": {\"fill\": {\"color\": \"#EBF0F8\"}, \"line\": {\"color\": \"white\"}}, \"header\": {\"fill\": {\"color\": \"#C8D4E3\"}, \"line\": {\"color\": \"white\"}}, \"type\": \"table\"}]}, \"layout\": {\"annotationdefaults\": {\"arrowcolor\": \"#2a3f5f\", \"arrowhead\": 0, \"arrowwidth\": 1}, \"coloraxis\": {\"colorbar\": {\"outlinewidth\": 0, \"ticks\": \"\"}}, \"colorscale\": {\"diverging\": [[0, \"#8e0152\"], [0.1, \"#c51b7d\"], [0.2, \"#de77ae\"], [0.3, \"#f1b6da\"], [0.4, \"#fde0ef\"], [0.5, \"#f7f7f7\"], [0.6, \"#e6f5d0\"], [0.7, \"#b8e186\"], [0.8, \"#7fbc41\"], [0.9, \"#4d9221\"], [1, \"#276419\"]], \"sequential\": [[0.0, \"#0d0887\"], [0.1111111111111111, \"#46039f\"], [0.2222222222222222, \"#7201a8\"], [0.3333333333333333, \"#9c179e\"], [0.4444444444444444, \"#bd3786\"], [0.5555555555555556, \"#d8576b\"], [0.6666666666666666, \"#ed7953\"], [0.7777777777777778, \"#fb9f3a\"], [0.8888888888888888, \"#fdca26\"], [1.0, \"#f0f921\"]], \"sequentialminus\": [[0.0, \"#0d0887\"], [0.1111111111111111, \"#46039f\"], [0.2222222222222222, \"#7201a8\"], [0.3333333333333333, \"#9c179e\"], [0.4444444444444444, \"#bd3786\"], [0.5555555555555556, \"#d8576b\"], [0.6666666666666666, \"#ed7953\"], [0.7777777777777778, \"#fb9f3a\"], [0.8888888888888888, \"#fdca26\"], [1.0, \"#f0f921\"]]}, \"colorway\": [\"#636efa\", \"#EF553B\", \"#00cc96\", \"#ab63fa\", \"#FFA15A\", \"#19d3f3\", \"#FF6692\", \"#B6E880\", \"#FF97FF\", \"#FECB52\"], \"font\": {\"color\": \"#2a3f5f\"}, \"geo\": {\"bgcolor\": \"white\", \"lakecolor\": \"white\", \"landcolor\": \"#E5ECF6\", \"showlakes\": true, \"showland\": true, \"subunitcolor\": \"white\"}, \"hoverlabel\": {\"align\": \"left\"}, \"hovermode\": \"closest\", \"mapbox\": {\"style\": \"light\"}, \"paper_bgcolor\": \"white\", \"plot_bgcolor\": \"#E5ECF6\", \"polar\": {\"angularaxis\": {\"gridcolor\": \"white\", \"linecolor\": \"white\", \"ticks\": \"\"}, \"bgcolor\": \"#E5ECF6\", \"radialaxis\": {\"gridcolor\": \"white\", \"linecolor\": \"white\", \"ticks\": \"\"}}, \"scene\": {\"xaxis\": {\"backgroundcolor\": \"#E5ECF6\", \"gridcolor\": \"white\", \"gridwidth\": 2, \"linecolor\": \"white\", \"showbackground\": true, \"ticks\": \"\", \"zerolinecolor\": \"white\"}, \"yaxis\": {\"backgroundcolor\": \"#E5ECF6\", \"gridcolor\": \"white\", \"gridwidth\": 2, \"linecolor\": \"white\", \"showbackground\": true, \"ticks\": \"\", \"zerolinecolor\": \"white\"}, \"zaxis\": {\"backgroundcolor\": \"#E5ECF6\", \"gridcolor\": \"white\", \"gridwidth\": 2, \"linecolor\": \"white\", \"showbackground\": true, \"ticks\": \"\", \"zerolinecolor\": \"white\"}}, \"shapedefaults\": {\"line\": {\"color\": \"#2a3f5f\"}}, \"ternary\": {\"aaxis\": {\"gridcolor\": \"white\", \"linecolor\": \"white\", \"ticks\": \"\"}, \"baxis\": {\"gridcolor\": \"white\", \"linecolor\": \"white\", \"ticks\": \"\"}, \"bgcolor\": \"#E5ECF6\", \"caxis\": {\"gridcolor\": \"white\", \"linecolor\": \"white\", \"ticks\": \"\"}}, \"title\": {\"x\": 0.05}, \"xaxis\": {\"automargin\": true, \"gridcolor\": \"white\", \"linecolor\": \"white\", \"ticks\": \"\", \"title\": {\"standoff\": 15}, \"zerolinecolor\": \"white\", \"zerolinewidth\": 2}, \"yaxis\": {\"automargin\": true, \"gridcolor\": \"white\", \"linecolor\": \"white\", \"ticks\": \"\", \"title\": {\"standoff\": 15}, \"zerolinecolor\": \"white\", \"zerolinewidth\": 2}}}, \"title\": {\"font\": {\"color\": \"#4D5663\"}}, \"xaxis\": {\"gridcolor\": \"#E1E5ED\", \"showgrid\": true, \"tickfont\": {\"color\": \"#4D5663\"}, \"title\": {\"font\": {\"color\": \"#4D5663\"}, \"text\": \"\"}, \"zerolinecolor\": \"#E1E5ED\"}, \"yaxis\": {\"gridcolor\": \"#E1E5ED\", \"showgrid\": true, \"tickfont\": {\"color\": \"#4D5663\"}, \"title\": {\"font\": {\"color\": \"#4D5663\"}, \"text\": \"\"}, \"zerolinecolor\": \"#E1E5ED\"}},\n",
       "                        {\"showLink\": true, \"linkText\": \"Export to plot.ly\", \"plotlyServerURL\": \"https://plot.ly\", \"responsive\": true}\n",
       "                    ).then(function(){\n",
       "                            \n",
       "var gd = document.getElementById('ae099696-281c-421e-9b29-64c1fc20c1ae');\n",
       "var x = new MutationObserver(function (mutations, observer) {{\n",
       "        var display = window.getComputedStyle(gd).display;\n",
       "        if (!display || display === 'none') {{\n",
       "            console.log([gd, 'removed!']);\n",
       "            Plotly.purge(gd);\n",
       "            observer.disconnect();\n",
       "        }}\n",
       "}});\n",
       "\n",
       "// Listen for the removal of the full notebook cells\n",
       "var notebookContainer = gd.closest('#notebook-container');\n",
       "if (notebookContainer) {{\n",
       "    x.observe(notebookContainer, {childList: true});\n",
       "}}\n",
       "\n",
       "// Listen for the clearing of the current output cell\n",
       "var outputEl = gd.closest('.output');\n",
       "if (outputEl) {{\n",
       "    x.observe(outputEl, {childList: true});\n",
       "}}\n",
       "\n",
       "                        })\n",
       "                };\n",
       "                });\n",
       "            </script>\n",
       "        </div>"
      ]
     },
     "metadata": {},
     "output_type": "display_data"
    }
   ],
   "source": [
    "df3 = pd.DataFrame({'x':[1,2,3,4,5],'y':[10,20,30,20,10],'z':[5,4,3,2,1]})\n",
    "df3.iplot(kind='surface',colorscale='rdylbu')"
   ]
  },
  {
   "cell_type": "markdown",
   "metadata": {},
   "source": [
    "## Spread"
   ]
  },
  {
   "cell_type": "code",
   "execution_count": 16,
   "metadata": {},
   "outputs": [
    {
     "data": {
      "application/vnd.plotly.v1+json": {
       "config": {
        "linkText": "Export to plot.ly",
        "plotlyServerURL": "https://plot.ly",
        "showLink": true
       },
       "data": [
        {
         "line": {
          "color": "rgba(255, 153, 51, 1.0)",
          "dash": "solid",
          "shape": "linear",
          "width": 1.3
         },
         "mode": "lines",
         "name": "A",
         "text": "",
         "type": "scatter",
         "x": [
          0,
          1,
          2,
          3,
          4,
          5,
          6,
          7,
          8,
          9,
          10,
          11,
          12,
          13,
          14,
          15,
          16,
          17,
          18,
          19,
          20,
          21,
          22,
          23,
          24,
          25,
          26,
          27,
          28,
          29,
          30,
          31,
          32,
          33,
          34,
          35,
          36,
          37,
          38,
          39,
          40,
          41,
          42,
          43,
          44,
          45,
          46,
          47,
          48,
          49,
          50,
          51,
          52,
          53,
          54,
          55,
          56,
          57,
          58,
          59,
          60,
          61,
          62,
          63,
          64,
          65,
          66,
          67,
          68,
          69,
          70,
          71,
          72,
          73,
          74,
          75,
          76,
          77,
          78,
          79,
          80,
          81,
          82,
          83,
          84,
          85,
          86,
          87,
          88,
          89,
          90,
          91,
          92,
          93,
          94,
          95,
          96,
          97,
          98,
          99
         ],
         "y": [
          -0.29643740889399095,
          0.32868435515730043,
          1.7461416496086142,
          -0.24004567607313979,
          0.13879213518446365,
          0.5535216967030455,
          -0.5654788153613118,
          1.4745095081896062,
          0.24599950755732192,
          -1.2056020605811952,
          1.1064580688514372,
          1.2560715526922155,
          0.9370673363805552,
          -0.3035228949304509,
          0.8173073261565816,
          -1.049133286502186,
          0.8206309550571658,
          0.4257464010855425,
          -0.204969188764631,
          -0.49515630325678384,
          -0.46557478153402304,
          -0.7100122999382016,
          0.5038367695493804,
          0.6095718122464268,
          -0.9665021599071422,
          -1.941392438441163,
          -0.4410063758400523,
          0.03245090999579194,
          0.1343061826488072,
          0.5107365179921368,
          -0.3148389852787225,
          -0.3475463838805427,
          0.38918681250649434,
          -0.5878571849206334,
          0.18237827278071525,
          0.8139831276610341,
          -0.3044351308280057,
          0.7856674253493616,
          0.3511107651142644,
          0.4991054778015313,
          1.8905790693628632,
          -0.36064056808190237,
          -0.20806458226915128,
          1.1251468281191688,
          -2.126253635634463,
          -0.6012651762207218,
          -0.4332096922576356,
          0.5936193398160595,
          -1.8610576096155729,
          -0.6848069423978584,
          -0.1741312896553701,
          -0.036689001873205666,
          -0.17997951544796514,
          1.0197180801187515,
          -1.066533298890777,
          -0.9114780950624539,
          -0.11932825824118615,
          1.402067892564673,
          -0.086837270558958,
          0.463224533101115,
          1.1851504359883962,
          -0.974581228669598,
          0.5172927499818978,
          -0.019078919866214714,
          1.6757029533305858,
          -0.7739305807934194,
          0.49975487039061167,
          2.431023967741468,
          0.5156404761815808,
          -2.2967795329006546,
          -1.0552189283244984,
          0.12688409298548323,
          -1.677072780155331,
          -0.8594495959629678,
          -0.4444344655352142,
          -1.2167733442412334,
          0.38604138505028,
          1.0138946898474628,
          0.14697818534804966,
          1.9761709653128225,
          0.8272009540730214,
          -0.3939697404040883,
          0.6354964151979149,
          -0.4806868089713751,
          0.8576277591041233,
          -0.5114800988431405,
          -0.5184321876913844,
          0.8927289941236105,
          -0.13572637194054665,
          0.9993000128725914,
          0.9321656254505977,
          0.1462909328841926,
          1.318253885597681,
          -1.2340506320852325,
          0.5166974940232978,
          -0.00888755926616613,
          0.2571741481342909,
          0.6922229079065875,
          0.6538799136667284,
          0.9128588038964904
         ]
        },
        {
         "line": {
          "color": "rgba(55, 128, 191, 1.0)",
          "dash": "solid",
          "shape": "linear",
          "width": 1.3
         },
         "mode": "lines",
         "name": "B",
         "text": "",
         "type": "scatter",
         "x": [
          0,
          1,
          2,
          3,
          4,
          5,
          6,
          7,
          8,
          9,
          10,
          11,
          12,
          13,
          14,
          15,
          16,
          17,
          18,
          19,
          20,
          21,
          22,
          23,
          24,
          25,
          26,
          27,
          28,
          29,
          30,
          31,
          32,
          33,
          34,
          35,
          36,
          37,
          38,
          39,
          40,
          41,
          42,
          43,
          44,
          45,
          46,
          47,
          48,
          49,
          50,
          51,
          52,
          53,
          54,
          55,
          56,
          57,
          58,
          59,
          60,
          61,
          62,
          63,
          64,
          65,
          66,
          67,
          68,
          69,
          70,
          71,
          72,
          73,
          74,
          75,
          76,
          77,
          78,
          79,
          80,
          81,
          82,
          83,
          84,
          85,
          86,
          87,
          88,
          89,
          90,
          91,
          92,
          93,
          94,
          95,
          96,
          97,
          98,
          99
         ],
         "y": [
          0.07900847452249811,
          -0.9122677191922264,
          0.3112574668049616,
          1.7728983810125845,
          -0.46509577776202565,
          -0.8500736939519596,
          0.09604825979531327,
          -1.6741323641529193,
          0.3654389760932509,
          -0.396636210544783,
          -0.39935846585434787,
          -2.072144060438098,
          -0.9592798926978057,
          1.009429267180827,
          1.4347810916763082,
          1.2238156048083508,
          -0.2539894869632165,
          -0.03462226412381225,
          1.5213228468514988,
          -0.16020138184502902,
          1.1012259404213742,
          -1.7925797528858496,
          1.3515348090377433,
          -1.2785375474729208,
          -0.9450429616882644,
          -0.3565619797841725,
          -0.526895547025469,
          -0.29703925347581567,
          0.470679346499512,
          -0.21965139430373848,
          -0.277572241034337,
          1.6757739473793847,
          -0.6844213119094037,
          2.5467128090186346,
          0.3092940280081921,
          0.36706217813011577,
          0.3620155081208797,
          -1.0693211361043422,
          -0.32058523850796067,
          0.34172741616987756,
          -1.013975596657667,
          -0.330584333129899,
          2.354552575307552,
          0.2222715205421336,
          -0.24491641424236923,
          0.08652389492069956,
          -0.6661046551013905,
          -0.5684243647771562,
          -0.16815681870593208,
          0.5451732559293533,
          -0.7003127063854502,
          -2.0991552130751163,
          -0.8805818658707721,
          1.1181512595690717,
          -1.8236861113099427,
          -1.109326462564337,
          0.8850844170534031,
          -0.15140124010444625,
          2.089817025595409,
          -1.1412646577928676,
          0.5130786272975839,
          0.802315702090518,
          0.8227263767426035,
          -0.4211094361933707,
          0.3188905388362875,
          -0.27597929718394765,
          1.4894104428242139,
          1.0154933954044825,
          0.9032711654013391,
          1.4822651315059352,
          0.5187114432149854,
          1.7355646462196677,
          -1.0622908954228063,
          -0.41376365210767657,
          -0.4752312118552798,
          0.25271611250132825,
          0.11808813566547226,
          -1.4190087109867906,
          -1.099413224707759,
          -0.8227951494886859,
          1.0404839507698609,
          -0.3836115958841534,
          -0.36668922503310136,
          -0.9641263348806826,
          -1.4158392346294928,
          -0.5832744046678073,
          -0.2507105982209403,
          -0.519634303248391,
          1.3501586378007053,
          0.3645687598665697,
          -2.2309271526923697,
          -2.2570879544856224,
          0.681349780667486,
          0.005462937664764124,
          0.08378619913036302,
          -0.18127299340078432,
          0.5088984930410607,
          -0.12613393601230247,
          -1.067492178711451,
          -0.5060295021572043
         ]
        },
        {
         "connectgaps": false,
         "fill": "tozeroy",
         "line": {
          "color": "green",
          "dash": "solid",
          "shape": "linear",
          "width": 0.5
         },
         "mode": "lines",
         "name": "Spread",
         "showlegend": false,
         "type": "scatter",
         "x": [
          0,
          1,
          2,
          3,
          4,
          5,
          6,
          7,
          8,
          9,
          10,
          11,
          12,
          13,
          14,
          15,
          16,
          17,
          18,
          19,
          20,
          21,
          22,
          23,
          24,
          25,
          26,
          27,
          28,
          29,
          30,
          31,
          32,
          33,
          34,
          35,
          36,
          37,
          38,
          39,
          40,
          41,
          42,
          43,
          44,
          45,
          46,
          47,
          48,
          49,
          50,
          51,
          52,
          53,
          54,
          55,
          56,
          57,
          58,
          59,
          60,
          61,
          62,
          63,
          64,
          65,
          66,
          67,
          68,
          69,
          70,
          71,
          72,
          73,
          74,
          75,
          76,
          77,
          78,
          79,
          80,
          81,
          82,
          83,
          84,
          85,
          86,
          87,
          88,
          89,
          90,
          91,
          92,
          93,
          94,
          95,
          96,
          97,
          98,
          99
         ],
         "xaxis": "x2",
         "y": [
          "",
          1.2409520743495268,
          1.4348841828036525,
          "",
          0.6038879129464894,
          1.4035953906550052,
          "",
          3.148641872342526,
          "",
          "",
          1.505816534705785,
          3.3282156131303133,
          1.8963472290783607,
          "",
          "",
          "",
          1.0746204420203822,
          0.46036866520935477,
          "",
          "",
          "",
          1.082567452947648,
          "",
          1.8881093597193477,
          "",
          "",
          0.08588917118541672,
          0.3294901634716076,
          "",
          0.7303879122958753,
          "",
          "",
          1.0736081244158981,
          "",
          "",
          0.4469209495309183,
          "",
          1.8549885614537038,
          0.671696003622225,
          0.15737806163165374,
          2.9045546660205304,
          "",
          "",
          0.9028753075770352,
          "",
          "",
          0.23289496284375488,
          1.1620437045932157,
          "",
          "",
          0.5261814167300801,
          2.0624662112019108,
          0.7006023504228069,
          "",
          0.7571528124191658,
          0.19784836750188317,
          "",
          1.5534691326691192,
          "",
          1.6044891908939825,
          0.6720718086908123,
          "",
          "",
          0.402030516327156,
          1.3568124144942983,
          "",
          "",
          1.4155305723369855,
          "",
          "",
          "",
          "",
          "",
          "",
          0.03079674632006557,
          "",
          0.26795324938480775,
          2.4329034008342534,
          1.2463914100558087,
          2.7989661148015084,
          "",
          "",
          1.0021856402310163,
          0.48343952590930744,
          2.2734669937336163,
          0.07179430582466684,
          "",
          1.4123632973720015,
          "",
          0.6347312530060216,
          3.1630927781429676,
          2.403378887369815,
          0.6369041049301951,
          "",
          0.4329112948929348,
          0.17238543413461818,
          "",
          0.81835684391889,
          1.7213720923781795,
          1.4188883060536948
         ],
         "yaxis": "y2"
        },
        {
         "connectgaps": false,
         "fill": "tozeroy",
         "line": {
          "color": "red",
          "dash": "solid",
          "shape": "linear",
          "width": 0.5
         },
         "mode": "lines",
         "name": "Spread",
         "showlegend": false,
         "type": "scatter",
         "x": [
          0,
          1,
          2,
          3,
          4,
          5,
          6,
          7,
          8,
          9,
          10,
          11,
          12,
          13,
          14,
          15,
          16,
          17,
          18,
          19,
          20,
          21,
          22,
          23,
          24,
          25,
          26,
          27,
          28,
          29,
          30,
          31,
          32,
          33,
          34,
          35,
          36,
          37,
          38,
          39,
          40,
          41,
          42,
          43,
          44,
          45,
          46,
          47,
          48,
          49,
          50,
          51,
          52,
          53,
          54,
          55,
          56,
          57,
          58,
          59,
          60,
          61,
          62,
          63,
          64,
          65,
          66,
          67,
          68,
          69,
          70,
          71,
          72,
          73,
          74,
          75,
          76,
          77,
          78,
          79,
          80,
          81,
          82,
          83,
          84,
          85,
          86,
          87,
          88,
          89,
          90,
          91,
          92,
          93,
          94,
          95,
          96,
          97,
          98,
          99
         ],
         "xaxis": "x2",
         "y": [
          -0.37544588341648905,
          "",
          "",
          -2.012944057085724,
          "",
          "",
          -0.6615270751566251,
          "",
          -0.11943946853592896,
          -0.8089658500364123,
          "",
          "",
          "",
          -1.3129521621112779,
          -0.6174737655197265,
          -2.272948891310537,
          "",
          "",
          -1.7262920356161298,
          -0.3349549214117548,
          -1.5668007219553972,
          "",
          -0.8476980394883629,
          "",
          -0.021459198218877762,
          -1.5848304586569903,
          "",
          "",
          -0.3363731638507048,
          "",
          -0.03726674424438553,
          -2.0233203312599275,
          "",
          -3.134569993939268,
          -0.12691575522747686,
          "",
          -0.6664506389488853,
          "",
          "",
          "",
          "",
          -0.03005623495200338,
          -2.562617157576703,
          "",
          -1.8813372213920938,
          -0.6877890711414214,
          "",
          "",
          -1.6929007909096407,
          -1.2299801983272118,
          "",
          "",
          "",
          -0.09843317945032015,
          "",
          "",
          -1.0044126752945892,
          "",
          -2.176654296154367,
          "",
          "",
          -1.776896930760116,
          -0.30543362676070573,
          "",
          "",
          -0.4979512836094717,
          -0.9896555724336022,
          "",
          -0.3876306892197583,
          -3.77904466440659,
          -1.573930371539484,
          -1.6086805532341844,
          -0.6147818847325246,
          -0.4456859438552912,
          "",
          -1.4694894567425616,
          "",
          "",
          "",
          "",
          -0.21328299669683948,
          -0.010358144519934886,
          "",
          "",
          "",
          "",
          -0.26772158947044417,
          "",
          -1.485885009741252,
          "",
          "",
          "",
          "",
          -1.2395135697499966,
          "",
          "",
          -0.2517243449067698,
          "",
          "",
          ""
         ],
         "yaxis": "y2"
        }
       ],
       "layout": {
        "hovermode": "x",
        "legend": {
         "bgcolor": "#F5F6F9",
         "font": {
          "color": "#4D5663"
         }
        },
        "paper_bgcolor": "#F5F6F9",
        "plot_bgcolor": "#F5F6F9",
        "template": {
         "data": {
          "bar": [
           {
            "error_x": {
             "color": "#2a3f5f"
            },
            "error_y": {
             "color": "#2a3f5f"
            },
            "marker": {
             "line": {
              "color": "#E5ECF6",
              "width": 0.5
             }
            },
            "type": "bar"
           }
          ],
          "barpolar": [
           {
            "marker": {
             "line": {
              "color": "#E5ECF6",
              "width": 0.5
             }
            },
            "type": "barpolar"
           }
          ],
          "carpet": [
           {
            "aaxis": {
             "endlinecolor": "#2a3f5f",
             "gridcolor": "white",
             "linecolor": "white",
             "minorgridcolor": "white",
             "startlinecolor": "#2a3f5f"
            },
            "baxis": {
             "endlinecolor": "#2a3f5f",
             "gridcolor": "white",
             "linecolor": "white",
             "minorgridcolor": "white",
             "startlinecolor": "#2a3f5f"
            },
            "type": "carpet"
           }
          ],
          "choropleth": [
           {
            "colorbar": {
             "outlinewidth": 0,
             "ticks": ""
            },
            "type": "choropleth"
           }
          ],
          "contour": [
           {
            "colorbar": {
             "outlinewidth": 0,
             "ticks": ""
            },
            "colorscale": [
             [
              0,
              "#0d0887"
             ],
             [
              0.1111111111111111,
              "#46039f"
             ],
             [
              0.2222222222222222,
              "#7201a8"
             ],
             [
              0.3333333333333333,
              "#9c179e"
             ],
             [
              0.4444444444444444,
              "#bd3786"
             ],
             [
              0.5555555555555556,
              "#d8576b"
             ],
             [
              0.6666666666666666,
              "#ed7953"
             ],
             [
              0.7777777777777778,
              "#fb9f3a"
             ],
             [
              0.8888888888888888,
              "#fdca26"
             ],
             [
              1,
              "#f0f921"
             ]
            ],
            "type": "contour"
           }
          ],
          "contourcarpet": [
           {
            "colorbar": {
             "outlinewidth": 0,
             "ticks": ""
            },
            "type": "contourcarpet"
           }
          ],
          "heatmap": [
           {
            "colorbar": {
             "outlinewidth": 0,
             "ticks": ""
            },
            "colorscale": [
             [
              0,
              "#0d0887"
             ],
             [
              0.1111111111111111,
              "#46039f"
             ],
             [
              0.2222222222222222,
              "#7201a8"
             ],
             [
              0.3333333333333333,
              "#9c179e"
             ],
             [
              0.4444444444444444,
              "#bd3786"
             ],
             [
              0.5555555555555556,
              "#d8576b"
             ],
             [
              0.6666666666666666,
              "#ed7953"
             ],
             [
              0.7777777777777778,
              "#fb9f3a"
             ],
             [
              0.8888888888888888,
              "#fdca26"
             ],
             [
              1,
              "#f0f921"
             ]
            ],
            "type": "heatmap"
           }
          ],
          "heatmapgl": [
           {
            "colorbar": {
             "outlinewidth": 0,
             "ticks": ""
            },
            "colorscale": [
             [
              0,
              "#0d0887"
             ],
             [
              0.1111111111111111,
              "#46039f"
             ],
             [
              0.2222222222222222,
              "#7201a8"
             ],
             [
              0.3333333333333333,
              "#9c179e"
             ],
             [
              0.4444444444444444,
              "#bd3786"
             ],
             [
              0.5555555555555556,
              "#d8576b"
             ],
             [
              0.6666666666666666,
              "#ed7953"
             ],
             [
              0.7777777777777778,
              "#fb9f3a"
             ],
             [
              0.8888888888888888,
              "#fdca26"
             ],
             [
              1,
              "#f0f921"
             ]
            ],
            "type": "heatmapgl"
           }
          ],
          "histogram": [
           {
            "marker": {
             "colorbar": {
              "outlinewidth": 0,
              "ticks": ""
             }
            },
            "type": "histogram"
           }
          ],
          "histogram2d": [
           {
            "colorbar": {
             "outlinewidth": 0,
             "ticks": ""
            },
            "colorscale": [
             [
              0,
              "#0d0887"
             ],
             [
              0.1111111111111111,
              "#46039f"
             ],
             [
              0.2222222222222222,
              "#7201a8"
             ],
             [
              0.3333333333333333,
              "#9c179e"
             ],
             [
              0.4444444444444444,
              "#bd3786"
             ],
             [
              0.5555555555555556,
              "#d8576b"
             ],
             [
              0.6666666666666666,
              "#ed7953"
             ],
             [
              0.7777777777777778,
              "#fb9f3a"
             ],
             [
              0.8888888888888888,
              "#fdca26"
             ],
             [
              1,
              "#f0f921"
             ]
            ],
            "type": "histogram2d"
           }
          ],
          "histogram2dcontour": [
           {
            "colorbar": {
             "outlinewidth": 0,
             "ticks": ""
            },
            "colorscale": [
             [
              0,
              "#0d0887"
             ],
             [
              0.1111111111111111,
              "#46039f"
             ],
             [
              0.2222222222222222,
              "#7201a8"
             ],
             [
              0.3333333333333333,
              "#9c179e"
             ],
             [
              0.4444444444444444,
              "#bd3786"
             ],
             [
              0.5555555555555556,
              "#d8576b"
             ],
             [
              0.6666666666666666,
              "#ed7953"
             ],
             [
              0.7777777777777778,
              "#fb9f3a"
             ],
             [
              0.8888888888888888,
              "#fdca26"
             ],
             [
              1,
              "#f0f921"
             ]
            ],
            "type": "histogram2dcontour"
           }
          ],
          "mesh3d": [
           {
            "colorbar": {
             "outlinewidth": 0,
             "ticks": ""
            },
            "type": "mesh3d"
           }
          ],
          "parcoords": [
           {
            "line": {
             "colorbar": {
              "outlinewidth": 0,
              "ticks": ""
             }
            },
            "type": "parcoords"
           }
          ],
          "pie": [
           {
            "automargin": true,
            "type": "pie"
           }
          ],
          "scatter": [
           {
            "marker": {
             "colorbar": {
              "outlinewidth": 0,
              "ticks": ""
             }
            },
            "type": "scatter"
           }
          ],
          "scatter3d": [
           {
            "line": {
             "colorbar": {
              "outlinewidth": 0,
              "ticks": ""
             }
            },
            "marker": {
             "colorbar": {
              "outlinewidth": 0,
              "ticks": ""
             }
            },
            "type": "scatter3d"
           }
          ],
          "scattercarpet": [
           {
            "marker": {
             "colorbar": {
              "outlinewidth": 0,
              "ticks": ""
             }
            },
            "type": "scattercarpet"
           }
          ],
          "scattergeo": [
           {
            "marker": {
             "colorbar": {
              "outlinewidth": 0,
              "ticks": ""
             }
            },
            "type": "scattergeo"
           }
          ],
          "scattergl": [
           {
            "marker": {
             "colorbar": {
              "outlinewidth": 0,
              "ticks": ""
             }
            },
            "type": "scattergl"
           }
          ],
          "scattermapbox": [
           {
            "marker": {
             "colorbar": {
              "outlinewidth": 0,
              "ticks": ""
             }
            },
            "type": "scattermapbox"
           }
          ],
          "scatterpolar": [
           {
            "marker": {
             "colorbar": {
              "outlinewidth": 0,
              "ticks": ""
             }
            },
            "type": "scatterpolar"
           }
          ],
          "scatterpolargl": [
           {
            "marker": {
             "colorbar": {
              "outlinewidth": 0,
              "ticks": ""
             }
            },
            "type": "scatterpolargl"
           }
          ],
          "scatterternary": [
           {
            "marker": {
             "colorbar": {
              "outlinewidth": 0,
              "ticks": ""
             }
            },
            "type": "scatterternary"
           }
          ],
          "surface": [
           {
            "colorbar": {
             "outlinewidth": 0,
             "ticks": ""
            },
            "colorscale": [
             [
              0,
              "#0d0887"
             ],
             [
              0.1111111111111111,
              "#46039f"
             ],
             [
              0.2222222222222222,
              "#7201a8"
             ],
             [
              0.3333333333333333,
              "#9c179e"
             ],
             [
              0.4444444444444444,
              "#bd3786"
             ],
             [
              0.5555555555555556,
              "#d8576b"
             ],
             [
              0.6666666666666666,
              "#ed7953"
             ],
             [
              0.7777777777777778,
              "#fb9f3a"
             ],
             [
              0.8888888888888888,
              "#fdca26"
             ],
             [
              1,
              "#f0f921"
             ]
            ],
            "type": "surface"
           }
          ],
          "table": [
           {
            "cells": {
             "fill": {
              "color": "#EBF0F8"
             },
             "line": {
              "color": "white"
             }
            },
            "header": {
             "fill": {
              "color": "#C8D4E3"
             },
             "line": {
              "color": "white"
             }
            },
            "type": "table"
           }
          ]
         },
         "layout": {
          "annotationdefaults": {
           "arrowcolor": "#2a3f5f",
           "arrowhead": 0,
           "arrowwidth": 1
          },
          "coloraxis": {
           "colorbar": {
            "outlinewidth": 0,
            "ticks": ""
           }
          },
          "colorscale": {
           "diverging": [
            [
             0,
             "#8e0152"
            ],
            [
             0.1,
             "#c51b7d"
            ],
            [
             0.2,
             "#de77ae"
            ],
            [
             0.3,
             "#f1b6da"
            ],
            [
             0.4,
             "#fde0ef"
            ],
            [
             0.5,
             "#f7f7f7"
            ],
            [
             0.6,
             "#e6f5d0"
            ],
            [
             0.7,
             "#b8e186"
            ],
            [
             0.8,
             "#7fbc41"
            ],
            [
             0.9,
             "#4d9221"
            ],
            [
             1,
             "#276419"
            ]
           ],
           "sequential": [
            [
             0,
             "#0d0887"
            ],
            [
             0.1111111111111111,
             "#46039f"
            ],
            [
             0.2222222222222222,
             "#7201a8"
            ],
            [
             0.3333333333333333,
             "#9c179e"
            ],
            [
             0.4444444444444444,
             "#bd3786"
            ],
            [
             0.5555555555555556,
             "#d8576b"
            ],
            [
             0.6666666666666666,
             "#ed7953"
            ],
            [
             0.7777777777777778,
             "#fb9f3a"
            ],
            [
             0.8888888888888888,
             "#fdca26"
            ],
            [
             1,
             "#f0f921"
            ]
           ],
           "sequentialminus": [
            [
             0,
             "#0d0887"
            ],
            [
             0.1111111111111111,
             "#46039f"
            ],
            [
             0.2222222222222222,
             "#7201a8"
            ],
            [
             0.3333333333333333,
             "#9c179e"
            ],
            [
             0.4444444444444444,
             "#bd3786"
            ],
            [
             0.5555555555555556,
             "#d8576b"
            ],
            [
             0.6666666666666666,
             "#ed7953"
            ],
            [
             0.7777777777777778,
             "#fb9f3a"
            ],
            [
             0.8888888888888888,
             "#fdca26"
            ],
            [
             1,
             "#f0f921"
            ]
           ]
          },
          "colorway": [
           "#636efa",
           "#EF553B",
           "#00cc96",
           "#ab63fa",
           "#FFA15A",
           "#19d3f3",
           "#FF6692",
           "#B6E880",
           "#FF97FF",
           "#FECB52"
          ],
          "font": {
           "color": "#2a3f5f"
          },
          "geo": {
           "bgcolor": "white",
           "lakecolor": "white",
           "landcolor": "#E5ECF6",
           "showlakes": true,
           "showland": true,
           "subunitcolor": "white"
          },
          "hoverlabel": {
           "align": "left"
          },
          "hovermode": "closest",
          "mapbox": {
           "style": "light"
          },
          "paper_bgcolor": "white",
          "plot_bgcolor": "#E5ECF6",
          "polar": {
           "angularaxis": {
            "gridcolor": "white",
            "linecolor": "white",
            "ticks": ""
           },
           "bgcolor": "#E5ECF6",
           "radialaxis": {
            "gridcolor": "white",
            "linecolor": "white",
            "ticks": ""
           }
          },
          "scene": {
           "xaxis": {
            "backgroundcolor": "#E5ECF6",
            "gridcolor": "white",
            "gridwidth": 2,
            "linecolor": "white",
            "showbackground": true,
            "ticks": "",
            "zerolinecolor": "white"
           },
           "yaxis": {
            "backgroundcolor": "#E5ECF6",
            "gridcolor": "white",
            "gridwidth": 2,
            "linecolor": "white",
            "showbackground": true,
            "ticks": "",
            "zerolinecolor": "white"
           },
           "zaxis": {
            "backgroundcolor": "#E5ECF6",
            "gridcolor": "white",
            "gridwidth": 2,
            "linecolor": "white",
            "showbackground": true,
            "ticks": "",
            "zerolinecolor": "white"
           }
          },
          "shapedefaults": {
           "line": {
            "color": "#2a3f5f"
           }
          },
          "ternary": {
           "aaxis": {
            "gridcolor": "white",
            "linecolor": "white",
            "ticks": ""
           },
           "baxis": {
            "gridcolor": "white",
            "linecolor": "white",
            "ticks": ""
           },
           "bgcolor": "#E5ECF6",
           "caxis": {
            "gridcolor": "white",
            "linecolor": "white",
            "ticks": ""
           }
          },
          "title": {
           "x": 0.05
          },
          "xaxis": {
           "automargin": true,
           "gridcolor": "white",
           "linecolor": "white",
           "ticks": "",
           "title": {
            "standoff": 15
           },
           "zerolinecolor": "white",
           "zerolinewidth": 2
          },
          "yaxis": {
           "automargin": true,
           "gridcolor": "white",
           "linecolor": "white",
           "ticks": "",
           "title": {
            "standoff": 15
           },
           "zerolinecolor": "white",
           "zerolinewidth": 2
          }
         }
        },
        "title": {
         "font": {
          "color": "#4D5663"
         }
        },
        "xaxis": {
         "gridcolor": "#E1E5ED",
         "showgrid": true,
         "tickfont": {
          "color": "#4D5663"
         },
         "title": {
          "font": {
           "color": "#4D5663"
          },
          "text": ""
         },
         "zerolinecolor": "#E1E5ED"
        },
        "xaxis2": {
         "anchor": "y2",
         "gridcolor": "#E1E5ED",
         "showgrid": true,
         "showticklabels": false,
         "tickfont": {
          "color": "#4D5663"
         },
         "title": {
          "font": {
           "color": "#4D5663"
          },
          "text": ""
         },
         "zerolinecolor": "#E1E5ED"
        },
        "yaxis": {
         "domain": [
          0.3,
          1
         ],
         "gridcolor": "#E1E5ED",
         "showgrid": true,
         "tickfont": {
          "color": "#4D5663"
         },
         "title": {
          "font": {
           "color": "#4D5663"
          },
          "text": ""
         },
         "zerolinecolor": "#E1E5ED"
        },
        "yaxis2": {
         "domain": [
          0,
          0.25
         ],
         "gridcolor": "#E1E5ED",
         "showgrid": true,
         "tickfont": {
          "color": "#4D5663"
         },
         "title": {
          "font": {
           "color": "#4D5663"
          },
          "text": "Spread"
         },
         "zerolinecolor": "#E1E5ED"
        }
       }
      },
      "text/html": [
       "<div>\n",
       "        \n",
       "        \n",
       "            <div id=\"def8a800-79ea-4045-97e7-c16bbcb0c901\" class=\"plotly-graph-div\" style=\"height:525px; width:100%;\"></div>\n",
       "            <script type=\"text/javascript\">\n",
       "                require([\"plotly\"], function(Plotly) {\n",
       "                    window.PLOTLYENV=window.PLOTLYENV || {};\n",
       "                    window.PLOTLYENV.BASE_URL='https://plot.ly';\n",
       "                    \n",
       "                if (document.getElementById(\"def8a800-79ea-4045-97e7-c16bbcb0c901\")) {\n",
       "                    Plotly.newPlot(\n",
       "                        'def8a800-79ea-4045-97e7-c16bbcb0c901',\n",
       "                        [{\"line\": {\"color\": \"rgba(255, 153, 51, 1.0)\", \"dash\": \"solid\", \"shape\": \"linear\", \"width\": 1.3}, \"mode\": \"lines\", \"name\": \"A\", \"text\": \"\", \"type\": \"scatter\", \"x\": [0, 1, 2, 3, 4, 5, 6, 7, 8, 9, 10, 11, 12, 13, 14, 15, 16, 17, 18, 19, 20, 21, 22, 23, 24, 25, 26, 27, 28, 29, 30, 31, 32, 33, 34, 35, 36, 37, 38, 39, 40, 41, 42, 43, 44, 45, 46, 47, 48, 49, 50, 51, 52, 53, 54, 55, 56, 57, 58, 59, 60, 61, 62, 63, 64, 65, 66, 67, 68, 69, 70, 71, 72, 73, 74, 75, 76, 77, 78, 79, 80, 81, 82, 83, 84, 85, 86, 87, 88, 89, 90, 91, 92, 93, 94, 95, 96, 97, 98, 99], \"y\": [-0.29643740889399095, 0.32868435515730043, 1.7461416496086142, -0.24004567607313979, 0.13879213518446365, 0.5535216967030455, -0.5654788153613118, 1.4745095081896062, 0.24599950755732192, -1.2056020605811952, 1.1064580688514372, 1.2560715526922155, 0.9370673363805552, -0.3035228949304509, 0.8173073261565816, -1.049133286502186, 0.8206309550571658, 0.4257464010855425, -0.204969188764631, -0.49515630325678384, -0.46557478153402304, -0.7100122999382016, 0.5038367695493804, 0.6095718122464268, -0.9665021599071422, -1.941392438441163, -0.4410063758400523, 0.03245090999579194, 0.1343061826488072, 0.5107365179921368, -0.3148389852787225, -0.3475463838805427, 0.38918681250649434, -0.5878571849206334, 0.18237827278071525, 0.8139831276610341, -0.3044351308280057, 0.7856674253493616, 0.3511107651142644, 0.4991054778015313, 1.8905790693628632, -0.36064056808190237, -0.20806458226915128, 1.1251468281191688, -2.126253635634463, -0.6012651762207218, -0.4332096922576356, 0.5936193398160595, -1.8610576096155729, -0.6848069423978584, -0.1741312896553701, -0.036689001873205666, -0.17997951544796514, 1.0197180801187515, -1.066533298890777, -0.9114780950624539, -0.11932825824118615, 1.402067892564673, -0.086837270558958, 0.463224533101115, 1.1851504359883962, -0.974581228669598, 0.5172927499818978, -0.019078919866214714, 1.6757029533305858, -0.7739305807934194, 0.49975487039061167, 2.431023967741468, 0.5156404761815808, -2.2967795329006546, -1.0552189283244984, 0.12688409298548323, -1.677072780155331, -0.8594495959629678, -0.4444344655352142, -1.2167733442412334, 0.38604138505028, 1.0138946898474628, 0.14697818534804966, 1.9761709653128225, 0.8272009540730214, -0.3939697404040883, 0.6354964151979149, -0.4806868089713751, 0.8576277591041233, -0.5114800988431405, -0.5184321876913844, 0.8927289941236105, -0.13572637194054665, 0.9993000128725914, 0.9321656254505977, 0.1462909328841926, 1.318253885597681, -1.2340506320852325, 0.5166974940232978, -0.00888755926616613, 0.2571741481342909, 0.6922229079065875, 0.6538799136667284, 0.9128588038964904]}, {\"line\": {\"color\": \"rgba(55, 128, 191, 1.0)\", \"dash\": \"solid\", \"shape\": \"linear\", \"width\": 1.3}, \"mode\": \"lines\", \"name\": \"B\", \"text\": \"\", \"type\": \"scatter\", \"x\": [0, 1, 2, 3, 4, 5, 6, 7, 8, 9, 10, 11, 12, 13, 14, 15, 16, 17, 18, 19, 20, 21, 22, 23, 24, 25, 26, 27, 28, 29, 30, 31, 32, 33, 34, 35, 36, 37, 38, 39, 40, 41, 42, 43, 44, 45, 46, 47, 48, 49, 50, 51, 52, 53, 54, 55, 56, 57, 58, 59, 60, 61, 62, 63, 64, 65, 66, 67, 68, 69, 70, 71, 72, 73, 74, 75, 76, 77, 78, 79, 80, 81, 82, 83, 84, 85, 86, 87, 88, 89, 90, 91, 92, 93, 94, 95, 96, 97, 98, 99], \"y\": [0.07900847452249811, -0.9122677191922264, 0.3112574668049616, 1.7728983810125845, -0.46509577776202565, -0.8500736939519596, 0.09604825979531327, -1.6741323641529193, 0.3654389760932509, -0.396636210544783, -0.39935846585434787, -2.072144060438098, -0.9592798926978057, 1.009429267180827, 1.4347810916763082, 1.2238156048083508, -0.2539894869632165, -0.03462226412381225, 1.5213228468514988, -0.16020138184502902, 1.1012259404213742, -1.7925797528858496, 1.3515348090377433, -1.2785375474729208, -0.9450429616882644, -0.3565619797841725, -0.526895547025469, -0.29703925347581567, 0.470679346499512, -0.21965139430373848, -0.277572241034337, 1.6757739473793847, -0.6844213119094037, 2.5467128090186346, 0.3092940280081921, 0.36706217813011577, 0.3620155081208797, -1.0693211361043422, -0.32058523850796067, 0.34172741616987756, -1.013975596657667, -0.330584333129899, 2.354552575307552, 0.2222715205421336, -0.24491641424236923, 0.08652389492069956, -0.6661046551013905, -0.5684243647771562, -0.16815681870593208, 0.5451732559293533, -0.7003127063854502, -2.0991552130751163, -0.8805818658707721, 1.1181512595690717, -1.8236861113099427, -1.109326462564337, 0.8850844170534031, -0.15140124010444625, 2.089817025595409, -1.1412646577928676, 0.5130786272975839, 0.802315702090518, 0.8227263767426035, -0.4211094361933707, 0.3188905388362875, -0.27597929718394765, 1.4894104428242139, 1.0154933954044825, 0.9032711654013391, 1.4822651315059352, 0.5187114432149854, 1.7355646462196677, -1.0622908954228063, -0.41376365210767657, -0.4752312118552798, 0.25271611250132825, 0.11808813566547226, -1.4190087109867906, -1.099413224707759, -0.8227951494886859, 1.0404839507698609, -0.3836115958841534, -0.36668922503310136, -0.9641263348806826, -1.4158392346294928, -0.5832744046678073, -0.2507105982209403, -0.519634303248391, 1.3501586378007053, 0.3645687598665697, -2.2309271526923697, -2.2570879544856224, 0.681349780667486, 0.005462937664764124, 0.08378619913036302, -0.18127299340078432, 0.5088984930410607, -0.12613393601230247, -1.067492178711451, -0.5060295021572043]}, {\"connectgaps\": false, \"fill\": \"tozeroy\", \"line\": {\"color\": \"green\", \"dash\": \"solid\", \"shape\": \"linear\", \"width\": 0.5}, \"mode\": \"lines\", \"name\": \"Spread\", \"showlegend\": false, \"type\": \"scatter\", \"x\": [0, 1, 2, 3, 4, 5, 6, 7, 8, 9, 10, 11, 12, 13, 14, 15, 16, 17, 18, 19, 20, 21, 22, 23, 24, 25, 26, 27, 28, 29, 30, 31, 32, 33, 34, 35, 36, 37, 38, 39, 40, 41, 42, 43, 44, 45, 46, 47, 48, 49, 50, 51, 52, 53, 54, 55, 56, 57, 58, 59, 60, 61, 62, 63, 64, 65, 66, 67, 68, 69, 70, 71, 72, 73, 74, 75, 76, 77, 78, 79, 80, 81, 82, 83, 84, 85, 86, 87, 88, 89, 90, 91, 92, 93, 94, 95, 96, 97, 98, 99], \"xaxis\": \"x2\", \"y\": [\"\", 1.2409520743495268, 1.4348841828036525, \"\", 0.6038879129464894, 1.4035953906550052, \"\", 3.148641872342526, \"\", \"\", 1.505816534705785, 3.3282156131303133, 1.8963472290783607, \"\", \"\", \"\", 1.0746204420203822, 0.46036866520935477, \"\", \"\", \"\", 1.082567452947648, \"\", 1.8881093597193477, \"\", \"\", 0.08588917118541672, 0.3294901634716076, \"\", 0.7303879122958753, \"\", \"\", 1.0736081244158981, \"\", \"\", 0.4469209495309183, \"\", 1.8549885614537038, 0.671696003622225, 0.15737806163165374, 2.9045546660205304, \"\", \"\", 0.9028753075770352, \"\", \"\", 0.23289496284375488, 1.1620437045932157, \"\", \"\", 0.5261814167300801, 2.0624662112019108, 0.7006023504228069, \"\", 0.7571528124191658, 0.19784836750188317, \"\", 1.5534691326691192, \"\", 1.6044891908939825, 0.6720718086908123, \"\", \"\", 0.402030516327156, 1.3568124144942983, \"\", \"\", 1.4155305723369855, \"\", \"\", \"\", \"\", \"\", \"\", 0.03079674632006557, \"\", 0.26795324938480775, 2.4329034008342534, 1.2463914100558087, 2.7989661148015084, \"\", \"\", 1.0021856402310163, 0.48343952590930744, 2.2734669937336163, 0.07179430582466684, \"\", 1.4123632973720015, \"\", 0.6347312530060216, 3.1630927781429676, 2.403378887369815, 0.6369041049301951, \"\", 0.4329112948929348, 0.17238543413461818, \"\", 0.81835684391889, 1.7213720923781795, 1.4188883060536948], \"yaxis\": \"y2\"}, {\"connectgaps\": false, \"fill\": \"tozeroy\", \"line\": {\"color\": \"red\", \"dash\": \"solid\", \"shape\": \"linear\", \"width\": 0.5}, \"mode\": \"lines\", \"name\": \"Spread\", \"showlegend\": false, \"type\": \"scatter\", \"x\": [0, 1, 2, 3, 4, 5, 6, 7, 8, 9, 10, 11, 12, 13, 14, 15, 16, 17, 18, 19, 20, 21, 22, 23, 24, 25, 26, 27, 28, 29, 30, 31, 32, 33, 34, 35, 36, 37, 38, 39, 40, 41, 42, 43, 44, 45, 46, 47, 48, 49, 50, 51, 52, 53, 54, 55, 56, 57, 58, 59, 60, 61, 62, 63, 64, 65, 66, 67, 68, 69, 70, 71, 72, 73, 74, 75, 76, 77, 78, 79, 80, 81, 82, 83, 84, 85, 86, 87, 88, 89, 90, 91, 92, 93, 94, 95, 96, 97, 98, 99], \"xaxis\": \"x2\", \"y\": [-0.37544588341648905, \"\", \"\", -2.012944057085724, \"\", \"\", -0.6615270751566251, \"\", -0.11943946853592896, -0.8089658500364123, \"\", \"\", \"\", -1.3129521621112779, -0.6174737655197265, -2.272948891310537, \"\", \"\", -1.7262920356161298, -0.3349549214117548, -1.5668007219553972, \"\", -0.8476980394883629, \"\", -0.021459198218877762, -1.5848304586569903, \"\", \"\", -0.3363731638507048, \"\", -0.03726674424438553, -2.0233203312599275, \"\", -3.134569993939268, -0.12691575522747686, \"\", -0.6664506389488853, \"\", \"\", \"\", \"\", -0.03005623495200338, -2.562617157576703, \"\", -1.8813372213920938, -0.6877890711414214, \"\", \"\", -1.6929007909096407, -1.2299801983272118, \"\", \"\", \"\", -0.09843317945032015, \"\", \"\", -1.0044126752945892, \"\", -2.176654296154367, \"\", \"\", -1.776896930760116, -0.30543362676070573, \"\", \"\", -0.4979512836094717, -0.9896555724336022, \"\", -0.3876306892197583, -3.77904466440659, -1.573930371539484, -1.6086805532341844, -0.6147818847325246, -0.4456859438552912, \"\", -1.4694894567425616, \"\", \"\", \"\", \"\", -0.21328299669683948, -0.010358144519934886, \"\", \"\", \"\", \"\", -0.26772158947044417, \"\", -1.485885009741252, \"\", \"\", \"\", \"\", -1.2395135697499966, \"\", \"\", -0.2517243449067698, \"\", \"\", \"\"], \"yaxis\": \"y2\"}],\n",
       "                        {\"hovermode\": \"x\", \"legend\": {\"bgcolor\": \"#F5F6F9\", \"font\": {\"color\": \"#4D5663\"}}, \"paper_bgcolor\": \"#F5F6F9\", \"plot_bgcolor\": \"#F5F6F9\", \"template\": {\"data\": {\"bar\": [{\"error_x\": {\"color\": \"#2a3f5f\"}, \"error_y\": {\"color\": \"#2a3f5f\"}, \"marker\": {\"line\": {\"color\": \"#E5ECF6\", \"width\": 0.5}}, \"type\": \"bar\"}], \"barpolar\": [{\"marker\": {\"line\": {\"color\": \"#E5ECF6\", \"width\": 0.5}}, \"type\": \"barpolar\"}], \"carpet\": [{\"aaxis\": {\"endlinecolor\": \"#2a3f5f\", \"gridcolor\": \"white\", \"linecolor\": \"white\", \"minorgridcolor\": \"white\", \"startlinecolor\": \"#2a3f5f\"}, \"baxis\": {\"endlinecolor\": \"#2a3f5f\", \"gridcolor\": \"white\", \"linecolor\": \"white\", \"minorgridcolor\": \"white\", \"startlinecolor\": \"#2a3f5f\"}, \"type\": \"carpet\"}], \"choropleth\": [{\"colorbar\": {\"outlinewidth\": 0, \"ticks\": \"\"}, \"type\": \"choropleth\"}], \"contour\": [{\"colorbar\": {\"outlinewidth\": 0, \"ticks\": \"\"}, \"colorscale\": [[0.0, \"#0d0887\"], [0.1111111111111111, \"#46039f\"], [0.2222222222222222, \"#7201a8\"], [0.3333333333333333, \"#9c179e\"], [0.4444444444444444, \"#bd3786\"], [0.5555555555555556, \"#d8576b\"], [0.6666666666666666, \"#ed7953\"], [0.7777777777777778, \"#fb9f3a\"], [0.8888888888888888, \"#fdca26\"], [1.0, \"#f0f921\"]], \"type\": \"contour\"}], \"contourcarpet\": [{\"colorbar\": {\"outlinewidth\": 0, \"ticks\": \"\"}, \"type\": \"contourcarpet\"}], \"heatmap\": [{\"colorbar\": {\"outlinewidth\": 0, \"ticks\": \"\"}, \"colorscale\": [[0.0, \"#0d0887\"], [0.1111111111111111, \"#46039f\"], [0.2222222222222222, \"#7201a8\"], [0.3333333333333333, \"#9c179e\"], [0.4444444444444444, \"#bd3786\"], [0.5555555555555556, \"#d8576b\"], [0.6666666666666666, \"#ed7953\"], [0.7777777777777778, \"#fb9f3a\"], [0.8888888888888888, \"#fdca26\"], [1.0, \"#f0f921\"]], \"type\": \"heatmap\"}], \"heatmapgl\": [{\"colorbar\": {\"outlinewidth\": 0, \"ticks\": \"\"}, \"colorscale\": [[0.0, \"#0d0887\"], [0.1111111111111111, \"#46039f\"], [0.2222222222222222, \"#7201a8\"], [0.3333333333333333, \"#9c179e\"], [0.4444444444444444, \"#bd3786\"], [0.5555555555555556, \"#d8576b\"], [0.6666666666666666, \"#ed7953\"], [0.7777777777777778, \"#fb9f3a\"], [0.8888888888888888, \"#fdca26\"], [1.0, \"#f0f921\"]], \"type\": \"heatmapgl\"}], \"histogram\": [{\"marker\": {\"colorbar\": {\"outlinewidth\": 0, \"ticks\": \"\"}}, \"type\": \"histogram\"}], \"histogram2d\": [{\"colorbar\": {\"outlinewidth\": 0, \"ticks\": \"\"}, \"colorscale\": [[0.0, \"#0d0887\"], [0.1111111111111111, \"#46039f\"], [0.2222222222222222, \"#7201a8\"], [0.3333333333333333, \"#9c179e\"], [0.4444444444444444, \"#bd3786\"], [0.5555555555555556, \"#d8576b\"], [0.6666666666666666, \"#ed7953\"], [0.7777777777777778, \"#fb9f3a\"], [0.8888888888888888, \"#fdca26\"], [1.0, \"#f0f921\"]], \"type\": \"histogram2d\"}], \"histogram2dcontour\": [{\"colorbar\": {\"outlinewidth\": 0, \"ticks\": \"\"}, \"colorscale\": [[0.0, \"#0d0887\"], [0.1111111111111111, \"#46039f\"], [0.2222222222222222, \"#7201a8\"], [0.3333333333333333, \"#9c179e\"], [0.4444444444444444, \"#bd3786\"], [0.5555555555555556, \"#d8576b\"], [0.6666666666666666, \"#ed7953\"], [0.7777777777777778, \"#fb9f3a\"], [0.8888888888888888, \"#fdca26\"], [1.0, \"#f0f921\"]], \"type\": \"histogram2dcontour\"}], \"mesh3d\": [{\"colorbar\": {\"outlinewidth\": 0, \"ticks\": \"\"}, \"type\": \"mesh3d\"}], \"parcoords\": [{\"line\": {\"colorbar\": {\"outlinewidth\": 0, \"ticks\": \"\"}}, \"type\": \"parcoords\"}], \"pie\": [{\"automargin\": true, \"type\": \"pie\"}], \"scatter\": [{\"marker\": {\"colorbar\": {\"outlinewidth\": 0, \"ticks\": \"\"}}, \"type\": \"scatter\"}], \"scatter3d\": [{\"line\": {\"colorbar\": {\"outlinewidth\": 0, \"ticks\": \"\"}}, \"marker\": {\"colorbar\": {\"outlinewidth\": 0, \"ticks\": \"\"}}, \"type\": \"scatter3d\"}], \"scattercarpet\": [{\"marker\": {\"colorbar\": {\"outlinewidth\": 0, \"ticks\": \"\"}}, \"type\": \"scattercarpet\"}], \"scattergeo\": [{\"marker\": {\"colorbar\": {\"outlinewidth\": 0, \"ticks\": \"\"}}, \"type\": \"scattergeo\"}], \"scattergl\": [{\"marker\": {\"colorbar\": {\"outlinewidth\": 0, \"ticks\": \"\"}}, \"type\": \"scattergl\"}], \"scattermapbox\": [{\"marker\": {\"colorbar\": {\"outlinewidth\": 0, \"ticks\": \"\"}}, \"type\": \"scattermapbox\"}], \"scatterpolar\": [{\"marker\": {\"colorbar\": {\"outlinewidth\": 0, \"ticks\": \"\"}}, \"type\": \"scatterpolar\"}], \"scatterpolargl\": [{\"marker\": {\"colorbar\": {\"outlinewidth\": 0, \"ticks\": \"\"}}, \"type\": \"scatterpolargl\"}], \"scatterternary\": [{\"marker\": {\"colorbar\": {\"outlinewidth\": 0, \"ticks\": \"\"}}, \"type\": \"scatterternary\"}], \"surface\": [{\"colorbar\": {\"outlinewidth\": 0, \"ticks\": \"\"}, \"colorscale\": [[0.0, \"#0d0887\"], [0.1111111111111111, \"#46039f\"], [0.2222222222222222, \"#7201a8\"], [0.3333333333333333, \"#9c179e\"], [0.4444444444444444, \"#bd3786\"], [0.5555555555555556, \"#d8576b\"], [0.6666666666666666, \"#ed7953\"], [0.7777777777777778, \"#fb9f3a\"], [0.8888888888888888, \"#fdca26\"], [1.0, \"#f0f921\"]], \"type\": \"surface\"}], \"table\": [{\"cells\": {\"fill\": {\"color\": \"#EBF0F8\"}, \"line\": {\"color\": \"white\"}}, \"header\": {\"fill\": {\"color\": \"#C8D4E3\"}, \"line\": {\"color\": \"white\"}}, \"type\": \"table\"}]}, \"layout\": {\"annotationdefaults\": {\"arrowcolor\": \"#2a3f5f\", \"arrowhead\": 0, \"arrowwidth\": 1}, \"coloraxis\": {\"colorbar\": {\"outlinewidth\": 0, \"ticks\": \"\"}}, \"colorscale\": {\"diverging\": [[0, \"#8e0152\"], [0.1, \"#c51b7d\"], [0.2, \"#de77ae\"], [0.3, \"#f1b6da\"], [0.4, \"#fde0ef\"], [0.5, \"#f7f7f7\"], [0.6, \"#e6f5d0\"], [0.7, \"#b8e186\"], [0.8, \"#7fbc41\"], [0.9, \"#4d9221\"], [1, \"#276419\"]], \"sequential\": [[0.0, \"#0d0887\"], [0.1111111111111111, \"#46039f\"], [0.2222222222222222, \"#7201a8\"], [0.3333333333333333, \"#9c179e\"], [0.4444444444444444, \"#bd3786\"], [0.5555555555555556, \"#d8576b\"], [0.6666666666666666, \"#ed7953\"], [0.7777777777777778, \"#fb9f3a\"], [0.8888888888888888, \"#fdca26\"], [1.0, \"#f0f921\"]], \"sequentialminus\": [[0.0, \"#0d0887\"], [0.1111111111111111, \"#46039f\"], [0.2222222222222222, \"#7201a8\"], [0.3333333333333333, \"#9c179e\"], [0.4444444444444444, \"#bd3786\"], [0.5555555555555556, \"#d8576b\"], [0.6666666666666666, \"#ed7953\"], [0.7777777777777778, \"#fb9f3a\"], [0.8888888888888888, \"#fdca26\"], [1.0, \"#f0f921\"]]}, \"colorway\": [\"#636efa\", \"#EF553B\", \"#00cc96\", \"#ab63fa\", \"#FFA15A\", \"#19d3f3\", \"#FF6692\", \"#B6E880\", \"#FF97FF\", \"#FECB52\"], \"font\": {\"color\": \"#2a3f5f\"}, \"geo\": {\"bgcolor\": \"white\", \"lakecolor\": \"white\", \"landcolor\": \"#E5ECF6\", \"showlakes\": true, \"showland\": true, \"subunitcolor\": \"white\"}, \"hoverlabel\": {\"align\": \"left\"}, \"hovermode\": \"closest\", \"mapbox\": {\"style\": \"light\"}, \"paper_bgcolor\": \"white\", \"plot_bgcolor\": \"#E5ECF6\", \"polar\": {\"angularaxis\": {\"gridcolor\": \"white\", \"linecolor\": \"white\", \"ticks\": \"\"}, \"bgcolor\": \"#E5ECF6\", \"radialaxis\": {\"gridcolor\": \"white\", \"linecolor\": \"white\", \"ticks\": \"\"}}, \"scene\": {\"xaxis\": {\"backgroundcolor\": \"#E5ECF6\", \"gridcolor\": \"white\", \"gridwidth\": 2, \"linecolor\": \"white\", \"showbackground\": true, \"ticks\": \"\", \"zerolinecolor\": \"white\"}, \"yaxis\": {\"backgroundcolor\": \"#E5ECF6\", \"gridcolor\": \"white\", \"gridwidth\": 2, \"linecolor\": \"white\", \"showbackground\": true, \"ticks\": \"\", \"zerolinecolor\": \"white\"}, \"zaxis\": {\"backgroundcolor\": \"#E5ECF6\", \"gridcolor\": \"white\", \"gridwidth\": 2, \"linecolor\": \"white\", \"showbackground\": true, \"ticks\": \"\", \"zerolinecolor\": \"white\"}}, \"shapedefaults\": {\"line\": {\"color\": \"#2a3f5f\"}}, \"ternary\": {\"aaxis\": {\"gridcolor\": \"white\", \"linecolor\": \"white\", \"ticks\": \"\"}, \"baxis\": {\"gridcolor\": \"white\", \"linecolor\": \"white\", \"ticks\": \"\"}, \"bgcolor\": \"#E5ECF6\", \"caxis\": {\"gridcolor\": \"white\", \"linecolor\": \"white\", \"ticks\": \"\"}}, \"title\": {\"x\": 0.05}, \"xaxis\": {\"automargin\": true, \"gridcolor\": \"white\", \"linecolor\": \"white\", \"ticks\": \"\", \"title\": {\"standoff\": 15}, \"zerolinecolor\": \"white\", \"zerolinewidth\": 2}, \"yaxis\": {\"automargin\": true, \"gridcolor\": \"white\", \"linecolor\": \"white\", \"ticks\": \"\", \"title\": {\"standoff\": 15}, \"zerolinecolor\": \"white\", \"zerolinewidth\": 2}}}, \"title\": {\"font\": {\"color\": \"#4D5663\"}}, \"xaxis\": {\"gridcolor\": \"#E1E5ED\", \"showgrid\": true, \"tickfont\": {\"color\": \"#4D5663\"}, \"title\": {\"font\": {\"color\": \"#4D5663\"}, \"text\": \"\"}, \"zerolinecolor\": \"#E1E5ED\"}, \"xaxis2\": {\"anchor\": \"y2\", \"gridcolor\": \"#E1E5ED\", \"showgrid\": true, \"showticklabels\": false, \"tickfont\": {\"color\": \"#4D5663\"}, \"title\": {\"font\": {\"color\": \"#4D5663\"}, \"text\": \"\"}, \"zerolinecolor\": \"#E1E5ED\"}, \"yaxis\": {\"domain\": [0.3, 1], \"gridcolor\": \"#E1E5ED\", \"showgrid\": true, \"tickfont\": {\"color\": \"#4D5663\"}, \"title\": {\"font\": {\"color\": \"#4D5663\"}, \"text\": \"\"}, \"zerolinecolor\": \"#E1E5ED\"}, \"yaxis2\": {\"domain\": [0, 0.25], \"gridcolor\": \"#E1E5ED\", \"showgrid\": true, \"tickfont\": {\"color\": \"#4D5663\"}, \"title\": {\"font\": {\"color\": \"#4D5663\"}, \"text\": \"Spread\"}, \"zerolinecolor\": \"#E1E5ED\"}},\n",
       "                        {\"showLink\": true, \"linkText\": \"Export to plot.ly\", \"plotlyServerURL\": \"https://plot.ly\", \"responsive\": true}\n",
       "                    ).then(function(){\n",
       "                            \n",
       "var gd = document.getElementById('def8a800-79ea-4045-97e7-c16bbcb0c901');\n",
       "var x = new MutationObserver(function (mutations, observer) {{\n",
       "        var display = window.getComputedStyle(gd).display;\n",
       "        if (!display || display === 'none') {{\n",
       "            console.log([gd, 'removed!']);\n",
       "            Plotly.purge(gd);\n",
       "            observer.disconnect();\n",
       "        }}\n",
       "}});\n",
       "\n",
       "// Listen for the removal of the full notebook cells\n",
       "var notebookContainer = gd.closest('#notebook-container');\n",
       "if (notebookContainer) {{\n",
       "    x.observe(notebookContainer, {childList: true});\n",
       "}}\n",
       "\n",
       "// Listen for the clearing of the current output cell\n",
       "var outputEl = gd.closest('.output');\n",
       "if (outputEl) {{\n",
       "    x.observe(outputEl, {childList: true});\n",
       "}}\n",
       "\n",
       "                        })\n",
       "                };\n",
       "                });\n",
       "            </script>\n",
       "        </div>"
      ]
     },
     "metadata": {},
     "output_type": "display_data"
    }
   ],
   "source": [
    "df[['A','B']].iplot(kind='spread')"
   ]
  },
  {
   "cell_type": "markdown",
   "metadata": {},
   "source": [
    "## histogram"
   ]
  },
  {
   "cell_type": "code",
   "execution_count": 17,
   "metadata": {},
   "outputs": [
    {
     "data": {
      "application/vnd.plotly.v1+json": {
       "config": {
        "linkText": "Export to plot.ly",
        "plotlyServerURL": "https://plot.ly",
        "showLink": true
       },
       "data": [
        {
         "histfunc": "count",
         "histnorm": "",
         "marker": {
          "color": "rgba(255, 153, 51, 1.0)",
          "line": {
           "color": "#4D5663",
           "width": 1.3
          }
         },
         "name": "A",
         "nbinsx": 25,
         "opacity": 0.8,
         "orientation": "v",
         "type": "histogram",
         "x": [
          -0.29643740889399095,
          0.32868435515730043,
          1.7461416496086142,
          -0.24004567607313979,
          0.13879213518446365,
          0.5535216967030455,
          -0.5654788153613118,
          1.4745095081896062,
          0.24599950755732192,
          -1.2056020605811952,
          1.1064580688514372,
          1.2560715526922155,
          0.9370673363805552,
          -0.3035228949304509,
          0.8173073261565816,
          -1.049133286502186,
          0.8206309550571658,
          0.4257464010855425,
          -0.204969188764631,
          -0.49515630325678384,
          -0.46557478153402304,
          -0.7100122999382016,
          0.5038367695493804,
          0.6095718122464268,
          -0.9665021599071422,
          -1.941392438441163,
          -0.4410063758400523,
          0.03245090999579194,
          0.1343061826488072,
          0.5107365179921368,
          -0.3148389852787225,
          -0.3475463838805427,
          0.38918681250649434,
          -0.5878571849206334,
          0.18237827278071525,
          0.8139831276610341,
          -0.3044351308280057,
          0.7856674253493616,
          0.3511107651142644,
          0.4991054778015313,
          1.8905790693628632,
          -0.36064056808190237,
          -0.20806458226915128,
          1.1251468281191688,
          -2.126253635634463,
          -0.6012651762207218,
          -0.4332096922576356,
          0.5936193398160595,
          -1.8610576096155729,
          -0.6848069423978584,
          -0.1741312896553701,
          -0.036689001873205666,
          -0.17997951544796514,
          1.0197180801187515,
          -1.066533298890777,
          -0.9114780950624539,
          -0.11932825824118615,
          1.402067892564673,
          -0.086837270558958,
          0.463224533101115,
          1.1851504359883962,
          -0.974581228669598,
          0.5172927499818978,
          -0.019078919866214714,
          1.6757029533305858,
          -0.7739305807934194,
          0.49975487039061167,
          2.431023967741468,
          0.5156404761815808,
          -2.2967795329006546,
          -1.0552189283244984,
          0.12688409298548323,
          -1.677072780155331,
          -0.8594495959629678,
          -0.4444344655352142,
          -1.2167733442412334,
          0.38604138505028,
          1.0138946898474628,
          0.14697818534804966,
          1.9761709653128225,
          0.8272009540730214,
          -0.3939697404040883,
          0.6354964151979149,
          -0.4806868089713751,
          0.8576277591041233,
          -0.5114800988431405,
          -0.5184321876913844,
          0.8927289941236105,
          -0.13572637194054665,
          0.9993000128725914,
          0.9321656254505977,
          0.1462909328841926,
          1.318253885597681,
          -1.2340506320852325,
          0.5166974940232978,
          -0.00888755926616613,
          0.2571741481342909,
          0.6922229079065875,
          0.6538799136667284,
          0.9128588038964904
         ]
        }
       ],
       "layout": {
        "barmode": "overlay",
        "legend": {
         "bgcolor": "#F5F6F9",
         "font": {
          "color": "#4D5663"
         }
        },
        "paper_bgcolor": "#F5F6F9",
        "plot_bgcolor": "#F5F6F9",
        "template": {
         "data": {
          "bar": [
           {
            "error_x": {
             "color": "#2a3f5f"
            },
            "error_y": {
             "color": "#2a3f5f"
            },
            "marker": {
             "line": {
              "color": "#E5ECF6",
              "width": 0.5
             }
            },
            "type": "bar"
           }
          ],
          "barpolar": [
           {
            "marker": {
             "line": {
              "color": "#E5ECF6",
              "width": 0.5
             }
            },
            "type": "barpolar"
           }
          ],
          "carpet": [
           {
            "aaxis": {
             "endlinecolor": "#2a3f5f",
             "gridcolor": "white",
             "linecolor": "white",
             "minorgridcolor": "white",
             "startlinecolor": "#2a3f5f"
            },
            "baxis": {
             "endlinecolor": "#2a3f5f",
             "gridcolor": "white",
             "linecolor": "white",
             "minorgridcolor": "white",
             "startlinecolor": "#2a3f5f"
            },
            "type": "carpet"
           }
          ],
          "choropleth": [
           {
            "colorbar": {
             "outlinewidth": 0,
             "ticks": ""
            },
            "type": "choropleth"
           }
          ],
          "contour": [
           {
            "colorbar": {
             "outlinewidth": 0,
             "ticks": ""
            },
            "colorscale": [
             [
              0,
              "#0d0887"
             ],
             [
              0.1111111111111111,
              "#46039f"
             ],
             [
              0.2222222222222222,
              "#7201a8"
             ],
             [
              0.3333333333333333,
              "#9c179e"
             ],
             [
              0.4444444444444444,
              "#bd3786"
             ],
             [
              0.5555555555555556,
              "#d8576b"
             ],
             [
              0.6666666666666666,
              "#ed7953"
             ],
             [
              0.7777777777777778,
              "#fb9f3a"
             ],
             [
              0.8888888888888888,
              "#fdca26"
             ],
             [
              1,
              "#f0f921"
             ]
            ],
            "type": "contour"
           }
          ],
          "contourcarpet": [
           {
            "colorbar": {
             "outlinewidth": 0,
             "ticks": ""
            },
            "type": "contourcarpet"
           }
          ],
          "heatmap": [
           {
            "colorbar": {
             "outlinewidth": 0,
             "ticks": ""
            },
            "colorscale": [
             [
              0,
              "#0d0887"
             ],
             [
              0.1111111111111111,
              "#46039f"
             ],
             [
              0.2222222222222222,
              "#7201a8"
             ],
             [
              0.3333333333333333,
              "#9c179e"
             ],
             [
              0.4444444444444444,
              "#bd3786"
             ],
             [
              0.5555555555555556,
              "#d8576b"
             ],
             [
              0.6666666666666666,
              "#ed7953"
             ],
             [
              0.7777777777777778,
              "#fb9f3a"
             ],
             [
              0.8888888888888888,
              "#fdca26"
             ],
             [
              1,
              "#f0f921"
             ]
            ],
            "type": "heatmap"
           }
          ],
          "heatmapgl": [
           {
            "colorbar": {
             "outlinewidth": 0,
             "ticks": ""
            },
            "colorscale": [
             [
              0,
              "#0d0887"
             ],
             [
              0.1111111111111111,
              "#46039f"
             ],
             [
              0.2222222222222222,
              "#7201a8"
             ],
             [
              0.3333333333333333,
              "#9c179e"
             ],
             [
              0.4444444444444444,
              "#bd3786"
             ],
             [
              0.5555555555555556,
              "#d8576b"
             ],
             [
              0.6666666666666666,
              "#ed7953"
             ],
             [
              0.7777777777777778,
              "#fb9f3a"
             ],
             [
              0.8888888888888888,
              "#fdca26"
             ],
             [
              1,
              "#f0f921"
             ]
            ],
            "type": "heatmapgl"
           }
          ],
          "histogram": [
           {
            "marker": {
             "colorbar": {
              "outlinewidth": 0,
              "ticks": ""
             }
            },
            "type": "histogram"
           }
          ],
          "histogram2d": [
           {
            "colorbar": {
             "outlinewidth": 0,
             "ticks": ""
            },
            "colorscale": [
             [
              0,
              "#0d0887"
             ],
             [
              0.1111111111111111,
              "#46039f"
             ],
             [
              0.2222222222222222,
              "#7201a8"
             ],
             [
              0.3333333333333333,
              "#9c179e"
             ],
             [
              0.4444444444444444,
              "#bd3786"
             ],
             [
              0.5555555555555556,
              "#d8576b"
             ],
             [
              0.6666666666666666,
              "#ed7953"
             ],
             [
              0.7777777777777778,
              "#fb9f3a"
             ],
             [
              0.8888888888888888,
              "#fdca26"
             ],
             [
              1,
              "#f0f921"
             ]
            ],
            "type": "histogram2d"
           }
          ],
          "histogram2dcontour": [
           {
            "colorbar": {
             "outlinewidth": 0,
             "ticks": ""
            },
            "colorscale": [
             [
              0,
              "#0d0887"
             ],
             [
              0.1111111111111111,
              "#46039f"
             ],
             [
              0.2222222222222222,
              "#7201a8"
             ],
             [
              0.3333333333333333,
              "#9c179e"
             ],
             [
              0.4444444444444444,
              "#bd3786"
             ],
             [
              0.5555555555555556,
              "#d8576b"
             ],
             [
              0.6666666666666666,
              "#ed7953"
             ],
             [
              0.7777777777777778,
              "#fb9f3a"
             ],
             [
              0.8888888888888888,
              "#fdca26"
             ],
             [
              1,
              "#f0f921"
             ]
            ],
            "type": "histogram2dcontour"
           }
          ],
          "mesh3d": [
           {
            "colorbar": {
             "outlinewidth": 0,
             "ticks": ""
            },
            "type": "mesh3d"
           }
          ],
          "parcoords": [
           {
            "line": {
             "colorbar": {
              "outlinewidth": 0,
              "ticks": ""
             }
            },
            "type": "parcoords"
           }
          ],
          "pie": [
           {
            "automargin": true,
            "type": "pie"
           }
          ],
          "scatter": [
           {
            "marker": {
             "colorbar": {
              "outlinewidth": 0,
              "ticks": ""
             }
            },
            "type": "scatter"
           }
          ],
          "scatter3d": [
           {
            "line": {
             "colorbar": {
              "outlinewidth": 0,
              "ticks": ""
             }
            },
            "marker": {
             "colorbar": {
              "outlinewidth": 0,
              "ticks": ""
             }
            },
            "type": "scatter3d"
           }
          ],
          "scattercarpet": [
           {
            "marker": {
             "colorbar": {
              "outlinewidth": 0,
              "ticks": ""
             }
            },
            "type": "scattercarpet"
           }
          ],
          "scattergeo": [
           {
            "marker": {
             "colorbar": {
              "outlinewidth": 0,
              "ticks": ""
             }
            },
            "type": "scattergeo"
           }
          ],
          "scattergl": [
           {
            "marker": {
             "colorbar": {
              "outlinewidth": 0,
              "ticks": ""
             }
            },
            "type": "scattergl"
           }
          ],
          "scattermapbox": [
           {
            "marker": {
             "colorbar": {
              "outlinewidth": 0,
              "ticks": ""
             }
            },
            "type": "scattermapbox"
           }
          ],
          "scatterpolar": [
           {
            "marker": {
             "colorbar": {
              "outlinewidth": 0,
              "ticks": ""
             }
            },
            "type": "scatterpolar"
           }
          ],
          "scatterpolargl": [
           {
            "marker": {
             "colorbar": {
              "outlinewidth": 0,
              "ticks": ""
             }
            },
            "type": "scatterpolargl"
           }
          ],
          "scatterternary": [
           {
            "marker": {
             "colorbar": {
              "outlinewidth": 0,
              "ticks": ""
             }
            },
            "type": "scatterternary"
           }
          ],
          "surface": [
           {
            "colorbar": {
             "outlinewidth": 0,
             "ticks": ""
            },
            "colorscale": [
             [
              0,
              "#0d0887"
             ],
             [
              0.1111111111111111,
              "#46039f"
             ],
             [
              0.2222222222222222,
              "#7201a8"
             ],
             [
              0.3333333333333333,
              "#9c179e"
             ],
             [
              0.4444444444444444,
              "#bd3786"
             ],
             [
              0.5555555555555556,
              "#d8576b"
             ],
             [
              0.6666666666666666,
              "#ed7953"
             ],
             [
              0.7777777777777778,
              "#fb9f3a"
             ],
             [
              0.8888888888888888,
              "#fdca26"
             ],
             [
              1,
              "#f0f921"
             ]
            ],
            "type": "surface"
           }
          ],
          "table": [
           {
            "cells": {
             "fill": {
              "color": "#EBF0F8"
             },
             "line": {
              "color": "white"
             }
            },
            "header": {
             "fill": {
              "color": "#C8D4E3"
             },
             "line": {
              "color": "white"
             }
            },
            "type": "table"
           }
          ]
         },
         "layout": {
          "annotationdefaults": {
           "arrowcolor": "#2a3f5f",
           "arrowhead": 0,
           "arrowwidth": 1
          },
          "coloraxis": {
           "colorbar": {
            "outlinewidth": 0,
            "ticks": ""
           }
          },
          "colorscale": {
           "diverging": [
            [
             0,
             "#8e0152"
            ],
            [
             0.1,
             "#c51b7d"
            ],
            [
             0.2,
             "#de77ae"
            ],
            [
             0.3,
             "#f1b6da"
            ],
            [
             0.4,
             "#fde0ef"
            ],
            [
             0.5,
             "#f7f7f7"
            ],
            [
             0.6,
             "#e6f5d0"
            ],
            [
             0.7,
             "#b8e186"
            ],
            [
             0.8,
             "#7fbc41"
            ],
            [
             0.9,
             "#4d9221"
            ],
            [
             1,
             "#276419"
            ]
           ],
           "sequential": [
            [
             0,
             "#0d0887"
            ],
            [
             0.1111111111111111,
             "#46039f"
            ],
            [
             0.2222222222222222,
             "#7201a8"
            ],
            [
             0.3333333333333333,
             "#9c179e"
            ],
            [
             0.4444444444444444,
             "#bd3786"
            ],
            [
             0.5555555555555556,
             "#d8576b"
            ],
            [
             0.6666666666666666,
             "#ed7953"
            ],
            [
             0.7777777777777778,
             "#fb9f3a"
            ],
            [
             0.8888888888888888,
             "#fdca26"
            ],
            [
             1,
             "#f0f921"
            ]
           ],
           "sequentialminus": [
            [
             0,
             "#0d0887"
            ],
            [
             0.1111111111111111,
             "#46039f"
            ],
            [
             0.2222222222222222,
             "#7201a8"
            ],
            [
             0.3333333333333333,
             "#9c179e"
            ],
            [
             0.4444444444444444,
             "#bd3786"
            ],
            [
             0.5555555555555556,
             "#d8576b"
            ],
            [
             0.6666666666666666,
             "#ed7953"
            ],
            [
             0.7777777777777778,
             "#fb9f3a"
            ],
            [
             0.8888888888888888,
             "#fdca26"
            ],
            [
             1,
             "#f0f921"
            ]
           ]
          },
          "colorway": [
           "#636efa",
           "#EF553B",
           "#00cc96",
           "#ab63fa",
           "#FFA15A",
           "#19d3f3",
           "#FF6692",
           "#B6E880",
           "#FF97FF",
           "#FECB52"
          ],
          "font": {
           "color": "#2a3f5f"
          },
          "geo": {
           "bgcolor": "white",
           "lakecolor": "white",
           "landcolor": "#E5ECF6",
           "showlakes": true,
           "showland": true,
           "subunitcolor": "white"
          },
          "hoverlabel": {
           "align": "left"
          },
          "hovermode": "closest",
          "mapbox": {
           "style": "light"
          },
          "paper_bgcolor": "white",
          "plot_bgcolor": "#E5ECF6",
          "polar": {
           "angularaxis": {
            "gridcolor": "white",
            "linecolor": "white",
            "ticks": ""
           },
           "bgcolor": "#E5ECF6",
           "radialaxis": {
            "gridcolor": "white",
            "linecolor": "white",
            "ticks": ""
           }
          },
          "scene": {
           "xaxis": {
            "backgroundcolor": "#E5ECF6",
            "gridcolor": "white",
            "gridwidth": 2,
            "linecolor": "white",
            "showbackground": true,
            "ticks": "",
            "zerolinecolor": "white"
           },
           "yaxis": {
            "backgroundcolor": "#E5ECF6",
            "gridcolor": "white",
            "gridwidth": 2,
            "linecolor": "white",
            "showbackground": true,
            "ticks": "",
            "zerolinecolor": "white"
           },
           "zaxis": {
            "backgroundcolor": "#E5ECF6",
            "gridcolor": "white",
            "gridwidth": 2,
            "linecolor": "white",
            "showbackground": true,
            "ticks": "",
            "zerolinecolor": "white"
           }
          },
          "shapedefaults": {
           "line": {
            "color": "#2a3f5f"
           }
          },
          "ternary": {
           "aaxis": {
            "gridcolor": "white",
            "linecolor": "white",
            "ticks": ""
           },
           "baxis": {
            "gridcolor": "white",
            "linecolor": "white",
            "ticks": ""
           },
           "bgcolor": "#E5ECF6",
           "caxis": {
            "gridcolor": "white",
            "linecolor": "white",
            "ticks": ""
           }
          },
          "title": {
           "x": 0.05
          },
          "xaxis": {
           "automargin": true,
           "gridcolor": "white",
           "linecolor": "white",
           "ticks": "",
           "title": {
            "standoff": 15
           },
           "zerolinecolor": "white",
           "zerolinewidth": 2
          },
          "yaxis": {
           "automargin": true,
           "gridcolor": "white",
           "linecolor": "white",
           "ticks": "",
           "title": {
            "standoff": 15
           },
           "zerolinecolor": "white",
           "zerolinewidth": 2
          }
         }
        },
        "title": {
         "font": {
          "color": "#4D5663"
         }
        },
        "xaxis": {
         "gridcolor": "#E1E5ED",
         "showgrid": true,
         "tickfont": {
          "color": "#4D5663"
         },
         "title": {
          "font": {
           "color": "#4D5663"
          },
          "text": ""
         },
         "zerolinecolor": "#E1E5ED"
        },
        "yaxis": {
         "gridcolor": "#E1E5ED",
         "showgrid": true,
         "tickfont": {
          "color": "#4D5663"
         },
         "title": {
          "font": {
           "color": "#4D5663"
          },
          "text": ""
         },
         "zerolinecolor": "#E1E5ED"
        }
       }
      },
      "text/html": [
       "<div>\n",
       "        \n",
       "        \n",
       "            <div id=\"18a35324-071f-4acb-9516-ce72505f7aae\" class=\"plotly-graph-div\" style=\"height:525px; width:100%;\"></div>\n",
       "            <script type=\"text/javascript\">\n",
       "                require([\"plotly\"], function(Plotly) {\n",
       "                    window.PLOTLYENV=window.PLOTLYENV || {};\n",
       "                    window.PLOTLYENV.BASE_URL='https://plot.ly';\n",
       "                    \n",
       "                if (document.getElementById(\"18a35324-071f-4acb-9516-ce72505f7aae\")) {\n",
       "                    Plotly.newPlot(\n",
       "                        '18a35324-071f-4acb-9516-ce72505f7aae',\n",
       "                        [{\"histfunc\": \"count\", \"histnorm\": \"\", \"marker\": {\"color\": \"rgba(255, 153, 51, 1.0)\", \"line\": {\"color\": \"#4D5663\", \"width\": 1.3}}, \"name\": \"A\", \"nbinsx\": 25, \"opacity\": 0.8, \"orientation\": \"v\", \"type\": \"histogram\", \"x\": [-0.29643740889399095, 0.32868435515730043, 1.7461416496086142, -0.24004567607313979, 0.13879213518446365, 0.5535216967030455, -0.5654788153613118, 1.4745095081896062, 0.24599950755732192, -1.2056020605811952, 1.1064580688514372, 1.2560715526922155, 0.9370673363805552, -0.3035228949304509, 0.8173073261565816, -1.049133286502186, 0.8206309550571658, 0.4257464010855425, -0.204969188764631, -0.49515630325678384, -0.46557478153402304, -0.7100122999382016, 0.5038367695493804, 0.6095718122464268, -0.9665021599071422, -1.941392438441163, -0.4410063758400523, 0.03245090999579194, 0.1343061826488072, 0.5107365179921368, -0.3148389852787225, -0.3475463838805427, 0.38918681250649434, -0.5878571849206334, 0.18237827278071525, 0.8139831276610341, -0.3044351308280057, 0.7856674253493616, 0.3511107651142644, 0.4991054778015313, 1.8905790693628632, -0.36064056808190237, -0.20806458226915128, 1.1251468281191688, -2.126253635634463, -0.6012651762207218, -0.4332096922576356, 0.5936193398160595, -1.8610576096155729, -0.6848069423978584, -0.1741312896553701, -0.036689001873205666, -0.17997951544796514, 1.0197180801187515, -1.066533298890777, -0.9114780950624539, -0.11932825824118615, 1.402067892564673, -0.086837270558958, 0.463224533101115, 1.1851504359883962, -0.974581228669598, 0.5172927499818978, -0.019078919866214714, 1.6757029533305858, -0.7739305807934194, 0.49975487039061167, 2.431023967741468, 0.5156404761815808, -2.2967795329006546, -1.0552189283244984, 0.12688409298548323, -1.677072780155331, -0.8594495959629678, -0.4444344655352142, -1.2167733442412334, 0.38604138505028, 1.0138946898474628, 0.14697818534804966, 1.9761709653128225, 0.8272009540730214, -0.3939697404040883, 0.6354964151979149, -0.4806868089713751, 0.8576277591041233, -0.5114800988431405, -0.5184321876913844, 0.8927289941236105, -0.13572637194054665, 0.9993000128725914, 0.9321656254505977, 0.1462909328841926, 1.318253885597681, -1.2340506320852325, 0.5166974940232978, -0.00888755926616613, 0.2571741481342909, 0.6922229079065875, 0.6538799136667284, 0.9128588038964904]}],\n",
       "                        {\"barmode\": \"overlay\", \"legend\": {\"bgcolor\": \"#F5F6F9\", \"font\": {\"color\": \"#4D5663\"}}, \"paper_bgcolor\": \"#F5F6F9\", \"plot_bgcolor\": \"#F5F6F9\", \"template\": {\"data\": {\"bar\": [{\"error_x\": {\"color\": \"#2a3f5f\"}, \"error_y\": {\"color\": \"#2a3f5f\"}, \"marker\": {\"line\": {\"color\": \"#E5ECF6\", \"width\": 0.5}}, \"type\": \"bar\"}], \"barpolar\": [{\"marker\": {\"line\": {\"color\": \"#E5ECF6\", \"width\": 0.5}}, \"type\": \"barpolar\"}], \"carpet\": [{\"aaxis\": {\"endlinecolor\": \"#2a3f5f\", \"gridcolor\": \"white\", \"linecolor\": \"white\", \"minorgridcolor\": \"white\", \"startlinecolor\": \"#2a3f5f\"}, \"baxis\": {\"endlinecolor\": \"#2a3f5f\", \"gridcolor\": \"white\", \"linecolor\": \"white\", \"minorgridcolor\": \"white\", \"startlinecolor\": \"#2a3f5f\"}, \"type\": \"carpet\"}], \"choropleth\": [{\"colorbar\": {\"outlinewidth\": 0, \"ticks\": \"\"}, \"type\": \"choropleth\"}], \"contour\": [{\"colorbar\": {\"outlinewidth\": 0, \"ticks\": \"\"}, \"colorscale\": [[0.0, \"#0d0887\"], [0.1111111111111111, \"#46039f\"], [0.2222222222222222, \"#7201a8\"], [0.3333333333333333, \"#9c179e\"], [0.4444444444444444, \"#bd3786\"], [0.5555555555555556, \"#d8576b\"], [0.6666666666666666, \"#ed7953\"], [0.7777777777777778, \"#fb9f3a\"], [0.8888888888888888, \"#fdca26\"], [1.0, \"#f0f921\"]], \"type\": \"contour\"}], \"contourcarpet\": [{\"colorbar\": {\"outlinewidth\": 0, \"ticks\": \"\"}, \"type\": \"contourcarpet\"}], \"heatmap\": [{\"colorbar\": {\"outlinewidth\": 0, \"ticks\": \"\"}, \"colorscale\": [[0.0, \"#0d0887\"], [0.1111111111111111, \"#46039f\"], [0.2222222222222222, \"#7201a8\"], [0.3333333333333333, \"#9c179e\"], [0.4444444444444444, \"#bd3786\"], [0.5555555555555556, \"#d8576b\"], [0.6666666666666666, \"#ed7953\"], [0.7777777777777778, \"#fb9f3a\"], [0.8888888888888888, \"#fdca26\"], [1.0, \"#f0f921\"]], \"type\": \"heatmap\"}], \"heatmapgl\": [{\"colorbar\": {\"outlinewidth\": 0, \"ticks\": \"\"}, \"colorscale\": [[0.0, \"#0d0887\"], [0.1111111111111111, \"#46039f\"], [0.2222222222222222, \"#7201a8\"], [0.3333333333333333, \"#9c179e\"], [0.4444444444444444, \"#bd3786\"], [0.5555555555555556, \"#d8576b\"], [0.6666666666666666, \"#ed7953\"], [0.7777777777777778, \"#fb9f3a\"], [0.8888888888888888, \"#fdca26\"], [1.0, \"#f0f921\"]], \"type\": \"heatmapgl\"}], \"histogram\": [{\"marker\": {\"colorbar\": {\"outlinewidth\": 0, \"ticks\": \"\"}}, \"type\": \"histogram\"}], \"histogram2d\": [{\"colorbar\": {\"outlinewidth\": 0, \"ticks\": \"\"}, \"colorscale\": [[0.0, \"#0d0887\"], [0.1111111111111111, \"#46039f\"], [0.2222222222222222, \"#7201a8\"], [0.3333333333333333, \"#9c179e\"], [0.4444444444444444, \"#bd3786\"], [0.5555555555555556, \"#d8576b\"], [0.6666666666666666, \"#ed7953\"], [0.7777777777777778, \"#fb9f3a\"], [0.8888888888888888, \"#fdca26\"], [1.0, \"#f0f921\"]], \"type\": \"histogram2d\"}], \"histogram2dcontour\": [{\"colorbar\": {\"outlinewidth\": 0, \"ticks\": \"\"}, \"colorscale\": [[0.0, \"#0d0887\"], [0.1111111111111111, \"#46039f\"], [0.2222222222222222, \"#7201a8\"], [0.3333333333333333, \"#9c179e\"], [0.4444444444444444, \"#bd3786\"], [0.5555555555555556, \"#d8576b\"], [0.6666666666666666, \"#ed7953\"], [0.7777777777777778, \"#fb9f3a\"], [0.8888888888888888, \"#fdca26\"], [1.0, \"#f0f921\"]], \"type\": \"histogram2dcontour\"}], \"mesh3d\": [{\"colorbar\": {\"outlinewidth\": 0, \"ticks\": \"\"}, \"type\": \"mesh3d\"}], \"parcoords\": [{\"line\": {\"colorbar\": {\"outlinewidth\": 0, \"ticks\": \"\"}}, \"type\": \"parcoords\"}], \"pie\": [{\"automargin\": true, \"type\": \"pie\"}], \"scatter\": [{\"marker\": {\"colorbar\": {\"outlinewidth\": 0, \"ticks\": \"\"}}, \"type\": \"scatter\"}], \"scatter3d\": [{\"line\": {\"colorbar\": {\"outlinewidth\": 0, \"ticks\": \"\"}}, \"marker\": {\"colorbar\": {\"outlinewidth\": 0, \"ticks\": \"\"}}, \"type\": \"scatter3d\"}], \"scattercarpet\": [{\"marker\": {\"colorbar\": {\"outlinewidth\": 0, \"ticks\": \"\"}}, \"type\": \"scattercarpet\"}], \"scattergeo\": [{\"marker\": {\"colorbar\": {\"outlinewidth\": 0, \"ticks\": \"\"}}, \"type\": \"scattergeo\"}], \"scattergl\": [{\"marker\": {\"colorbar\": {\"outlinewidth\": 0, \"ticks\": \"\"}}, \"type\": \"scattergl\"}], \"scattermapbox\": [{\"marker\": {\"colorbar\": {\"outlinewidth\": 0, \"ticks\": \"\"}}, \"type\": \"scattermapbox\"}], \"scatterpolar\": [{\"marker\": {\"colorbar\": {\"outlinewidth\": 0, \"ticks\": \"\"}}, \"type\": \"scatterpolar\"}], \"scatterpolargl\": [{\"marker\": {\"colorbar\": {\"outlinewidth\": 0, \"ticks\": \"\"}}, \"type\": \"scatterpolargl\"}], \"scatterternary\": [{\"marker\": {\"colorbar\": {\"outlinewidth\": 0, \"ticks\": \"\"}}, \"type\": \"scatterternary\"}], \"surface\": [{\"colorbar\": {\"outlinewidth\": 0, \"ticks\": \"\"}, \"colorscale\": [[0.0, \"#0d0887\"], [0.1111111111111111, \"#46039f\"], [0.2222222222222222, \"#7201a8\"], [0.3333333333333333, \"#9c179e\"], [0.4444444444444444, \"#bd3786\"], [0.5555555555555556, \"#d8576b\"], [0.6666666666666666, \"#ed7953\"], [0.7777777777777778, \"#fb9f3a\"], [0.8888888888888888, \"#fdca26\"], [1.0, \"#f0f921\"]], \"type\": \"surface\"}], \"table\": [{\"cells\": {\"fill\": {\"color\": \"#EBF0F8\"}, \"line\": {\"color\": \"white\"}}, \"header\": {\"fill\": {\"color\": \"#C8D4E3\"}, \"line\": {\"color\": \"white\"}}, \"type\": \"table\"}]}, \"layout\": {\"annotationdefaults\": {\"arrowcolor\": \"#2a3f5f\", \"arrowhead\": 0, \"arrowwidth\": 1}, \"coloraxis\": {\"colorbar\": {\"outlinewidth\": 0, \"ticks\": \"\"}}, \"colorscale\": {\"diverging\": [[0, \"#8e0152\"], [0.1, \"#c51b7d\"], [0.2, \"#de77ae\"], [0.3, \"#f1b6da\"], [0.4, \"#fde0ef\"], [0.5, \"#f7f7f7\"], [0.6, \"#e6f5d0\"], [0.7, \"#b8e186\"], [0.8, \"#7fbc41\"], [0.9, \"#4d9221\"], [1, \"#276419\"]], \"sequential\": [[0.0, \"#0d0887\"], [0.1111111111111111, \"#46039f\"], [0.2222222222222222, \"#7201a8\"], [0.3333333333333333, \"#9c179e\"], [0.4444444444444444, \"#bd3786\"], [0.5555555555555556, \"#d8576b\"], [0.6666666666666666, \"#ed7953\"], [0.7777777777777778, \"#fb9f3a\"], [0.8888888888888888, \"#fdca26\"], [1.0, \"#f0f921\"]], \"sequentialminus\": [[0.0, \"#0d0887\"], [0.1111111111111111, \"#46039f\"], [0.2222222222222222, \"#7201a8\"], [0.3333333333333333, \"#9c179e\"], [0.4444444444444444, \"#bd3786\"], [0.5555555555555556, \"#d8576b\"], [0.6666666666666666, \"#ed7953\"], [0.7777777777777778, \"#fb9f3a\"], [0.8888888888888888, \"#fdca26\"], [1.0, \"#f0f921\"]]}, \"colorway\": [\"#636efa\", \"#EF553B\", \"#00cc96\", \"#ab63fa\", \"#FFA15A\", \"#19d3f3\", \"#FF6692\", \"#B6E880\", \"#FF97FF\", \"#FECB52\"], \"font\": {\"color\": \"#2a3f5f\"}, \"geo\": {\"bgcolor\": \"white\", \"lakecolor\": \"white\", \"landcolor\": \"#E5ECF6\", \"showlakes\": true, \"showland\": true, \"subunitcolor\": \"white\"}, \"hoverlabel\": {\"align\": \"left\"}, \"hovermode\": \"closest\", \"mapbox\": {\"style\": \"light\"}, \"paper_bgcolor\": \"white\", \"plot_bgcolor\": \"#E5ECF6\", \"polar\": {\"angularaxis\": {\"gridcolor\": \"white\", \"linecolor\": \"white\", \"ticks\": \"\"}, \"bgcolor\": \"#E5ECF6\", \"radialaxis\": {\"gridcolor\": \"white\", \"linecolor\": \"white\", \"ticks\": \"\"}}, \"scene\": {\"xaxis\": {\"backgroundcolor\": \"#E5ECF6\", \"gridcolor\": \"white\", \"gridwidth\": 2, \"linecolor\": \"white\", \"showbackground\": true, \"ticks\": \"\", \"zerolinecolor\": \"white\"}, \"yaxis\": {\"backgroundcolor\": \"#E5ECF6\", \"gridcolor\": \"white\", \"gridwidth\": 2, \"linecolor\": \"white\", \"showbackground\": true, \"ticks\": \"\", \"zerolinecolor\": \"white\"}, \"zaxis\": {\"backgroundcolor\": \"#E5ECF6\", \"gridcolor\": \"white\", \"gridwidth\": 2, \"linecolor\": \"white\", \"showbackground\": true, \"ticks\": \"\", \"zerolinecolor\": \"white\"}}, \"shapedefaults\": {\"line\": {\"color\": \"#2a3f5f\"}}, \"ternary\": {\"aaxis\": {\"gridcolor\": \"white\", \"linecolor\": \"white\", \"ticks\": \"\"}, \"baxis\": {\"gridcolor\": \"white\", \"linecolor\": \"white\", \"ticks\": \"\"}, \"bgcolor\": \"#E5ECF6\", \"caxis\": {\"gridcolor\": \"white\", \"linecolor\": \"white\", \"ticks\": \"\"}}, \"title\": {\"x\": 0.05}, \"xaxis\": {\"automargin\": true, \"gridcolor\": \"white\", \"linecolor\": \"white\", \"ticks\": \"\", \"title\": {\"standoff\": 15}, \"zerolinecolor\": \"white\", \"zerolinewidth\": 2}, \"yaxis\": {\"automargin\": true, \"gridcolor\": \"white\", \"linecolor\": \"white\", \"ticks\": \"\", \"title\": {\"standoff\": 15}, \"zerolinecolor\": \"white\", \"zerolinewidth\": 2}}}, \"title\": {\"font\": {\"color\": \"#4D5663\"}}, \"xaxis\": {\"gridcolor\": \"#E1E5ED\", \"showgrid\": true, \"tickfont\": {\"color\": \"#4D5663\"}, \"title\": {\"font\": {\"color\": \"#4D5663\"}, \"text\": \"\"}, \"zerolinecolor\": \"#E1E5ED\"}, \"yaxis\": {\"gridcolor\": \"#E1E5ED\", \"showgrid\": true, \"tickfont\": {\"color\": \"#4D5663\"}, \"title\": {\"font\": {\"color\": \"#4D5663\"}, \"text\": \"\"}, \"zerolinecolor\": \"#E1E5ED\"}},\n",
       "                        {\"showLink\": true, \"linkText\": \"Export to plot.ly\", \"plotlyServerURL\": \"https://plot.ly\", \"responsive\": true}\n",
       "                    ).then(function(){\n",
       "                            \n",
       "var gd = document.getElementById('18a35324-071f-4acb-9516-ce72505f7aae');\n",
       "var x = new MutationObserver(function (mutations, observer) {{\n",
       "        var display = window.getComputedStyle(gd).display;\n",
       "        if (!display || display === 'none') {{\n",
       "            console.log([gd, 'removed!']);\n",
       "            Plotly.purge(gd);\n",
       "            observer.disconnect();\n",
       "        }}\n",
       "}});\n",
       "\n",
       "// Listen for the removal of the full notebook cells\n",
       "var notebookContainer = gd.closest('#notebook-container');\n",
       "if (notebookContainer) {{\n",
       "    x.observe(notebookContainer, {childList: true});\n",
       "}}\n",
       "\n",
       "// Listen for the clearing of the current output cell\n",
       "var outputEl = gd.closest('.output');\n",
       "if (outputEl) {{\n",
       "    x.observe(outputEl, {childList: true});\n",
       "}}\n",
       "\n",
       "                        })\n",
       "                };\n",
       "                });\n",
       "            </script>\n",
       "        </div>"
      ]
     },
     "metadata": {},
     "output_type": "display_data"
    }
   ],
   "source": [
    "df['A'].iplot(kind='hist',bins=25)"
   ]
  },
  {
   "cell_type": "code",
   "execution_count": 18,
   "metadata": {},
   "outputs": [
    {
     "data": {
      "application/vnd.plotly.v1+json": {
       "config": {
        "linkText": "Export to plot.ly",
        "plotlyServerURL": "https://plot.ly",
        "showLink": true
       },
       "data": [
        {
         "marker": {
          "color": [
           "rgb(255, 153, 51)",
           "rgb(55, 128, 191)",
           "rgb(50, 171, 96)",
           "rgb(128, 0, 128)",
           "rgb(219, 64, 82)",
           "rgb(0, 128, 128)",
           "rgb(255, 255, 51)",
           "rgb(128, 128, 0)",
           "rgb(251, 128, 114)",
           "rgb(128, 177, 211)"
          ],
          "line": {
           "width": 1.3
          },
          "size": [
           54,
           67,
           97,
           55,
           63,
           72,
           48,
           91,
           65,
           35,
           83,
           87,
           80,
           54,
           77,
           38,
           77,
           69,
           56,
           50,
           50,
           45,
           71,
           73,
           40,
           19,
           51,
           61,
           63,
           71,
           53,
           53,
           68,
           48,
           64,
           77,
           54,
           77,
           68,
           71,
           100,
           52,
           56,
           84,
           15,
           47,
           51,
           73,
           21,
           46,
           56,
           59,
           56,
           82,
           38,
           41,
           58,
           90,
           58,
           70,
           85,
           39,
           71,
           60,
           96,
           44,
           71,
           112,
           71,
           12,
           38,
           63,
           25,
           42,
           51,
           34,
           68,
           82,
           63,
           102,
           78,
           52,
           74,
           50,
           78,
           49,
           49,
           79,
           57,
           81,
           80,
           63,
           88,
           34,
           71,
           60,
           66,
           75,
           74,
           79
          ],
          "symbol": "circle"
         },
         "mode": "markers",
         "text": "",
         "type": "scatter",
         "x": [
          -0.29643740889399095,
          0.32868435515730043,
          1.7461416496086142,
          -0.24004567607313979,
          0.13879213518446365,
          0.5535216967030455,
          -0.5654788153613118,
          1.4745095081896062,
          0.24599950755732192,
          -1.2056020605811952,
          1.1064580688514372,
          1.2560715526922155,
          0.9370673363805552,
          -0.3035228949304509,
          0.8173073261565816,
          -1.049133286502186,
          0.8206309550571658,
          0.4257464010855425,
          -0.204969188764631,
          -0.49515630325678384,
          -0.46557478153402304,
          -0.7100122999382016,
          0.5038367695493804,
          0.6095718122464268,
          -0.9665021599071422,
          -1.941392438441163,
          -0.4410063758400523,
          0.03245090999579194,
          0.1343061826488072,
          0.5107365179921368,
          -0.3148389852787225,
          -0.3475463838805427,
          0.38918681250649434,
          -0.5878571849206334,
          0.18237827278071525,
          0.8139831276610341,
          -0.3044351308280057,
          0.7856674253493616,
          0.3511107651142644,
          0.4991054778015313,
          1.8905790693628632,
          -0.36064056808190237,
          -0.20806458226915128,
          1.1251468281191688,
          -2.126253635634463,
          -0.6012651762207218,
          -0.4332096922576356,
          0.5936193398160595,
          -1.8610576096155729,
          -0.6848069423978584,
          -0.1741312896553701,
          -0.036689001873205666,
          -0.17997951544796514,
          1.0197180801187515,
          -1.066533298890777,
          -0.9114780950624539,
          -0.11932825824118615,
          1.402067892564673,
          -0.086837270558958,
          0.463224533101115,
          1.1851504359883962,
          -0.974581228669598,
          0.5172927499818978,
          -0.019078919866214714,
          1.6757029533305858,
          -0.7739305807934194,
          0.49975487039061167,
          2.431023967741468,
          0.5156404761815808,
          -2.2967795329006546,
          -1.0552189283244984,
          0.12688409298548323,
          -1.677072780155331,
          -0.8594495959629678,
          -0.4444344655352142,
          -1.2167733442412334,
          0.38604138505028,
          1.0138946898474628,
          0.14697818534804966,
          1.9761709653128225,
          0.8272009540730214,
          -0.3939697404040883,
          0.6354964151979149,
          -0.4806868089713751,
          0.8576277591041233,
          -0.5114800988431405,
          -0.5184321876913844,
          0.8927289941236105,
          -0.13572637194054665,
          0.9993000128725914,
          0.9321656254505977,
          0.1462909328841926,
          1.318253885597681,
          -1.2340506320852325,
          0.5166974940232978,
          -0.00888755926616613,
          0.2571741481342909,
          0.6922229079065875,
          0.6538799136667284,
          0.9128588038964904
         ],
         "y": [
          0.07900847452249811,
          -0.9122677191922264,
          0.3112574668049616,
          1.7728983810125845,
          -0.46509577776202565,
          -0.8500736939519596,
          0.09604825979531327,
          -1.6741323641529193,
          0.3654389760932509,
          -0.396636210544783,
          -0.39935846585434787,
          -2.072144060438098,
          -0.9592798926978057,
          1.009429267180827,
          1.4347810916763082,
          1.2238156048083508,
          -0.2539894869632165,
          -0.03462226412381225,
          1.5213228468514988,
          -0.16020138184502902,
          1.1012259404213742,
          -1.7925797528858496,
          1.3515348090377433,
          -1.2785375474729208,
          -0.9450429616882644,
          -0.3565619797841725,
          -0.526895547025469,
          -0.29703925347581567,
          0.470679346499512,
          -0.21965139430373848,
          -0.277572241034337,
          1.6757739473793847,
          -0.6844213119094037,
          2.5467128090186346,
          0.3092940280081921,
          0.36706217813011577,
          0.3620155081208797,
          -1.0693211361043422,
          -0.32058523850796067,
          0.34172741616987756,
          -1.013975596657667,
          -0.330584333129899,
          2.354552575307552,
          0.2222715205421336,
          -0.24491641424236923,
          0.08652389492069956,
          -0.6661046551013905,
          -0.5684243647771562,
          -0.16815681870593208,
          0.5451732559293533,
          -0.7003127063854502,
          -2.0991552130751163,
          -0.8805818658707721,
          1.1181512595690717,
          -1.8236861113099427,
          -1.109326462564337,
          0.8850844170534031,
          -0.15140124010444625,
          2.089817025595409,
          -1.1412646577928676,
          0.5130786272975839,
          0.802315702090518,
          0.8227263767426035,
          -0.4211094361933707,
          0.3188905388362875,
          -0.27597929718394765,
          1.4894104428242139,
          1.0154933954044825,
          0.9032711654013391,
          1.4822651315059352,
          0.5187114432149854,
          1.7355646462196677,
          -1.0622908954228063,
          -0.41376365210767657,
          -0.4752312118552798,
          0.25271611250132825,
          0.11808813566547226,
          -1.4190087109867906,
          -1.099413224707759,
          -0.8227951494886859,
          1.0404839507698609,
          -0.3836115958841534,
          -0.36668922503310136,
          -0.9641263348806826,
          -1.4158392346294928,
          -0.5832744046678073,
          -0.2507105982209403,
          -0.519634303248391,
          1.3501586378007053,
          0.3645687598665697,
          -2.2309271526923697,
          -2.2570879544856224,
          0.681349780667486,
          0.005462937664764124,
          0.08378619913036302,
          -0.18127299340078432,
          0.5088984930410607,
          -0.12613393601230247,
          -1.067492178711451,
          -0.5060295021572043
         ]
        }
       ],
       "layout": {
        "legend": {
         "bgcolor": "#F5F6F9",
         "font": {
          "color": "#4D5663"
         }
        },
        "paper_bgcolor": "#F5F6F9",
        "plot_bgcolor": "#F5F6F9",
        "template": {
         "data": {
          "bar": [
           {
            "error_x": {
             "color": "#2a3f5f"
            },
            "error_y": {
             "color": "#2a3f5f"
            },
            "marker": {
             "line": {
              "color": "#E5ECF6",
              "width": 0.5
             }
            },
            "type": "bar"
           }
          ],
          "barpolar": [
           {
            "marker": {
             "line": {
              "color": "#E5ECF6",
              "width": 0.5
             }
            },
            "type": "barpolar"
           }
          ],
          "carpet": [
           {
            "aaxis": {
             "endlinecolor": "#2a3f5f",
             "gridcolor": "white",
             "linecolor": "white",
             "minorgridcolor": "white",
             "startlinecolor": "#2a3f5f"
            },
            "baxis": {
             "endlinecolor": "#2a3f5f",
             "gridcolor": "white",
             "linecolor": "white",
             "minorgridcolor": "white",
             "startlinecolor": "#2a3f5f"
            },
            "type": "carpet"
           }
          ],
          "choropleth": [
           {
            "colorbar": {
             "outlinewidth": 0,
             "ticks": ""
            },
            "type": "choropleth"
           }
          ],
          "contour": [
           {
            "colorbar": {
             "outlinewidth": 0,
             "ticks": ""
            },
            "colorscale": [
             [
              0,
              "#0d0887"
             ],
             [
              0.1111111111111111,
              "#46039f"
             ],
             [
              0.2222222222222222,
              "#7201a8"
             ],
             [
              0.3333333333333333,
              "#9c179e"
             ],
             [
              0.4444444444444444,
              "#bd3786"
             ],
             [
              0.5555555555555556,
              "#d8576b"
             ],
             [
              0.6666666666666666,
              "#ed7953"
             ],
             [
              0.7777777777777778,
              "#fb9f3a"
             ],
             [
              0.8888888888888888,
              "#fdca26"
             ],
             [
              1,
              "#f0f921"
             ]
            ],
            "type": "contour"
           }
          ],
          "contourcarpet": [
           {
            "colorbar": {
             "outlinewidth": 0,
             "ticks": ""
            },
            "type": "contourcarpet"
           }
          ],
          "heatmap": [
           {
            "colorbar": {
             "outlinewidth": 0,
             "ticks": ""
            },
            "colorscale": [
             [
              0,
              "#0d0887"
             ],
             [
              0.1111111111111111,
              "#46039f"
             ],
             [
              0.2222222222222222,
              "#7201a8"
             ],
             [
              0.3333333333333333,
              "#9c179e"
             ],
             [
              0.4444444444444444,
              "#bd3786"
             ],
             [
              0.5555555555555556,
              "#d8576b"
             ],
             [
              0.6666666666666666,
              "#ed7953"
             ],
             [
              0.7777777777777778,
              "#fb9f3a"
             ],
             [
              0.8888888888888888,
              "#fdca26"
             ],
             [
              1,
              "#f0f921"
             ]
            ],
            "type": "heatmap"
           }
          ],
          "heatmapgl": [
           {
            "colorbar": {
             "outlinewidth": 0,
             "ticks": ""
            },
            "colorscale": [
             [
              0,
              "#0d0887"
             ],
             [
              0.1111111111111111,
              "#46039f"
             ],
             [
              0.2222222222222222,
              "#7201a8"
             ],
             [
              0.3333333333333333,
              "#9c179e"
             ],
             [
              0.4444444444444444,
              "#bd3786"
             ],
             [
              0.5555555555555556,
              "#d8576b"
             ],
             [
              0.6666666666666666,
              "#ed7953"
             ],
             [
              0.7777777777777778,
              "#fb9f3a"
             ],
             [
              0.8888888888888888,
              "#fdca26"
             ],
             [
              1,
              "#f0f921"
             ]
            ],
            "type": "heatmapgl"
           }
          ],
          "histogram": [
           {
            "marker": {
             "colorbar": {
              "outlinewidth": 0,
              "ticks": ""
             }
            },
            "type": "histogram"
           }
          ],
          "histogram2d": [
           {
            "colorbar": {
             "outlinewidth": 0,
             "ticks": ""
            },
            "colorscale": [
             [
              0,
              "#0d0887"
             ],
             [
              0.1111111111111111,
              "#46039f"
             ],
             [
              0.2222222222222222,
              "#7201a8"
             ],
             [
              0.3333333333333333,
              "#9c179e"
             ],
             [
              0.4444444444444444,
              "#bd3786"
             ],
             [
              0.5555555555555556,
              "#d8576b"
             ],
             [
              0.6666666666666666,
              "#ed7953"
             ],
             [
              0.7777777777777778,
              "#fb9f3a"
             ],
             [
              0.8888888888888888,
              "#fdca26"
             ],
             [
              1,
              "#f0f921"
             ]
            ],
            "type": "histogram2d"
           }
          ],
          "histogram2dcontour": [
           {
            "colorbar": {
             "outlinewidth": 0,
             "ticks": ""
            },
            "colorscale": [
             [
              0,
              "#0d0887"
             ],
             [
              0.1111111111111111,
              "#46039f"
             ],
             [
              0.2222222222222222,
              "#7201a8"
             ],
             [
              0.3333333333333333,
              "#9c179e"
             ],
             [
              0.4444444444444444,
              "#bd3786"
             ],
             [
              0.5555555555555556,
              "#d8576b"
             ],
             [
              0.6666666666666666,
              "#ed7953"
             ],
             [
              0.7777777777777778,
              "#fb9f3a"
             ],
             [
              0.8888888888888888,
              "#fdca26"
             ],
             [
              1,
              "#f0f921"
             ]
            ],
            "type": "histogram2dcontour"
           }
          ],
          "mesh3d": [
           {
            "colorbar": {
             "outlinewidth": 0,
             "ticks": ""
            },
            "type": "mesh3d"
           }
          ],
          "parcoords": [
           {
            "line": {
             "colorbar": {
              "outlinewidth": 0,
              "ticks": ""
             }
            },
            "type": "parcoords"
           }
          ],
          "pie": [
           {
            "automargin": true,
            "type": "pie"
           }
          ],
          "scatter": [
           {
            "marker": {
             "colorbar": {
              "outlinewidth": 0,
              "ticks": ""
             }
            },
            "type": "scatter"
           }
          ],
          "scatter3d": [
           {
            "line": {
             "colorbar": {
              "outlinewidth": 0,
              "ticks": ""
             }
            },
            "marker": {
             "colorbar": {
              "outlinewidth": 0,
              "ticks": ""
             }
            },
            "type": "scatter3d"
           }
          ],
          "scattercarpet": [
           {
            "marker": {
             "colorbar": {
              "outlinewidth": 0,
              "ticks": ""
             }
            },
            "type": "scattercarpet"
           }
          ],
          "scattergeo": [
           {
            "marker": {
             "colorbar": {
              "outlinewidth": 0,
              "ticks": ""
             }
            },
            "type": "scattergeo"
           }
          ],
          "scattergl": [
           {
            "marker": {
             "colorbar": {
              "outlinewidth": 0,
              "ticks": ""
             }
            },
            "type": "scattergl"
           }
          ],
          "scattermapbox": [
           {
            "marker": {
             "colorbar": {
              "outlinewidth": 0,
              "ticks": ""
             }
            },
            "type": "scattermapbox"
           }
          ],
          "scatterpolar": [
           {
            "marker": {
             "colorbar": {
              "outlinewidth": 0,
              "ticks": ""
             }
            },
            "type": "scatterpolar"
           }
          ],
          "scatterpolargl": [
           {
            "marker": {
             "colorbar": {
              "outlinewidth": 0,
              "ticks": ""
             }
            },
            "type": "scatterpolargl"
           }
          ],
          "scatterternary": [
           {
            "marker": {
             "colorbar": {
              "outlinewidth": 0,
              "ticks": ""
             }
            },
            "type": "scatterternary"
           }
          ],
          "surface": [
           {
            "colorbar": {
             "outlinewidth": 0,
             "ticks": ""
            },
            "colorscale": [
             [
              0,
              "#0d0887"
             ],
             [
              0.1111111111111111,
              "#46039f"
             ],
             [
              0.2222222222222222,
              "#7201a8"
             ],
             [
              0.3333333333333333,
              "#9c179e"
             ],
             [
              0.4444444444444444,
              "#bd3786"
             ],
             [
              0.5555555555555556,
              "#d8576b"
             ],
             [
              0.6666666666666666,
              "#ed7953"
             ],
             [
              0.7777777777777778,
              "#fb9f3a"
             ],
             [
              0.8888888888888888,
              "#fdca26"
             ],
             [
              1,
              "#f0f921"
             ]
            ],
            "type": "surface"
           }
          ],
          "table": [
           {
            "cells": {
             "fill": {
              "color": "#EBF0F8"
             },
             "line": {
              "color": "white"
             }
            },
            "header": {
             "fill": {
              "color": "#C8D4E3"
             },
             "line": {
              "color": "white"
             }
            },
            "type": "table"
           }
          ]
         },
         "layout": {
          "annotationdefaults": {
           "arrowcolor": "#2a3f5f",
           "arrowhead": 0,
           "arrowwidth": 1
          },
          "coloraxis": {
           "colorbar": {
            "outlinewidth": 0,
            "ticks": ""
           }
          },
          "colorscale": {
           "diverging": [
            [
             0,
             "#8e0152"
            ],
            [
             0.1,
             "#c51b7d"
            ],
            [
             0.2,
             "#de77ae"
            ],
            [
             0.3,
             "#f1b6da"
            ],
            [
             0.4,
             "#fde0ef"
            ],
            [
             0.5,
             "#f7f7f7"
            ],
            [
             0.6,
             "#e6f5d0"
            ],
            [
             0.7,
             "#b8e186"
            ],
            [
             0.8,
             "#7fbc41"
            ],
            [
             0.9,
             "#4d9221"
            ],
            [
             1,
             "#276419"
            ]
           ],
           "sequential": [
            [
             0,
             "#0d0887"
            ],
            [
             0.1111111111111111,
             "#46039f"
            ],
            [
             0.2222222222222222,
             "#7201a8"
            ],
            [
             0.3333333333333333,
             "#9c179e"
            ],
            [
             0.4444444444444444,
             "#bd3786"
            ],
            [
             0.5555555555555556,
             "#d8576b"
            ],
            [
             0.6666666666666666,
             "#ed7953"
            ],
            [
             0.7777777777777778,
             "#fb9f3a"
            ],
            [
             0.8888888888888888,
             "#fdca26"
            ],
            [
             1,
             "#f0f921"
            ]
           ],
           "sequentialminus": [
            [
             0,
             "#0d0887"
            ],
            [
             0.1111111111111111,
             "#46039f"
            ],
            [
             0.2222222222222222,
             "#7201a8"
            ],
            [
             0.3333333333333333,
             "#9c179e"
            ],
            [
             0.4444444444444444,
             "#bd3786"
            ],
            [
             0.5555555555555556,
             "#d8576b"
            ],
            [
             0.6666666666666666,
             "#ed7953"
            ],
            [
             0.7777777777777778,
             "#fb9f3a"
            ],
            [
             0.8888888888888888,
             "#fdca26"
            ],
            [
             1,
             "#f0f921"
            ]
           ]
          },
          "colorway": [
           "#636efa",
           "#EF553B",
           "#00cc96",
           "#ab63fa",
           "#FFA15A",
           "#19d3f3",
           "#FF6692",
           "#B6E880",
           "#FF97FF",
           "#FECB52"
          ],
          "font": {
           "color": "#2a3f5f"
          },
          "geo": {
           "bgcolor": "white",
           "lakecolor": "white",
           "landcolor": "#E5ECF6",
           "showlakes": true,
           "showland": true,
           "subunitcolor": "white"
          },
          "hoverlabel": {
           "align": "left"
          },
          "hovermode": "closest",
          "mapbox": {
           "style": "light"
          },
          "paper_bgcolor": "white",
          "plot_bgcolor": "#E5ECF6",
          "polar": {
           "angularaxis": {
            "gridcolor": "white",
            "linecolor": "white",
            "ticks": ""
           },
           "bgcolor": "#E5ECF6",
           "radialaxis": {
            "gridcolor": "white",
            "linecolor": "white",
            "ticks": ""
           }
          },
          "scene": {
           "xaxis": {
            "backgroundcolor": "#E5ECF6",
            "gridcolor": "white",
            "gridwidth": 2,
            "linecolor": "white",
            "showbackground": true,
            "ticks": "",
            "zerolinecolor": "white"
           },
           "yaxis": {
            "backgroundcolor": "#E5ECF6",
            "gridcolor": "white",
            "gridwidth": 2,
            "linecolor": "white",
            "showbackground": true,
            "ticks": "",
            "zerolinecolor": "white"
           },
           "zaxis": {
            "backgroundcolor": "#E5ECF6",
            "gridcolor": "white",
            "gridwidth": 2,
            "linecolor": "white",
            "showbackground": true,
            "ticks": "",
            "zerolinecolor": "white"
           }
          },
          "shapedefaults": {
           "line": {
            "color": "#2a3f5f"
           }
          },
          "ternary": {
           "aaxis": {
            "gridcolor": "white",
            "linecolor": "white",
            "ticks": ""
           },
           "baxis": {
            "gridcolor": "white",
            "linecolor": "white",
            "ticks": ""
           },
           "bgcolor": "#E5ECF6",
           "caxis": {
            "gridcolor": "white",
            "linecolor": "white",
            "ticks": ""
           }
          },
          "title": {
           "x": 0.05
          },
          "xaxis": {
           "automargin": true,
           "gridcolor": "white",
           "linecolor": "white",
           "ticks": "",
           "title": {
            "standoff": 15
           },
           "zerolinecolor": "white",
           "zerolinewidth": 2
          },
          "yaxis": {
           "automargin": true,
           "gridcolor": "white",
           "linecolor": "white",
           "ticks": "",
           "title": {
            "standoff": 15
           },
           "zerolinecolor": "white",
           "zerolinewidth": 2
          }
         }
        },
        "title": {
         "font": {
          "color": "#4D5663"
         }
        },
        "xaxis": {
         "gridcolor": "#E1E5ED",
         "showgrid": true,
         "tickfont": {
          "color": "#4D5663"
         },
         "title": {
          "font": {
           "color": "#4D5663"
          },
          "text": ""
         },
         "zerolinecolor": "#E1E5ED"
        },
        "yaxis": {
         "gridcolor": "#E1E5ED",
         "showgrid": true,
         "tickfont": {
          "color": "#4D5663"
         },
         "title": {
          "font": {
           "color": "#4D5663"
          },
          "text": ""
         },
         "zerolinecolor": "#E1E5ED"
        }
       }
      },
      "text/html": [
       "<div>\n",
       "        \n",
       "        \n",
       "            <div id=\"66fb9513-5735-4a7f-b4b9-9dd0d695eb74\" class=\"plotly-graph-div\" style=\"height:525px; width:100%;\"></div>\n",
       "            <script type=\"text/javascript\">\n",
       "                require([\"plotly\"], function(Plotly) {\n",
       "                    window.PLOTLYENV=window.PLOTLYENV || {};\n",
       "                    window.PLOTLYENV.BASE_URL='https://plot.ly';\n",
       "                    \n",
       "                if (document.getElementById(\"66fb9513-5735-4a7f-b4b9-9dd0d695eb74\")) {\n",
       "                    Plotly.newPlot(\n",
       "                        '66fb9513-5735-4a7f-b4b9-9dd0d695eb74',\n",
       "                        [{\"marker\": {\"color\": [\"rgb(255, 153, 51)\", \"rgb(55, 128, 191)\", \"rgb(50, 171, 96)\", \"rgb(128, 0, 128)\", \"rgb(219, 64, 82)\", \"rgb(0, 128, 128)\", \"rgb(255, 255, 51)\", \"rgb(128, 128, 0)\", \"rgb(251, 128, 114)\", \"rgb(128, 177, 211)\"], \"line\": {\"width\": 1.3}, \"size\": [54, 67, 97, 55, 63, 72, 48, 91, 65, 35, 83, 87, 80, 54, 77, 38, 77, 69, 56, 50, 50, 45, 71, 73, 40, 19, 51, 61, 63, 71, 53, 53, 68, 48, 64, 77, 54, 77, 68, 71, 100, 52, 56, 84, 15, 47, 51, 73, 21, 46, 56, 59, 56, 82, 38, 41, 58, 90, 58, 70, 85, 39, 71, 60, 96, 44, 71, 112, 71, 12, 38, 63, 25, 42, 51, 34, 68, 82, 63, 102, 78, 52, 74, 50, 78, 49, 49, 79, 57, 81, 80, 63, 88, 34, 71, 60, 66, 75, 74, 79], \"symbol\": \"circle\"}, \"mode\": \"markers\", \"text\": \"\", \"type\": \"scatter\", \"x\": [-0.29643740889399095, 0.32868435515730043, 1.7461416496086142, -0.24004567607313979, 0.13879213518446365, 0.5535216967030455, -0.5654788153613118, 1.4745095081896062, 0.24599950755732192, -1.2056020605811952, 1.1064580688514372, 1.2560715526922155, 0.9370673363805552, -0.3035228949304509, 0.8173073261565816, -1.049133286502186, 0.8206309550571658, 0.4257464010855425, -0.204969188764631, -0.49515630325678384, -0.46557478153402304, -0.7100122999382016, 0.5038367695493804, 0.6095718122464268, -0.9665021599071422, -1.941392438441163, -0.4410063758400523, 0.03245090999579194, 0.1343061826488072, 0.5107365179921368, -0.3148389852787225, -0.3475463838805427, 0.38918681250649434, -0.5878571849206334, 0.18237827278071525, 0.8139831276610341, -0.3044351308280057, 0.7856674253493616, 0.3511107651142644, 0.4991054778015313, 1.8905790693628632, -0.36064056808190237, -0.20806458226915128, 1.1251468281191688, -2.126253635634463, -0.6012651762207218, -0.4332096922576356, 0.5936193398160595, -1.8610576096155729, -0.6848069423978584, -0.1741312896553701, -0.036689001873205666, -0.17997951544796514, 1.0197180801187515, -1.066533298890777, -0.9114780950624539, -0.11932825824118615, 1.402067892564673, -0.086837270558958, 0.463224533101115, 1.1851504359883962, -0.974581228669598, 0.5172927499818978, -0.019078919866214714, 1.6757029533305858, -0.7739305807934194, 0.49975487039061167, 2.431023967741468, 0.5156404761815808, -2.2967795329006546, -1.0552189283244984, 0.12688409298548323, -1.677072780155331, -0.8594495959629678, -0.4444344655352142, -1.2167733442412334, 0.38604138505028, 1.0138946898474628, 0.14697818534804966, 1.9761709653128225, 0.8272009540730214, -0.3939697404040883, 0.6354964151979149, -0.4806868089713751, 0.8576277591041233, -0.5114800988431405, -0.5184321876913844, 0.8927289941236105, -0.13572637194054665, 0.9993000128725914, 0.9321656254505977, 0.1462909328841926, 1.318253885597681, -1.2340506320852325, 0.5166974940232978, -0.00888755926616613, 0.2571741481342909, 0.6922229079065875, 0.6538799136667284, 0.9128588038964904], \"y\": [0.07900847452249811, -0.9122677191922264, 0.3112574668049616, 1.7728983810125845, -0.46509577776202565, -0.8500736939519596, 0.09604825979531327, -1.6741323641529193, 0.3654389760932509, -0.396636210544783, -0.39935846585434787, -2.072144060438098, -0.9592798926978057, 1.009429267180827, 1.4347810916763082, 1.2238156048083508, -0.2539894869632165, -0.03462226412381225, 1.5213228468514988, -0.16020138184502902, 1.1012259404213742, -1.7925797528858496, 1.3515348090377433, -1.2785375474729208, -0.9450429616882644, -0.3565619797841725, -0.526895547025469, -0.29703925347581567, 0.470679346499512, -0.21965139430373848, -0.277572241034337, 1.6757739473793847, -0.6844213119094037, 2.5467128090186346, 0.3092940280081921, 0.36706217813011577, 0.3620155081208797, -1.0693211361043422, -0.32058523850796067, 0.34172741616987756, -1.013975596657667, -0.330584333129899, 2.354552575307552, 0.2222715205421336, -0.24491641424236923, 0.08652389492069956, -0.6661046551013905, -0.5684243647771562, -0.16815681870593208, 0.5451732559293533, -0.7003127063854502, -2.0991552130751163, -0.8805818658707721, 1.1181512595690717, -1.8236861113099427, -1.109326462564337, 0.8850844170534031, -0.15140124010444625, 2.089817025595409, -1.1412646577928676, 0.5130786272975839, 0.802315702090518, 0.8227263767426035, -0.4211094361933707, 0.3188905388362875, -0.27597929718394765, 1.4894104428242139, 1.0154933954044825, 0.9032711654013391, 1.4822651315059352, 0.5187114432149854, 1.7355646462196677, -1.0622908954228063, -0.41376365210767657, -0.4752312118552798, 0.25271611250132825, 0.11808813566547226, -1.4190087109867906, -1.099413224707759, -0.8227951494886859, 1.0404839507698609, -0.3836115958841534, -0.36668922503310136, -0.9641263348806826, -1.4158392346294928, -0.5832744046678073, -0.2507105982209403, -0.519634303248391, 1.3501586378007053, 0.3645687598665697, -2.2309271526923697, -2.2570879544856224, 0.681349780667486, 0.005462937664764124, 0.08378619913036302, -0.18127299340078432, 0.5088984930410607, -0.12613393601230247, -1.067492178711451, -0.5060295021572043]}],\n",
       "                        {\"legend\": {\"bgcolor\": \"#F5F6F9\", \"font\": {\"color\": \"#4D5663\"}}, \"paper_bgcolor\": \"#F5F6F9\", \"plot_bgcolor\": \"#F5F6F9\", \"template\": {\"data\": {\"bar\": [{\"error_x\": {\"color\": \"#2a3f5f\"}, \"error_y\": {\"color\": \"#2a3f5f\"}, \"marker\": {\"line\": {\"color\": \"#E5ECF6\", \"width\": 0.5}}, \"type\": \"bar\"}], \"barpolar\": [{\"marker\": {\"line\": {\"color\": \"#E5ECF6\", \"width\": 0.5}}, \"type\": \"barpolar\"}], \"carpet\": [{\"aaxis\": {\"endlinecolor\": \"#2a3f5f\", \"gridcolor\": \"white\", \"linecolor\": \"white\", \"minorgridcolor\": \"white\", \"startlinecolor\": \"#2a3f5f\"}, \"baxis\": {\"endlinecolor\": \"#2a3f5f\", \"gridcolor\": \"white\", \"linecolor\": \"white\", \"minorgridcolor\": \"white\", \"startlinecolor\": \"#2a3f5f\"}, \"type\": \"carpet\"}], \"choropleth\": [{\"colorbar\": {\"outlinewidth\": 0, \"ticks\": \"\"}, \"type\": \"choropleth\"}], \"contour\": [{\"colorbar\": {\"outlinewidth\": 0, \"ticks\": \"\"}, \"colorscale\": [[0.0, \"#0d0887\"], [0.1111111111111111, \"#46039f\"], [0.2222222222222222, \"#7201a8\"], [0.3333333333333333, \"#9c179e\"], [0.4444444444444444, \"#bd3786\"], [0.5555555555555556, \"#d8576b\"], [0.6666666666666666, \"#ed7953\"], [0.7777777777777778, \"#fb9f3a\"], [0.8888888888888888, \"#fdca26\"], [1.0, \"#f0f921\"]], \"type\": \"contour\"}], \"contourcarpet\": [{\"colorbar\": {\"outlinewidth\": 0, \"ticks\": \"\"}, \"type\": \"contourcarpet\"}], \"heatmap\": [{\"colorbar\": {\"outlinewidth\": 0, \"ticks\": \"\"}, \"colorscale\": [[0.0, \"#0d0887\"], [0.1111111111111111, \"#46039f\"], [0.2222222222222222, \"#7201a8\"], [0.3333333333333333, \"#9c179e\"], [0.4444444444444444, \"#bd3786\"], [0.5555555555555556, \"#d8576b\"], [0.6666666666666666, \"#ed7953\"], [0.7777777777777778, \"#fb9f3a\"], [0.8888888888888888, \"#fdca26\"], [1.0, \"#f0f921\"]], \"type\": \"heatmap\"}], \"heatmapgl\": [{\"colorbar\": {\"outlinewidth\": 0, \"ticks\": \"\"}, \"colorscale\": [[0.0, \"#0d0887\"], [0.1111111111111111, \"#46039f\"], [0.2222222222222222, \"#7201a8\"], [0.3333333333333333, \"#9c179e\"], [0.4444444444444444, \"#bd3786\"], [0.5555555555555556, \"#d8576b\"], [0.6666666666666666, \"#ed7953\"], [0.7777777777777778, \"#fb9f3a\"], [0.8888888888888888, \"#fdca26\"], [1.0, \"#f0f921\"]], \"type\": \"heatmapgl\"}], \"histogram\": [{\"marker\": {\"colorbar\": {\"outlinewidth\": 0, \"ticks\": \"\"}}, \"type\": \"histogram\"}], \"histogram2d\": [{\"colorbar\": {\"outlinewidth\": 0, \"ticks\": \"\"}, \"colorscale\": [[0.0, \"#0d0887\"], [0.1111111111111111, \"#46039f\"], [0.2222222222222222, \"#7201a8\"], [0.3333333333333333, \"#9c179e\"], [0.4444444444444444, \"#bd3786\"], [0.5555555555555556, \"#d8576b\"], [0.6666666666666666, \"#ed7953\"], [0.7777777777777778, \"#fb9f3a\"], [0.8888888888888888, \"#fdca26\"], [1.0, \"#f0f921\"]], \"type\": \"histogram2d\"}], \"histogram2dcontour\": [{\"colorbar\": {\"outlinewidth\": 0, \"ticks\": \"\"}, \"colorscale\": [[0.0, \"#0d0887\"], [0.1111111111111111, \"#46039f\"], [0.2222222222222222, \"#7201a8\"], [0.3333333333333333, \"#9c179e\"], [0.4444444444444444, \"#bd3786\"], [0.5555555555555556, \"#d8576b\"], [0.6666666666666666, \"#ed7953\"], [0.7777777777777778, \"#fb9f3a\"], [0.8888888888888888, \"#fdca26\"], [1.0, \"#f0f921\"]], \"type\": \"histogram2dcontour\"}], \"mesh3d\": [{\"colorbar\": {\"outlinewidth\": 0, \"ticks\": \"\"}, \"type\": \"mesh3d\"}], \"parcoords\": [{\"line\": {\"colorbar\": {\"outlinewidth\": 0, \"ticks\": \"\"}}, \"type\": \"parcoords\"}], \"pie\": [{\"automargin\": true, \"type\": \"pie\"}], \"scatter\": [{\"marker\": {\"colorbar\": {\"outlinewidth\": 0, \"ticks\": \"\"}}, \"type\": \"scatter\"}], \"scatter3d\": [{\"line\": {\"colorbar\": {\"outlinewidth\": 0, \"ticks\": \"\"}}, \"marker\": {\"colorbar\": {\"outlinewidth\": 0, \"ticks\": \"\"}}, \"type\": \"scatter3d\"}], \"scattercarpet\": [{\"marker\": {\"colorbar\": {\"outlinewidth\": 0, \"ticks\": \"\"}}, \"type\": \"scattercarpet\"}], \"scattergeo\": [{\"marker\": {\"colorbar\": {\"outlinewidth\": 0, \"ticks\": \"\"}}, \"type\": \"scattergeo\"}], \"scattergl\": [{\"marker\": {\"colorbar\": {\"outlinewidth\": 0, \"ticks\": \"\"}}, \"type\": \"scattergl\"}], \"scattermapbox\": [{\"marker\": {\"colorbar\": {\"outlinewidth\": 0, \"ticks\": \"\"}}, \"type\": \"scattermapbox\"}], \"scatterpolar\": [{\"marker\": {\"colorbar\": {\"outlinewidth\": 0, \"ticks\": \"\"}}, \"type\": \"scatterpolar\"}], \"scatterpolargl\": [{\"marker\": {\"colorbar\": {\"outlinewidth\": 0, \"ticks\": \"\"}}, \"type\": \"scatterpolargl\"}], \"scatterternary\": [{\"marker\": {\"colorbar\": {\"outlinewidth\": 0, \"ticks\": \"\"}}, \"type\": \"scatterternary\"}], \"surface\": [{\"colorbar\": {\"outlinewidth\": 0, \"ticks\": \"\"}, \"colorscale\": [[0.0, \"#0d0887\"], [0.1111111111111111, \"#46039f\"], [0.2222222222222222, \"#7201a8\"], [0.3333333333333333, \"#9c179e\"], [0.4444444444444444, \"#bd3786\"], [0.5555555555555556, \"#d8576b\"], [0.6666666666666666, \"#ed7953\"], [0.7777777777777778, \"#fb9f3a\"], [0.8888888888888888, \"#fdca26\"], [1.0, \"#f0f921\"]], \"type\": \"surface\"}], \"table\": [{\"cells\": {\"fill\": {\"color\": \"#EBF0F8\"}, \"line\": {\"color\": \"white\"}}, \"header\": {\"fill\": {\"color\": \"#C8D4E3\"}, \"line\": {\"color\": \"white\"}}, \"type\": \"table\"}]}, \"layout\": {\"annotationdefaults\": {\"arrowcolor\": \"#2a3f5f\", \"arrowhead\": 0, \"arrowwidth\": 1}, \"coloraxis\": {\"colorbar\": {\"outlinewidth\": 0, \"ticks\": \"\"}}, \"colorscale\": {\"diverging\": [[0, \"#8e0152\"], [0.1, \"#c51b7d\"], [0.2, \"#de77ae\"], [0.3, \"#f1b6da\"], [0.4, \"#fde0ef\"], [0.5, \"#f7f7f7\"], [0.6, \"#e6f5d0\"], [0.7, \"#b8e186\"], [0.8, \"#7fbc41\"], [0.9, \"#4d9221\"], [1, \"#276419\"]], \"sequential\": [[0.0, \"#0d0887\"], [0.1111111111111111, \"#46039f\"], [0.2222222222222222, \"#7201a8\"], [0.3333333333333333, \"#9c179e\"], [0.4444444444444444, \"#bd3786\"], [0.5555555555555556, \"#d8576b\"], [0.6666666666666666, \"#ed7953\"], [0.7777777777777778, \"#fb9f3a\"], [0.8888888888888888, \"#fdca26\"], [1.0, \"#f0f921\"]], \"sequentialminus\": [[0.0, \"#0d0887\"], [0.1111111111111111, \"#46039f\"], [0.2222222222222222, \"#7201a8\"], [0.3333333333333333, \"#9c179e\"], [0.4444444444444444, \"#bd3786\"], [0.5555555555555556, \"#d8576b\"], [0.6666666666666666, \"#ed7953\"], [0.7777777777777778, \"#fb9f3a\"], [0.8888888888888888, \"#fdca26\"], [1.0, \"#f0f921\"]]}, \"colorway\": [\"#636efa\", \"#EF553B\", \"#00cc96\", \"#ab63fa\", \"#FFA15A\", \"#19d3f3\", \"#FF6692\", \"#B6E880\", \"#FF97FF\", \"#FECB52\"], \"font\": {\"color\": \"#2a3f5f\"}, \"geo\": {\"bgcolor\": \"white\", \"lakecolor\": \"white\", \"landcolor\": \"#E5ECF6\", \"showlakes\": true, \"showland\": true, \"subunitcolor\": \"white\"}, \"hoverlabel\": {\"align\": \"left\"}, \"hovermode\": \"closest\", \"mapbox\": {\"style\": \"light\"}, \"paper_bgcolor\": \"white\", \"plot_bgcolor\": \"#E5ECF6\", \"polar\": {\"angularaxis\": {\"gridcolor\": \"white\", \"linecolor\": \"white\", \"ticks\": \"\"}, \"bgcolor\": \"#E5ECF6\", \"radialaxis\": {\"gridcolor\": \"white\", \"linecolor\": \"white\", \"ticks\": \"\"}}, \"scene\": {\"xaxis\": {\"backgroundcolor\": \"#E5ECF6\", \"gridcolor\": \"white\", \"gridwidth\": 2, \"linecolor\": \"white\", \"showbackground\": true, \"ticks\": \"\", \"zerolinecolor\": \"white\"}, \"yaxis\": {\"backgroundcolor\": \"#E5ECF6\", \"gridcolor\": \"white\", \"gridwidth\": 2, \"linecolor\": \"white\", \"showbackground\": true, \"ticks\": \"\", \"zerolinecolor\": \"white\"}, \"zaxis\": {\"backgroundcolor\": \"#E5ECF6\", \"gridcolor\": \"white\", \"gridwidth\": 2, \"linecolor\": \"white\", \"showbackground\": true, \"ticks\": \"\", \"zerolinecolor\": \"white\"}}, \"shapedefaults\": {\"line\": {\"color\": \"#2a3f5f\"}}, \"ternary\": {\"aaxis\": {\"gridcolor\": \"white\", \"linecolor\": \"white\", \"ticks\": \"\"}, \"baxis\": {\"gridcolor\": \"white\", \"linecolor\": \"white\", \"ticks\": \"\"}, \"bgcolor\": \"#E5ECF6\", \"caxis\": {\"gridcolor\": \"white\", \"linecolor\": \"white\", \"ticks\": \"\"}}, \"title\": {\"x\": 0.05}, \"xaxis\": {\"automargin\": true, \"gridcolor\": \"white\", \"linecolor\": \"white\", \"ticks\": \"\", \"title\": {\"standoff\": 15}, \"zerolinecolor\": \"white\", \"zerolinewidth\": 2}, \"yaxis\": {\"automargin\": true, \"gridcolor\": \"white\", \"linecolor\": \"white\", \"ticks\": \"\", \"title\": {\"standoff\": 15}, \"zerolinecolor\": \"white\", \"zerolinewidth\": 2}}}, \"title\": {\"font\": {\"color\": \"#4D5663\"}}, \"xaxis\": {\"gridcolor\": \"#E1E5ED\", \"showgrid\": true, \"tickfont\": {\"color\": \"#4D5663\"}, \"title\": {\"font\": {\"color\": \"#4D5663\"}, \"text\": \"\"}, \"zerolinecolor\": \"#E1E5ED\"}, \"yaxis\": {\"gridcolor\": \"#E1E5ED\", \"showgrid\": true, \"tickfont\": {\"color\": \"#4D5663\"}, \"title\": {\"font\": {\"color\": \"#4D5663\"}, \"text\": \"\"}, \"zerolinecolor\": \"#E1E5ED\"}},\n",
       "                        {\"showLink\": true, \"linkText\": \"Export to plot.ly\", \"plotlyServerURL\": \"https://plot.ly\", \"responsive\": true}\n",
       "                    ).then(function(){\n",
       "                            \n",
       "var gd = document.getElementById('66fb9513-5735-4a7f-b4b9-9dd0d695eb74');\n",
       "var x = new MutationObserver(function (mutations, observer) {{\n",
       "        var display = window.getComputedStyle(gd).display;\n",
       "        if (!display || display === 'none') {{\n",
       "            console.log([gd, 'removed!']);\n",
       "            Plotly.purge(gd);\n",
       "            observer.disconnect();\n",
       "        }}\n",
       "}});\n",
       "\n",
       "// Listen for the removal of the full notebook cells\n",
       "var notebookContainer = gd.closest('#notebook-container');\n",
       "if (notebookContainer) {{\n",
       "    x.observe(notebookContainer, {childList: true});\n",
       "}}\n",
       "\n",
       "// Listen for the clearing of the current output cell\n",
       "var outputEl = gd.closest('.output');\n",
       "if (outputEl) {{\n",
       "    x.observe(outputEl, {childList: true});\n",
       "}}\n",
       "\n",
       "                        })\n",
       "                };\n",
       "                });\n",
       "            </script>\n",
       "        </div>"
      ]
     },
     "metadata": {},
     "output_type": "display_data"
    }
   ],
   "source": [
    "df.iplot(kind='bubble',x='A',y='B',size='A')"
   ]
  },
  {
   "cell_type": "markdown",
   "metadata": {},
   "source": [
    "## scatter_matrix()\n",
    "\n",
    "Similar to sns.pairplot()"
   ]
  },
  {
   "cell_type": "code",
   "execution_count": 19,
   "metadata": {},
   "outputs": [
    {
     "data": {
      "application/vnd.plotly.v1+json": {
       "config": {
        "linkText": "Export to plot.ly",
        "plotlyServerURL": "https://plot.ly",
        "showLink": true
       },
       "data": [
        {
         "histfunc": "count",
         "histnorm": "",
         "marker": {
          "color": "rgba(255, 153, 51, 1.0)",
          "line": {
           "color": "#4D5663",
           "width": 1.3
          }
         },
         "name": "A",
         "nbinsx": 10,
         "opacity": 0.8,
         "orientation": "v",
         "type": "histogram",
         "x": [
          -0.29643740889399095,
          0.32868435515730043,
          1.7461416496086142,
          -0.24004567607313979,
          0.13879213518446365,
          0.5535216967030455,
          -0.5654788153613118,
          1.4745095081896062,
          0.24599950755732192,
          -1.2056020605811952,
          1.1064580688514372,
          1.2560715526922155,
          0.9370673363805552,
          -0.3035228949304509,
          0.8173073261565816,
          -1.049133286502186,
          0.8206309550571658,
          0.4257464010855425,
          -0.204969188764631,
          -0.49515630325678384,
          -0.46557478153402304,
          -0.7100122999382016,
          0.5038367695493804,
          0.6095718122464268,
          -0.9665021599071422,
          -1.941392438441163,
          -0.4410063758400523,
          0.03245090999579194,
          0.1343061826488072,
          0.5107365179921368,
          -0.3148389852787225,
          -0.3475463838805427,
          0.38918681250649434,
          -0.5878571849206334,
          0.18237827278071525,
          0.8139831276610341,
          -0.3044351308280057,
          0.7856674253493616,
          0.3511107651142644,
          0.4991054778015313,
          1.8905790693628632,
          -0.36064056808190237,
          -0.20806458226915128,
          1.1251468281191688,
          -2.126253635634463,
          -0.6012651762207218,
          -0.4332096922576356,
          0.5936193398160595,
          -1.8610576096155729,
          -0.6848069423978584,
          -0.1741312896553701,
          -0.036689001873205666,
          -0.17997951544796514,
          1.0197180801187515,
          -1.066533298890777,
          -0.9114780950624539,
          -0.11932825824118615,
          1.402067892564673,
          -0.086837270558958,
          0.463224533101115,
          1.1851504359883962,
          -0.974581228669598,
          0.5172927499818978,
          -0.019078919866214714,
          1.6757029533305858,
          -0.7739305807934194,
          0.49975487039061167,
          2.431023967741468,
          0.5156404761815808,
          -2.2967795329006546,
          -1.0552189283244984,
          0.12688409298548323,
          -1.677072780155331,
          -0.8594495959629678,
          -0.4444344655352142,
          -1.2167733442412334,
          0.38604138505028,
          1.0138946898474628,
          0.14697818534804966,
          1.9761709653128225,
          0.8272009540730214,
          -0.3939697404040883,
          0.6354964151979149,
          -0.4806868089713751,
          0.8576277591041233,
          -0.5114800988431405,
          -0.5184321876913844,
          0.8927289941236105,
          -0.13572637194054665,
          0.9993000128725914,
          0.9321656254505977,
          0.1462909328841926,
          1.318253885597681,
          -1.2340506320852325,
          0.5166974940232978,
          -0.00888755926616613,
          0.2571741481342909,
          0.6922229079065875,
          0.6538799136667284,
          0.9128588038964904
         ],
         "xaxis": "x",
         "yaxis": "y"
        },
        {
         "line": {
          "color": "rgba(128, 128, 128, 1.0)",
          "dash": "solid",
          "shape": "linear",
          "width": 1.3
         },
         "marker": {
          "size": 2,
          "symbol": "circle"
         },
         "mode": "markers",
         "name": "A",
         "text": "",
         "type": "scatter",
         "x": [
          0.07900847452249811,
          -0.9122677191922264,
          0.3112574668049616,
          1.7728983810125845,
          -0.46509577776202565,
          -0.8500736939519596,
          0.09604825979531327,
          -1.6741323641529193,
          0.3654389760932509,
          -0.396636210544783,
          -0.39935846585434787,
          -2.072144060438098,
          -0.9592798926978057,
          1.009429267180827,
          1.4347810916763082,
          1.2238156048083508,
          -0.2539894869632165,
          -0.03462226412381225,
          1.5213228468514988,
          -0.16020138184502902,
          1.1012259404213742,
          -1.7925797528858496,
          1.3515348090377433,
          -1.2785375474729208,
          -0.9450429616882644,
          -0.3565619797841725,
          -0.526895547025469,
          -0.29703925347581567,
          0.470679346499512,
          -0.21965139430373848,
          -0.277572241034337,
          1.6757739473793847,
          -0.6844213119094037,
          2.5467128090186346,
          0.3092940280081921,
          0.36706217813011577,
          0.3620155081208797,
          -1.0693211361043422,
          -0.32058523850796067,
          0.34172741616987756,
          -1.013975596657667,
          -0.330584333129899,
          2.354552575307552,
          0.2222715205421336,
          -0.24491641424236923,
          0.08652389492069956,
          -0.6661046551013905,
          -0.5684243647771562,
          -0.16815681870593208,
          0.5451732559293533,
          -0.7003127063854502,
          -2.0991552130751163,
          -0.8805818658707721,
          1.1181512595690717,
          -1.8236861113099427,
          -1.109326462564337,
          0.8850844170534031,
          -0.15140124010444625,
          2.089817025595409,
          -1.1412646577928676,
          0.5130786272975839,
          0.802315702090518,
          0.8227263767426035,
          -0.4211094361933707,
          0.3188905388362875,
          -0.27597929718394765,
          1.4894104428242139,
          1.0154933954044825,
          0.9032711654013391,
          1.4822651315059352,
          0.5187114432149854,
          1.7355646462196677,
          -1.0622908954228063,
          -0.41376365210767657,
          -0.4752312118552798,
          0.25271611250132825,
          0.11808813566547226,
          -1.4190087109867906,
          -1.099413224707759,
          -0.8227951494886859,
          1.0404839507698609,
          -0.3836115958841534,
          -0.36668922503310136,
          -0.9641263348806826,
          -1.4158392346294928,
          -0.5832744046678073,
          -0.2507105982209403,
          -0.519634303248391,
          1.3501586378007053,
          0.3645687598665697,
          -2.2309271526923697,
          -2.2570879544856224,
          0.681349780667486,
          0.005462937664764124,
          0.08378619913036302,
          -0.18127299340078432,
          0.5088984930410607,
          -0.12613393601230247,
          -1.067492178711451,
          -0.5060295021572043
         ],
         "xaxis": "x2",
         "y": [
          -0.29643740889399095,
          0.32868435515730043,
          1.7461416496086142,
          -0.24004567607313979,
          0.13879213518446365,
          0.5535216967030455,
          -0.5654788153613118,
          1.4745095081896062,
          0.24599950755732192,
          -1.2056020605811952,
          1.1064580688514372,
          1.2560715526922155,
          0.9370673363805552,
          -0.3035228949304509,
          0.8173073261565816,
          -1.049133286502186,
          0.8206309550571658,
          0.4257464010855425,
          -0.204969188764631,
          -0.49515630325678384,
          -0.46557478153402304,
          -0.7100122999382016,
          0.5038367695493804,
          0.6095718122464268,
          -0.9665021599071422,
          -1.941392438441163,
          -0.4410063758400523,
          0.03245090999579194,
          0.1343061826488072,
          0.5107365179921368,
          -0.3148389852787225,
          -0.3475463838805427,
          0.38918681250649434,
          -0.5878571849206334,
          0.18237827278071525,
          0.8139831276610341,
          -0.3044351308280057,
          0.7856674253493616,
          0.3511107651142644,
          0.4991054778015313,
          1.8905790693628632,
          -0.36064056808190237,
          -0.20806458226915128,
          1.1251468281191688,
          -2.126253635634463,
          -0.6012651762207218,
          -0.4332096922576356,
          0.5936193398160595,
          -1.8610576096155729,
          -0.6848069423978584,
          -0.1741312896553701,
          -0.036689001873205666,
          -0.17997951544796514,
          1.0197180801187515,
          -1.066533298890777,
          -0.9114780950624539,
          -0.11932825824118615,
          1.402067892564673,
          -0.086837270558958,
          0.463224533101115,
          1.1851504359883962,
          -0.974581228669598,
          0.5172927499818978,
          -0.019078919866214714,
          1.6757029533305858,
          -0.7739305807934194,
          0.49975487039061167,
          2.431023967741468,
          0.5156404761815808,
          -2.2967795329006546,
          -1.0552189283244984,
          0.12688409298548323,
          -1.677072780155331,
          -0.8594495959629678,
          -0.4444344655352142,
          -1.2167733442412334,
          0.38604138505028,
          1.0138946898474628,
          0.14697818534804966,
          1.9761709653128225,
          0.8272009540730214,
          -0.3939697404040883,
          0.6354964151979149,
          -0.4806868089713751,
          0.8576277591041233,
          -0.5114800988431405,
          -0.5184321876913844,
          0.8927289941236105,
          -0.13572637194054665,
          0.9993000128725914,
          0.9321656254505977,
          0.1462909328841926,
          1.318253885597681,
          -1.2340506320852325,
          0.5166974940232978,
          -0.00888755926616613,
          0.2571741481342909,
          0.6922229079065875,
          0.6538799136667284,
          0.9128588038964904
         ],
         "yaxis": "y2"
        },
        {
         "line": {
          "color": "rgba(128, 128, 128, 1.0)",
          "dash": "solid",
          "shape": "linear",
          "width": 1.3
         },
         "marker": {
          "size": 2,
          "symbol": "circle"
         },
         "mode": "markers",
         "name": "A",
         "text": "",
         "type": "scatter",
         "x": [
          -2.082536450037159,
          0.4530885734493977,
          0.20368255482972464,
          -0.11410210494040066,
          0.9097221682459405,
          -0.8124687427534877,
          -0.04394856956103083,
          -1.3898815193955492,
          -0.6730283521267469,
          0.9710262569675199,
          0.6092169118869817,
          -1.3247206547352244,
          -0.07200984094198348,
          -0.5320596003255887,
          -0.6071182537136549,
          0.28298242695004133,
          1.63632526309187,
          1.0294894762981734,
          -2.598167383257435,
          0.3829917344907664,
          -0.6620995374039768,
          -0.9164544290894261,
          -0.37641207505841523,
          -0.2140812028091623,
          1.0403004629352373,
          0.013754261202669841,
          -0.11846076703469682,
          0.05472789505244479,
          0.10623667600373886,
          -0.8545237287235011,
          -1.1708497525244947,
          -0.27131830533754325,
          -0.22535982308023256,
          -1.3447252263839728,
          -0.41807562706583196,
          1.2493497869065369,
          -0.5395003359202906,
          -0.7624552405671609,
          -0.9335351324491997,
          -1.0963685782091142,
          -0.3536412279699341,
          -0.3849969634217031,
          0.07428523611314422,
          1.4991552476169723,
          -0.33506365200787885,
          -0.8219627314382575,
          -0.4953023034617673,
          0.08523788170533084,
          1.5084160092494383,
          1.7963092363922457,
          1.1728382366622965,
          0.48485723394089514,
          1.7468799720150323,
          1.5189711102482275,
          -1.1664494631942486,
          -2.2913657866096773,
          -0.3299704581773067,
          -1.1534585368601673,
          0.7656904090654282,
          0.44283027488713855,
          -0.1040571038335075,
          -0.276270474433488,
          -0.9945292237620192,
          -1.499912996254741,
          0.919787940429676,
          0.7686444756534595,
          0.058904634607023214,
          1.3474207437068821,
          -0.2720776816770924,
          -0.7151513006884775,
          -0.8903138637651425,
          -1.70098828519413,
          -0.17754240606948118,
          -0.3412618440868006,
          0.6499902497102859,
          -0.34489224664736123,
          -0.16364794579924147,
          -1.1152717273991877,
          -2.528935755716908,
          -0.8416192276955796,
          1.3736354101460175,
          -0.43358110720911136,
          1.160213503832953,
          -1.9187822614454753,
          0.5378621118596505,
          -1.916783003862183,
          0.5923333076940671,
          2.154002809219566,
          -0.8515515238941631,
          -0.011689196634959891,
          1.194010353209449,
          -0.7635630999241817,
          1.2365882147112732,
          -0.7070793585110973,
          -0.22063555297800275,
          -0.3633187493772641,
          1.7437001406301145,
          -0.44506494452413514,
          -0.27890048827484115,
          -1.0443773777891348
         ],
         "xaxis": "x3",
         "y": [
          -0.29643740889399095,
          0.32868435515730043,
          1.7461416496086142,
          -0.24004567607313979,
          0.13879213518446365,
          0.5535216967030455,
          -0.5654788153613118,
          1.4745095081896062,
          0.24599950755732192,
          -1.2056020605811952,
          1.1064580688514372,
          1.2560715526922155,
          0.9370673363805552,
          -0.3035228949304509,
          0.8173073261565816,
          -1.049133286502186,
          0.8206309550571658,
          0.4257464010855425,
          -0.204969188764631,
          -0.49515630325678384,
          -0.46557478153402304,
          -0.7100122999382016,
          0.5038367695493804,
          0.6095718122464268,
          -0.9665021599071422,
          -1.941392438441163,
          -0.4410063758400523,
          0.03245090999579194,
          0.1343061826488072,
          0.5107365179921368,
          -0.3148389852787225,
          -0.3475463838805427,
          0.38918681250649434,
          -0.5878571849206334,
          0.18237827278071525,
          0.8139831276610341,
          -0.3044351308280057,
          0.7856674253493616,
          0.3511107651142644,
          0.4991054778015313,
          1.8905790693628632,
          -0.36064056808190237,
          -0.20806458226915128,
          1.1251468281191688,
          -2.126253635634463,
          -0.6012651762207218,
          -0.4332096922576356,
          0.5936193398160595,
          -1.8610576096155729,
          -0.6848069423978584,
          -0.1741312896553701,
          -0.036689001873205666,
          -0.17997951544796514,
          1.0197180801187515,
          -1.066533298890777,
          -0.9114780950624539,
          -0.11932825824118615,
          1.402067892564673,
          -0.086837270558958,
          0.463224533101115,
          1.1851504359883962,
          -0.974581228669598,
          0.5172927499818978,
          -0.019078919866214714,
          1.6757029533305858,
          -0.7739305807934194,
          0.49975487039061167,
          2.431023967741468,
          0.5156404761815808,
          -2.2967795329006546,
          -1.0552189283244984,
          0.12688409298548323,
          -1.677072780155331,
          -0.8594495959629678,
          -0.4444344655352142,
          -1.2167733442412334,
          0.38604138505028,
          1.0138946898474628,
          0.14697818534804966,
          1.9761709653128225,
          0.8272009540730214,
          -0.3939697404040883,
          0.6354964151979149,
          -0.4806868089713751,
          0.8576277591041233,
          -0.5114800988431405,
          -0.5184321876913844,
          0.8927289941236105,
          -0.13572637194054665,
          0.9993000128725914,
          0.9321656254505977,
          0.1462909328841926,
          1.318253885597681,
          -1.2340506320852325,
          0.5166974940232978,
          -0.00888755926616613,
          0.2571741481342909,
          0.6922229079065875,
          0.6538799136667284,
          0.9128588038964904
         ],
         "yaxis": "y3"
        },
        {
         "line": {
          "color": "rgba(128, 128, 128, 1.0)",
          "dash": "solid",
          "shape": "linear",
          "width": 1.3
         },
         "marker": {
          "size": 2,
          "symbol": "circle"
         },
         "mode": "markers",
         "name": "A",
         "text": "",
         "type": "scatter",
         "x": [
          -0.24018330689564246,
          -1.0587131429233398,
          -0.4293280149834754,
          0.06200827489208058,
          -0.9433057505753424,
          0.7006495476245426,
          2.282976311898684,
          -0.25942855388142705,
          -0.2327220428419129,
          -0.21528004940086895,
          -0.07813024134206867,
          0.8344238156442767,
          0.3320735871036728,
          0.6826658544762765,
          -1.824760091048321,
          -1.331543826487938,
          0.4098731091090183,
          -1.302231125570441,
          0.045133884284845265,
          1.2342818672139926,
          -0.4160006653024965,
          -0.5835182231509705,
          -0.3409247497329795,
          0.4436159865585294,
          0.605611330232476,
          0.5079343464518948,
          1.6131484978417183,
          -1.1475984862833866,
          0.3126085481370072,
          0.39221529855000725,
          1.7188250552535065,
          -0.024079149309831446,
          -0.8004062712812569,
          0.3576312569431447,
          -0.8167531426602717,
          0.6414400366704491,
          -0.3197021592125468,
          0.24927432151889684,
          -3.3681877800502216,
          -1.3829477210171144,
          -0.5086578218916982,
          0.24676272247000952,
          0.6498392686864897,
          -0.06442778398749202,
          -1.7210796072924515,
          -3.8145800818329336,
          -0.5243137551743628,
          -0.2480735134007949,
          -1.0303811948414303,
          -0.6582084176412066,
          0.2447273973850182,
          1.3267344334536006,
          -0.5004008441851997,
          -0.04128827205640335,
          -0.9096544537431411,
          0.0017297036760680774,
          -0.12551121360032497,
          2.1423599662252593,
          0.04533013822669366,
          -0.04209048803932449,
          1.6258582538032196,
          0.24193560864083252,
          1.0879083880847336,
          1.8069480991811726,
          0.05017187085668021,
          1.4073658228169623,
          -0.5364011911093954,
          0.2374983194679982,
          0.42836638520393794,
          0.29767589763846175,
          -0.5571295038168838,
          -0.7416897075453166,
          1.3653381215211753,
          -2.776032923587767,
          0.605923858055208,
          0.7580382056973495,
          -1.1888303431659015,
          -0.044081879349680456,
          1.8875154145859385,
          -0.9084022557596733,
          2.2142328715251467,
          1.4010475661686914,
          0.3149658866967026,
          -1.881057963057145,
          1.4964111873829589,
          1.0157784694324463,
          0.9160270219461122,
          1.6261321246758507,
          -0.780663353807255,
          -0.5387343934229627,
          0.2452130883745721,
          -1.1469700221839194,
          -1.248426145507741,
          0.5428776176733583,
          0.353893576786481,
          0.38881196115397676,
          -0.023283625587178006,
          1.113803263813739,
          0.5061512293271354,
          -1.2767416114937513
         ],
         "xaxis": "x4",
         "y": [
          -0.29643740889399095,
          0.32868435515730043,
          1.7461416496086142,
          -0.24004567607313979,
          0.13879213518446365,
          0.5535216967030455,
          -0.5654788153613118,
          1.4745095081896062,
          0.24599950755732192,
          -1.2056020605811952,
          1.1064580688514372,
          1.2560715526922155,
          0.9370673363805552,
          -0.3035228949304509,
          0.8173073261565816,
          -1.049133286502186,
          0.8206309550571658,
          0.4257464010855425,
          -0.204969188764631,
          -0.49515630325678384,
          -0.46557478153402304,
          -0.7100122999382016,
          0.5038367695493804,
          0.6095718122464268,
          -0.9665021599071422,
          -1.941392438441163,
          -0.4410063758400523,
          0.03245090999579194,
          0.1343061826488072,
          0.5107365179921368,
          -0.3148389852787225,
          -0.3475463838805427,
          0.38918681250649434,
          -0.5878571849206334,
          0.18237827278071525,
          0.8139831276610341,
          -0.3044351308280057,
          0.7856674253493616,
          0.3511107651142644,
          0.4991054778015313,
          1.8905790693628632,
          -0.36064056808190237,
          -0.20806458226915128,
          1.1251468281191688,
          -2.126253635634463,
          -0.6012651762207218,
          -0.4332096922576356,
          0.5936193398160595,
          -1.8610576096155729,
          -0.6848069423978584,
          -0.1741312896553701,
          -0.036689001873205666,
          -0.17997951544796514,
          1.0197180801187515,
          -1.066533298890777,
          -0.9114780950624539,
          -0.11932825824118615,
          1.402067892564673,
          -0.086837270558958,
          0.463224533101115,
          1.1851504359883962,
          -0.974581228669598,
          0.5172927499818978,
          -0.019078919866214714,
          1.6757029533305858,
          -0.7739305807934194,
          0.49975487039061167,
          2.431023967741468,
          0.5156404761815808,
          -2.2967795329006546,
          -1.0552189283244984,
          0.12688409298548323,
          -1.677072780155331,
          -0.8594495959629678,
          -0.4444344655352142,
          -1.2167733442412334,
          0.38604138505028,
          1.0138946898474628,
          0.14697818534804966,
          1.9761709653128225,
          0.8272009540730214,
          -0.3939697404040883,
          0.6354964151979149,
          -0.4806868089713751,
          0.8576277591041233,
          -0.5114800988431405,
          -0.5184321876913844,
          0.8927289941236105,
          -0.13572637194054665,
          0.9993000128725914,
          0.9321656254505977,
          0.1462909328841926,
          1.318253885597681,
          -1.2340506320852325,
          0.5166974940232978,
          -0.00888755926616613,
          0.2571741481342909,
          0.6922229079065875,
          0.6538799136667284,
          0.9128588038964904
         ],
         "yaxis": "y4"
        },
        {
         "line": {
          "color": "rgba(128, 128, 128, 1.0)",
          "dash": "solid",
          "shape": "linear",
          "width": 1.3
         },
         "marker": {
          "size": 2,
          "symbol": "circle"
         },
         "mode": "markers",
         "name": "B",
         "text": "",
         "type": "scatter",
         "x": [
          -0.29643740889399095,
          0.32868435515730043,
          1.7461416496086142,
          -0.24004567607313979,
          0.13879213518446365,
          0.5535216967030455,
          -0.5654788153613118,
          1.4745095081896062,
          0.24599950755732192,
          -1.2056020605811952,
          1.1064580688514372,
          1.2560715526922155,
          0.9370673363805552,
          -0.3035228949304509,
          0.8173073261565816,
          -1.049133286502186,
          0.8206309550571658,
          0.4257464010855425,
          -0.204969188764631,
          -0.49515630325678384,
          -0.46557478153402304,
          -0.7100122999382016,
          0.5038367695493804,
          0.6095718122464268,
          -0.9665021599071422,
          -1.941392438441163,
          -0.4410063758400523,
          0.03245090999579194,
          0.1343061826488072,
          0.5107365179921368,
          -0.3148389852787225,
          -0.3475463838805427,
          0.38918681250649434,
          -0.5878571849206334,
          0.18237827278071525,
          0.8139831276610341,
          -0.3044351308280057,
          0.7856674253493616,
          0.3511107651142644,
          0.4991054778015313,
          1.8905790693628632,
          -0.36064056808190237,
          -0.20806458226915128,
          1.1251468281191688,
          -2.126253635634463,
          -0.6012651762207218,
          -0.4332096922576356,
          0.5936193398160595,
          -1.8610576096155729,
          -0.6848069423978584,
          -0.1741312896553701,
          -0.036689001873205666,
          -0.17997951544796514,
          1.0197180801187515,
          -1.066533298890777,
          -0.9114780950624539,
          -0.11932825824118615,
          1.402067892564673,
          -0.086837270558958,
          0.463224533101115,
          1.1851504359883962,
          -0.974581228669598,
          0.5172927499818978,
          -0.019078919866214714,
          1.6757029533305858,
          -0.7739305807934194,
          0.49975487039061167,
          2.431023967741468,
          0.5156404761815808,
          -2.2967795329006546,
          -1.0552189283244984,
          0.12688409298548323,
          -1.677072780155331,
          -0.8594495959629678,
          -0.4444344655352142,
          -1.2167733442412334,
          0.38604138505028,
          1.0138946898474628,
          0.14697818534804966,
          1.9761709653128225,
          0.8272009540730214,
          -0.3939697404040883,
          0.6354964151979149,
          -0.4806868089713751,
          0.8576277591041233,
          -0.5114800988431405,
          -0.5184321876913844,
          0.8927289941236105,
          -0.13572637194054665,
          0.9993000128725914,
          0.9321656254505977,
          0.1462909328841926,
          1.318253885597681,
          -1.2340506320852325,
          0.5166974940232978,
          -0.00888755926616613,
          0.2571741481342909,
          0.6922229079065875,
          0.6538799136667284,
          0.9128588038964904
         ],
         "xaxis": "x5",
         "y": [
          0.07900847452249811,
          -0.9122677191922264,
          0.3112574668049616,
          1.7728983810125845,
          -0.46509577776202565,
          -0.8500736939519596,
          0.09604825979531327,
          -1.6741323641529193,
          0.3654389760932509,
          -0.396636210544783,
          -0.39935846585434787,
          -2.072144060438098,
          -0.9592798926978057,
          1.009429267180827,
          1.4347810916763082,
          1.2238156048083508,
          -0.2539894869632165,
          -0.03462226412381225,
          1.5213228468514988,
          -0.16020138184502902,
          1.1012259404213742,
          -1.7925797528858496,
          1.3515348090377433,
          -1.2785375474729208,
          -0.9450429616882644,
          -0.3565619797841725,
          -0.526895547025469,
          -0.29703925347581567,
          0.470679346499512,
          -0.21965139430373848,
          -0.277572241034337,
          1.6757739473793847,
          -0.6844213119094037,
          2.5467128090186346,
          0.3092940280081921,
          0.36706217813011577,
          0.3620155081208797,
          -1.0693211361043422,
          -0.32058523850796067,
          0.34172741616987756,
          -1.013975596657667,
          -0.330584333129899,
          2.354552575307552,
          0.2222715205421336,
          -0.24491641424236923,
          0.08652389492069956,
          -0.6661046551013905,
          -0.5684243647771562,
          -0.16815681870593208,
          0.5451732559293533,
          -0.7003127063854502,
          -2.0991552130751163,
          -0.8805818658707721,
          1.1181512595690717,
          -1.8236861113099427,
          -1.109326462564337,
          0.8850844170534031,
          -0.15140124010444625,
          2.089817025595409,
          -1.1412646577928676,
          0.5130786272975839,
          0.802315702090518,
          0.8227263767426035,
          -0.4211094361933707,
          0.3188905388362875,
          -0.27597929718394765,
          1.4894104428242139,
          1.0154933954044825,
          0.9032711654013391,
          1.4822651315059352,
          0.5187114432149854,
          1.7355646462196677,
          -1.0622908954228063,
          -0.41376365210767657,
          -0.4752312118552798,
          0.25271611250132825,
          0.11808813566547226,
          -1.4190087109867906,
          -1.099413224707759,
          -0.8227951494886859,
          1.0404839507698609,
          -0.3836115958841534,
          -0.36668922503310136,
          -0.9641263348806826,
          -1.4158392346294928,
          -0.5832744046678073,
          -0.2507105982209403,
          -0.519634303248391,
          1.3501586378007053,
          0.3645687598665697,
          -2.2309271526923697,
          -2.2570879544856224,
          0.681349780667486,
          0.005462937664764124,
          0.08378619913036302,
          -0.18127299340078432,
          0.5088984930410607,
          -0.12613393601230247,
          -1.067492178711451,
          -0.5060295021572043
         ],
         "yaxis": "y5"
        },
        {
         "histfunc": "count",
         "histnorm": "",
         "marker": {
          "color": "rgba(55, 128, 191, 1.0)",
          "line": {
           "color": "#4D5663",
           "width": 1.3
          }
         },
         "name": "B",
         "nbinsx": 10,
         "opacity": 0.8,
         "orientation": "v",
         "type": "histogram",
         "x": [
          0.07900847452249811,
          -0.9122677191922264,
          0.3112574668049616,
          1.7728983810125845,
          -0.46509577776202565,
          -0.8500736939519596,
          0.09604825979531327,
          -1.6741323641529193,
          0.3654389760932509,
          -0.396636210544783,
          -0.39935846585434787,
          -2.072144060438098,
          -0.9592798926978057,
          1.009429267180827,
          1.4347810916763082,
          1.2238156048083508,
          -0.2539894869632165,
          -0.03462226412381225,
          1.5213228468514988,
          -0.16020138184502902,
          1.1012259404213742,
          -1.7925797528858496,
          1.3515348090377433,
          -1.2785375474729208,
          -0.9450429616882644,
          -0.3565619797841725,
          -0.526895547025469,
          -0.29703925347581567,
          0.470679346499512,
          -0.21965139430373848,
          -0.277572241034337,
          1.6757739473793847,
          -0.6844213119094037,
          2.5467128090186346,
          0.3092940280081921,
          0.36706217813011577,
          0.3620155081208797,
          -1.0693211361043422,
          -0.32058523850796067,
          0.34172741616987756,
          -1.013975596657667,
          -0.330584333129899,
          2.354552575307552,
          0.2222715205421336,
          -0.24491641424236923,
          0.08652389492069956,
          -0.6661046551013905,
          -0.5684243647771562,
          -0.16815681870593208,
          0.5451732559293533,
          -0.7003127063854502,
          -2.0991552130751163,
          -0.8805818658707721,
          1.1181512595690717,
          -1.8236861113099427,
          -1.109326462564337,
          0.8850844170534031,
          -0.15140124010444625,
          2.089817025595409,
          -1.1412646577928676,
          0.5130786272975839,
          0.802315702090518,
          0.8227263767426035,
          -0.4211094361933707,
          0.3188905388362875,
          -0.27597929718394765,
          1.4894104428242139,
          1.0154933954044825,
          0.9032711654013391,
          1.4822651315059352,
          0.5187114432149854,
          1.7355646462196677,
          -1.0622908954228063,
          -0.41376365210767657,
          -0.4752312118552798,
          0.25271611250132825,
          0.11808813566547226,
          -1.4190087109867906,
          -1.099413224707759,
          -0.8227951494886859,
          1.0404839507698609,
          -0.3836115958841534,
          -0.36668922503310136,
          -0.9641263348806826,
          -1.4158392346294928,
          -0.5832744046678073,
          -0.2507105982209403,
          -0.519634303248391,
          1.3501586378007053,
          0.3645687598665697,
          -2.2309271526923697,
          -2.2570879544856224,
          0.681349780667486,
          0.005462937664764124,
          0.08378619913036302,
          -0.18127299340078432,
          0.5088984930410607,
          -0.12613393601230247,
          -1.067492178711451,
          -0.5060295021572043
         ],
         "xaxis": "x6",
         "yaxis": "y6"
        },
        {
         "line": {
          "color": "rgba(128, 128, 128, 1.0)",
          "dash": "solid",
          "shape": "linear",
          "width": 1.3
         },
         "marker": {
          "size": 2,
          "symbol": "circle"
         },
         "mode": "markers",
         "name": "B",
         "text": "",
         "type": "scatter",
         "x": [
          -2.082536450037159,
          0.4530885734493977,
          0.20368255482972464,
          -0.11410210494040066,
          0.9097221682459405,
          -0.8124687427534877,
          -0.04394856956103083,
          -1.3898815193955492,
          -0.6730283521267469,
          0.9710262569675199,
          0.6092169118869817,
          -1.3247206547352244,
          -0.07200984094198348,
          -0.5320596003255887,
          -0.6071182537136549,
          0.28298242695004133,
          1.63632526309187,
          1.0294894762981734,
          -2.598167383257435,
          0.3829917344907664,
          -0.6620995374039768,
          -0.9164544290894261,
          -0.37641207505841523,
          -0.2140812028091623,
          1.0403004629352373,
          0.013754261202669841,
          -0.11846076703469682,
          0.05472789505244479,
          0.10623667600373886,
          -0.8545237287235011,
          -1.1708497525244947,
          -0.27131830533754325,
          -0.22535982308023256,
          -1.3447252263839728,
          -0.41807562706583196,
          1.2493497869065369,
          -0.5395003359202906,
          -0.7624552405671609,
          -0.9335351324491997,
          -1.0963685782091142,
          -0.3536412279699341,
          -0.3849969634217031,
          0.07428523611314422,
          1.4991552476169723,
          -0.33506365200787885,
          -0.8219627314382575,
          -0.4953023034617673,
          0.08523788170533084,
          1.5084160092494383,
          1.7963092363922457,
          1.1728382366622965,
          0.48485723394089514,
          1.7468799720150323,
          1.5189711102482275,
          -1.1664494631942486,
          -2.2913657866096773,
          -0.3299704581773067,
          -1.1534585368601673,
          0.7656904090654282,
          0.44283027488713855,
          -0.1040571038335075,
          -0.276270474433488,
          -0.9945292237620192,
          -1.499912996254741,
          0.919787940429676,
          0.7686444756534595,
          0.058904634607023214,
          1.3474207437068821,
          -0.2720776816770924,
          -0.7151513006884775,
          -0.8903138637651425,
          -1.70098828519413,
          -0.17754240606948118,
          -0.3412618440868006,
          0.6499902497102859,
          -0.34489224664736123,
          -0.16364794579924147,
          -1.1152717273991877,
          -2.528935755716908,
          -0.8416192276955796,
          1.3736354101460175,
          -0.43358110720911136,
          1.160213503832953,
          -1.9187822614454753,
          0.5378621118596505,
          -1.916783003862183,
          0.5923333076940671,
          2.154002809219566,
          -0.8515515238941631,
          -0.011689196634959891,
          1.194010353209449,
          -0.7635630999241817,
          1.2365882147112732,
          -0.7070793585110973,
          -0.22063555297800275,
          -0.3633187493772641,
          1.7437001406301145,
          -0.44506494452413514,
          -0.27890048827484115,
          -1.0443773777891348
         ],
         "xaxis": "x7",
         "y": [
          0.07900847452249811,
          -0.9122677191922264,
          0.3112574668049616,
          1.7728983810125845,
          -0.46509577776202565,
          -0.8500736939519596,
          0.09604825979531327,
          -1.6741323641529193,
          0.3654389760932509,
          -0.396636210544783,
          -0.39935846585434787,
          -2.072144060438098,
          -0.9592798926978057,
          1.009429267180827,
          1.4347810916763082,
          1.2238156048083508,
          -0.2539894869632165,
          -0.03462226412381225,
          1.5213228468514988,
          -0.16020138184502902,
          1.1012259404213742,
          -1.7925797528858496,
          1.3515348090377433,
          -1.2785375474729208,
          -0.9450429616882644,
          -0.3565619797841725,
          -0.526895547025469,
          -0.29703925347581567,
          0.470679346499512,
          -0.21965139430373848,
          -0.277572241034337,
          1.6757739473793847,
          -0.6844213119094037,
          2.5467128090186346,
          0.3092940280081921,
          0.36706217813011577,
          0.3620155081208797,
          -1.0693211361043422,
          -0.32058523850796067,
          0.34172741616987756,
          -1.013975596657667,
          -0.330584333129899,
          2.354552575307552,
          0.2222715205421336,
          -0.24491641424236923,
          0.08652389492069956,
          -0.6661046551013905,
          -0.5684243647771562,
          -0.16815681870593208,
          0.5451732559293533,
          -0.7003127063854502,
          -2.0991552130751163,
          -0.8805818658707721,
          1.1181512595690717,
          -1.8236861113099427,
          -1.109326462564337,
          0.8850844170534031,
          -0.15140124010444625,
          2.089817025595409,
          -1.1412646577928676,
          0.5130786272975839,
          0.802315702090518,
          0.8227263767426035,
          -0.4211094361933707,
          0.3188905388362875,
          -0.27597929718394765,
          1.4894104428242139,
          1.0154933954044825,
          0.9032711654013391,
          1.4822651315059352,
          0.5187114432149854,
          1.7355646462196677,
          -1.0622908954228063,
          -0.41376365210767657,
          -0.4752312118552798,
          0.25271611250132825,
          0.11808813566547226,
          -1.4190087109867906,
          -1.099413224707759,
          -0.8227951494886859,
          1.0404839507698609,
          -0.3836115958841534,
          -0.36668922503310136,
          -0.9641263348806826,
          -1.4158392346294928,
          -0.5832744046678073,
          -0.2507105982209403,
          -0.519634303248391,
          1.3501586378007053,
          0.3645687598665697,
          -2.2309271526923697,
          -2.2570879544856224,
          0.681349780667486,
          0.005462937664764124,
          0.08378619913036302,
          -0.18127299340078432,
          0.5088984930410607,
          -0.12613393601230247,
          -1.067492178711451,
          -0.5060295021572043
         ],
         "yaxis": "y7"
        },
        {
         "line": {
          "color": "rgba(128, 128, 128, 1.0)",
          "dash": "solid",
          "shape": "linear",
          "width": 1.3
         },
         "marker": {
          "size": 2,
          "symbol": "circle"
         },
         "mode": "markers",
         "name": "B",
         "text": "",
         "type": "scatter",
         "x": [
          -0.24018330689564246,
          -1.0587131429233398,
          -0.4293280149834754,
          0.06200827489208058,
          -0.9433057505753424,
          0.7006495476245426,
          2.282976311898684,
          -0.25942855388142705,
          -0.2327220428419129,
          -0.21528004940086895,
          -0.07813024134206867,
          0.8344238156442767,
          0.3320735871036728,
          0.6826658544762765,
          -1.824760091048321,
          -1.331543826487938,
          0.4098731091090183,
          -1.302231125570441,
          0.045133884284845265,
          1.2342818672139926,
          -0.4160006653024965,
          -0.5835182231509705,
          -0.3409247497329795,
          0.4436159865585294,
          0.605611330232476,
          0.5079343464518948,
          1.6131484978417183,
          -1.1475984862833866,
          0.3126085481370072,
          0.39221529855000725,
          1.7188250552535065,
          -0.024079149309831446,
          -0.8004062712812569,
          0.3576312569431447,
          -0.8167531426602717,
          0.6414400366704491,
          -0.3197021592125468,
          0.24927432151889684,
          -3.3681877800502216,
          -1.3829477210171144,
          -0.5086578218916982,
          0.24676272247000952,
          0.6498392686864897,
          -0.06442778398749202,
          -1.7210796072924515,
          -3.8145800818329336,
          -0.5243137551743628,
          -0.2480735134007949,
          -1.0303811948414303,
          -0.6582084176412066,
          0.2447273973850182,
          1.3267344334536006,
          -0.5004008441851997,
          -0.04128827205640335,
          -0.9096544537431411,
          0.0017297036760680774,
          -0.12551121360032497,
          2.1423599662252593,
          0.04533013822669366,
          -0.04209048803932449,
          1.6258582538032196,
          0.24193560864083252,
          1.0879083880847336,
          1.8069480991811726,
          0.05017187085668021,
          1.4073658228169623,
          -0.5364011911093954,
          0.2374983194679982,
          0.42836638520393794,
          0.29767589763846175,
          -0.5571295038168838,
          -0.7416897075453166,
          1.3653381215211753,
          -2.776032923587767,
          0.605923858055208,
          0.7580382056973495,
          -1.1888303431659015,
          -0.044081879349680456,
          1.8875154145859385,
          -0.9084022557596733,
          2.2142328715251467,
          1.4010475661686914,
          0.3149658866967026,
          -1.881057963057145,
          1.4964111873829589,
          1.0157784694324463,
          0.9160270219461122,
          1.6261321246758507,
          -0.780663353807255,
          -0.5387343934229627,
          0.2452130883745721,
          -1.1469700221839194,
          -1.248426145507741,
          0.5428776176733583,
          0.353893576786481,
          0.38881196115397676,
          -0.023283625587178006,
          1.113803263813739,
          0.5061512293271354,
          -1.2767416114937513
         ],
         "xaxis": "x8",
         "y": [
          0.07900847452249811,
          -0.9122677191922264,
          0.3112574668049616,
          1.7728983810125845,
          -0.46509577776202565,
          -0.8500736939519596,
          0.09604825979531327,
          -1.6741323641529193,
          0.3654389760932509,
          -0.396636210544783,
          -0.39935846585434787,
          -2.072144060438098,
          -0.9592798926978057,
          1.009429267180827,
          1.4347810916763082,
          1.2238156048083508,
          -0.2539894869632165,
          -0.03462226412381225,
          1.5213228468514988,
          -0.16020138184502902,
          1.1012259404213742,
          -1.7925797528858496,
          1.3515348090377433,
          -1.2785375474729208,
          -0.9450429616882644,
          -0.3565619797841725,
          -0.526895547025469,
          -0.29703925347581567,
          0.470679346499512,
          -0.21965139430373848,
          -0.277572241034337,
          1.6757739473793847,
          -0.6844213119094037,
          2.5467128090186346,
          0.3092940280081921,
          0.36706217813011577,
          0.3620155081208797,
          -1.0693211361043422,
          -0.32058523850796067,
          0.34172741616987756,
          -1.013975596657667,
          -0.330584333129899,
          2.354552575307552,
          0.2222715205421336,
          -0.24491641424236923,
          0.08652389492069956,
          -0.6661046551013905,
          -0.5684243647771562,
          -0.16815681870593208,
          0.5451732559293533,
          -0.7003127063854502,
          -2.0991552130751163,
          -0.8805818658707721,
          1.1181512595690717,
          -1.8236861113099427,
          -1.109326462564337,
          0.8850844170534031,
          -0.15140124010444625,
          2.089817025595409,
          -1.1412646577928676,
          0.5130786272975839,
          0.802315702090518,
          0.8227263767426035,
          -0.4211094361933707,
          0.3188905388362875,
          -0.27597929718394765,
          1.4894104428242139,
          1.0154933954044825,
          0.9032711654013391,
          1.4822651315059352,
          0.5187114432149854,
          1.7355646462196677,
          -1.0622908954228063,
          -0.41376365210767657,
          -0.4752312118552798,
          0.25271611250132825,
          0.11808813566547226,
          -1.4190087109867906,
          -1.099413224707759,
          -0.8227951494886859,
          1.0404839507698609,
          -0.3836115958841534,
          -0.36668922503310136,
          -0.9641263348806826,
          -1.4158392346294928,
          -0.5832744046678073,
          -0.2507105982209403,
          -0.519634303248391,
          1.3501586378007053,
          0.3645687598665697,
          -2.2309271526923697,
          -2.2570879544856224,
          0.681349780667486,
          0.005462937664764124,
          0.08378619913036302,
          -0.18127299340078432,
          0.5088984930410607,
          -0.12613393601230247,
          -1.067492178711451,
          -0.5060295021572043
         ],
         "yaxis": "y8"
        },
        {
         "line": {
          "color": "rgba(128, 128, 128, 1.0)",
          "dash": "solid",
          "shape": "linear",
          "width": 1.3
         },
         "marker": {
          "size": 2,
          "symbol": "circle"
         },
         "mode": "markers",
         "name": "C",
         "text": "",
         "type": "scatter",
         "x": [
          -0.29643740889399095,
          0.32868435515730043,
          1.7461416496086142,
          -0.24004567607313979,
          0.13879213518446365,
          0.5535216967030455,
          -0.5654788153613118,
          1.4745095081896062,
          0.24599950755732192,
          -1.2056020605811952,
          1.1064580688514372,
          1.2560715526922155,
          0.9370673363805552,
          -0.3035228949304509,
          0.8173073261565816,
          -1.049133286502186,
          0.8206309550571658,
          0.4257464010855425,
          -0.204969188764631,
          -0.49515630325678384,
          -0.46557478153402304,
          -0.7100122999382016,
          0.5038367695493804,
          0.6095718122464268,
          -0.9665021599071422,
          -1.941392438441163,
          -0.4410063758400523,
          0.03245090999579194,
          0.1343061826488072,
          0.5107365179921368,
          -0.3148389852787225,
          -0.3475463838805427,
          0.38918681250649434,
          -0.5878571849206334,
          0.18237827278071525,
          0.8139831276610341,
          -0.3044351308280057,
          0.7856674253493616,
          0.3511107651142644,
          0.4991054778015313,
          1.8905790693628632,
          -0.36064056808190237,
          -0.20806458226915128,
          1.1251468281191688,
          -2.126253635634463,
          -0.6012651762207218,
          -0.4332096922576356,
          0.5936193398160595,
          -1.8610576096155729,
          -0.6848069423978584,
          -0.1741312896553701,
          -0.036689001873205666,
          -0.17997951544796514,
          1.0197180801187515,
          -1.066533298890777,
          -0.9114780950624539,
          -0.11932825824118615,
          1.402067892564673,
          -0.086837270558958,
          0.463224533101115,
          1.1851504359883962,
          -0.974581228669598,
          0.5172927499818978,
          -0.019078919866214714,
          1.6757029533305858,
          -0.7739305807934194,
          0.49975487039061167,
          2.431023967741468,
          0.5156404761815808,
          -2.2967795329006546,
          -1.0552189283244984,
          0.12688409298548323,
          -1.677072780155331,
          -0.8594495959629678,
          -0.4444344655352142,
          -1.2167733442412334,
          0.38604138505028,
          1.0138946898474628,
          0.14697818534804966,
          1.9761709653128225,
          0.8272009540730214,
          -0.3939697404040883,
          0.6354964151979149,
          -0.4806868089713751,
          0.8576277591041233,
          -0.5114800988431405,
          -0.5184321876913844,
          0.8927289941236105,
          -0.13572637194054665,
          0.9993000128725914,
          0.9321656254505977,
          0.1462909328841926,
          1.318253885597681,
          -1.2340506320852325,
          0.5166974940232978,
          -0.00888755926616613,
          0.2571741481342909,
          0.6922229079065875,
          0.6538799136667284,
          0.9128588038964904
         ],
         "xaxis": "x9",
         "y": [
          -2.082536450037159,
          0.4530885734493977,
          0.20368255482972464,
          -0.11410210494040066,
          0.9097221682459405,
          -0.8124687427534877,
          -0.04394856956103083,
          -1.3898815193955492,
          -0.6730283521267469,
          0.9710262569675199,
          0.6092169118869817,
          -1.3247206547352244,
          -0.07200984094198348,
          -0.5320596003255887,
          -0.6071182537136549,
          0.28298242695004133,
          1.63632526309187,
          1.0294894762981734,
          -2.598167383257435,
          0.3829917344907664,
          -0.6620995374039768,
          -0.9164544290894261,
          -0.37641207505841523,
          -0.2140812028091623,
          1.0403004629352373,
          0.013754261202669841,
          -0.11846076703469682,
          0.05472789505244479,
          0.10623667600373886,
          -0.8545237287235011,
          -1.1708497525244947,
          -0.27131830533754325,
          -0.22535982308023256,
          -1.3447252263839728,
          -0.41807562706583196,
          1.2493497869065369,
          -0.5395003359202906,
          -0.7624552405671609,
          -0.9335351324491997,
          -1.0963685782091142,
          -0.3536412279699341,
          -0.3849969634217031,
          0.07428523611314422,
          1.4991552476169723,
          -0.33506365200787885,
          -0.8219627314382575,
          -0.4953023034617673,
          0.08523788170533084,
          1.5084160092494383,
          1.7963092363922457,
          1.1728382366622965,
          0.48485723394089514,
          1.7468799720150323,
          1.5189711102482275,
          -1.1664494631942486,
          -2.2913657866096773,
          -0.3299704581773067,
          -1.1534585368601673,
          0.7656904090654282,
          0.44283027488713855,
          -0.1040571038335075,
          -0.276270474433488,
          -0.9945292237620192,
          -1.499912996254741,
          0.919787940429676,
          0.7686444756534595,
          0.058904634607023214,
          1.3474207437068821,
          -0.2720776816770924,
          -0.7151513006884775,
          -0.8903138637651425,
          -1.70098828519413,
          -0.17754240606948118,
          -0.3412618440868006,
          0.6499902497102859,
          -0.34489224664736123,
          -0.16364794579924147,
          -1.1152717273991877,
          -2.528935755716908,
          -0.8416192276955796,
          1.3736354101460175,
          -0.43358110720911136,
          1.160213503832953,
          -1.9187822614454753,
          0.5378621118596505,
          -1.916783003862183,
          0.5923333076940671,
          2.154002809219566,
          -0.8515515238941631,
          -0.011689196634959891,
          1.194010353209449,
          -0.7635630999241817,
          1.2365882147112732,
          -0.7070793585110973,
          -0.22063555297800275,
          -0.3633187493772641,
          1.7437001406301145,
          -0.44506494452413514,
          -0.27890048827484115,
          -1.0443773777891348
         ],
         "yaxis": "y9"
        },
        {
         "line": {
          "color": "rgba(128, 128, 128, 1.0)",
          "dash": "solid",
          "shape": "linear",
          "width": 1.3
         },
         "marker": {
          "size": 2,
          "symbol": "circle"
         },
         "mode": "markers",
         "name": "C",
         "text": "",
         "type": "scatter",
         "x": [
          0.07900847452249811,
          -0.9122677191922264,
          0.3112574668049616,
          1.7728983810125845,
          -0.46509577776202565,
          -0.8500736939519596,
          0.09604825979531327,
          -1.6741323641529193,
          0.3654389760932509,
          -0.396636210544783,
          -0.39935846585434787,
          -2.072144060438098,
          -0.9592798926978057,
          1.009429267180827,
          1.4347810916763082,
          1.2238156048083508,
          -0.2539894869632165,
          -0.03462226412381225,
          1.5213228468514988,
          -0.16020138184502902,
          1.1012259404213742,
          -1.7925797528858496,
          1.3515348090377433,
          -1.2785375474729208,
          -0.9450429616882644,
          -0.3565619797841725,
          -0.526895547025469,
          -0.29703925347581567,
          0.470679346499512,
          -0.21965139430373848,
          -0.277572241034337,
          1.6757739473793847,
          -0.6844213119094037,
          2.5467128090186346,
          0.3092940280081921,
          0.36706217813011577,
          0.3620155081208797,
          -1.0693211361043422,
          -0.32058523850796067,
          0.34172741616987756,
          -1.013975596657667,
          -0.330584333129899,
          2.354552575307552,
          0.2222715205421336,
          -0.24491641424236923,
          0.08652389492069956,
          -0.6661046551013905,
          -0.5684243647771562,
          -0.16815681870593208,
          0.5451732559293533,
          -0.7003127063854502,
          -2.0991552130751163,
          -0.8805818658707721,
          1.1181512595690717,
          -1.8236861113099427,
          -1.109326462564337,
          0.8850844170534031,
          -0.15140124010444625,
          2.089817025595409,
          -1.1412646577928676,
          0.5130786272975839,
          0.802315702090518,
          0.8227263767426035,
          -0.4211094361933707,
          0.3188905388362875,
          -0.27597929718394765,
          1.4894104428242139,
          1.0154933954044825,
          0.9032711654013391,
          1.4822651315059352,
          0.5187114432149854,
          1.7355646462196677,
          -1.0622908954228063,
          -0.41376365210767657,
          -0.4752312118552798,
          0.25271611250132825,
          0.11808813566547226,
          -1.4190087109867906,
          -1.099413224707759,
          -0.8227951494886859,
          1.0404839507698609,
          -0.3836115958841534,
          -0.36668922503310136,
          -0.9641263348806826,
          -1.4158392346294928,
          -0.5832744046678073,
          -0.2507105982209403,
          -0.519634303248391,
          1.3501586378007053,
          0.3645687598665697,
          -2.2309271526923697,
          -2.2570879544856224,
          0.681349780667486,
          0.005462937664764124,
          0.08378619913036302,
          -0.18127299340078432,
          0.5088984930410607,
          -0.12613393601230247,
          -1.067492178711451,
          -0.5060295021572043
         ],
         "xaxis": "x10",
         "y": [
          -2.082536450037159,
          0.4530885734493977,
          0.20368255482972464,
          -0.11410210494040066,
          0.9097221682459405,
          -0.8124687427534877,
          -0.04394856956103083,
          -1.3898815193955492,
          -0.6730283521267469,
          0.9710262569675199,
          0.6092169118869817,
          -1.3247206547352244,
          -0.07200984094198348,
          -0.5320596003255887,
          -0.6071182537136549,
          0.28298242695004133,
          1.63632526309187,
          1.0294894762981734,
          -2.598167383257435,
          0.3829917344907664,
          -0.6620995374039768,
          -0.9164544290894261,
          -0.37641207505841523,
          -0.2140812028091623,
          1.0403004629352373,
          0.013754261202669841,
          -0.11846076703469682,
          0.05472789505244479,
          0.10623667600373886,
          -0.8545237287235011,
          -1.1708497525244947,
          -0.27131830533754325,
          -0.22535982308023256,
          -1.3447252263839728,
          -0.41807562706583196,
          1.2493497869065369,
          -0.5395003359202906,
          -0.7624552405671609,
          -0.9335351324491997,
          -1.0963685782091142,
          -0.3536412279699341,
          -0.3849969634217031,
          0.07428523611314422,
          1.4991552476169723,
          -0.33506365200787885,
          -0.8219627314382575,
          -0.4953023034617673,
          0.08523788170533084,
          1.5084160092494383,
          1.7963092363922457,
          1.1728382366622965,
          0.48485723394089514,
          1.7468799720150323,
          1.5189711102482275,
          -1.1664494631942486,
          -2.2913657866096773,
          -0.3299704581773067,
          -1.1534585368601673,
          0.7656904090654282,
          0.44283027488713855,
          -0.1040571038335075,
          -0.276270474433488,
          -0.9945292237620192,
          -1.499912996254741,
          0.919787940429676,
          0.7686444756534595,
          0.058904634607023214,
          1.3474207437068821,
          -0.2720776816770924,
          -0.7151513006884775,
          -0.8903138637651425,
          -1.70098828519413,
          -0.17754240606948118,
          -0.3412618440868006,
          0.6499902497102859,
          -0.34489224664736123,
          -0.16364794579924147,
          -1.1152717273991877,
          -2.528935755716908,
          -0.8416192276955796,
          1.3736354101460175,
          -0.43358110720911136,
          1.160213503832953,
          -1.9187822614454753,
          0.5378621118596505,
          -1.916783003862183,
          0.5923333076940671,
          2.154002809219566,
          -0.8515515238941631,
          -0.011689196634959891,
          1.194010353209449,
          -0.7635630999241817,
          1.2365882147112732,
          -0.7070793585110973,
          -0.22063555297800275,
          -0.3633187493772641,
          1.7437001406301145,
          -0.44506494452413514,
          -0.27890048827484115,
          -1.0443773777891348
         ],
         "yaxis": "y10"
        },
        {
         "histfunc": "count",
         "histnorm": "",
         "marker": {
          "color": "rgba(50, 171, 96, 1.0)",
          "line": {
           "color": "#4D5663",
           "width": 1.3
          }
         },
         "name": "C",
         "nbinsx": 10,
         "opacity": 0.8,
         "orientation": "v",
         "type": "histogram",
         "x": [
          -2.082536450037159,
          0.4530885734493977,
          0.20368255482972464,
          -0.11410210494040066,
          0.9097221682459405,
          -0.8124687427534877,
          -0.04394856956103083,
          -1.3898815193955492,
          -0.6730283521267469,
          0.9710262569675199,
          0.6092169118869817,
          -1.3247206547352244,
          -0.07200984094198348,
          -0.5320596003255887,
          -0.6071182537136549,
          0.28298242695004133,
          1.63632526309187,
          1.0294894762981734,
          -2.598167383257435,
          0.3829917344907664,
          -0.6620995374039768,
          -0.9164544290894261,
          -0.37641207505841523,
          -0.2140812028091623,
          1.0403004629352373,
          0.013754261202669841,
          -0.11846076703469682,
          0.05472789505244479,
          0.10623667600373886,
          -0.8545237287235011,
          -1.1708497525244947,
          -0.27131830533754325,
          -0.22535982308023256,
          -1.3447252263839728,
          -0.41807562706583196,
          1.2493497869065369,
          -0.5395003359202906,
          -0.7624552405671609,
          -0.9335351324491997,
          -1.0963685782091142,
          -0.3536412279699341,
          -0.3849969634217031,
          0.07428523611314422,
          1.4991552476169723,
          -0.33506365200787885,
          -0.8219627314382575,
          -0.4953023034617673,
          0.08523788170533084,
          1.5084160092494383,
          1.7963092363922457,
          1.1728382366622965,
          0.48485723394089514,
          1.7468799720150323,
          1.5189711102482275,
          -1.1664494631942486,
          -2.2913657866096773,
          -0.3299704581773067,
          -1.1534585368601673,
          0.7656904090654282,
          0.44283027488713855,
          -0.1040571038335075,
          -0.276270474433488,
          -0.9945292237620192,
          -1.499912996254741,
          0.919787940429676,
          0.7686444756534595,
          0.058904634607023214,
          1.3474207437068821,
          -0.2720776816770924,
          -0.7151513006884775,
          -0.8903138637651425,
          -1.70098828519413,
          -0.17754240606948118,
          -0.3412618440868006,
          0.6499902497102859,
          -0.34489224664736123,
          -0.16364794579924147,
          -1.1152717273991877,
          -2.528935755716908,
          -0.8416192276955796,
          1.3736354101460175,
          -0.43358110720911136,
          1.160213503832953,
          -1.9187822614454753,
          0.5378621118596505,
          -1.916783003862183,
          0.5923333076940671,
          2.154002809219566,
          -0.8515515238941631,
          -0.011689196634959891,
          1.194010353209449,
          -0.7635630999241817,
          1.2365882147112732,
          -0.7070793585110973,
          -0.22063555297800275,
          -0.3633187493772641,
          1.7437001406301145,
          -0.44506494452413514,
          -0.27890048827484115,
          -1.0443773777891348
         ],
         "xaxis": "x11",
         "yaxis": "y11"
        },
        {
         "line": {
          "color": "rgba(128, 128, 128, 1.0)",
          "dash": "solid",
          "shape": "linear",
          "width": 1.3
         },
         "marker": {
          "size": 2,
          "symbol": "circle"
         },
         "mode": "markers",
         "name": "C",
         "text": "",
         "type": "scatter",
         "x": [
          -0.24018330689564246,
          -1.0587131429233398,
          -0.4293280149834754,
          0.06200827489208058,
          -0.9433057505753424,
          0.7006495476245426,
          2.282976311898684,
          -0.25942855388142705,
          -0.2327220428419129,
          -0.21528004940086895,
          -0.07813024134206867,
          0.8344238156442767,
          0.3320735871036728,
          0.6826658544762765,
          -1.824760091048321,
          -1.331543826487938,
          0.4098731091090183,
          -1.302231125570441,
          0.045133884284845265,
          1.2342818672139926,
          -0.4160006653024965,
          -0.5835182231509705,
          -0.3409247497329795,
          0.4436159865585294,
          0.605611330232476,
          0.5079343464518948,
          1.6131484978417183,
          -1.1475984862833866,
          0.3126085481370072,
          0.39221529855000725,
          1.7188250552535065,
          -0.024079149309831446,
          -0.8004062712812569,
          0.3576312569431447,
          -0.8167531426602717,
          0.6414400366704491,
          -0.3197021592125468,
          0.24927432151889684,
          -3.3681877800502216,
          -1.3829477210171144,
          -0.5086578218916982,
          0.24676272247000952,
          0.6498392686864897,
          -0.06442778398749202,
          -1.7210796072924515,
          -3.8145800818329336,
          -0.5243137551743628,
          -0.2480735134007949,
          -1.0303811948414303,
          -0.6582084176412066,
          0.2447273973850182,
          1.3267344334536006,
          -0.5004008441851997,
          -0.04128827205640335,
          -0.9096544537431411,
          0.0017297036760680774,
          -0.12551121360032497,
          2.1423599662252593,
          0.04533013822669366,
          -0.04209048803932449,
          1.6258582538032196,
          0.24193560864083252,
          1.0879083880847336,
          1.8069480991811726,
          0.05017187085668021,
          1.4073658228169623,
          -0.5364011911093954,
          0.2374983194679982,
          0.42836638520393794,
          0.29767589763846175,
          -0.5571295038168838,
          -0.7416897075453166,
          1.3653381215211753,
          -2.776032923587767,
          0.605923858055208,
          0.7580382056973495,
          -1.1888303431659015,
          -0.044081879349680456,
          1.8875154145859385,
          -0.9084022557596733,
          2.2142328715251467,
          1.4010475661686914,
          0.3149658866967026,
          -1.881057963057145,
          1.4964111873829589,
          1.0157784694324463,
          0.9160270219461122,
          1.6261321246758507,
          -0.780663353807255,
          -0.5387343934229627,
          0.2452130883745721,
          -1.1469700221839194,
          -1.248426145507741,
          0.5428776176733583,
          0.353893576786481,
          0.38881196115397676,
          -0.023283625587178006,
          1.113803263813739,
          0.5061512293271354,
          -1.2767416114937513
         ],
         "xaxis": "x12",
         "y": [
          -2.082536450037159,
          0.4530885734493977,
          0.20368255482972464,
          -0.11410210494040066,
          0.9097221682459405,
          -0.8124687427534877,
          -0.04394856956103083,
          -1.3898815193955492,
          -0.6730283521267469,
          0.9710262569675199,
          0.6092169118869817,
          -1.3247206547352244,
          -0.07200984094198348,
          -0.5320596003255887,
          -0.6071182537136549,
          0.28298242695004133,
          1.63632526309187,
          1.0294894762981734,
          -2.598167383257435,
          0.3829917344907664,
          -0.6620995374039768,
          -0.9164544290894261,
          -0.37641207505841523,
          -0.2140812028091623,
          1.0403004629352373,
          0.013754261202669841,
          -0.11846076703469682,
          0.05472789505244479,
          0.10623667600373886,
          -0.8545237287235011,
          -1.1708497525244947,
          -0.27131830533754325,
          -0.22535982308023256,
          -1.3447252263839728,
          -0.41807562706583196,
          1.2493497869065369,
          -0.5395003359202906,
          -0.7624552405671609,
          -0.9335351324491997,
          -1.0963685782091142,
          -0.3536412279699341,
          -0.3849969634217031,
          0.07428523611314422,
          1.4991552476169723,
          -0.33506365200787885,
          -0.8219627314382575,
          -0.4953023034617673,
          0.08523788170533084,
          1.5084160092494383,
          1.7963092363922457,
          1.1728382366622965,
          0.48485723394089514,
          1.7468799720150323,
          1.5189711102482275,
          -1.1664494631942486,
          -2.2913657866096773,
          -0.3299704581773067,
          -1.1534585368601673,
          0.7656904090654282,
          0.44283027488713855,
          -0.1040571038335075,
          -0.276270474433488,
          -0.9945292237620192,
          -1.499912996254741,
          0.919787940429676,
          0.7686444756534595,
          0.058904634607023214,
          1.3474207437068821,
          -0.2720776816770924,
          -0.7151513006884775,
          -0.8903138637651425,
          -1.70098828519413,
          -0.17754240606948118,
          -0.3412618440868006,
          0.6499902497102859,
          -0.34489224664736123,
          -0.16364794579924147,
          -1.1152717273991877,
          -2.528935755716908,
          -0.8416192276955796,
          1.3736354101460175,
          -0.43358110720911136,
          1.160213503832953,
          -1.9187822614454753,
          0.5378621118596505,
          -1.916783003862183,
          0.5923333076940671,
          2.154002809219566,
          -0.8515515238941631,
          -0.011689196634959891,
          1.194010353209449,
          -0.7635630999241817,
          1.2365882147112732,
          -0.7070793585110973,
          -0.22063555297800275,
          -0.3633187493772641,
          1.7437001406301145,
          -0.44506494452413514,
          -0.27890048827484115,
          -1.0443773777891348
         ],
         "yaxis": "y12"
        },
        {
         "line": {
          "color": "rgba(128, 128, 128, 1.0)",
          "dash": "solid",
          "shape": "linear",
          "width": 1.3
         },
         "marker": {
          "size": 2,
          "symbol": "circle"
         },
         "mode": "markers",
         "name": "D",
         "text": "",
         "type": "scatter",
         "x": [
          -0.29643740889399095,
          0.32868435515730043,
          1.7461416496086142,
          -0.24004567607313979,
          0.13879213518446365,
          0.5535216967030455,
          -0.5654788153613118,
          1.4745095081896062,
          0.24599950755732192,
          -1.2056020605811952,
          1.1064580688514372,
          1.2560715526922155,
          0.9370673363805552,
          -0.3035228949304509,
          0.8173073261565816,
          -1.049133286502186,
          0.8206309550571658,
          0.4257464010855425,
          -0.204969188764631,
          -0.49515630325678384,
          -0.46557478153402304,
          -0.7100122999382016,
          0.5038367695493804,
          0.6095718122464268,
          -0.9665021599071422,
          -1.941392438441163,
          -0.4410063758400523,
          0.03245090999579194,
          0.1343061826488072,
          0.5107365179921368,
          -0.3148389852787225,
          -0.3475463838805427,
          0.38918681250649434,
          -0.5878571849206334,
          0.18237827278071525,
          0.8139831276610341,
          -0.3044351308280057,
          0.7856674253493616,
          0.3511107651142644,
          0.4991054778015313,
          1.8905790693628632,
          -0.36064056808190237,
          -0.20806458226915128,
          1.1251468281191688,
          -2.126253635634463,
          -0.6012651762207218,
          -0.4332096922576356,
          0.5936193398160595,
          -1.8610576096155729,
          -0.6848069423978584,
          -0.1741312896553701,
          -0.036689001873205666,
          -0.17997951544796514,
          1.0197180801187515,
          -1.066533298890777,
          -0.9114780950624539,
          -0.11932825824118615,
          1.402067892564673,
          -0.086837270558958,
          0.463224533101115,
          1.1851504359883962,
          -0.974581228669598,
          0.5172927499818978,
          -0.019078919866214714,
          1.6757029533305858,
          -0.7739305807934194,
          0.49975487039061167,
          2.431023967741468,
          0.5156404761815808,
          -2.2967795329006546,
          -1.0552189283244984,
          0.12688409298548323,
          -1.677072780155331,
          -0.8594495959629678,
          -0.4444344655352142,
          -1.2167733442412334,
          0.38604138505028,
          1.0138946898474628,
          0.14697818534804966,
          1.9761709653128225,
          0.8272009540730214,
          -0.3939697404040883,
          0.6354964151979149,
          -0.4806868089713751,
          0.8576277591041233,
          -0.5114800988431405,
          -0.5184321876913844,
          0.8927289941236105,
          -0.13572637194054665,
          0.9993000128725914,
          0.9321656254505977,
          0.1462909328841926,
          1.318253885597681,
          -1.2340506320852325,
          0.5166974940232978,
          -0.00888755926616613,
          0.2571741481342909,
          0.6922229079065875,
          0.6538799136667284,
          0.9128588038964904
         ],
         "xaxis": "x13",
         "y": [
          -0.24018330689564246,
          -1.0587131429233398,
          -0.4293280149834754,
          0.06200827489208058,
          -0.9433057505753424,
          0.7006495476245426,
          2.282976311898684,
          -0.25942855388142705,
          -0.2327220428419129,
          -0.21528004940086895,
          -0.07813024134206867,
          0.8344238156442767,
          0.3320735871036728,
          0.6826658544762765,
          -1.824760091048321,
          -1.331543826487938,
          0.4098731091090183,
          -1.302231125570441,
          0.045133884284845265,
          1.2342818672139926,
          -0.4160006653024965,
          -0.5835182231509705,
          -0.3409247497329795,
          0.4436159865585294,
          0.605611330232476,
          0.5079343464518948,
          1.6131484978417183,
          -1.1475984862833866,
          0.3126085481370072,
          0.39221529855000725,
          1.7188250552535065,
          -0.024079149309831446,
          -0.8004062712812569,
          0.3576312569431447,
          -0.8167531426602717,
          0.6414400366704491,
          -0.3197021592125468,
          0.24927432151889684,
          -3.3681877800502216,
          -1.3829477210171144,
          -0.5086578218916982,
          0.24676272247000952,
          0.6498392686864897,
          -0.06442778398749202,
          -1.7210796072924515,
          -3.8145800818329336,
          -0.5243137551743628,
          -0.2480735134007949,
          -1.0303811948414303,
          -0.6582084176412066,
          0.2447273973850182,
          1.3267344334536006,
          -0.5004008441851997,
          -0.04128827205640335,
          -0.9096544537431411,
          0.0017297036760680774,
          -0.12551121360032497,
          2.1423599662252593,
          0.04533013822669366,
          -0.04209048803932449,
          1.6258582538032196,
          0.24193560864083252,
          1.0879083880847336,
          1.8069480991811726,
          0.05017187085668021,
          1.4073658228169623,
          -0.5364011911093954,
          0.2374983194679982,
          0.42836638520393794,
          0.29767589763846175,
          -0.5571295038168838,
          -0.7416897075453166,
          1.3653381215211753,
          -2.776032923587767,
          0.605923858055208,
          0.7580382056973495,
          -1.1888303431659015,
          -0.044081879349680456,
          1.8875154145859385,
          -0.9084022557596733,
          2.2142328715251467,
          1.4010475661686914,
          0.3149658866967026,
          -1.881057963057145,
          1.4964111873829589,
          1.0157784694324463,
          0.9160270219461122,
          1.6261321246758507,
          -0.780663353807255,
          -0.5387343934229627,
          0.2452130883745721,
          -1.1469700221839194,
          -1.248426145507741,
          0.5428776176733583,
          0.353893576786481,
          0.38881196115397676,
          -0.023283625587178006,
          1.113803263813739,
          0.5061512293271354,
          -1.2767416114937513
         ],
         "yaxis": "y13"
        },
        {
         "line": {
          "color": "rgba(128, 128, 128, 1.0)",
          "dash": "solid",
          "shape": "linear",
          "width": 1.3
         },
         "marker": {
          "size": 2,
          "symbol": "circle"
         },
         "mode": "markers",
         "name": "D",
         "text": "",
         "type": "scatter",
         "x": [
          0.07900847452249811,
          -0.9122677191922264,
          0.3112574668049616,
          1.7728983810125845,
          -0.46509577776202565,
          -0.8500736939519596,
          0.09604825979531327,
          -1.6741323641529193,
          0.3654389760932509,
          -0.396636210544783,
          -0.39935846585434787,
          -2.072144060438098,
          -0.9592798926978057,
          1.009429267180827,
          1.4347810916763082,
          1.2238156048083508,
          -0.2539894869632165,
          -0.03462226412381225,
          1.5213228468514988,
          -0.16020138184502902,
          1.1012259404213742,
          -1.7925797528858496,
          1.3515348090377433,
          -1.2785375474729208,
          -0.9450429616882644,
          -0.3565619797841725,
          -0.526895547025469,
          -0.29703925347581567,
          0.470679346499512,
          -0.21965139430373848,
          -0.277572241034337,
          1.6757739473793847,
          -0.6844213119094037,
          2.5467128090186346,
          0.3092940280081921,
          0.36706217813011577,
          0.3620155081208797,
          -1.0693211361043422,
          -0.32058523850796067,
          0.34172741616987756,
          -1.013975596657667,
          -0.330584333129899,
          2.354552575307552,
          0.2222715205421336,
          -0.24491641424236923,
          0.08652389492069956,
          -0.6661046551013905,
          -0.5684243647771562,
          -0.16815681870593208,
          0.5451732559293533,
          -0.7003127063854502,
          -2.0991552130751163,
          -0.8805818658707721,
          1.1181512595690717,
          -1.8236861113099427,
          -1.109326462564337,
          0.8850844170534031,
          -0.15140124010444625,
          2.089817025595409,
          -1.1412646577928676,
          0.5130786272975839,
          0.802315702090518,
          0.8227263767426035,
          -0.4211094361933707,
          0.3188905388362875,
          -0.27597929718394765,
          1.4894104428242139,
          1.0154933954044825,
          0.9032711654013391,
          1.4822651315059352,
          0.5187114432149854,
          1.7355646462196677,
          -1.0622908954228063,
          -0.41376365210767657,
          -0.4752312118552798,
          0.25271611250132825,
          0.11808813566547226,
          -1.4190087109867906,
          -1.099413224707759,
          -0.8227951494886859,
          1.0404839507698609,
          -0.3836115958841534,
          -0.36668922503310136,
          -0.9641263348806826,
          -1.4158392346294928,
          -0.5832744046678073,
          -0.2507105982209403,
          -0.519634303248391,
          1.3501586378007053,
          0.3645687598665697,
          -2.2309271526923697,
          -2.2570879544856224,
          0.681349780667486,
          0.005462937664764124,
          0.08378619913036302,
          -0.18127299340078432,
          0.5088984930410607,
          -0.12613393601230247,
          -1.067492178711451,
          -0.5060295021572043
         ],
         "xaxis": "x14",
         "y": [
          -0.24018330689564246,
          -1.0587131429233398,
          -0.4293280149834754,
          0.06200827489208058,
          -0.9433057505753424,
          0.7006495476245426,
          2.282976311898684,
          -0.25942855388142705,
          -0.2327220428419129,
          -0.21528004940086895,
          -0.07813024134206867,
          0.8344238156442767,
          0.3320735871036728,
          0.6826658544762765,
          -1.824760091048321,
          -1.331543826487938,
          0.4098731091090183,
          -1.302231125570441,
          0.045133884284845265,
          1.2342818672139926,
          -0.4160006653024965,
          -0.5835182231509705,
          -0.3409247497329795,
          0.4436159865585294,
          0.605611330232476,
          0.5079343464518948,
          1.6131484978417183,
          -1.1475984862833866,
          0.3126085481370072,
          0.39221529855000725,
          1.7188250552535065,
          -0.024079149309831446,
          -0.8004062712812569,
          0.3576312569431447,
          -0.8167531426602717,
          0.6414400366704491,
          -0.3197021592125468,
          0.24927432151889684,
          -3.3681877800502216,
          -1.3829477210171144,
          -0.5086578218916982,
          0.24676272247000952,
          0.6498392686864897,
          -0.06442778398749202,
          -1.7210796072924515,
          -3.8145800818329336,
          -0.5243137551743628,
          -0.2480735134007949,
          -1.0303811948414303,
          -0.6582084176412066,
          0.2447273973850182,
          1.3267344334536006,
          -0.5004008441851997,
          -0.04128827205640335,
          -0.9096544537431411,
          0.0017297036760680774,
          -0.12551121360032497,
          2.1423599662252593,
          0.04533013822669366,
          -0.04209048803932449,
          1.6258582538032196,
          0.24193560864083252,
          1.0879083880847336,
          1.8069480991811726,
          0.05017187085668021,
          1.4073658228169623,
          -0.5364011911093954,
          0.2374983194679982,
          0.42836638520393794,
          0.29767589763846175,
          -0.5571295038168838,
          -0.7416897075453166,
          1.3653381215211753,
          -2.776032923587767,
          0.605923858055208,
          0.7580382056973495,
          -1.1888303431659015,
          -0.044081879349680456,
          1.8875154145859385,
          -0.9084022557596733,
          2.2142328715251467,
          1.4010475661686914,
          0.3149658866967026,
          -1.881057963057145,
          1.4964111873829589,
          1.0157784694324463,
          0.9160270219461122,
          1.6261321246758507,
          -0.780663353807255,
          -0.5387343934229627,
          0.2452130883745721,
          -1.1469700221839194,
          -1.248426145507741,
          0.5428776176733583,
          0.353893576786481,
          0.38881196115397676,
          -0.023283625587178006,
          1.113803263813739,
          0.5061512293271354,
          -1.2767416114937513
         ],
         "yaxis": "y14"
        },
        {
         "line": {
          "color": "rgba(128, 128, 128, 1.0)",
          "dash": "solid",
          "shape": "linear",
          "width": 1.3
         },
         "marker": {
          "size": 2,
          "symbol": "circle"
         },
         "mode": "markers",
         "name": "D",
         "text": "",
         "type": "scatter",
         "x": [
          -2.082536450037159,
          0.4530885734493977,
          0.20368255482972464,
          -0.11410210494040066,
          0.9097221682459405,
          -0.8124687427534877,
          -0.04394856956103083,
          -1.3898815193955492,
          -0.6730283521267469,
          0.9710262569675199,
          0.6092169118869817,
          -1.3247206547352244,
          -0.07200984094198348,
          -0.5320596003255887,
          -0.6071182537136549,
          0.28298242695004133,
          1.63632526309187,
          1.0294894762981734,
          -2.598167383257435,
          0.3829917344907664,
          -0.6620995374039768,
          -0.9164544290894261,
          -0.37641207505841523,
          -0.2140812028091623,
          1.0403004629352373,
          0.013754261202669841,
          -0.11846076703469682,
          0.05472789505244479,
          0.10623667600373886,
          -0.8545237287235011,
          -1.1708497525244947,
          -0.27131830533754325,
          -0.22535982308023256,
          -1.3447252263839728,
          -0.41807562706583196,
          1.2493497869065369,
          -0.5395003359202906,
          -0.7624552405671609,
          -0.9335351324491997,
          -1.0963685782091142,
          -0.3536412279699341,
          -0.3849969634217031,
          0.07428523611314422,
          1.4991552476169723,
          -0.33506365200787885,
          -0.8219627314382575,
          -0.4953023034617673,
          0.08523788170533084,
          1.5084160092494383,
          1.7963092363922457,
          1.1728382366622965,
          0.48485723394089514,
          1.7468799720150323,
          1.5189711102482275,
          -1.1664494631942486,
          -2.2913657866096773,
          -0.3299704581773067,
          -1.1534585368601673,
          0.7656904090654282,
          0.44283027488713855,
          -0.1040571038335075,
          -0.276270474433488,
          -0.9945292237620192,
          -1.499912996254741,
          0.919787940429676,
          0.7686444756534595,
          0.058904634607023214,
          1.3474207437068821,
          -0.2720776816770924,
          -0.7151513006884775,
          -0.8903138637651425,
          -1.70098828519413,
          -0.17754240606948118,
          -0.3412618440868006,
          0.6499902497102859,
          -0.34489224664736123,
          -0.16364794579924147,
          -1.1152717273991877,
          -2.528935755716908,
          -0.8416192276955796,
          1.3736354101460175,
          -0.43358110720911136,
          1.160213503832953,
          -1.9187822614454753,
          0.5378621118596505,
          -1.916783003862183,
          0.5923333076940671,
          2.154002809219566,
          -0.8515515238941631,
          -0.011689196634959891,
          1.194010353209449,
          -0.7635630999241817,
          1.2365882147112732,
          -0.7070793585110973,
          -0.22063555297800275,
          -0.3633187493772641,
          1.7437001406301145,
          -0.44506494452413514,
          -0.27890048827484115,
          -1.0443773777891348
         ],
         "xaxis": "x15",
         "y": [
          -0.24018330689564246,
          -1.0587131429233398,
          -0.4293280149834754,
          0.06200827489208058,
          -0.9433057505753424,
          0.7006495476245426,
          2.282976311898684,
          -0.25942855388142705,
          -0.2327220428419129,
          -0.21528004940086895,
          -0.07813024134206867,
          0.8344238156442767,
          0.3320735871036728,
          0.6826658544762765,
          -1.824760091048321,
          -1.331543826487938,
          0.4098731091090183,
          -1.302231125570441,
          0.045133884284845265,
          1.2342818672139926,
          -0.4160006653024965,
          -0.5835182231509705,
          -0.3409247497329795,
          0.4436159865585294,
          0.605611330232476,
          0.5079343464518948,
          1.6131484978417183,
          -1.1475984862833866,
          0.3126085481370072,
          0.39221529855000725,
          1.7188250552535065,
          -0.024079149309831446,
          -0.8004062712812569,
          0.3576312569431447,
          -0.8167531426602717,
          0.6414400366704491,
          -0.3197021592125468,
          0.24927432151889684,
          -3.3681877800502216,
          -1.3829477210171144,
          -0.5086578218916982,
          0.24676272247000952,
          0.6498392686864897,
          -0.06442778398749202,
          -1.7210796072924515,
          -3.8145800818329336,
          -0.5243137551743628,
          -0.2480735134007949,
          -1.0303811948414303,
          -0.6582084176412066,
          0.2447273973850182,
          1.3267344334536006,
          -0.5004008441851997,
          -0.04128827205640335,
          -0.9096544537431411,
          0.0017297036760680774,
          -0.12551121360032497,
          2.1423599662252593,
          0.04533013822669366,
          -0.04209048803932449,
          1.6258582538032196,
          0.24193560864083252,
          1.0879083880847336,
          1.8069480991811726,
          0.05017187085668021,
          1.4073658228169623,
          -0.5364011911093954,
          0.2374983194679982,
          0.42836638520393794,
          0.29767589763846175,
          -0.5571295038168838,
          -0.7416897075453166,
          1.3653381215211753,
          -2.776032923587767,
          0.605923858055208,
          0.7580382056973495,
          -1.1888303431659015,
          -0.044081879349680456,
          1.8875154145859385,
          -0.9084022557596733,
          2.2142328715251467,
          1.4010475661686914,
          0.3149658866967026,
          -1.881057963057145,
          1.4964111873829589,
          1.0157784694324463,
          0.9160270219461122,
          1.6261321246758507,
          -0.780663353807255,
          -0.5387343934229627,
          0.2452130883745721,
          -1.1469700221839194,
          -1.248426145507741,
          0.5428776176733583,
          0.353893576786481,
          0.38881196115397676,
          -0.023283625587178006,
          1.113803263813739,
          0.5061512293271354,
          -1.2767416114937513
         ],
         "yaxis": "y15"
        },
        {
         "histfunc": "count",
         "histnorm": "",
         "marker": {
          "color": "rgba(128, 0, 128, 1.0)",
          "line": {
           "color": "#4D5663",
           "width": 1.3
          }
         },
         "name": "D",
         "nbinsx": 10,
         "opacity": 0.8,
         "orientation": "v",
         "type": "histogram",
         "x": [
          -0.24018330689564246,
          -1.0587131429233398,
          -0.4293280149834754,
          0.06200827489208058,
          -0.9433057505753424,
          0.7006495476245426,
          2.282976311898684,
          -0.25942855388142705,
          -0.2327220428419129,
          -0.21528004940086895,
          -0.07813024134206867,
          0.8344238156442767,
          0.3320735871036728,
          0.6826658544762765,
          -1.824760091048321,
          -1.331543826487938,
          0.4098731091090183,
          -1.302231125570441,
          0.045133884284845265,
          1.2342818672139926,
          -0.4160006653024965,
          -0.5835182231509705,
          -0.3409247497329795,
          0.4436159865585294,
          0.605611330232476,
          0.5079343464518948,
          1.6131484978417183,
          -1.1475984862833866,
          0.3126085481370072,
          0.39221529855000725,
          1.7188250552535065,
          -0.024079149309831446,
          -0.8004062712812569,
          0.3576312569431447,
          -0.8167531426602717,
          0.6414400366704491,
          -0.3197021592125468,
          0.24927432151889684,
          -3.3681877800502216,
          -1.3829477210171144,
          -0.5086578218916982,
          0.24676272247000952,
          0.6498392686864897,
          -0.06442778398749202,
          -1.7210796072924515,
          -3.8145800818329336,
          -0.5243137551743628,
          -0.2480735134007949,
          -1.0303811948414303,
          -0.6582084176412066,
          0.2447273973850182,
          1.3267344334536006,
          -0.5004008441851997,
          -0.04128827205640335,
          -0.9096544537431411,
          0.0017297036760680774,
          -0.12551121360032497,
          2.1423599662252593,
          0.04533013822669366,
          -0.04209048803932449,
          1.6258582538032196,
          0.24193560864083252,
          1.0879083880847336,
          1.8069480991811726,
          0.05017187085668021,
          1.4073658228169623,
          -0.5364011911093954,
          0.2374983194679982,
          0.42836638520393794,
          0.29767589763846175,
          -0.5571295038168838,
          -0.7416897075453166,
          1.3653381215211753,
          -2.776032923587767,
          0.605923858055208,
          0.7580382056973495,
          -1.1888303431659015,
          -0.044081879349680456,
          1.8875154145859385,
          -0.9084022557596733,
          2.2142328715251467,
          1.4010475661686914,
          0.3149658866967026,
          -1.881057963057145,
          1.4964111873829589,
          1.0157784694324463,
          0.9160270219461122,
          1.6261321246758507,
          -0.780663353807255,
          -0.5387343934229627,
          0.2452130883745721,
          -1.1469700221839194,
          -1.248426145507741,
          0.5428776176733583,
          0.353893576786481,
          0.38881196115397676,
          -0.023283625587178006,
          1.113803263813739,
          0.5061512293271354,
          -1.2767416114937513
         ],
         "xaxis": "x16",
         "yaxis": "y16"
        }
       ],
       "layout": {
        "bargap": 0.02,
        "legend": {
         "bgcolor": "#F5F6F9",
         "font": {
          "color": "#4D5663"
         }
        },
        "paper_bgcolor": "#F5F6F9",
        "plot_bgcolor": "#F5F6F9",
        "showlegend": false,
        "template": {
         "data": {
          "bar": [
           {
            "error_x": {
             "color": "#2a3f5f"
            },
            "error_y": {
             "color": "#2a3f5f"
            },
            "marker": {
             "line": {
              "color": "#E5ECF6",
              "width": 0.5
             }
            },
            "type": "bar"
           }
          ],
          "barpolar": [
           {
            "marker": {
             "line": {
              "color": "#E5ECF6",
              "width": 0.5
             }
            },
            "type": "barpolar"
           }
          ],
          "carpet": [
           {
            "aaxis": {
             "endlinecolor": "#2a3f5f",
             "gridcolor": "white",
             "linecolor": "white",
             "minorgridcolor": "white",
             "startlinecolor": "#2a3f5f"
            },
            "baxis": {
             "endlinecolor": "#2a3f5f",
             "gridcolor": "white",
             "linecolor": "white",
             "minorgridcolor": "white",
             "startlinecolor": "#2a3f5f"
            },
            "type": "carpet"
           }
          ],
          "choropleth": [
           {
            "colorbar": {
             "outlinewidth": 0,
             "ticks": ""
            },
            "type": "choropleth"
           }
          ],
          "contour": [
           {
            "colorbar": {
             "outlinewidth": 0,
             "ticks": ""
            },
            "colorscale": [
             [
              0,
              "#0d0887"
             ],
             [
              0.1111111111111111,
              "#46039f"
             ],
             [
              0.2222222222222222,
              "#7201a8"
             ],
             [
              0.3333333333333333,
              "#9c179e"
             ],
             [
              0.4444444444444444,
              "#bd3786"
             ],
             [
              0.5555555555555556,
              "#d8576b"
             ],
             [
              0.6666666666666666,
              "#ed7953"
             ],
             [
              0.7777777777777778,
              "#fb9f3a"
             ],
             [
              0.8888888888888888,
              "#fdca26"
             ],
             [
              1,
              "#f0f921"
             ]
            ],
            "type": "contour"
           }
          ],
          "contourcarpet": [
           {
            "colorbar": {
             "outlinewidth": 0,
             "ticks": ""
            },
            "type": "contourcarpet"
           }
          ],
          "heatmap": [
           {
            "colorbar": {
             "outlinewidth": 0,
             "ticks": ""
            },
            "colorscale": [
             [
              0,
              "#0d0887"
             ],
             [
              0.1111111111111111,
              "#46039f"
             ],
             [
              0.2222222222222222,
              "#7201a8"
             ],
             [
              0.3333333333333333,
              "#9c179e"
             ],
             [
              0.4444444444444444,
              "#bd3786"
             ],
             [
              0.5555555555555556,
              "#d8576b"
             ],
             [
              0.6666666666666666,
              "#ed7953"
             ],
             [
              0.7777777777777778,
              "#fb9f3a"
             ],
             [
              0.8888888888888888,
              "#fdca26"
             ],
             [
              1,
              "#f0f921"
             ]
            ],
            "type": "heatmap"
           }
          ],
          "heatmapgl": [
           {
            "colorbar": {
             "outlinewidth": 0,
             "ticks": ""
            },
            "colorscale": [
             [
              0,
              "#0d0887"
             ],
             [
              0.1111111111111111,
              "#46039f"
             ],
             [
              0.2222222222222222,
              "#7201a8"
             ],
             [
              0.3333333333333333,
              "#9c179e"
             ],
             [
              0.4444444444444444,
              "#bd3786"
             ],
             [
              0.5555555555555556,
              "#d8576b"
             ],
             [
              0.6666666666666666,
              "#ed7953"
             ],
             [
              0.7777777777777778,
              "#fb9f3a"
             ],
             [
              0.8888888888888888,
              "#fdca26"
             ],
             [
              1,
              "#f0f921"
             ]
            ],
            "type": "heatmapgl"
           }
          ],
          "histogram": [
           {
            "marker": {
             "colorbar": {
              "outlinewidth": 0,
              "ticks": ""
             }
            },
            "type": "histogram"
           }
          ],
          "histogram2d": [
           {
            "colorbar": {
             "outlinewidth": 0,
             "ticks": ""
            },
            "colorscale": [
             [
              0,
              "#0d0887"
             ],
             [
              0.1111111111111111,
              "#46039f"
             ],
             [
              0.2222222222222222,
              "#7201a8"
             ],
             [
              0.3333333333333333,
              "#9c179e"
             ],
             [
              0.4444444444444444,
              "#bd3786"
             ],
             [
              0.5555555555555556,
              "#d8576b"
             ],
             [
              0.6666666666666666,
              "#ed7953"
             ],
             [
              0.7777777777777778,
              "#fb9f3a"
             ],
             [
              0.8888888888888888,
              "#fdca26"
             ],
             [
              1,
              "#f0f921"
             ]
            ],
            "type": "histogram2d"
           }
          ],
          "histogram2dcontour": [
           {
            "colorbar": {
             "outlinewidth": 0,
             "ticks": ""
            },
            "colorscale": [
             [
              0,
              "#0d0887"
             ],
             [
              0.1111111111111111,
              "#46039f"
             ],
             [
              0.2222222222222222,
              "#7201a8"
             ],
             [
              0.3333333333333333,
              "#9c179e"
             ],
             [
              0.4444444444444444,
              "#bd3786"
             ],
             [
              0.5555555555555556,
              "#d8576b"
             ],
             [
              0.6666666666666666,
              "#ed7953"
             ],
             [
              0.7777777777777778,
              "#fb9f3a"
             ],
             [
              0.8888888888888888,
              "#fdca26"
             ],
             [
              1,
              "#f0f921"
             ]
            ],
            "type": "histogram2dcontour"
           }
          ],
          "mesh3d": [
           {
            "colorbar": {
             "outlinewidth": 0,
             "ticks": ""
            },
            "type": "mesh3d"
           }
          ],
          "parcoords": [
           {
            "line": {
             "colorbar": {
              "outlinewidth": 0,
              "ticks": ""
             }
            },
            "type": "parcoords"
           }
          ],
          "pie": [
           {
            "automargin": true,
            "type": "pie"
           }
          ],
          "scatter": [
           {
            "marker": {
             "colorbar": {
              "outlinewidth": 0,
              "ticks": ""
             }
            },
            "type": "scatter"
           }
          ],
          "scatter3d": [
           {
            "line": {
             "colorbar": {
              "outlinewidth": 0,
              "ticks": ""
             }
            },
            "marker": {
             "colorbar": {
              "outlinewidth": 0,
              "ticks": ""
             }
            },
            "type": "scatter3d"
           }
          ],
          "scattercarpet": [
           {
            "marker": {
             "colorbar": {
              "outlinewidth": 0,
              "ticks": ""
             }
            },
            "type": "scattercarpet"
           }
          ],
          "scattergeo": [
           {
            "marker": {
             "colorbar": {
              "outlinewidth": 0,
              "ticks": ""
             }
            },
            "type": "scattergeo"
           }
          ],
          "scattergl": [
           {
            "marker": {
             "colorbar": {
              "outlinewidth": 0,
              "ticks": ""
             }
            },
            "type": "scattergl"
           }
          ],
          "scattermapbox": [
           {
            "marker": {
             "colorbar": {
              "outlinewidth": 0,
              "ticks": ""
             }
            },
            "type": "scattermapbox"
           }
          ],
          "scatterpolar": [
           {
            "marker": {
             "colorbar": {
              "outlinewidth": 0,
              "ticks": ""
             }
            },
            "type": "scatterpolar"
           }
          ],
          "scatterpolargl": [
           {
            "marker": {
             "colorbar": {
              "outlinewidth": 0,
              "ticks": ""
             }
            },
            "type": "scatterpolargl"
           }
          ],
          "scatterternary": [
           {
            "marker": {
             "colorbar": {
              "outlinewidth": 0,
              "ticks": ""
             }
            },
            "type": "scatterternary"
           }
          ],
          "surface": [
           {
            "colorbar": {
             "outlinewidth": 0,
             "ticks": ""
            },
            "colorscale": [
             [
              0,
              "#0d0887"
             ],
             [
              0.1111111111111111,
              "#46039f"
             ],
             [
              0.2222222222222222,
              "#7201a8"
             ],
             [
              0.3333333333333333,
              "#9c179e"
             ],
             [
              0.4444444444444444,
              "#bd3786"
             ],
             [
              0.5555555555555556,
              "#d8576b"
             ],
             [
              0.6666666666666666,
              "#ed7953"
             ],
             [
              0.7777777777777778,
              "#fb9f3a"
             ],
             [
              0.8888888888888888,
              "#fdca26"
             ],
             [
              1,
              "#f0f921"
             ]
            ],
            "type": "surface"
           }
          ],
          "table": [
           {
            "cells": {
             "fill": {
              "color": "#EBF0F8"
             },
             "line": {
              "color": "white"
             }
            },
            "header": {
             "fill": {
              "color": "#C8D4E3"
             },
             "line": {
              "color": "white"
             }
            },
            "type": "table"
           }
          ]
         },
         "layout": {
          "annotationdefaults": {
           "arrowcolor": "#2a3f5f",
           "arrowhead": 0,
           "arrowwidth": 1
          },
          "coloraxis": {
           "colorbar": {
            "outlinewidth": 0,
            "ticks": ""
           }
          },
          "colorscale": {
           "diverging": [
            [
             0,
             "#8e0152"
            ],
            [
             0.1,
             "#c51b7d"
            ],
            [
             0.2,
             "#de77ae"
            ],
            [
             0.3,
             "#f1b6da"
            ],
            [
             0.4,
             "#fde0ef"
            ],
            [
             0.5,
             "#f7f7f7"
            ],
            [
             0.6,
             "#e6f5d0"
            ],
            [
             0.7,
             "#b8e186"
            ],
            [
             0.8,
             "#7fbc41"
            ],
            [
             0.9,
             "#4d9221"
            ],
            [
             1,
             "#276419"
            ]
           ],
           "sequential": [
            [
             0,
             "#0d0887"
            ],
            [
             0.1111111111111111,
             "#46039f"
            ],
            [
             0.2222222222222222,
             "#7201a8"
            ],
            [
             0.3333333333333333,
             "#9c179e"
            ],
            [
             0.4444444444444444,
             "#bd3786"
            ],
            [
             0.5555555555555556,
             "#d8576b"
            ],
            [
             0.6666666666666666,
             "#ed7953"
            ],
            [
             0.7777777777777778,
             "#fb9f3a"
            ],
            [
             0.8888888888888888,
             "#fdca26"
            ],
            [
             1,
             "#f0f921"
            ]
           ],
           "sequentialminus": [
            [
             0,
             "#0d0887"
            ],
            [
             0.1111111111111111,
             "#46039f"
            ],
            [
             0.2222222222222222,
             "#7201a8"
            ],
            [
             0.3333333333333333,
             "#9c179e"
            ],
            [
             0.4444444444444444,
             "#bd3786"
            ],
            [
             0.5555555555555556,
             "#d8576b"
            ],
            [
             0.6666666666666666,
             "#ed7953"
            ],
            [
             0.7777777777777778,
             "#fb9f3a"
            ],
            [
             0.8888888888888888,
             "#fdca26"
            ],
            [
             1,
             "#f0f921"
            ]
           ]
          },
          "colorway": [
           "#636efa",
           "#EF553B",
           "#00cc96",
           "#ab63fa",
           "#FFA15A",
           "#19d3f3",
           "#FF6692",
           "#B6E880",
           "#FF97FF",
           "#FECB52"
          ],
          "font": {
           "color": "#2a3f5f"
          },
          "geo": {
           "bgcolor": "white",
           "lakecolor": "white",
           "landcolor": "#E5ECF6",
           "showlakes": true,
           "showland": true,
           "subunitcolor": "white"
          },
          "hoverlabel": {
           "align": "left"
          },
          "hovermode": "closest",
          "mapbox": {
           "style": "light"
          },
          "paper_bgcolor": "white",
          "plot_bgcolor": "#E5ECF6",
          "polar": {
           "angularaxis": {
            "gridcolor": "white",
            "linecolor": "white",
            "ticks": ""
           },
           "bgcolor": "#E5ECF6",
           "radialaxis": {
            "gridcolor": "white",
            "linecolor": "white",
            "ticks": ""
           }
          },
          "scene": {
           "xaxis": {
            "backgroundcolor": "#E5ECF6",
            "gridcolor": "white",
            "gridwidth": 2,
            "linecolor": "white",
            "showbackground": true,
            "ticks": "",
            "zerolinecolor": "white"
           },
           "yaxis": {
            "backgroundcolor": "#E5ECF6",
            "gridcolor": "white",
            "gridwidth": 2,
            "linecolor": "white",
            "showbackground": true,
            "ticks": "",
            "zerolinecolor": "white"
           },
           "zaxis": {
            "backgroundcolor": "#E5ECF6",
            "gridcolor": "white",
            "gridwidth": 2,
            "linecolor": "white",
            "showbackground": true,
            "ticks": "",
            "zerolinecolor": "white"
           }
          },
          "shapedefaults": {
           "line": {
            "color": "#2a3f5f"
           }
          },
          "ternary": {
           "aaxis": {
            "gridcolor": "white",
            "linecolor": "white",
            "ticks": ""
           },
           "baxis": {
            "gridcolor": "white",
            "linecolor": "white",
            "ticks": ""
           },
           "bgcolor": "#E5ECF6",
           "caxis": {
            "gridcolor": "white",
            "linecolor": "white",
            "ticks": ""
           }
          },
          "title": {
           "x": 0.05
          },
          "xaxis": {
           "automargin": true,
           "gridcolor": "white",
           "linecolor": "white",
           "ticks": "",
           "title": {
            "standoff": 15
           },
           "zerolinecolor": "white",
           "zerolinewidth": 2
          },
          "yaxis": {
           "automargin": true,
           "gridcolor": "white",
           "linecolor": "white",
           "ticks": "",
           "title": {
            "standoff": 15
           },
           "zerolinecolor": "white",
           "zerolinewidth": 2
          }
         }
        },
        "title": {
         "font": {
          "color": "#4D5663"
         }
        },
        "xaxis": {
         "anchor": "y",
         "domain": [
          0,
          0.2125
         ],
         "gridcolor": "#E1E5ED",
         "showgrid": false,
         "tickfont": {
          "color": "#4D5663"
         },
         "title": {
          "font": {
           "color": "#4D5663"
          },
          "text": ""
         },
         "zerolinecolor": "#E1E5ED"
        },
        "xaxis10": {
         "anchor": "y10",
         "domain": [
          0.2625,
          0.475
         ],
         "gridcolor": "#E1E5ED",
         "showgrid": false,
         "tickfont": {
          "color": "#4D5663"
         },
         "title": {
          "font": {
           "color": "#4D5663"
          },
          "text": ""
         },
         "zerolinecolor": "#E1E5ED"
        },
        "xaxis11": {
         "anchor": "y11",
         "domain": [
          0.525,
          0.7375
         ],
         "gridcolor": "#E1E5ED",
         "showgrid": false,
         "tickfont": {
          "color": "#4D5663"
         },
         "title": {
          "font": {
           "color": "#4D5663"
          },
          "text": ""
         },
         "zerolinecolor": "#E1E5ED"
        },
        "xaxis12": {
         "anchor": "y12",
         "domain": [
          0.7875,
          1
         ],
         "gridcolor": "#E1E5ED",
         "showgrid": false,
         "tickfont": {
          "color": "#4D5663"
         },
         "title": {
          "font": {
           "color": "#4D5663"
          },
          "text": ""
         },
         "zerolinecolor": "#E1E5ED"
        },
        "xaxis13": {
         "anchor": "y13",
         "domain": [
          0,
          0.2125
         ],
         "gridcolor": "#E1E5ED",
         "showgrid": false,
         "tickfont": {
          "color": "#4D5663"
         },
         "title": {
          "font": {
           "color": "#4D5663"
          },
          "text": ""
         },
         "zerolinecolor": "#E1E5ED"
        },
        "xaxis14": {
         "anchor": "y14",
         "domain": [
          0.2625,
          0.475
         ],
         "gridcolor": "#E1E5ED",
         "showgrid": false,
         "tickfont": {
          "color": "#4D5663"
         },
         "title": {
          "font": {
           "color": "#4D5663"
          },
          "text": ""
         },
         "zerolinecolor": "#E1E5ED"
        },
        "xaxis15": {
         "anchor": "y15",
         "domain": [
          0.525,
          0.7375
         ],
         "gridcolor": "#E1E5ED",
         "showgrid": false,
         "tickfont": {
          "color": "#4D5663"
         },
         "title": {
          "font": {
           "color": "#4D5663"
          },
          "text": ""
         },
         "zerolinecolor": "#E1E5ED"
        },
        "xaxis16": {
         "anchor": "y16",
         "domain": [
          0.7875,
          1
         ],
         "gridcolor": "#E1E5ED",
         "showgrid": false,
         "tickfont": {
          "color": "#4D5663"
         },
         "title": {
          "font": {
           "color": "#4D5663"
          },
          "text": ""
         },
         "zerolinecolor": "#E1E5ED"
        },
        "xaxis2": {
         "anchor": "y2",
         "domain": [
          0.2625,
          0.475
         ],
         "gridcolor": "#E1E5ED",
         "showgrid": false,
         "tickfont": {
          "color": "#4D5663"
         },
         "title": {
          "font": {
           "color": "#4D5663"
          },
          "text": ""
         },
         "zerolinecolor": "#E1E5ED"
        },
        "xaxis3": {
         "anchor": "y3",
         "domain": [
          0.525,
          0.7375
         ],
         "gridcolor": "#E1E5ED",
         "showgrid": false,
         "tickfont": {
          "color": "#4D5663"
         },
         "title": {
          "font": {
           "color": "#4D5663"
          },
          "text": ""
         },
         "zerolinecolor": "#E1E5ED"
        },
        "xaxis4": {
         "anchor": "y4",
         "domain": [
          0.7875,
          1
         ],
         "gridcolor": "#E1E5ED",
         "showgrid": false,
         "tickfont": {
          "color": "#4D5663"
         },
         "title": {
          "font": {
           "color": "#4D5663"
          },
          "text": ""
         },
         "zerolinecolor": "#E1E5ED"
        },
        "xaxis5": {
         "anchor": "y5",
         "domain": [
          0,
          0.2125
         ],
         "gridcolor": "#E1E5ED",
         "showgrid": false,
         "tickfont": {
          "color": "#4D5663"
         },
         "title": {
          "font": {
           "color": "#4D5663"
          },
          "text": ""
         },
         "zerolinecolor": "#E1E5ED"
        },
        "xaxis6": {
         "anchor": "y6",
         "domain": [
          0.2625,
          0.475
         ],
         "gridcolor": "#E1E5ED",
         "showgrid": false,
         "tickfont": {
          "color": "#4D5663"
         },
         "title": {
          "font": {
           "color": "#4D5663"
          },
          "text": ""
         },
         "zerolinecolor": "#E1E5ED"
        },
        "xaxis7": {
         "anchor": "y7",
         "domain": [
          0.525,
          0.7375
         ],
         "gridcolor": "#E1E5ED",
         "showgrid": false,
         "tickfont": {
          "color": "#4D5663"
         },
         "title": {
          "font": {
           "color": "#4D5663"
          },
          "text": ""
         },
         "zerolinecolor": "#E1E5ED"
        },
        "xaxis8": {
         "anchor": "y8",
         "domain": [
          0.7875,
          1
         ],
         "gridcolor": "#E1E5ED",
         "showgrid": false,
         "tickfont": {
          "color": "#4D5663"
         },
         "title": {
          "font": {
           "color": "#4D5663"
          },
          "text": ""
         },
         "zerolinecolor": "#E1E5ED"
        },
        "xaxis9": {
         "anchor": "y9",
         "domain": [
          0,
          0.2125
         ],
         "gridcolor": "#E1E5ED",
         "showgrid": false,
         "tickfont": {
          "color": "#4D5663"
         },
         "title": {
          "font": {
           "color": "#4D5663"
          },
          "text": ""
         },
         "zerolinecolor": "#E1E5ED"
        },
        "yaxis": {
         "anchor": "x",
         "domain": [
          0.8025,
          1
         ],
         "gridcolor": "#E1E5ED",
         "showgrid": false,
         "tickfont": {
          "color": "#4D5663"
         },
         "title": {
          "font": {
           "color": "#4D5663"
          },
          "text": ""
         },
         "zerolinecolor": "#E1E5ED"
        },
        "yaxis10": {
         "anchor": "x10",
         "domain": [
          0.2675,
          0.465
         ],
         "gridcolor": "#E1E5ED",
         "showgrid": false,
         "tickfont": {
          "color": "#4D5663"
         },
         "title": {
          "font": {
           "color": "#4D5663"
          },
          "text": ""
         },
         "zerolinecolor": "#E1E5ED"
        },
        "yaxis11": {
         "anchor": "x11",
         "domain": [
          0.2675,
          0.465
         ],
         "gridcolor": "#E1E5ED",
         "showgrid": false,
         "tickfont": {
          "color": "#4D5663"
         },
         "title": {
          "font": {
           "color": "#4D5663"
          },
          "text": ""
         },
         "zerolinecolor": "#E1E5ED"
        },
        "yaxis12": {
         "anchor": "x12",
         "domain": [
          0.2675,
          0.465
         ],
         "gridcolor": "#E1E5ED",
         "showgrid": false,
         "tickfont": {
          "color": "#4D5663"
         },
         "title": {
          "font": {
           "color": "#4D5663"
          },
          "text": ""
         },
         "zerolinecolor": "#E1E5ED"
        },
        "yaxis13": {
         "anchor": "x13",
         "domain": [
          0,
          0.1975
         ],
         "gridcolor": "#E1E5ED",
         "showgrid": false,
         "tickfont": {
          "color": "#4D5663"
         },
         "title": {
          "font": {
           "color": "#4D5663"
          },
          "text": ""
         },
         "zerolinecolor": "#E1E5ED"
        },
        "yaxis14": {
         "anchor": "x14",
         "domain": [
          0,
          0.1975
         ],
         "gridcolor": "#E1E5ED",
         "showgrid": false,
         "tickfont": {
          "color": "#4D5663"
         },
         "title": {
          "font": {
           "color": "#4D5663"
          },
          "text": ""
         },
         "zerolinecolor": "#E1E5ED"
        },
        "yaxis15": {
         "anchor": "x15",
         "domain": [
          0,
          0.1975
         ],
         "gridcolor": "#E1E5ED",
         "showgrid": false,
         "tickfont": {
          "color": "#4D5663"
         },
         "title": {
          "font": {
           "color": "#4D5663"
          },
          "text": ""
         },
         "zerolinecolor": "#E1E5ED"
        },
        "yaxis16": {
         "anchor": "x16",
         "domain": [
          0,
          0.1975
         ],
         "gridcolor": "#E1E5ED",
         "showgrid": false,
         "tickfont": {
          "color": "#4D5663"
         },
         "title": {
          "font": {
           "color": "#4D5663"
          },
          "text": ""
         },
         "zerolinecolor": "#E1E5ED"
        },
        "yaxis2": {
         "anchor": "x2",
         "domain": [
          0.8025,
          1
         ],
         "gridcolor": "#E1E5ED",
         "showgrid": false,
         "tickfont": {
          "color": "#4D5663"
         },
         "title": {
          "font": {
           "color": "#4D5663"
          },
          "text": ""
         },
         "zerolinecolor": "#E1E5ED"
        },
        "yaxis3": {
         "anchor": "x3",
         "domain": [
          0.8025,
          1
         ],
         "gridcolor": "#E1E5ED",
         "showgrid": false,
         "tickfont": {
          "color": "#4D5663"
         },
         "title": {
          "font": {
           "color": "#4D5663"
          },
          "text": ""
         },
         "zerolinecolor": "#E1E5ED"
        },
        "yaxis4": {
         "anchor": "x4",
         "domain": [
          0.8025,
          1
         ],
         "gridcolor": "#E1E5ED",
         "showgrid": false,
         "tickfont": {
          "color": "#4D5663"
         },
         "title": {
          "font": {
           "color": "#4D5663"
          },
          "text": ""
         },
         "zerolinecolor": "#E1E5ED"
        },
        "yaxis5": {
         "anchor": "x5",
         "domain": [
          0.535,
          0.7325
         ],
         "gridcolor": "#E1E5ED",
         "showgrid": false,
         "tickfont": {
          "color": "#4D5663"
         },
         "title": {
          "font": {
           "color": "#4D5663"
          },
          "text": ""
         },
         "zerolinecolor": "#E1E5ED"
        },
        "yaxis6": {
         "anchor": "x6",
         "domain": [
          0.535,
          0.7325
         ],
         "gridcolor": "#E1E5ED",
         "showgrid": false,
         "tickfont": {
          "color": "#4D5663"
         },
         "title": {
          "font": {
           "color": "#4D5663"
          },
          "text": ""
         },
         "zerolinecolor": "#E1E5ED"
        },
        "yaxis7": {
         "anchor": "x7",
         "domain": [
          0.535,
          0.7325
         ],
         "gridcolor": "#E1E5ED",
         "showgrid": false,
         "tickfont": {
          "color": "#4D5663"
         },
         "title": {
          "font": {
           "color": "#4D5663"
          },
          "text": ""
         },
         "zerolinecolor": "#E1E5ED"
        },
        "yaxis8": {
         "anchor": "x8",
         "domain": [
          0.535,
          0.7325
         ],
         "gridcolor": "#E1E5ED",
         "showgrid": false,
         "tickfont": {
          "color": "#4D5663"
         },
         "title": {
          "font": {
           "color": "#4D5663"
          },
          "text": ""
         },
         "zerolinecolor": "#E1E5ED"
        },
        "yaxis9": {
         "anchor": "x9",
         "domain": [
          0.2675,
          0.465
         ],
         "gridcolor": "#E1E5ED",
         "showgrid": false,
         "tickfont": {
          "color": "#4D5663"
         },
         "title": {
          "font": {
           "color": "#4D5663"
          },
          "text": ""
         },
         "zerolinecolor": "#E1E5ED"
        }
       }
      },
      "text/html": [
       "<div>\n",
       "        \n",
       "        \n",
       "            <div id=\"0319e0e0-6211-4cd6-b3e7-c443da0fcc5a\" class=\"plotly-graph-div\" style=\"height:525px; width:100%;\"></div>\n",
       "            <script type=\"text/javascript\">\n",
       "                require([\"plotly\"], function(Plotly) {\n",
       "                    window.PLOTLYENV=window.PLOTLYENV || {};\n",
       "                    window.PLOTLYENV.BASE_URL='https://plot.ly';\n",
       "                    \n",
       "                if (document.getElementById(\"0319e0e0-6211-4cd6-b3e7-c443da0fcc5a\")) {\n",
       "                    Plotly.newPlot(\n",
       "                        '0319e0e0-6211-4cd6-b3e7-c443da0fcc5a',\n",
       "                        [{\"histfunc\": \"count\", \"histnorm\": \"\", \"marker\": {\"color\": \"rgba(255, 153, 51, 1.0)\", \"line\": {\"color\": \"#4D5663\", \"width\": 1.3}}, \"name\": \"A\", \"nbinsx\": 10, \"opacity\": 0.8, \"orientation\": \"v\", \"type\": \"histogram\", \"x\": [-0.29643740889399095, 0.32868435515730043, 1.7461416496086142, -0.24004567607313979, 0.13879213518446365, 0.5535216967030455, -0.5654788153613118, 1.4745095081896062, 0.24599950755732192, -1.2056020605811952, 1.1064580688514372, 1.2560715526922155, 0.9370673363805552, -0.3035228949304509, 0.8173073261565816, -1.049133286502186, 0.8206309550571658, 0.4257464010855425, -0.204969188764631, -0.49515630325678384, -0.46557478153402304, -0.7100122999382016, 0.5038367695493804, 0.6095718122464268, -0.9665021599071422, -1.941392438441163, -0.4410063758400523, 0.03245090999579194, 0.1343061826488072, 0.5107365179921368, -0.3148389852787225, -0.3475463838805427, 0.38918681250649434, -0.5878571849206334, 0.18237827278071525, 0.8139831276610341, -0.3044351308280057, 0.7856674253493616, 0.3511107651142644, 0.4991054778015313, 1.8905790693628632, -0.36064056808190237, -0.20806458226915128, 1.1251468281191688, -2.126253635634463, -0.6012651762207218, -0.4332096922576356, 0.5936193398160595, -1.8610576096155729, -0.6848069423978584, -0.1741312896553701, -0.036689001873205666, -0.17997951544796514, 1.0197180801187515, -1.066533298890777, -0.9114780950624539, -0.11932825824118615, 1.402067892564673, -0.086837270558958, 0.463224533101115, 1.1851504359883962, -0.974581228669598, 0.5172927499818978, -0.019078919866214714, 1.6757029533305858, -0.7739305807934194, 0.49975487039061167, 2.431023967741468, 0.5156404761815808, -2.2967795329006546, -1.0552189283244984, 0.12688409298548323, -1.677072780155331, -0.8594495959629678, -0.4444344655352142, -1.2167733442412334, 0.38604138505028, 1.0138946898474628, 0.14697818534804966, 1.9761709653128225, 0.8272009540730214, -0.3939697404040883, 0.6354964151979149, -0.4806868089713751, 0.8576277591041233, -0.5114800988431405, -0.5184321876913844, 0.8927289941236105, -0.13572637194054665, 0.9993000128725914, 0.9321656254505977, 0.1462909328841926, 1.318253885597681, -1.2340506320852325, 0.5166974940232978, -0.00888755926616613, 0.2571741481342909, 0.6922229079065875, 0.6538799136667284, 0.9128588038964904], \"xaxis\": \"x\", \"yaxis\": \"y\"}, {\"line\": {\"color\": \"rgba(128, 128, 128, 1.0)\", \"dash\": \"solid\", \"shape\": \"linear\", \"width\": 1.3}, \"marker\": {\"size\": 2, \"symbol\": \"circle\"}, \"mode\": \"markers\", \"name\": \"A\", \"text\": \"\", \"type\": \"scatter\", \"x\": [0.07900847452249811, -0.9122677191922264, 0.3112574668049616, 1.7728983810125845, -0.46509577776202565, -0.8500736939519596, 0.09604825979531327, -1.6741323641529193, 0.3654389760932509, -0.396636210544783, -0.39935846585434787, -2.072144060438098, -0.9592798926978057, 1.009429267180827, 1.4347810916763082, 1.2238156048083508, -0.2539894869632165, -0.03462226412381225, 1.5213228468514988, -0.16020138184502902, 1.1012259404213742, -1.7925797528858496, 1.3515348090377433, -1.2785375474729208, -0.9450429616882644, -0.3565619797841725, -0.526895547025469, -0.29703925347581567, 0.470679346499512, -0.21965139430373848, -0.277572241034337, 1.6757739473793847, -0.6844213119094037, 2.5467128090186346, 0.3092940280081921, 0.36706217813011577, 0.3620155081208797, -1.0693211361043422, -0.32058523850796067, 0.34172741616987756, -1.013975596657667, -0.330584333129899, 2.354552575307552, 0.2222715205421336, -0.24491641424236923, 0.08652389492069956, -0.6661046551013905, -0.5684243647771562, -0.16815681870593208, 0.5451732559293533, -0.7003127063854502, -2.0991552130751163, -0.8805818658707721, 1.1181512595690717, -1.8236861113099427, -1.109326462564337, 0.8850844170534031, -0.15140124010444625, 2.089817025595409, -1.1412646577928676, 0.5130786272975839, 0.802315702090518, 0.8227263767426035, -0.4211094361933707, 0.3188905388362875, -0.27597929718394765, 1.4894104428242139, 1.0154933954044825, 0.9032711654013391, 1.4822651315059352, 0.5187114432149854, 1.7355646462196677, -1.0622908954228063, -0.41376365210767657, -0.4752312118552798, 0.25271611250132825, 0.11808813566547226, -1.4190087109867906, -1.099413224707759, -0.8227951494886859, 1.0404839507698609, -0.3836115958841534, -0.36668922503310136, -0.9641263348806826, -1.4158392346294928, -0.5832744046678073, -0.2507105982209403, -0.519634303248391, 1.3501586378007053, 0.3645687598665697, -2.2309271526923697, -2.2570879544856224, 0.681349780667486, 0.005462937664764124, 0.08378619913036302, -0.18127299340078432, 0.5088984930410607, -0.12613393601230247, -1.067492178711451, -0.5060295021572043], \"xaxis\": \"x2\", \"y\": [-0.29643740889399095, 0.32868435515730043, 1.7461416496086142, -0.24004567607313979, 0.13879213518446365, 0.5535216967030455, -0.5654788153613118, 1.4745095081896062, 0.24599950755732192, -1.2056020605811952, 1.1064580688514372, 1.2560715526922155, 0.9370673363805552, -0.3035228949304509, 0.8173073261565816, -1.049133286502186, 0.8206309550571658, 0.4257464010855425, -0.204969188764631, -0.49515630325678384, -0.46557478153402304, -0.7100122999382016, 0.5038367695493804, 0.6095718122464268, -0.9665021599071422, -1.941392438441163, -0.4410063758400523, 0.03245090999579194, 0.1343061826488072, 0.5107365179921368, -0.3148389852787225, -0.3475463838805427, 0.38918681250649434, -0.5878571849206334, 0.18237827278071525, 0.8139831276610341, -0.3044351308280057, 0.7856674253493616, 0.3511107651142644, 0.4991054778015313, 1.8905790693628632, -0.36064056808190237, -0.20806458226915128, 1.1251468281191688, -2.126253635634463, -0.6012651762207218, -0.4332096922576356, 0.5936193398160595, -1.8610576096155729, -0.6848069423978584, -0.1741312896553701, -0.036689001873205666, -0.17997951544796514, 1.0197180801187515, -1.066533298890777, -0.9114780950624539, -0.11932825824118615, 1.402067892564673, -0.086837270558958, 0.463224533101115, 1.1851504359883962, -0.974581228669598, 0.5172927499818978, -0.019078919866214714, 1.6757029533305858, -0.7739305807934194, 0.49975487039061167, 2.431023967741468, 0.5156404761815808, -2.2967795329006546, -1.0552189283244984, 0.12688409298548323, -1.677072780155331, -0.8594495959629678, -0.4444344655352142, -1.2167733442412334, 0.38604138505028, 1.0138946898474628, 0.14697818534804966, 1.9761709653128225, 0.8272009540730214, -0.3939697404040883, 0.6354964151979149, -0.4806868089713751, 0.8576277591041233, -0.5114800988431405, -0.5184321876913844, 0.8927289941236105, -0.13572637194054665, 0.9993000128725914, 0.9321656254505977, 0.1462909328841926, 1.318253885597681, -1.2340506320852325, 0.5166974940232978, -0.00888755926616613, 0.2571741481342909, 0.6922229079065875, 0.6538799136667284, 0.9128588038964904], \"yaxis\": \"y2\"}, {\"line\": {\"color\": \"rgba(128, 128, 128, 1.0)\", \"dash\": \"solid\", \"shape\": \"linear\", \"width\": 1.3}, \"marker\": {\"size\": 2, \"symbol\": \"circle\"}, \"mode\": \"markers\", \"name\": \"A\", \"text\": \"\", \"type\": \"scatter\", \"x\": [-2.082536450037159, 0.4530885734493977, 0.20368255482972464, -0.11410210494040066, 0.9097221682459405, -0.8124687427534877, -0.04394856956103083, -1.3898815193955492, -0.6730283521267469, 0.9710262569675199, 0.6092169118869817, -1.3247206547352244, -0.07200984094198348, -0.5320596003255887, -0.6071182537136549, 0.28298242695004133, 1.63632526309187, 1.0294894762981734, -2.598167383257435, 0.3829917344907664, -0.6620995374039768, -0.9164544290894261, -0.37641207505841523, -0.2140812028091623, 1.0403004629352373, 0.013754261202669841, -0.11846076703469682, 0.05472789505244479, 0.10623667600373886, -0.8545237287235011, -1.1708497525244947, -0.27131830533754325, -0.22535982308023256, -1.3447252263839728, -0.41807562706583196, 1.2493497869065369, -0.5395003359202906, -0.7624552405671609, -0.9335351324491997, -1.0963685782091142, -0.3536412279699341, -0.3849969634217031, 0.07428523611314422, 1.4991552476169723, -0.33506365200787885, -0.8219627314382575, -0.4953023034617673, 0.08523788170533084, 1.5084160092494383, 1.7963092363922457, 1.1728382366622965, 0.48485723394089514, 1.7468799720150323, 1.5189711102482275, -1.1664494631942486, -2.2913657866096773, -0.3299704581773067, -1.1534585368601673, 0.7656904090654282, 0.44283027488713855, -0.1040571038335075, -0.276270474433488, -0.9945292237620192, -1.499912996254741, 0.919787940429676, 0.7686444756534595, 0.058904634607023214, 1.3474207437068821, -0.2720776816770924, -0.7151513006884775, -0.8903138637651425, -1.70098828519413, -0.17754240606948118, -0.3412618440868006, 0.6499902497102859, -0.34489224664736123, -0.16364794579924147, -1.1152717273991877, -2.528935755716908, -0.8416192276955796, 1.3736354101460175, -0.43358110720911136, 1.160213503832953, -1.9187822614454753, 0.5378621118596505, -1.916783003862183, 0.5923333076940671, 2.154002809219566, -0.8515515238941631, -0.011689196634959891, 1.194010353209449, -0.7635630999241817, 1.2365882147112732, -0.7070793585110973, -0.22063555297800275, -0.3633187493772641, 1.7437001406301145, -0.44506494452413514, -0.27890048827484115, -1.0443773777891348], \"xaxis\": \"x3\", \"y\": [-0.29643740889399095, 0.32868435515730043, 1.7461416496086142, -0.24004567607313979, 0.13879213518446365, 0.5535216967030455, -0.5654788153613118, 1.4745095081896062, 0.24599950755732192, -1.2056020605811952, 1.1064580688514372, 1.2560715526922155, 0.9370673363805552, -0.3035228949304509, 0.8173073261565816, -1.049133286502186, 0.8206309550571658, 0.4257464010855425, -0.204969188764631, -0.49515630325678384, -0.46557478153402304, -0.7100122999382016, 0.5038367695493804, 0.6095718122464268, -0.9665021599071422, -1.941392438441163, -0.4410063758400523, 0.03245090999579194, 0.1343061826488072, 0.5107365179921368, -0.3148389852787225, -0.3475463838805427, 0.38918681250649434, -0.5878571849206334, 0.18237827278071525, 0.8139831276610341, -0.3044351308280057, 0.7856674253493616, 0.3511107651142644, 0.4991054778015313, 1.8905790693628632, -0.36064056808190237, -0.20806458226915128, 1.1251468281191688, -2.126253635634463, -0.6012651762207218, -0.4332096922576356, 0.5936193398160595, -1.8610576096155729, -0.6848069423978584, -0.1741312896553701, -0.036689001873205666, -0.17997951544796514, 1.0197180801187515, -1.066533298890777, -0.9114780950624539, -0.11932825824118615, 1.402067892564673, -0.086837270558958, 0.463224533101115, 1.1851504359883962, -0.974581228669598, 0.5172927499818978, -0.019078919866214714, 1.6757029533305858, -0.7739305807934194, 0.49975487039061167, 2.431023967741468, 0.5156404761815808, -2.2967795329006546, -1.0552189283244984, 0.12688409298548323, -1.677072780155331, -0.8594495959629678, -0.4444344655352142, -1.2167733442412334, 0.38604138505028, 1.0138946898474628, 0.14697818534804966, 1.9761709653128225, 0.8272009540730214, -0.3939697404040883, 0.6354964151979149, -0.4806868089713751, 0.8576277591041233, -0.5114800988431405, -0.5184321876913844, 0.8927289941236105, -0.13572637194054665, 0.9993000128725914, 0.9321656254505977, 0.1462909328841926, 1.318253885597681, -1.2340506320852325, 0.5166974940232978, -0.00888755926616613, 0.2571741481342909, 0.6922229079065875, 0.6538799136667284, 0.9128588038964904], \"yaxis\": \"y3\"}, {\"line\": {\"color\": \"rgba(128, 128, 128, 1.0)\", \"dash\": \"solid\", \"shape\": \"linear\", \"width\": 1.3}, \"marker\": {\"size\": 2, \"symbol\": \"circle\"}, \"mode\": \"markers\", \"name\": \"A\", \"text\": \"\", \"type\": \"scatter\", \"x\": [-0.24018330689564246, -1.0587131429233398, -0.4293280149834754, 0.06200827489208058, -0.9433057505753424, 0.7006495476245426, 2.282976311898684, -0.25942855388142705, -0.2327220428419129, -0.21528004940086895, -0.07813024134206867, 0.8344238156442767, 0.3320735871036728, 0.6826658544762765, -1.824760091048321, -1.331543826487938, 0.4098731091090183, -1.302231125570441, 0.045133884284845265, 1.2342818672139926, -0.4160006653024965, -0.5835182231509705, -0.3409247497329795, 0.4436159865585294, 0.605611330232476, 0.5079343464518948, 1.6131484978417183, -1.1475984862833866, 0.3126085481370072, 0.39221529855000725, 1.7188250552535065, -0.024079149309831446, -0.8004062712812569, 0.3576312569431447, -0.8167531426602717, 0.6414400366704491, -0.3197021592125468, 0.24927432151889684, -3.3681877800502216, -1.3829477210171144, -0.5086578218916982, 0.24676272247000952, 0.6498392686864897, -0.06442778398749202, -1.7210796072924515, -3.8145800818329336, -0.5243137551743628, -0.2480735134007949, -1.0303811948414303, -0.6582084176412066, 0.2447273973850182, 1.3267344334536006, -0.5004008441851997, -0.04128827205640335, -0.9096544537431411, 0.0017297036760680774, -0.12551121360032497, 2.1423599662252593, 0.04533013822669366, -0.04209048803932449, 1.6258582538032196, 0.24193560864083252, 1.0879083880847336, 1.8069480991811726, 0.05017187085668021, 1.4073658228169623, -0.5364011911093954, 0.2374983194679982, 0.42836638520393794, 0.29767589763846175, -0.5571295038168838, -0.7416897075453166, 1.3653381215211753, -2.776032923587767, 0.605923858055208, 0.7580382056973495, -1.1888303431659015, -0.044081879349680456, 1.8875154145859385, -0.9084022557596733, 2.2142328715251467, 1.4010475661686914, 0.3149658866967026, -1.881057963057145, 1.4964111873829589, 1.0157784694324463, 0.9160270219461122, 1.6261321246758507, -0.780663353807255, -0.5387343934229627, 0.2452130883745721, -1.1469700221839194, -1.248426145507741, 0.5428776176733583, 0.353893576786481, 0.38881196115397676, -0.023283625587178006, 1.113803263813739, 0.5061512293271354, -1.2767416114937513], \"xaxis\": \"x4\", \"y\": [-0.29643740889399095, 0.32868435515730043, 1.7461416496086142, -0.24004567607313979, 0.13879213518446365, 0.5535216967030455, -0.5654788153613118, 1.4745095081896062, 0.24599950755732192, -1.2056020605811952, 1.1064580688514372, 1.2560715526922155, 0.9370673363805552, -0.3035228949304509, 0.8173073261565816, -1.049133286502186, 0.8206309550571658, 0.4257464010855425, -0.204969188764631, -0.49515630325678384, -0.46557478153402304, -0.7100122999382016, 0.5038367695493804, 0.6095718122464268, -0.9665021599071422, -1.941392438441163, -0.4410063758400523, 0.03245090999579194, 0.1343061826488072, 0.5107365179921368, -0.3148389852787225, -0.3475463838805427, 0.38918681250649434, -0.5878571849206334, 0.18237827278071525, 0.8139831276610341, -0.3044351308280057, 0.7856674253493616, 0.3511107651142644, 0.4991054778015313, 1.8905790693628632, -0.36064056808190237, -0.20806458226915128, 1.1251468281191688, -2.126253635634463, -0.6012651762207218, -0.4332096922576356, 0.5936193398160595, -1.8610576096155729, -0.6848069423978584, -0.1741312896553701, -0.036689001873205666, -0.17997951544796514, 1.0197180801187515, -1.066533298890777, -0.9114780950624539, -0.11932825824118615, 1.402067892564673, -0.086837270558958, 0.463224533101115, 1.1851504359883962, -0.974581228669598, 0.5172927499818978, -0.019078919866214714, 1.6757029533305858, -0.7739305807934194, 0.49975487039061167, 2.431023967741468, 0.5156404761815808, -2.2967795329006546, -1.0552189283244984, 0.12688409298548323, -1.677072780155331, -0.8594495959629678, -0.4444344655352142, -1.2167733442412334, 0.38604138505028, 1.0138946898474628, 0.14697818534804966, 1.9761709653128225, 0.8272009540730214, -0.3939697404040883, 0.6354964151979149, -0.4806868089713751, 0.8576277591041233, -0.5114800988431405, -0.5184321876913844, 0.8927289941236105, -0.13572637194054665, 0.9993000128725914, 0.9321656254505977, 0.1462909328841926, 1.318253885597681, -1.2340506320852325, 0.5166974940232978, -0.00888755926616613, 0.2571741481342909, 0.6922229079065875, 0.6538799136667284, 0.9128588038964904], \"yaxis\": \"y4\"}, {\"line\": {\"color\": \"rgba(128, 128, 128, 1.0)\", \"dash\": \"solid\", \"shape\": \"linear\", \"width\": 1.3}, \"marker\": {\"size\": 2, \"symbol\": \"circle\"}, \"mode\": \"markers\", \"name\": \"B\", \"text\": \"\", \"type\": \"scatter\", \"x\": [-0.29643740889399095, 0.32868435515730043, 1.7461416496086142, -0.24004567607313979, 0.13879213518446365, 0.5535216967030455, -0.5654788153613118, 1.4745095081896062, 0.24599950755732192, -1.2056020605811952, 1.1064580688514372, 1.2560715526922155, 0.9370673363805552, -0.3035228949304509, 0.8173073261565816, -1.049133286502186, 0.8206309550571658, 0.4257464010855425, -0.204969188764631, -0.49515630325678384, -0.46557478153402304, -0.7100122999382016, 0.5038367695493804, 0.6095718122464268, -0.9665021599071422, -1.941392438441163, -0.4410063758400523, 0.03245090999579194, 0.1343061826488072, 0.5107365179921368, -0.3148389852787225, -0.3475463838805427, 0.38918681250649434, -0.5878571849206334, 0.18237827278071525, 0.8139831276610341, -0.3044351308280057, 0.7856674253493616, 0.3511107651142644, 0.4991054778015313, 1.8905790693628632, -0.36064056808190237, -0.20806458226915128, 1.1251468281191688, -2.126253635634463, -0.6012651762207218, -0.4332096922576356, 0.5936193398160595, -1.8610576096155729, -0.6848069423978584, -0.1741312896553701, -0.036689001873205666, -0.17997951544796514, 1.0197180801187515, -1.066533298890777, -0.9114780950624539, -0.11932825824118615, 1.402067892564673, -0.086837270558958, 0.463224533101115, 1.1851504359883962, -0.974581228669598, 0.5172927499818978, -0.019078919866214714, 1.6757029533305858, -0.7739305807934194, 0.49975487039061167, 2.431023967741468, 0.5156404761815808, -2.2967795329006546, -1.0552189283244984, 0.12688409298548323, -1.677072780155331, -0.8594495959629678, -0.4444344655352142, -1.2167733442412334, 0.38604138505028, 1.0138946898474628, 0.14697818534804966, 1.9761709653128225, 0.8272009540730214, -0.3939697404040883, 0.6354964151979149, -0.4806868089713751, 0.8576277591041233, -0.5114800988431405, -0.5184321876913844, 0.8927289941236105, -0.13572637194054665, 0.9993000128725914, 0.9321656254505977, 0.1462909328841926, 1.318253885597681, -1.2340506320852325, 0.5166974940232978, -0.00888755926616613, 0.2571741481342909, 0.6922229079065875, 0.6538799136667284, 0.9128588038964904], \"xaxis\": \"x5\", \"y\": [0.07900847452249811, -0.9122677191922264, 0.3112574668049616, 1.7728983810125845, -0.46509577776202565, -0.8500736939519596, 0.09604825979531327, -1.6741323641529193, 0.3654389760932509, -0.396636210544783, -0.39935846585434787, -2.072144060438098, -0.9592798926978057, 1.009429267180827, 1.4347810916763082, 1.2238156048083508, -0.2539894869632165, -0.03462226412381225, 1.5213228468514988, -0.16020138184502902, 1.1012259404213742, -1.7925797528858496, 1.3515348090377433, -1.2785375474729208, -0.9450429616882644, -0.3565619797841725, -0.526895547025469, -0.29703925347581567, 0.470679346499512, -0.21965139430373848, -0.277572241034337, 1.6757739473793847, -0.6844213119094037, 2.5467128090186346, 0.3092940280081921, 0.36706217813011577, 0.3620155081208797, -1.0693211361043422, -0.32058523850796067, 0.34172741616987756, -1.013975596657667, -0.330584333129899, 2.354552575307552, 0.2222715205421336, -0.24491641424236923, 0.08652389492069956, -0.6661046551013905, -0.5684243647771562, -0.16815681870593208, 0.5451732559293533, -0.7003127063854502, -2.0991552130751163, -0.8805818658707721, 1.1181512595690717, -1.8236861113099427, -1.109326462564337, 0.8850844170534031, -0.15140124010444625, 2.089817025595409, -1.1412646577928676, 0.5130786272975839, 0.802315702090518, 0.8227263767426035, -0.4211094361933707, 0.3188905388362875, -0.27597929718394765, 1.4894104428242139, 1.0154933954044825, 0.9032711654013391, 1.4822651315059352, 0.5187114432149854, 1.7355646462196677, -1.0622908954228063, -0.41376365210767657, -0.4752312118552798, 0.25271611250132825, 0.11808813566547226, -1.4190087109867906, -1.099413224707759, -0.8227951494886859, 1.0404839507698609, -0.3836115958841534, -0.36668922503310136, -0.9641263348806826, -1.4158392346294928, -0.5832744046678073, -0.2507105982209403, -0.519634303248391, 1.3501586378007053, 0.3645687598665697, -2.2309271526923697, -2.2570879544856224, 0.681349780667486, 0.005462937664764124, 0.08378619913036302, -0.18127299340078432, 0.5088984930410607, -0.12613393601230247, -1.067492178711451, -0.5060295021572043], \"yaxis\": \"y5\"}, {\"histfunc\": \"count\", \"histnorm\": \"\", \"marker\": {\"color\": \"rgba(55, 128, 191, 1.0)\", \"line\": {\"color\": \"#4D5663\", \"width\": 1.3}}, \"name\": \"B\", \"nbinsx\": 10, \"opacity\": 0.8, \"orientation\": \"v\", \"type\": \"histogram\", \"x\": [0.07900847452249811, -0.9122677191922264, 0.3112574668049616, 1.7728983810125845, -0.46509577776202565, -0.8500736939519596, 0.09604825979531327, -1.6741323641529193, 0.3654389760932509, -0.396636210544783, -0.39935846585434787, -2.072144060438098, -0.9592798926978057, 1.009429267180827, 1.4347810916763082, 1.2238156048083508, -0.2539894869632165, -0.03462226412381225, 1.5213228468514988, -0.16020138184502902, 1.1012259404213742, -1.7925797528858496, 1.3515348090377433, -1.2785375474729208, -0.9450429616882644, -0.3565619797841725, -0.526895547025469, -0.29703925347581567, 0.470679346499512, -0.21965139430373848, -0.277572241034337, 1.6757739473793847, -0.6844213119094037, 2.5467128090186346, 0.3092940280081921, 0.36706217813011577, 0.3620155081208797, -1.0693211361043422, -0.32058523850796067, 0.34172741616987756, -1.013975596657667, -0.330584333129899, 2.354552575307552, 0.2222715205421336, -0.24491641424236923, 0.08652389492069956, -0.6661046551013905, -0.5684243647771562, -0.16815681870593208, 0.5451732559293533, -0.7003127063854502, -2.0991552130751163, -0.8805818658707721, 1.1181512595690717, -1.8236861113099427, -1.109326462564337, 0.8850844170534031, -0.15140124010444625, 2.089817025595409, -1.1412646577928676, 0.5130786272975839, 0.802315702090518, 0.8227263767426035, -0.4211094361933707, 0.3188905388362875, -0.27597929718394765, 1.4894104428242139, 1.0154933954044825, 0.9032711654013391, 1.4822651315059352, 0.5187114432149854, 1.7355646462196677, -1.0622908954228063, -0.41376365210767657, -0.4752312118552798, 0.25271611250132825, 0.11808813566547226, -1.4190087109867906, -1.099413224707759, -0.8227951494886859, 1.0404839507698609, -0.3836115958841534, -0.36668922503310136, -0.9641263348806826, -1.4158392346294928, -0.5832744046678073, -0.2507105982209403, -0.519634303248391, 1.3501586378007053, 0.3645687598665697, -2.2309271526923697, -2.2570879544856224, 0.681349780667486, 0.005462937664764124, 0.08378619913036302, -0.18127299340078432, 0.5088984930410607, -0.12613393601230247, -1.067492178711451, -0.5060295021572043], \"xaxis\": \"x6\", \"yaxis\": \"y6\"}, {\"line\": {\"color\": \"rgba(128, 128, 128, 1.0)\", \"dash\": \"solid\", \"shape\": \"linear\", \"width\": 1.3}, \"marker\": {\"size\": 2, \"symbol\": \"circle\"}, \"mode\": \"markers\", \"name\": \"B\", \"text\": \"\", \"type\": \"scatter\", \"x\": [-2.082536450037159, 0.4530885734493977, 0.20368255482972464, -0.11410210494040066, 0.9097221682459405, -0.8124687427534877, -0.04394856956103083, -1.3898815193955492, -0.6730283521267469, 0.9710262569675199, 0.6092169118869817, -1.3247206547352244, -0.07200984094198348, -0.5320596003255887, -0.6071182537136549, 0.28298242695004133, 1.63632526309187, 1.0294894762981734, -2.598167383257435, 0.3829917344907664, -0.6620995374039768, -0.9164544290894261, -0.37641207505841523, -0.2140812028091623, 1.0403004629352373, 0.013754261202669841, -0.11846076703469682, 0.05472789505244479, 0.10623667600373886, -0.8545237287235011, -1.1708497525244947, -0.27131830533754325, -0.22535982308023256, -1.3447252263839728, -0.41807562706583196, 1.2493497869065369, -0.5395003359202906, -0.7624552405671609, -0.9335351324491997, -1.0963685782091142, -0.3536412279699341, -0.3849969634217031, 0.07428523611314422, 1.4991552476169723, -0.33506365200787885, -0.8219627314382575, -0.4953023034617673, 0.08523788170533084, 1.5084160092494383, 1.7963092363922457, 1.1728382366622965, 0.48485723394089514, 1.7468799720150323, 1.5189711102482275, -1.1664494631942486, -2.2913657866096773, -0.3299704581773067, -1.1534585368601673, 0.7656904090654282, 0.44283027488713855, -0.1040571038335075, -0.276270474433488, -0.9945292237620192, -1.499912996254741, 0.919787940429676, 0.7686444756534595, 0.058904634607023214, 1.3474207437068821, -0.2720776816770924, -0.7151513006884775, -0.8903138637651425, -1.70098828519413, -0.17754240606948118, -0.3412618440868006, 0.6499902497102859, -0.34489224664736123, -0.16364794579924147, -1.1152717273991877, -2.528935755716908, -0.8416192276955796, 1.3736354101460175, -0.43358110720911136, 1.160213503832953, -1.9187822614454753, 0.5378621118596505, -1.916783003862183, 0.5923333076940671, 2.154002809219566, -0.8515515238941631, -0.011689196634959891, 1.194010353209449, -0.7635630999241817, 1.2365882147112732, -0.7070793585110973, -0.22063555297800275, -0.3633187493772641, 1.7437001406301145, -0.44506494452413514, -0.27890048827484115, -1.0443773777891348], \"xaxis\": \"x7\", \"y\": [0.07900847452249811, -0.9122677191922264, 0.3112574668049616, 1.7728983810125845, -0.46509577776202565, -0.8500736939519596, 0.09604825979531327, -1.6741323641529193, 0.3654389760932509, -0.396636210544783, -0.39935846585434787, -2.072144060438098, -0.9592798926978057, 1.009429267180827, 1.4347810916763082, 1.2238156048083508, -0.2539894869632165, -0.03462226412381225, 1.5213228468514988, -0.16020138184502902, 1.1012259404213742, -1.7925797528858496, 1.3515348090377433, -1.2785375474729208, -0.9450429616882644, -0.3565619797841725, -0.526895547025469, -0.29703925347581567, 0.470679346499512, -0.21965139430373848, -0.277572241034337, 1.6757739473793847, -0.6844213119094037, 2.5467128090186346, 0.3092940280081921, 0.36706217813011577, 0.3620155081208797, -1.0693211361043422, -0.32058523850796067, 0.34172741616987756, -1.013975596657667, -0.330584333129899, 2.354552575307552, 0.2222715205421336, -0.24491641424236923, 0.08652389492069956, -0.6661046551013905, -0.5684243647771562, -0.16815681870593208, 0.5451732559293533, -0.7003127063854502, -2.0991552130751163, -0.8805818658707721, 1.1181512595690717, -1.8236861113099427, -1.109326462564337, 0.8850844170534031, -0.15140124010444625, 2.089817025595409, -1.1412646577928676, 0.5130786272975839, 0.802315702090518, 0.8227263767426035, -0.4211094361933707, 0.3188905388362875, -0.27597929718394765, 1.4894104428242139, 1.0154933954044825, 0.9032711654013391, 1.4822651315059352, 0.5187114432149854, 1.7355646462196677, -1.0622908954228063, -0.41376365210767657, -0.4752312118552798, 0.25271611250132825, 0.11808813566547226, -1.4190087109867906, -1.099413224707759, -0.8227951494886859, 1.0404839507698609, -0.3836115958841534, -0.36668922503310136, -0.9641263348806826, -1.4158392346294928, -0.5832744046678073, -0.2507105982209403, -0.519634303248391, 1.3501586378007053, 0.3645687598665697, -2.2309271526923697, -2.2570879544856224, 0.681349780667486, 0.005462937664764124, 0.08378619913036302, -0.18127299340078432, 0.5088984930410607, -0.12613393601230247, -1.067492178711451, -0.5060295021572043], \"yaxis\": \"y7\"}, {\"line\": {\"color\": \"rgba(128, 128, 128, 1.0)\", \"dash\": \"solid\", \"shape\": \"linear\", \"width\": 1.3}, \"marker\": {\"size\": 2, \"symbol\": \"circle\"}, \"mode\": \"markers\", \"name\": \"B\", \"text\": \"\", \"type\": \"scatter\", \"x\": [-0.24018330689564246, -1.0587131429233398, -0.4293280149834754, 0.06200827489208058, -0.9433057505753424, 0.7006495476245426, 2.282976311898684, -0.25942855388142705, -0.2327220428419129, -0.21528004940086895, -0.07813024134206867, 0.8344238156442767, 0.3320735871036728, 0.6826658544762765, -1.824760091048321, -1.331543826487938, 0.4098731091090183, -1.302231125570441, 0.045133884284845265, 1.2342818672139926, -0.4160006653024965, -0.5835182231509705, -0.3409247497329795, 0.4436159865585294, 0.605611330232476, 0.5079343464518948, 1.6131484978417183, -1.1475984862833866, 0.3126085481370072, 0.39221529855000725, 1.7188250552535065, -0.024079149309831446, -0.8004062712812569, 0.3576312569431447, -0.8167531426602717, 0.6414400366704491, -0.3197021592125468, 0.24927432151889684, -3.3681877800502216, -1.3829477210171144, -0.5086578218916982, 0.24676272247000952, 0.6498392686864897, -0.06442778398749202, -1.7210796072924515, -3.8145800818329336, -0.5243137551743628, -0.2480735134007949, -1.0303811948414303, -0.6582084176412066, 0.2447273973850182, 1.3267344334536006, -0.5004008441851997, -0.04128827205640335, -0.9096544537431411, 0.0017297036760680774, -0.12551121360032497, 2.1423599662252593, 0.04533013822669366, -0.04209048803932449, 1.6258582538032196, 0.24193560864083252, 1.0879083880847336, 1.8069480991811726, 0.05017187085668021, 1.4073658228169623, -0.5364011911093954, 0.2374983194679982, 0.42836638520393794, 0.29767589763846175, -0.5571295038168838, -0.7416897075453166, 1.3653381215211753, -2.776032923587767, 0.605923858055208, 0.7580382056973495, -1.1888303431659015, -0.044081879349680456, 1.8875154145859385, -0.9084022557596733, 2.2142328715251467, 1.4010475661686914, 0.3149658866967026, -1.881057963057145, 1.4964111873829589, 1.0157784694324463, 0.9160270219461122, 1.6261321246758507, -0.780663353807255, -0.5387343934229627, 0.2452130883745721, -1.1469700221839194, -1.248426145507741, 0.5428776176733583, 0.353893576786481, 0.38881196115397676, -0.023283625587178006, 1.113803263813739, 0.5061512293271354, -1.2767416114937513], \"xaxis\": \"x8\", \"y\": [0.07900847452249811, -0.9122677191922264, 0.3112574668049616, 1.7728983810125845, -0.46509577776202565, -0.8500736939519596, 0.09604825979531327, -1.6741323641529193, 0.3654389760932509, -0.396636210544783, -0.39935846585434787, -2.072144060438098, -0.9592798926978057, 1.009429267180827, 1.4347810916763082, 1.2238156048083508, -0.2539894869632165, -0.03462226412381225, 1.5213228468514988, -0.16020138184502902, 1.1012259404213742, -1.7925797528858496, 1.3515348090377433, -1.2785375474729208, -0.9450429616882644, -0.3565619797841725, -0.526895547025469, -0.29703925347581567, 0.470679346499512, -0.21965139430373848, -0.277572241034337, 1.6757739473793847, -0.6844213119094037, 2.5467128090186346, 0.3092940280081921, 0.36706217813011577, 0.3620155081208797, -1.0693211361043422, -0.32058523850796067, 0.34172741616987756, -1.013975596657667, -0.330584333129899, 2.354552575307552, 0.2222715205421336, -0.24491641424236923, 0.08652389492069956, -0.6661046551013905, -0.5684243647771562, -0.16815681870593208, 0.5451732559293533, -0.7003127063854502, -2.0991552130751163, -0.8805818658707721, 1.1181512595690717, -1.8236861113099427, -1.109326462564337, 0.8850844170534031, -0.15140124010444625, 2.089817025595409, -1.1412646577928676, 0.5130786272975839, 0.802315702090518, 0.8227263767426035, -0.4211094361933707, 0.3188905388362875, -0.27597929718394765, 1.4894104428242139, 1.0154933954044825, 0.9032711654013391, 1.4822651315059352, 0.5187114432149854, 1.7355646462196677, -1.0622908954228063, -0.41376365210767657, -0.4752312118552798, 0.25271611250132825, 0.11808813566547226, -1.4190087109867906, -1.099413224707759, -0.8227951494886859, 1.0404839507698609, -0.3836115958841534, -0.36668922503310136, -0.9641263348806826, -1.4158392346294928, -0.5832744046678073, -0.2507105982209403, -0.519634303248391, 1.3501586378007053, 0.3645687598665697, -2.2309271526923697, -2.2570879544856224, 0.681349780667486, 0.005462937664764124, 0.08378619913036302, -0.18127299340078432, 0.5088984930410607, -0.12613393601230247, -1.067492178711451, -0.5060295021572043], \"yaxis\": \"y8\"}, {\"line\": {\"color\": \"rgba(128, 128, 128, 1.0)\", \"dash\": \"solid\", \"shape\": \"linear\", \"width\": 1.3}, \"marker\": {\"size\": 2, \"symbol\": \"circle\"}, \"mode\": \"markers\", \"name\": \"C\", \"text\": \"\", \"type\": \"scatter\", \"x\": [-0.29643740889399095, 0.32868435515730043, 1.7461416496086142, -0.24004567607313979, 0.13879213518446365, 0.5535216967030455, -0.5654788153613118, 1.4745095081896062, 0.24599950755732192, -1.2056020605811952, 1.1064580688514372, 1.2560715526922155, 0.9370673363805552, -0.3035228949304509, 0.8173073261565816, -1.049133286502186, 0.8206309550571658, 0.4257464010855425, -0.204969188764631, -0.49515630325678384, -0.46557478153402304, -0.7100122999382016, 0.5038367695493804, 0.6095718122464268, -0.9665021599071422, -1.941392438441163, -0.4410063758400523, 0.03245090999579194, 0.1343061826488072, 0.5107365179921368, -0.3148389852787225, -0.3475463838805427, 0.38918681250649434, -0.5878571849206334, 0.18237827278071525, 0.8139831276610341, -0.3044351308280057, 0.7856674253493616, 0.3511107651142644, 0.4991054778015313, 1.8905790693628632, -0.36064056808190237, -0.20806458226915128, 1.1251468281191688, -2.126253635634463, -0.6012651762207218, -0.4332096922576356, 0.5936193398160595, -1.8610576096155729, -0.6848069423978584, -0.1741312896553701, -0.036689001873205666, -0.17997951544796514, 1.0197180801187515, -1.066533298890777, -0.9114780950624539, -0.11932825824118615, 1.402067892564673, -0.086837270558958, 0.463224533101115, 1.1851504359883962, -0.974581228669598, 0.5172927499818978, -0.019078919866214714, 1.6757029533305858, -0.7739305807934194, 0.49975487039061167, 2.431023967741468, 0.5156404761815808, -2.2967795329006546, -1.0552189283244984, 0.12688409298548323, -1.677072780155331, -0.8594495959629678, -0.4444344655352142, -1.2167733442412334, 0.38604138505028, 1.0138946898474628, 0.14697818534804966, 1.9761709653128225, 0.8272009540730214, -0.3939697404040883, 0.6354964151979149, -0.4806868089713751, 0.8576277591041233, -0.5114800988431405, -0.5184321876913844, 0.8927289941236105, -0.13572637194054665, 0.9993000128725914, 0.9321656254505977, 0.1462909328841926, 1.318253885597681, -1.2340506320852325, 0.5166974940232978, -0.00888755926616613, 0.2571741481342909, 0.6922229079065875, 0.6538799136667284, 0.9128588038964904], \"xaxis\": \"x9\", \"y\": [-2.082536450037159, 0.4530885734493977, 0.20368255482972464, -0.11410210494040066, 0.9097221682459405, -0.8124687427534877, -0.04394856956103083, -1.3898815193955492, -0.6730283521267469, 0.9710262569675199, 0.6092169118869817, -1.3247206547352244, -0.07200984094198348, -0.5320596003255887, -0.6071182537136549, 0.28298242695004133, 1.63632526309187, 1.0294894762981734, -2.598167383257435, 0.3829917344907664, -0.6620995374039768, -0.9164544290894261, -0.37641207505841523, -0.2140812028091623, 1.0403004629352373, 0.013754261202669841, -0.11846076703469682, 0.05472789505244479, 0.10623667600373886, -0.8545237287235011, -1.1708497525244947, -0.27131830533754325, -0.22535982308023256, -1.3447252263839728, -0.41807562706583196, 1.2493497869065369, -0.5395003359202906, -0.7624552405671609, -0.9335351324491997, -1.0963685782091142, -0.3536412279699341, -0.3849969634217031, 0.07428523611314422, 1.4991552476169723, -0.33506365200787885, -0.8219627314382575, -0.4953023034617673, 0.08523788170533084, 1.5084160092494383, 1.7963092363922457, 1.1728382366622965, 0.48485723394089514, 1.7468799720150323, 1.5189711102482275, -1.1664494631942486, -2.2913657866096773, -0.3299704581773067, -1.1534585368601673, 0.7656904090654282, 0.44283027488713855, -0.1040571038335075, -0.276270474433488, -0.9945292237620192, -1.499912996254741, 0.919787940429676, 0.7686444756534595, 0.058904634607023214, 1.3474207437068821, -0.2720776816770924, -0.7151513006884775, -0.8903138637651425, -1.70098828519413, -0.17754240606948118, -0.3412618440868006, 0.6499902497102859, -0.34489224664736123, -0.16364794579924147, -1.1152717273991877, -2.528935755716908, -0.8416192276955796, 1.3736354101460175, -0.43358110720911136, 1.160213503832953, -1.9187822614454753, 0.5378621118596505, -1.916783003862183, 0.5923333076940671, 2.154002809219566, -0.8515515238941631, -0.011689196634959891, 1.194010353209449, -0.7635630999241817, 1.2365882147112732, -0.7070793585110973, -0.22063555297800275, -0.3633187493772641, 1.7437001406301145, -0.44506494452413514, -0.27890048827484115, -1.0443773777891348], \"yaxis\": \"y9\"}, {\"line\": {\"color\": \"rgba(128, 128, 128, 1.0)\", \"dash\": \"solid\", \"shape\": \"linear\", \"width\": 1.3}, \"marker\": {\"size\": 2, \"symbol\": \"circle\"}, \"mode\": \"markers\", \"name\": \"C\", \"text\": \"\", \"type\": \"scatter\", \"x\": [0.07900847452249811, -0.9122677191922264, 0.3112574668049616, 1.7728983810125845, -0.46509577776202565, -0.8500736939519596, 0.09604825979531327, -1.6741323641529193, 0.3654389760932509, -0.396636210544783, -0.39935846585434787, -2.072144060438098, -0.9592798926978057, 1.009429267180827, 1.4347810916763082, 1.2238156048083508, -0.2539894869632165, -0.03462226412381225, 1.5213228468514988, -0.16020138184502902, 1.1012259404213742, -1.7925797528858496, 1.3515348090377433, -1.2785375474729208, -0.9450429616882644, -0.3565619797841725, -0.526895547025469, -0.29703925347581567, 0.470679346499512, -0.21965139430373848, -0.277572241034337, 1.6757739473793847, -0.6844213119094037, 2.5467128090186346, 0.3092940280081921, 0.36706217813011577, 0.3620155081208797, -1.0693211361043422, -0.32058523850796067, 0.34172741616987756, -1.013975596657667, -0.330584333129899, 2.354552575307552, 0.2222715205421336, -0.24491641424236923, 0.08652389492069956, -0.6661046551013905, -0.5684243647771562, -0.16815681870593208, 0.5451732559293533, -0.7003127063854502, -2.0991552130751163, -0.8805818658707721, 1.1181512595690717, -1.8236861113099427, -1.109326462564337, 0.8850844170534031, -0.15140124010444625, 2.089817025595409, -1.1412646577928676, 0.5130786272975839, 0.802315702090518, 0.8227263767426035, -0.4211094361933707, 0.3188905388362875, -0.27597929718394765, 1.4894104428242139, 1.0154933954044825, 0.9032711654013391, 1.4822651315059352, 0.5187114432149854, 1.7355646462196677, -1.0622908954228063, -0.41376365210767657, -0.4752312118552798, 0.25271611250132825, 0.11808813566547226, -1.4190087109867906, -1.099413224707759, -0.8227951494886859, 1.0404839507698609, -0.3836115958841534, -0.36668922503310136, -0.9641263348806826, -1.4158392346294928, -0.5832744046678073, -0.2507105982209403, -0.519634303248391, 1.3501586378007053, 0.3645687598665697, -2.2309271526923697, -2.2570879544856224, 0.681349780667486, 0.005462937664764124, 0.08378619913036302, -0.18127299340078432, 0.5088984930410607, -0.12613393601230247, -1.067492178711451, -0.5060295021572043], \"xaxis\": \"x10\", \"y\": [-2.082536450037159, 0.4530885734493977, 0.20368255482972464, -0.11410210494040066, 0.9097221682459405, -0.8124687427534877, -0.04394856956103083, -1.3898815193955492, -0.6730283521267469, 0.9710262569675199, 0.6092169118869817, -1.3247206547352244, -0.07200984094198348, -0.5320596003255887, -0.6071182537136549, 0.28298242695004133, 1.63632526309187, 1.0294894762981734, -2.598167383257435, 0.3829917344907664, -0.6620995374039768, -0.9164544290894261, -0.37641207505841523, -0.2140812028091623, 1.0403004629352373, 0.013754261202669841, -0.11846076703469682, 0.05472789505244479, 0.10623667600373886, -0.8545237287235011, -1.1708497525244947, -0.27131830533754325, -0.22535982308023256, -1.3447252263839728, -0.41807562706583196, 1.2493497869065369, -0.5395003359202906, -0.7624552405671609, -0.9335351324491997, -1.0963685782091142, -0.3536412279699341, -0.3849969634217031, 0.07428523611314422, 1.4991552476169723, -0.33506365200787885, -0.8219627314382575, -0.4953023034617673, 0.08523788170533084, 1.5084160092494383, 1.7963092363922457, 1.1728382366622965, 0.48485723394089514, 1.7468799720150323, 1.5189711102482275, -1.1664494631942486, -2.2913657866096773, -0.3299704581773067, -1.1534585368601673, 0.7656904090654282, 0.44283027488713855, -0.1040571038335075, -0.276270474433488, -0.9945292237620192, -1.499912996254741, 0.919787940429676, 0.7686444756534595, 0.058904634607023214, 1.3474207437068821, -0.2720776816770924, -0.7151513006884775, -0.8903138637651425, -1.70098828519413, -0.17754240606948118, -0.3412618440868006, 0.6499902497102859, -0.34489224664736123, -0.16364794579924147, -1.1152717273991877, -2.528935755716908, -0.8416192276955796, 1.3736354101460175, -0.43358110720911136, 1.160213503832953, -1.9187822614454753, 0.5378621118596505, -1.916783003862183, 0.5923333076940671, 2.154002809219566, -0.8515515238941631, -0.011689196634959891, 1.194010353209449, -0.7635630999241817, 1.2365882147112732, -0.7070793585110973, -0.22063555297800275, -0.3633187493772641, 1.7437001406301145, -0.44506494452413514, -0.27890048827484115, -1.0443773777891348], \"yaxis\": \"y10\"}, {\"histfunc\": \"count\", \"histnorm\": \"\", \"marker\": {\"color\": \"rgba(50, 171, 96, 1.0)\", \"line\": {\"color\": \"#4D5663\", \"width\": 1.3}}, \"name\": \"C\", \"nbinsx\": 10, \"opacity\": 0.8, \"orientation\": \"v\", \"type\": \"histogram\", \"x\": [-2.082536450037159, 0.4530885734493977, 0.20368255482972464, -0.11410210494040066, 0.9097221682459405, -0.8124687427534877, -0.04394856956103083, -1.3898815193955492, -0.6730283521267469, 0.9710262569675199, 0.6092169118869817, -1.3247206547352244, -0.07200984094198348, -0.5320596003255887, -0.6071182537136549, 0.28298242695004133, 1.63632526309187, 1.0294894762981734, -2.598167383257435, 0.3829917344907664, -0.6620995374039768, -0.9164544290894261, -0.37641207505841523, -0.2140812028091623, 1.0403004629352373, 0.013754261202669841, -0.11846076703469682, 0.05472789505244479, 0.10623667600373886, -0.8545237287235011, -1.1708497525244947, -0.27131830533754325, -0.22535982308023256, -1.3447252263839728, -0.41807562706583196, 1.2493497869065369, -0.5395003359202906, -0.7624552405671609, -0.9335351324491997, -1.0963685782091142, -0.3536412279699341, -0.3849969634217031, 0.07428523611314422, 1.4991552476169723, -0.33506365200787885, -0.8219627314382575, -0.4953023034617673, 0.08523788170533084, 1.5084160092494383, 1.7963092363922457, 1.1728382366622965, 0.48485723394089514, 1.7468799720150323, 1.5189711102482275, -1.1664494631942486, -2.2913657866096773, -0.3299704581773067, -1.1534585368601673, 0.7656904090654282, 0.44283027488713855, -0.1040571038335075, -0.276270474433488, -0.9945292237620192, -1.499912996254741, 0.919787940429676, 0.7686444756534595, 0.058904634607023214, 1.3474207437068821, -0.2720776816770924, -0.7151513006884775, -0.8903138637651425, -1.70098828519413, -0.17754240606948118, -0.3412618440868006, 0.6499902497102859, -0.34489224664736123, -0.16364794579924147, -1.1152717273991877, -2.528935755716908, -0.8416192276955796, 1.3736354101460175, -0.43358110720911136, 1.160213503832953, -1.9187822614454753, 0.5378621118596505, -1.916783003862183, 0.5923333076940671, 2.154002809219566, -0.8515515238941631, -0.011689196634959891, 1.194010353209449, -0.7635630999241817, 1.2365882147112732, -0.7070793585110973, -0.22063555297800275, -0.3633187493772641, 1.7437001406301145, -0.44506494452413514, -0.27890048827484115, -1.0443773777891348], \"xaxis\": \"x11\", \"yaxis\": \"y11\"}, {\"line\": {\"color\": \"rgba(128, 128, 128, 1.0)\", \"dash\": \"solid\", \"shape\": \"linear\", \"width\": 1.3}, \"marker\": {\"size\": 2, \"symbol\": \"circle\"}, \"mode\": \"markers\", \"name\": \"C\", \"text\": \"\", \"type\": \"scatter\", \"x\": [-0.24018330689564246, -1.0587131429233398, -0.4293280149834754, 0.06200827489208058, -0.9433057505753424, 0.7006495476245426, 2.282976311898684, -0.25942855388142705, -0.2327220428419129, -0.21528004940086895, -0.07813024134206867, 0.8344238156442767, 0.3320735871036728, 0.6826658544762765, -1.824760091048321, -1.331543826487938, 0.4098731091090183, -1.302231125570441, 0.045133884284845265, 1.2342818672139926, -0.4160006653024965, -0.5835182231509705, -0.3409247497329795, 0.4436159865585294, 0.605611330232476, 0.5079343464518948, 1.6131484978417183, -1.1475984862833866, 0.3126085481370072, 0.39221529855000725, 1.7188250552535065, -0.024079149309831446, -0.8004062712812569, 0.3576312569431447, -0.8167531426602717, 0.6414400366704491, -0.3197021592125468, 0.24927432151889684, -3.3681877800502216, -1.3829477210171144, -0.5086578218916982, 0.24676272247000952, 0.6498392686864897, -0.06442778398749202, -1.7210796072924515, -3.8145800818329336, -0.5243137551743628, -0.2480735134007949, -1.0303811948414303, -0.6582084176412066, 0.2447273973850182, 1.3267344334536006, -0.5004008441851997, -0.04128827205640335, -0.9096544537431411, 0.0017297036760680774, -0.12551121360032497, 2.1423599662252593, 0.04533013822669366, -0.04209048803932449, 1.6258582538032196, 0.24193560864083252, 1.0879083880847336, 1.8069480991811726, 0.05017187085668021, 1.4073658228169623, -0.5364011911093954, 0.2374983194679982, 0.42836638520393794, 0.29767589763846175, -0.5571295038168838, -0.7416897075453166, 1.3653381215211753, -2.776032923587767, 0.605923858055208, 0.7580382056973495, -1.1888303431659015, -0.044081879349680456, 1.8875154145859385, -0.9084022557596733, 2.2142328715251467, 1.4010475661686914, 0.3149658866967026, -1.881057963057145, 1.4964111873829589, 1.0157784694324463, 0.9160270219461122, 1.6261321246758507, -0.780663353807255, -0.5387343934229627, 0.2452130883745721, -1.1469700221839194, -1.248426145507741, 0.5428776176733583, 0.353893576786481, 0.38881196115397676, -0.023283625587178006, 1.113803263813739, 0.5061512293271354, -1.2767416114937513], \"xaxis\": \"x12\", \"y\": [-2.082536450037159, 0.4530885734493977, 0.20368255482972464, -0.11410210494040066, 0.9097221682459405, -0.8124687427534877, -0.04394856956103083, -1.3898815193955492, -0.6730283521267469, 0.9710262569675199, 0.6092169118869817, -1.3247206547352244, -0.07200984094198348, -0.5320596003255887, -0.6071182537136549, 0.28298242695004133, 1.63632526309187, 1.0294894762981734, -2.598167383257435, 0.3829917344907664, -0.6620995374039768, -0.9164544290894261, -0.37641207505841523, -0.2140812028091623, 1.0403004629352373, 0.013754261202669841, -0.11846076703469682, 0.05472789505244479, 0.10623667600373886, -0.8545237287235011, -1.1708497525244947, -0.27131830533754325, -0.22535982308023256, -1.3447252263839728, -0.41807562706583196, 1.2493497869065369, -0.5395003359202906, -0.7624552405671609, -0.9335351324491997, -1.0963685782091142, -0.3536412279699341, -0.3849969634217031, 0.07428523611314422, 1.4991552476169723, -0.33506365200787885, -0.8219627314382575, -0.4953023034617673, 0.08523788170533084, 1.5084160092494383, 1.7963092363922457, 1.1728382366622965, 0.48485723394089514, 1.7468799720150323, 1.5189711102482275, -1.1664494631942486, -2.2913657866096773, -0.3299704581773067, -1.1534585368601673, 0.7656904090654282, 0.44283027488713855, -0.1040571038335075, -0.276270474433488, -0.9945292237620192, -1.499912996254741, 0.919787940429676, 0.7686444756534595, 0.058904634607023214, 1.3474207437068821, -0.2720776816770924, -0.7151513006884775, -0.8903138637651425, -1.70098828519413, -0.17754240606948118, -0.3412618440868006, 0.6499902497102859, -0.34489224664736123, -0.16364794579924147, -1.1152717273991877, -2.528935755716908, -0.8416192276955796, 1.3736354101460175, -0.43358110720911136, 1.160213503832953, -1.9187822614454753, 0.5378621118596505, -1.916783003862183, 0.5923333076940671, 2.154002809219566, -0.8515515238941631, -0.011689196634959891, 1.194010353209449, -0.7635630999241817, 1.2365882147112732, -0.7070793585110973, -0.22063555297800275, -0.3633187493772641, 1.7437001406301145, -0.44506494452413514, -0.27890048827484115, -1.0443773777891348], \"yaxis\": \"y12\"}, {\"line\": {\"color\": \"rgba(128, 128, 128, 1.0)\", \"dash\": \"solid\", \"shape\": \"linear\", \"width\": 1.3}, \"marker\": {\"size\": 2, \"symbol\": \"circle\"}, \"mode\": \"markers\", \"name\": \"D\", \"text\": \"\", \"type\": \"scatter\", \"x\": [-0.29643740889399095, 0.32868435515730043, 1.7461416496086142, -0.24004567607313979, 0.13879213518446365, 0.5535216967030455, -0.5654788153613118, 1.4745095081896062, 0.24599950755732192, -1.2056020605811952, 1.1064580688514372, 1.2560715526922155, 0.9370673363805552, -0.3035228949304509, 0.8173073261565816, -1.049133286502186, 0.8206309550571658, 0.4257464010855425, -0.204969188764631, -0.49515630325678384, -0.46557478153402304, -0.7100122999382016, 0.5038367695493804, 0.6095718122464268, -0.9665021599071422, -1.941392438441163, -0.4410063758400523, 0.03245090999579194, 0.1343061826488072, 0.5107365179921368, -0.3148389852787225, -0.3475463838805427, 0.38918681250649434, -0.5878571849206334, 0.18237827278071525, 0.8139831276610341, -0.3044351308280057, 0.7856674253493616, 0.3511107651142644, 0.4991054778015313, 1.8905790693628632, -0.36064056808190237, -0.20806458226915128, 1.1251468281191688, -2.126253635634463, -0.6012651762207218, -0.4332096922576356, 0.5936193398160595, -1.8610576096155729, -0.6848069423978584, -0.1741312896553701, -0.036689001873205666, -0.17997951544796514, 1.0197180801187515, -1.066533298890777, -0.9114780950624539, -0.11932825824118615, 1.402067892564673, -0.086837270558958, 0.463224533101115, 1.1851504359883962, -0.974581228669598, 0.5172927499818978, -0.019078919866214714, 1.6757029533305858, -0.7739305807934194, 0.49975487039061167, 2.431023967741468, 0.5156404761815808, -2.2967795329006546, -1.0552189283244984, 0.12688409298548323, -1.677072780155331, -0.8594495959629678, -0.4444344655352142, -1.2167733442412334, 0.38604138505028, 1.0138946898474628, 0.14697818534804966, 1.9761709653128225, 0.8272009540730214, -0.3939697404040883, 0.6354964151979149, -0.4806868089713751, 0.8576277591041233, -0.5114800988431405, -0.5184321876913844, 0.8927289941236105, -0.13572637194054665, 0.9993000128725914, 0.9321656254505977, 0.1462909328841926, 1.318253885597681, -1.2340506320852325, 0.5166974940232978, -0.00888755926616613, 0.2571741481342909, 0.6922229079065875, 0.6538799136667284, 0.9128588038964904], \"xaxis\": \"x13\", \"y\": [-0.24018330689564246, -1.0587131429233398, -0.4293280149834754, 0.06200827489208058, -0.9433057505753424, 0.7006495476245426, 2.282976311898684, -0.25942855388142705, -0.2327220428419129, -0.21528004940086895, -0.07813024134206867, 0.8344238156442767, 0.3320735871036728, 0.6826658544762765, -1.824760091048321, -1.331543826487938, 0.4098731091090183, -1.302231125570441, 0.045133884284845265, 1.2342818672139926, -0.4160006653024965, -0.5835182231509705, -0.3409247497329795, 0.4436159865585294, 0.605611330232476, 0.5079343464518948, 1.6131484978417183, -1.1475984862833866, 0.3126085481370072, 0.39221529855000725, 1.7188250552535065, -0.024079149309831446, -0.8004062712812569, 0.3576312569431447, -0.8167531426602717, 0.6414400366704491, -0.3197021592125468, 0.24927432151889684, -3.3681877800502216, -1.3829477210171144, -0.5086578218916982, 0.24676272247000952, 0.6498392686864897, -0.06442778398749202, -1.7210796072924515, -3.8145800818329336, -0.5243137551743628, -0.2480735134007949, -1.0303811948414303, -0.6582084176412066, 0.2447273973850182, 1.3267344334536006, -0.5004008441851997, -0.04128827205640335, -0.9096544537431411, 0.0017297036760680774, -0.12551121360032497, 2.1423599662252593, 0.04533013822669366, -0.04209048803932449, 1.6258582538032196, 0.24193560864083252, 1.0879083880847336, 1.8069480991811726, 0.05017187085668021, 1.4073658228169623, -0.5364011911093954, 0.2374983194679982, 0.42836638520393794, 0.29767589763846175, -0.5571295038168838, -0.7416897075453166, 1.3653381215211753, -2.776032923587767, 0.605923858055208, 0.7580382056973495, -1.1888303431659015, -0.044081879349680456, 1.8875154145859385, -0.9084022557596733, 2.2142328715251467, 1.4010475661686914, 0.3149658866967026, -1.881057963057145, 1.4964111873829589, 1.0157784694324463, 0.9160270219461122, 1.6261321246758507, -0.780663353807255, -0.5387343934229627, 0.2452130883745721, -1.1469700221839194, -1.248426145507741, 0.5428776176733583, 0.353893576786481, 0.38881196115397676, -0.023283625587178006, 1.113803263813739, 0.5061512293271354, -1.2767416114937513], \"yaxis\": \"y13\"}, {\"line\": {\"color\": \"rgba(128, 128, 128, 1.0)\", \"dash\": \"solid\", \"shape\": \"linear\", \"width\": 1.3}, \"marker\": {\"size\": 2, \"symbol\": \"circle\"}, \"mode\": \"markers\", \"name\": \"D\", \"text\": \"\", \"type\": \"scatter\", \"x\": [0.07900847452249811, -0.9122677191922264, 0.3112574668049616, 1.7728983810125845, -0.46509577776202565, -0.8500736939519596, 0.09604825979531327, -1.6741323641529193, 0.3654389760932509, -0.396636210544783, -0.39935846585434787, -2.072144060438098, -0.9592798926978057, 1.009429267180827, 1.4347810916763082, 1.2238156048083508, -0.2539894869632165, -0.03462226412381225, 1.5213228468514988, -0.16020138184502902, 1.1012259404213742, -1.7925797528858496, 1.3515348090377433, -1.2785375474729208, -0.9450429616882644, -0.3565619797841725, -0.526895547025469, -0.29703925347581567, 0.470679346499512, -0.21965139430373848, -0.277572241034337, 1.6757739473793847, -0.6844213119094037, 2.5467128090186346, 0.3092940280081921, 0.36706217813011577, 0.3620155081208797, -1.0693211361043422, -0.32058523850796067, 0.34172741616987756, -1.013975596657667, -0.330584333129899, 2.354552575307552, 0.2222715205421336, -0.24491641424236923, 0.08652389492069956, -0.6661046551013905, -0.5684243647771562, -0.16815681870593208, 0.5451732559293533, -0.7003127063854502, -2.0991552130751163, -0.8805818658707721, 1.1181512595690717, -1.8236861113099427, -1.109326462564337, 0.8850844170534031, -0.15140124010444625, 2.089817025595409, -1.1412646577928676, 0.5130786272975839, 0.802315702090518, 0.8227263767426035, -0.4211094361933707, 0.3188905388362875, -0.27597929718394765, 1.4894104428242139, 1.0154933954044825, 0.9032711654013391, 1.4822651315059352, 0.5187114432149854, 1.7355646462196677, -1.0622908954228063, -0.41376365210767657, -0.4752312118552798, 0.25271611250132825, 0.11808813566547226, -1.4190087109867906, -1.099413224707759, -0.8227951494886859, 1.0404839507698609, -0.3836115958841534, -0.36668922503310136, -0.9641263348806826, -1.4158392346294928, -0.5832744046678073, -0.2507105982209403, -0.519634303248391, 1.3501586378007053, 0.3645687598665697, -2.2309271526923697, -2.2570879544856224, 0.681349780667486, 0.005462937664764124, 0.08378619913036302, -0.18127299340078432, 0.5088984930410607, -0.12613393601230247, -1.067492178711451, -0.5060295021572043], \"xaxis\": \"x14\", \"y\": [-0.24018330689564246, -1.0587131429233398, -0.4293280149834754, 0.06200827489208058, -0.9433057505753424, 0.7006495476245426, 2.282976311898684, -0.25942855388142705, -0.2327220428419129, -0.21528004940086895, -0.07813024134206867, 0.8344238156442767, 0.3320735871036728, 0.6826658544762765, -1.824760091048321, -1.331543826487938, 0.4098731091090183, -1.302231125570441, 0.045133884284845265, 1.2342818672139926, -0.4160006653024965, -0.5835182231509705, -0.3409247497329795, 0.4436159865585294, 0.605611330232476, 0.5079343464518948, 1.6131484978417183, -1.1475984862833866, 0.3126085481370072, 0.39221529855000725, 1.7188250552535065, -0.024079149309831446, -0.8004062712812569, 0.3576312569431447, -0.8167531426602717, 0.6414400366704491, -0.3197021592125468, 0.24927432151889684, -3.3681877800502216, -1.3829477210171144, -0.5086578218916982, 0.24676272247000952, 0.6498392686864897, -0.06442778398749202, -1.7210796072924515, -3.8145800818329336, -0.5243137551743628, -0.2480735134007949, -1.0303811948414303, -0.6582084176412066, 0.2447273973850182, 1.3267344334536006, -0.5004008441851997, -0.04128827205640335, -0.9096544537431411, 0.0017297036760680774, -0.12551121360032497, 2.1423599662252593, 0.04533013822669366, -0.04209048803932449, 1.6258582538032196, 0.24193560864083252, 1.0879083880847336, 1.8069480991811726, 0.05017187085668021, 1.4073658228169623, -0.5364011911093954, 0.2374983194679982, 0.42836638520393794, 0.29767589763846175, -0.5571295038168838, -0.7416897075453166, 1.3653381215211753, -2.776032923587767, 0.605923858055208, 0.7580382056973495, -1.1888303431659015, -0.044081879349680456, 1.8875154145859385, -0.9084022557596733, 2.2142328715251467, 1.4010475661686914, 0.3149658866967026, -1.881057963057145, 1.4964111873829589, 1.0157784694324463, 0.9160270219461122, 1.6261321246758507, -0.780663353807255, -0.5387343934229627, 0.2452130883745721, -1.1469700221839194, -1.248426145507741, 0.5428776176733583, 0.353893576786481, 0.38881196115397676, -0.023283625587178006, 1.113803263813739, 0.5061512293271354, -1.2767416114937513], \"yaxis\": \"y14\"}, {\"line\": {\"color\": \"rgba(128, 128, 128, 1.0)\", \"dash\": \"solid\", \"shape\": \"linear\", \"width\": 1.3}, \"marker\": {\"size\": 2, \"symbol\": \"circle\"}, \"mode\": \"markers\", \"name\": \"D\", \"text\": \"\", \"type\": \"scatter\", \"x\": [-2.082536450037159, 0.4530885734493977, 0.20368255482972464, -0.11410210494040066, 0.9097221682459405, -0.8124687427534877, -0.04394856956103083, -1.3898815193955492, -0.6730283521267469, 0.9710262569675199, 0.6092169118869817, -1.3247206547352244, -0.07200984094198348, -0.5320596003255887, -0.6071182537136549, 0.28298242695004133, 1.63632526309187, 1.0294894762981734, -2.598167383257435, 0.3829917344907664, -0.6620995374039768, -0.9164544290894261, -0.37641207505841523, -0.2140812028091623, 1.0403004629352373, 0.013754261202669841, -0.11846076703469682, 0.05472789505244479, 0.10623667600373886, -0.8545237287235011, -1.1708497525244947, -0.27131830533754325, -0.22535982308023256, -1.3447252263839728, -0.41807562706583196, 1.2493497869065369, -0.5395003359202906, -0.7624552405671609, -0.9335351324491997, -1.0963685782091142, -0.3536412279699341, -0.3849969634217031, 0.07428523611314422, 1.4991552476169723, -0.33506365200787885, -0.8219627314382575, -0.4953023034617673, 0.08523788170533084, 1.5084160092494383, 1.7963092363922457, 1.1728382366622965, 0.48485723394089514, 1.7468799720150323, 1.5189711102482275, -1.1664494631942486, -2.2913657866096773, -0.3299704581773067, -1.1534585368601673, 0.7656904090654282, 0.44283027488713855, -0.1040571038335075, -0.276270474433488, -0.9945292237620192, -1.499912996254741, 0.919787940429676, 0.7686444756534595, 0.058904634607023214, 1.3474207437068821, -0.2720776816770924, -0.7151513006884775, -0.8903138637651425, -1.70098828519413, -0.17754240606948118, -0.3412618440868006, 0.6499902497102859, -0.34489224664736123, -0.16364794579924147, -1.1152717273991877, -2.528935755716908, -0.8416192276955796, 1.3736354101460175, -0.43358110720911136, 1.160213503832953, -1.9187822614454753, 0.5378621118596505, -1.916783003862183, 0.5923333076940671, 2.154002809219566, -0.8515515238941631, -0.011689196634959891, 1.194010353209449, -0.7635630999241817, 1.2365882147112732, -0.7070793585110973, -0.22063555297800275, -0.3633187493772641, 1.7437001406301145, -0.44506494452413514, -0.27890048827484115, -1.0443773777891348], \"xaxis\": \"x15\", \"y\": [-0.24018330689564246, -1.0587131429233398, -0.4293280149834754, 0.06200827489208058, -0.9433057505753424, 0.7006495476245426, 2.282976311898684, -0.25942855388142705, -0.2327220428419129, -0.21528004940086895, -0.07813024134206867, 0.8344238156442767, 0.3320735871036728, 0.6826658544762765, -1.824760091048321, -1.331543826487938, 0.4098731091090183, -1.302231125570441, 0.045133884284845265, 1.2342818672139926, -0.4160006653024965, -0.5835182231509705, -0.3409247497329795, 0.4436159865585294, 0.605611330232476, 0.5079343464518948, 1.6131484978417183, -1.1475984862833866, 0.3126085481370072, 0.39221529855000725, 1.7188250552535065, -0.024079149309831446, -0.8004062712812569, 0.3576312569431447, -0.8167531426602717, 0.6414400366704491, -0.3197021592125468, 0.24927432151889684, -3.3681877800502216, -1.3829477210171144, -0.5086578218916982, 0.24676272247000952, 0.6498392686864897, -0.06442778398749202, -1.7210796072924515, -3.8145800818329336, -0.5243137551743628, -0.2480735134007949, -1.0303811948414303, -0.6582084176412066, 0.2447273973850182, 1.3267344334536006, -0.5004008441851997, -0.04128827205640335, -0.9096544537431411, 0.0017297036760680774, -0.12551121360032497, 2.1423599662252593, 0.04533013822669366, -0.04209048803932449, 1.6258582538032196, 0.24193560864083252, 1.0879083880847336, 1.8069480991811726, 0.05017187085668021, 1.4073658228169623, -0.5364011911093954, 0.2374983194679982, 0.42836638520393794, 0.29767589763846175, -0.5571295038168838, -0.7416897075453166, 1.3653381215211753, -2.776032923587767, 0.605923858055208, 0.7580382056973495, -1.1888303431659015, -0.044081879349680456, 1.8875154145859385, -0.9084022557596733, 2.2142328715251467, 1.4010475661686914, 0.3149658866967026, -1.881057963057145, 1.4964111873829589, 1.0157784694324463, 0.9160270219461122, 1.6261321246758507, -0.780663353807255, -0.5387343934229627, 0.2452130883745721, -1.1469700221839194, -1.248426145507741, 0.5428776176733583, 0.353893576786481, 0.38881196115397676, -0.023283625587178006, 1.113803263813739, 0.5061512293271354, -1.2767416114937513], \"yaxis\": \"y15\"}, {\"histfunc\": \"count\", \"histnorm\": \"\", \"marker\": {\"color\": \"rgba(128, 0, 128, 1.0)\", \"line\": {\"color\": \"#4D5663\", \"width\": 1.3}}, \"name\": \"D\", \"nbinsx\": 10, \"opacity\": 0.8, \"orientation\": \"v\", \"type\": \"histogram\", \"x\": [-0.24018330689564246, -1.0587131429233398, -0.4293280149834754, 0.06200827489208058, -0.9433057505753424, 0.7006495476245426, 2.282976311898684, -0.25942855388142705, -0.2327220428419129, -0.21528004940086895, -0.07813024134206867, 0.8344238156442767, 0.3320735871036728, 0.6826658544762765, -1.824760091048321, -1.331543826487938, 0.4098731091090183, -1.302231125570441, 0.045133884284845265, 1.2342818672139926, -0.4160006653024965, -0.5835182231509705, -0.3409247497329795, 0.4436159865585294, 0.605611330232476, 0.5079343464518948, 1.6131484978417183, -1.1475984862833866, 0.3126085481370072, 0.39221529855000725, 1.7188250552535065, -0.024079149309831446, -0.8004062712812569, 0.3576312569431447, -0.8167531426602717, 0.6414400366704491, -0.3197021592125468, 0.24927432151889684, -3.3681877800502216, -1.3829477210171144, -0.5086578218916982, 0.24676272247000952, 0.6498392686864897, -0.06442778398749202, -1.7210796072924515, -3.8145800818329336, -0.5243137551743628, -0.2480735134007949, -1.0303811948414303, -0.6582084176412066, 0.2447273973850182, 1.3267344334536006, -0.5004008441851997, -0.04128827205640335, -0.9096544537431411, 0.0017297036760680774, -0.12551121360032497, 2.1423599662252593, 0.04533013822669366, -0.04209048803932449, 1.6258582538032196, 0.24193560864083252, 1.0879083880847336, 1.8069480991811726, 0.05017187085668021, 1.4073658228169623, -0.5364011911093954, 0.2374983194679982, 0.42836638520393794, 0.29767589763846175, -0.5571295038168838, -0.7416897075453166, 1.3653381215211753, -2.776032923587767, 0.605923858055208, 0.7580382056973495, -1.1888303431659015, -0.044081879349680456, 1.8875154145859385, -0.9084022557596733, 2.2142328715251467, 1.4010475661686914, 0.3149658866967026, -1.881057963057145, 1.4964111873829589, 1.0157784694324463, 0.9160270219461122, 1.6261321246758507, -0.780663353807255, -0.5387343934229627, 0.2452130883745721, -1.1469700221839194, -1.248426145507741, 0.5428776176733583, 0.353893576786481, 0.38881196115397676, -0.023283625587178006, 1.113803263813739, 0.5061512293271354, -1.2767416114937513], \"xaxis\": \"x16\", \"yaxis\": \"y16\"}],\n",
       "                        {\"bargap\": 0.02, \"legend\": {\"bgcolor\": \"#F5F6F9\", \"font\": {\"color\": \"#4D5663\"}}, \"paper_bgcolor\": \"#F5F6F9\", \"plot_bgcolor\": \"#F5F6F9\", \"showlegend\": false, \"template\": {\"data\": {\"bar\": [{\"error_x\": {\"color\": \"#2a3f5f\"}, \"error_y\": {\"color\": \"#2a3f5f\"}, \"marker\": {\"line\": {\"color\": \"#E5ECF6\", \"width\": 0.5}}, \"type\": \"bar\"}], \"barpolar\": [{\"marker\": {\"line\": {\"color\": \"#E5ECF6\", \"width\": 0.5}}, \"type\": \"barpolar\"}], \"carpet\": [{\"aaxis\": {\"endlinecolor\": \"#2a3f5f\", \"gridcolor\": \"white\", \"linecolor\": \"white\", \"minorgridcolor\": \"white\", \"startlinecolor\": \"#2a3f5f\"}, \"baxis\": {\"endlinecolor\": \"#2a3f5f\", \"gridcolor\": \"white\", \"linecolor\": \"white\", \"minorgridcolor\": \"white\", \"startlinecolor\": \"#2a3f5f\"}, \"type\": \"carpet\"}], \"choropleth\": [{\"colorbar\": {\"outlinewidth\": 0, \"ticks\": \"\"}, \"type\": \"choropleth\"}], \"contour\": [{\"colorbar\": {\"outlinewidth\": 0, \"ticks\": \"\"}, \"colorscale\": [[0.0, \"#0d0887\"], [0.1111111111111111, \"#46039f\"], [0.2222222222222222, \"#7201a8\"], [0.3333333333333333, \"#9c179e\"], [0.4444444444444444, \"#bd3786\"], [0.5555555555555556, \"#d8576b\"], [0.6666666666666666, \"#ed7953\"], [0.7777777777777778, \"#fb9f3a\"], [0.8888888888888888, \"#fdca26\"], [1.0, \"#f0f921\"]], \"type\": \"contour\"}], \"contourcarpet\": [{\"colorbar\": {\"outlinewidth\": 0, \"ticks\": \"\"}, \"type\": \"contourcarpet\"}], \"heatmap\": [{\"colorbar\": {\"outlinewidth\": 0, \"ticks\": \"\"}, \"colorscale\": [[0.0, \"#0d0887\"], [0.1111111111111111, \"#46039f\"], [0.2222222222222222, \"#7201a8\"], [0.3333333333333333, \"#9c179e\"], [0.4444444444444444, \"#bd3786\"], [0.5555555555555556, \"#d8576b\"], [0.6666666666666666, \"#ed7953\"], [0.7777777777777778, \"#fb9f3a\"], [0.8888888888888888, \"#fdca26\"], [1.0, \"#f0f921\"]], \"type\": \"heatmap\"}], \"heatmapgl\": [{\"colorbar\": {\"outlinewidth\": 0, \"ticks\": \"\"}, \"colorscale\": [[0.0, \"#0d0887\"], [0.1111111111111111, \"#46039f\"], [0.2222222222222222, \"#7201a8\"], [0.3333333333333333, \"#9c179e\"], [0.4444444444444444, \"#bd3786\"], [0.5555555555555556, \"#d8576b\"], [0.6666666666666666, \"#ed7953\"], [0.7777777777777778, \"#fb9f3a\"], [0.8888888888888888, \"#fdca26\"], [1.0, \"#f0f921\"]], \"type\": \"heatmapgl\"}], \"histogram\": [{\"marker\": {\"colorbar\": {\"outlinewidth\": 0, \"ticks\": \"\"}}, \"type\": \"histogram\"}], \"histogram2d\": [{\"colorbar\": {\"outlinewidth\": 0, \"ticks\": \"\"}, \"colorscale\": [[0.0, \"#0d0887\"], [0.1111111111111111, \"#46039f\"], [0.2222222222222222, \"#7201a8\"], [0.3333333333333333, \"#9c179e\"], [0.4444444444444444, \"#bd3786\"], [0.5555555555555556, \"#d8576b\"], [0.6666666666666666, \"#ed7953\"], [0.7777777777777778, \"#fb9f3a\"], [0.8888888888888888, \"#fdca26\"], [1.0, \"#f0f921\"]], \"type\": \"histogram2d\"}], \"histogram2dcontour\": [{\"colorbar\": {\"outlinewidth\": 0, \"ticks\": \"\"}, \"colorscale\": [[0.0, \"#0d0887\"], [0.1111111111111111, \"#46039f\"], [0.2222222222222222, \"#7201a8\"], [0.3333333333333333, \"#9c179e\"], [0.4444444444444444, \"#bd3786\"], [0.5555555555555556, \"#d8576b\"], [0.6666666666666666, \"#ed7953\"], [0.7777777777777778, \"#fb9f3a\"], [0.8888888888888888, \"#fdca26\"], [1.0, \"#f0f921\"]], \"type\": \"histogram2dcontour\"}], \"mesh3d\": [{\"colorbar\": {\"outlinewidth\": 0, \"ticks\": \"\"}, \"type\": \"mesh3d\"}], \"parcoords\": [{\"line\": {\"colorbar\": {\"outlinewidth\": 0, \"ticks\": \"\"}}, \"type\": \"parcoords\"}], \"pie\": [{\"automargin\": true, \"type\": \"pie\"}], \"scatter\": [{\"marker\": {\"colorbar\": {\"outlinewidth\": 0, \"ticks\": \"\"}}, \"type\": \"scatter\"}], \"scatter3d\": [{\"line\": {\"colorbar\": {\"outlinewidth\": 0, \"ticks\": \"\"}}, \"marker\": {\"colorbar\": {\"outlinewidth\": 0, \"ticks\": \"\"}}, \"type\": \"scatter3d\"}], \"scattercarpet\": [{\"marker\": {\"colorbar\": {\"outlinewidth\": 0, \"ticks\": \"\"}}, \"type\": \"scattercarpet\"}], \"scattergeo\": [{\"marker\": {\"colorbar\": {\"outlinewidth\": 0, \"ticks\": \"\"}}, \"type\": \"scattergeo\"}], \"scattergl\": [{\"marker\": {\"colorbar\": {\"outlinewidth\": 0, \"ticks\": \"\"}}, \"type\": \"scattergl\"}], \"scattermapbox\": [{\"marker\": {\"colorbar\": {\"outlinewidth\": 0, \"ticks\": \"\"}}, \"type\": \"scattermapbox\"}], \"scatterpolar\": [{\"marker\": {\"colorbar\": {\"outlinewidth\": 0, \"ticks\": \"\"}}, \"type\": \"scatterpolar\"}], \"scatterpolargl\": [{\"marker\": {\"colorbar\": {\"outlinewidth\": 0, \"ticks\": \"\"}}, \"type\": \"scatterpolargl\"}], \"scatterternary\": [{\"marker\": {\"colorbar\": {\"outlinewidth\": 0, \"ticks\": \"\"}}, \"type\": \"scatterternary\"}], \"surface\": [{\"colorbar\": {\"outlinewidth\": 0, \"ticks\": \"\"}, \"colorscale\": [[0.0, \"#0d0887\"], [0.1111111111111111, \"#46039f\"], [0.2222222222222222, \"#7201a8\"], [0.3333333333333333, \"#9c179e\"], [0.4444444444444444, \"#bd3786\"], [0.5555555555555556, \"#d8576b\"], [0.6666666666666666, \"#ed7953\"], [0.7777777777777778, \"#fb9f3a\"], [0.8888888888888888, \"#fdca26\"], [1.0, \"#f0f921\"]], \"type\": \"surface\"}], \"table\": [{\"cells\": {\"fill\": {\"color\": \"#EBF0F8\"}, \"line\": {\"color\": \"white\"}}, \"header\": {\"fill\": {\"color\": \"#C8D4E3\"}, \"line\": {\"color\": \"white\"}}, \"type\": \"table\"}]}, \"layout\": {\"annotationdefaults\": {\"arrowcolor\": \"#2a3f5f\", \"arrowhead\": 0, \"arrowwidth\": 1}, \"coloraxis\": {\"colorbar\": {\"outlinewidth\": 0, \"ticks\": \"\"}}, \"colorscale\": {\"diverging\": [[0, \"#8e0152\"], [0.1, \"#c51b7d\"], [0.2, \"#de77ae\"], [0.3, \"#f1b6da\"], [0.4, \"#fde0ef\"], [0.5, \"#f7f7f7\"], [0.6, \"#e6f5d0\"], [0.7, \"#b8e186\"], [0.8, \"#7fbc41\"], [0.9, \"#4d9221\"], [1, \"#276419\"]], \"sequential\": [[0.0, \"#0d0887\"], [0.1111111111111111, \"#46039f\"], [0.2222222222222222, \"#7201a8\"], [0.3333333333333333, \"#9c179e\"], [0.4444444444444444, \"#bd3786\"], [0.5555555555555556, \"#d8576b\"], [0.6666666666666666, \"#ed7953\"], [0.7777777777777778, \"#fb9f3a\"], [0.8888888888888888, \"#fdca26\"], [1.0, \"#f0f921\"]], \"sequentialminus\": [[0.0, \"#0d0887\"], [0.1111111111111111, \"#46039f\"], [0.2222222222222222, \"#7201a8\"], [0.3333333333333333, \"#9c179e\"], [0.4444444444444444, \"#bd3786\"], [0.5555555555555556, \"#d8576b\"], [0.6666666666666666, \"#ed7953\"], [0.7777777777777778, \"#fb9f3a\"], [0.8888888888888888, \"#fdca26\"], [1.0, \"#f0f921\"]]}, \"colorway\": [\"#636efa\", \"#EF553B\", \"#00cc96\", \"#ab63fa\", \"#FFA15A\", \"#19d3f3\", \"#FF6692\", \"#B6E880\", \"#FF97FF\", \"#FECB52\"], \"font\": {\"color\": \"#2a3f5f\"}, \"geo\": {\"bgcolor\": \"white\", \"lakecolor\": \"white\", \"landcolor\": \"#E5ECF6\", \"showlakes\": true, \"showland\": true, \"subunitcolor\": \"white\"}, \"hoverlabel\": {\"align\": \"left\"}, \"hovermode\": \"closest\", \"mapbox\": {\"style\": \"light\"}, \"paper_bgcolor\": \"white\", \"plot_bgcolor\": \"#E5ECF6\", \"polar\": {\"angularaxis\": {\"gridcolor\": \"white\", \"linecolor\": \"white\", \"ticks\": \"\"}, \"bgcolor\": \"#E5ECF6\", \"radialaxis\": {\"gridcolor\": \"white\", \"linecolor\": \"white\", \"ticks\": \"\"}}, \"scene\": {\"xaxis\": {\"backgroundcolor\": \"#E5ECF6\", \"gridcolor\": \"white\", \"gridwidth\": 2, \"linecolor\": \"white\", \"showbackground\": true, \"ticks\": \"\", \"zerolinecolor\": \"white\"}, \"yaxis\": {\"backgroundcolor\": \"#E5ECF6\", \"gridcolor\": \"white\", \"gridwidth\": 2, \"linecolor\": \"white\", \"showbackground\": true, \"ticks\": \"\", \"zerolinecolor\": \"white\"}, \"zaxis\": {\"backgroundcolor\": \"#E5ECF6\", \"gridcolor\": \"white\", \"gridwidth\": 2, \"linecolor\": \"white\", \"showbackground\": true, \"ticks\": \"\", \"zerolinecolor\": \"white\"}}, \"shapedefaults\": {\"line\": {\"color\": \"#2a3f5f\"}}, \"ternary\": {\"aaxis\": {\"gridcolor\": \"white\", \"linecolor\": \"white\", \"ticks\": \"\"}, \"baxis\": {\"gridcolor\": \"white\", \"linecolor\": \"white\", \"ticks\": \"\"}, \"bgcolor\": \"#E5ECF6\", \"caxis\": {\"gridcolor\": \"white\", \"linecolor\": \"white\", \"ticks\": \"\"}}, \"title\": {\"x\": 0.05}, \"xaxis\": {\"automargin\": true, \"gridcolor\": \"white\", \"linecolor\": \"white\", \"ticks\": \"\", \"title\": {\"standoff\": 15}, \"zerolinecolor\": \"white\", \"zerolinewidth\": 2}, \"yaxis\": {\"automargin\": true, \"gridcolor\": \"white\", \"linecolor\": \"white\", \"ticks\": \"\", \"title\": {\"standoff\": 15}, \"zerolinecolor\": \"white\", \"zerolinewidth\": 2}}}, \"title\": {\"font\": {\"color\": \"#4D5663\"}}, \"xaxis\": {\"anchor\": \"y\", \"domain\": [0.0, 0.2125], \"gridcolor\": \"#E1E5ED\", \"showgrid\": false, \"tickfont\": {\"color\": \"#4D5663\"}, \"title\": {\"font\": {\"color\": \"#4D5663\"}, \"text\": \"\"}, \"zerolinecolor\": \"#E1E5ED\"}, \"xaxis10\": {\"anchor\": \"y10\", \"domain\": [0.2625, 0.475], \"gridcolor\": \"#E1E5ED\", \"showgrid\": false, \"tickfont\": {\"color\": \"#4D5663\"}, \"title\": {\"font\": {\"color\": \"#4D5663\"}, \"text\": \"\"}, \"zerolinecolor\": \"#E1E5ED\"}, \"xaxis11\": {\"anchor\": \"y11\", \"domain\": [0.525, 0.7375], \"gridcolor\": \"#E1E5ED\", \"showgrid\": false, \"tickfont\": {\"color\": \"#4D5663\"}, \"title\": {\"font\": {\"color\": \"#4D5663\"}, \"text\": \"\"}, \"zerolinecolor\": \"#E1E5ED\"}, \"xaxis12\": {\"anchor\": \"y12\", \"domain\": [0.7875, 1.0], \"gridcolor\": \"#E1E5ED\", \"showgrid\": false, \"tickfont\": {\"color\": \"#4D5663\"}, \"title\": {\"font\": {\"color\": \"#4D5663\"}, \"text\": \"\"}, \"zerolinecolor\": \"#E1E5ED\"}, \"xaxis13\": {\"anchor\": \"y13\", \"domain\": [0.0, 0.2125], \"gridcolor\": \"#E1E5ED\", \"showgrid\": false, \"tickfont\": {\"color\": \"#4D5663\"}, \"title\": {\"font\": {\"color\": \"#4D5663\"}, \"text\": \"\"}, \"zerolinecolor\": \"#E1E5ED\"}, \"xaxis14\": {\"anchor\": \"y14\", \"domain\": [0.2625, 0.475], \"gridcolor\": \"#E1E5ED\", \"showgrid\": false, \"tickfont\": {\"color\": \"#4D5663\"}, \"title\": {\"font\": {\"color\": \"#4D5663\"}, \"text\": \"\"}, \"zerolinecolor\": \"#E1E5ED\"}, \"xaxis15\": {\"anchor\": \"y15\", \"domain\": [0.525, 0.7375], \"gridcolor\": \"#E1E5ED\", \"showgrid\": false, \"tickfont\": {\"color\": \"#4D5663\"}, \"title\": {\"font\": {\"color\": \"#4D5663\"}, \"text\": \"\"}, \"zerolinecolor\": \"#E1E5ED\"}, \"xaxis16\": {\"anchor\": \"y16\", \"domain\": [0.7875, 1.0], \"gridcolor\": \"#E1E5ED\", \"showgrid\": false, \"tickfont\": {\"color\": \"#4D5663\"}, \"title\": {\"font\": {\"color\": \"#4D5663\"}, \"text\": \"\"}, \"zerolinecolor\": \"#E1E5ED\"}, \"xaxis2\": {\"anchor\": \"y2\", \"domain\": [0.2625, 0.475], \"gridcolor\": \"#E1E5ED\", \"showgrid\": false, \"tickfont\": {\"color\": \"#4D5663\"}, \"title\": {\"font\": {\"color\": \"#4D5663\"}, \"text\": \"\"}, \"zerolinecolor\": \"#E1E5ED\"}, \"xaxis3\": {\"anchor\": \"y3\", \"domain\": [0.525, 0.7375], \"gridcolor\": \"#E1E5ED\", \"showgrid\": false, \"tickfont\": {\"color\": \"#4D5663\"}, \"title\": {\"font\": {\"color\": \"#4D5663\"}, \"text\": \"\"}, \"zerolinecolor\": \"#E1E5ED\"}, \"xaxis4\": {\"anchor\": \"y4\", \"domain\": [0.7875, 1.0], \"gridcolor\": \"#E1E5ED\", \"showgrid\": false, \"tickfont\": {\"color\": \"#4D5663\"}, \"title\": {\"font\": {\"color\": \"#4D5663\"}, \"text\": \"\"}, \"zerolinecolor\": \"#E1E5ED\"}, \"xaxis5\": {\"anchor\": \"y5\", \"domain\": [0.0, 0.2125], \"gridcolor\": \"#E1E5ED\", \"showgrid\": false, \"tickfont\": {\"color\": \"#4D5663\"}, \"title\": {\"font\": {\"color\": \"#4D5663\"}, \"text\": \"\"}, \"zerolinecolor\": \"#E1E5ED\"}, \"xaxis6\": {\"anchor\": \"y6\", \"domain\": [0.2625, 0.475], \"gridcolor\": \"#E1E5ED\", \"showgrid\": false, \"tickfont\": {\"color\": \"#4D5663\"}, \"title\": {\"font\": {\"color\": \"#4D5663\"}, \"text\": \"\"}, \"zerolinecolor\": \"#E1E5ED\"}, \"xaxis7\": {\"anchor\": \"y7\", \"domain\": [0.525, 0.7375], \"gridcolor\": \"#E1E5ED\", \"showgrid\": false, \"tickfont\": {\"color\": \"#4D5663\"}, \"title\": {\"font\": {\"color\": \"#4D5663\"}, \"text\": \"\"}, \"zerolinecolor\": \"#E1E5ED\"}, \"xaxis8\": {\"anchor\": \"y8\", \"domain\": [0.7875, 1.0], \"gridcolor\": \"#E1E5ED\", \"showgrid\": false, \"tickfont\": {\"color\": \"#4D5663\"}, \"title\": {\"font\": {\"color\": \"#4D5663\"}, \"text\": \"\"}, \"zerolinecolor\": \"#E1E5ED\"}, \"xaxis9\": {\"anchor\": \"y9\", \"domain\": [0.0, 0.2125], \"gridcolor\": \"#E1E5ED\", \"showgrid\": false, \"tickfont\": {\"color\": \"#4D5663\"}, \"title\": {\"font\": {\"color\": \"#4D5663\"}, \"text\": \"\"}, \"zerolinecolor\": \"#E1E5ED\"}, \"yaxis\": {\"anchor\": \"x\", \"domain\": [0.8025, 1.0], \"gridcolor\": \"#E1E5ED\", \"showgrid\": false, \"tickfont\": {\"color\": \"#4D5663\"}, \"title\": {\"font\": {\"color\": \"#4D5663\"}, \"text\": \"\"}, \"zerolinecolor\": \"#E1E5ED\"}, \"yaxis10\": {\"anchor\": \"x10\", \"domain\": [0.2675, 0.465], \"gridcolor\": \"#E1E5ED\", \"showgrid\": false, \"tickfont\": {\"color\": \"#4D5663\"}, \"title\": {\"font\": {\"color\": \"#4D5663\"}, \"text\": \"\"}, \"zerolinecolor\": \"#E1E5ED\"}, \"yaxis11\": {\"anchor\": \"x11\", \"domain\": [0.2675, 0.465], \"gridcolor\": \"#E1E5ED\", \"showgrid\": false, \"tickfont\": {\"color\": \"#4D5663\"}, \"title\": {\"font\": {\"color\": \"#4D5663\"}, \"text\": \"\"}, \"zerolinecolor\": \"#E1E5ED\"}, \"yaxis12\": {\"anchor\": \"x12\", \"domain\": [0.2675, 0.465], \"gridcolor\": \"#E1E5ED\", \"showgrid\": false, \"tickfont\": {\"color\": \"#4D5663\"}, \"title\": {\"font\": {\"color\": \"#4D5663\"}, \"text\": \"\"}, \"zerolinecolor\": \"#E1E5ED\"}, \"yaxis13\": {\"anchor\": \"x13\", \"domain\": [0.0, 0.1975], \"gridcolor\": \"#E1E5ED\", \"showgrid\": false, \"tickfont\": {\"color\": \"#4D5663\"}, \"title\": {\"font\": {\"color\": \"#4D5663\"}, \"text\": \"\"}, \"zerolinecolor\": \"#E1E5ED\"}, \"yaxis14\": {\"anchor\": \"x14\", \"domain\": [0.0, 0.1975], \"gridcolor\": \"#E1E5ED\", \"showgrid\": false, \"tickfont\": {\"color\": \"#4D5663\"}, \"title\": {\"font\": {\"color\": \"#4D5663\"}, \"text\": \"\"}, \"zerolinecolor\": \"#E1E5ED\"}, \"yaxis15\": {\"anchor\": \"x15\", \"domain\": [0.0, 0.1975], \"gridcolor\": \"#E1E5ED\", \"showgrid\": false, \"tickfont\": {\"color\": \"#4D5663\"}, \"title\": {\"font\": {\"color\": \"#4D5663\"}, \"text\": \"\"}, \"zerolinecolor\": \"#E1E5ED\"}, \"yaxis16\": {\"anchor\": \"x16\", \"domain\": [0.0, 0.1975], \"gridcolor\": \"#E1E5ED\", \"showgrid\": false, \"tickfont\": {\"color\": \"#4D5663\"}, \"title\": {\"font\": {\"color\": \"#4D5663\"}, \"text\": \"\"}, \"zerolinecolor\": \"#E1E5ED\"}, \"yaxis2\": {\"anchor\": \"x2\", \"domain\": [0.8025, 1.0], \"gridcolor\": \"#E1E5ED\", \"showgrid\": false, \"tickfont\": {\"color\": \"#4D5663\"}, \"title\": {\"font\": {\"color\": \"#4D5663\"}, \"text\": \"\"}, \"zerolinecolor\": \"#E1E5ED\"}, \"yaxis3\": {\"anchor\": \"x3\", \"domain\": [0.8025, 1.0], \"gridcolor\": \"#E1E5ED\", \"showgrid\": false, \"tickfont\": {\"color\": \"#4D5663\"}, \"title\": {\"font\": {\"color\": \"#4D5663\"}, \"text\": \"\"}, \"zerolinecolor\": \"#E1E5ED\"}, \"yaxis4\": {\"anchor\": \"x4\", \"domain\": [0.8025, 1.0], \"gridcolor\": \"#E1E5ED\", \"showgrid\": false, \"tickfont\": {\"color\": \"#4D5663\"}, \"title\": {\"font\": {\"color\": \"#4D5663\"}, \"text\": \"\"}, \"zerolinecolor\": \"#E1E5ED\"}, \"yaxis5\": {\"anchor\": \"x5\", \"domain\": [0.535, 0.7325], \"gridcolor\": \"#E1E5ED\", \"showgrid\": false, \"tickfont\": {\"color\": \"#4D5663\"}, \"title\": {\"font\": {\"color\": \"#4D5663\"}, \"text\": \"\"}, \"zerolinecolor\": \"#E1E5ED\"}, \"yaxis6\": {\"anchor\": \"x6\", \"domain\": [0.535, 0.7325], \"gridcolor\": \"#E1E5ED\", \"showgrid\": false, \"tickfont\": {\"color\": \"#4D5663\"}, \"title\": {\"font\": {\"color\": \"#4D5663\"}, \"text\": \"\"}, \"zerolinecolor\": \"#E1E5ED\"}, \"yaxis7\": {\"anchor\": \"x7\", \"domain\": [0.535, 0.7325], \"gridcolor\": \"#E1E5ED\", \"showgrid\": false, \"tickfont\": {\"color\": \"#4D5663\"}, \"title\": {\"font\": {\"color\": \"#4D5663\"}, \"text\": \"\"}, \"zerolinecolor\": \"#E1E5ED\"}, \"yaxis8\": {\"anchor\": \"x8\", \"domain\": [0.535, 0.7325], \"gridcolor\": \"#E1E5ED\", \"showgrid\": false, \"tickfont\": {\"color\": \"#4D5663\"}, \"title\": {\"font\": {\"color\": \"#4D5663\"}, \"text\": \"\"}, \"zerolinecolor\": \"#E1E5ED\"}, \"yaxis9\": {\"anchor\": \"x9\", \"domain\": [0.2675, 0.465], \"gridcolor\": \"#E1E5ED\", \"showgrid\": false, \"tickfont\": {\"color\": \"#4D5663\"}, \"title\": {\"font\": {\"color\": \"#4D5663\"}, \"text\": \"\"}, \"zerolinecolor\": \"#E1E5ED\"}},\n",
       "                        {\"showLink\": true, \"linkText\": \"Export to plot.ly\", \"plotlyServerURL\": \"https://plot.ly\", \"responsive\": true}\n",
       "                    ).then(function(){\n",
       "                            \n",
       "var gd = document.getElementById('0319e0e0-6211-4cd6-b3e7-c443da0fcc5a');\n",
       "var x = new MutationObserver(function (mutations, observer) {{\n",
       "        var display = window.getComputedStyle(gd).display;\n",
       "        if (!display || display === 'none') {{\n",
       "            console.log([gd, 'removed!']);\n",
       "            Plotly.purge(gd);\n",
       "            observer.disconnect();\n",
       "        }}\n",
       "}});\n",
       "\n",
       "// Listen for the removal of the full notebook cells\n",
       "var notebookContainer = gd.closest('#notebook-container');\n",
       "if (notebookContainer) {{\n",
       "    x.observe(notebookContainer, {childList: true});\n",
       "}}\n",
       "\n",
       "// Listen for the clearing of the current output cell\n",
       "var outputEl = gd.closest('.output');\n",
       "if (outputEl) {{\n",
       "    x.observe(outputEl, {childList: true});\n",
       "}}\n",
       "\n",
       "                        })\n",
       "                };\n",
       "                });\n",
       "            </script>\n",
       "        </div>"
      ]
     },
     "metadata": {},
     "output_type": "display_data"
    }
   ],
   "source": [
    "df.scatter_matrix()"
   ]
  },
  {
   "cell_type": "markdown",
   "metadata": {
    "collapsed": true
   },
   "source": [
    "# Great Job!"
   ]
  }
 ],
 "metadata": {
  "kernelspec": {
   "display_name": "Python 3",
   "language": "python",
   "name": "python3"
  },
  "language_info": {
   "codemirror_mode": {
    "name": "ipython",
    "version": 3
   },
   "file_extension": ".py",
   "mimetype": "text/x-python",
   "name": "python",
   "nbconvert_exporter": "python",
   "pygments_lexer": "ipython3",
   "version": "3.7.6"
  }
 },
 "nbformat": 4,
 "nbformat_minor": 1
}
